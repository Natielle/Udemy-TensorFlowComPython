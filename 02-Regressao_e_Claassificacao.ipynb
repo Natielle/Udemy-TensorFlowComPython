{
 "cells": [
  {
   "cell_type": "markdown",
   "metadata": {},
   "source": [
    " # Resumo sobre Regressão Linear e Classificação\n",
    " \n",
    " ## Regressão Linear\n",
    " A Regressão linear é basicamente uma reta que serve para que consigamos estimar valor. Como, por exemplo, preço de casas baseadas em alguns atributos."
   ]
  },
  {
   "cell_type": "markdown",
   "metadata": {},
   "source": [
    "### Primeiro vamos utilizar a regressão linear com a biblioteca sklearn \n"
   ]
  },
  {
   "cell_type": "code",
   "execution_count": 1,
   "metadata": {},
   "outputs": [],
   "source": [
    "import numpy as np                                   # pip install numpy\n",
    "import matplotlib.pyplot as plt                      # pip install matplotlib\n",
    "from sklearn.linear_model import LinearRegression    # pip install sklearn\n",
    "from sklearn.metrics import mean_absolute_error, mean_squared_error # para obter métricas do modelo"
   ]
  },
  {
   "cell_type": "code",
   "execution_count": 2,
   "metadata": {},
   "outputs": [],
   "source": [
    "# Atributos para usarmos para realizar a regressão\n",
    "idades = np.array([[18], [23], [28], [33], [38], [43], [48], [53], [58], [63]])\n",
    "custo_plano = np.array([[871], [1132], [1042], [1356], [1488], [1638], [1569], [1754], [1866], [1900]])"
   ]
  },
  {
   "cell_type": "code",
   "execution_count": 3,
   "metadata": {},
   "outputs": [
    {
     "data": {
      "text/plain": [
       "<matplotlib.collections.PathCollection at 0x18e168d4f28>"
      ]
     },
     "execution_count": 3,
     "metadata": {},
     "output_type": "execute_result"
    },
    {
     "data": {
      "image/png": "[encoded data removed]",
      "text/plain": [
       "<Figure size 432x288 with 1 Axes>"
      ]
     },
     "metadata": {
      "needs_background": "light"
     },
     "output_type": "display_data"
    }
   ],
   "source": [
    "%matplotlib inline\n",
    "plt.scatter(idades, custo_plano)"
   ]
  },
  {
   "cell_type": "code",
   "execution_count": 4,
   "metadata": {},
   "outputs": [
    {
     "data": {
      "text/plain": [
       "LinearRegression(copy_X=True, fit_intercept=True, n_jobs=None, normalize=False)"
      ]
     },
     "execution_count": 4,
     "metadata": {},
     "output_type": "execute_result"
    }
   ],
   "source": [
    "# Aplicando a regressão logística\n",
    "regressor = LinearRegression()\n",
    "regressor.fit(idades, custo_plano) # treina o modelo\n"
   ]
  },
  {
   "cell_type": "code",
   "execution_count": 5,
   "metadata": {},
   "outputs": [
    {
     "name": "stdout",
     "output_type": "stream",
     "text": [
      "[541.24363636]\n",
      "[[22.72484848]]\n"
     ]
    }
   ],
   "source": [
    "# Acessando os coeficientes do modelo\n",
    "print(regressor.intercept_) # independente\n",
    "print(regressor.coef_)      # Dependentes"
   ]
  },
  {
   "cell_type": "code",
   "execution_count": 6,
   "metadata": {},
   "outputs": [
    {
     "name": "stdout",
     "output_type": "stream",
     "text": [
      "[[40]]\n",
      "[[1450.23757576]]\n"
     ]
    }
   ],
   "source": [
    "# prevendo o custo do plano de uma pessoa de 40 anos\n",
    "print(np.reshape(40, (-1,1))) # Se formos passar apenas um valor, temos que passar neste formato\n",
    "previsao_de_um = regressor.predict(np.reshape(40, (-1,1)))\n",
    "print(previsao_de_um) "
   ]
  },
  {
   "cell_type": "code",
   "execution_count": 7,
   "metadata": {},
   "outputs": [
    {
     "name": "stdout",
     "output_type": "stream",
     "text": [
      "[[ 950.29090909]\n",
      " [1063.91515152]\n",
      " [1177.53939394]\n",
      " [1291.16363636]\n",
      " [1404.78787879]\n",
      " [1518.41212121]\n",
      " [1632.03636364]\n",
      " [1745.66060606]\n",
      " [1859.28484848]\n",
      " [1972.90909091]]\n"
     ]
    }
   ],
   "source": [
    "# prevendo o custo de vida para várias idades\n",
    "previsoes = regressor.predict(idades)\n",
    "print(previsoes)"
   ]
  },
  {
   "cell_type": "code",
   "execution_count": 8,
   "metadata": {},
   "outputs": [
    {
     "name": "stdout",
     "output_type": "stream",
     "text": [
      "Erro absoluto médio 70.15515151515156\n",
      "Erro ao quadrado médio 6412.675151515154\n"
     ]
    }
   ],
   "source": [
    "# Analisando os erros absolutos e os erros ao quadrado\n",
    "mae = mean_absolute_error(custo_plano, previsoes)\n",
    "mse = mean_squared_error(custo_plano, previsoes)\n",
    "\n",
    "print(\"Erro absoluto médio\", mae)\n",
    "print(\"Erro ao quadrado médio\", mse)"
   ]
  },
  {
   "cell_type": "markdown",
   "metadata": {},
   "source": [
    "Agora vamos plotar os valores reais e os valores que o modelo previu.\n"
   ]
  },
  {
   "cell_type": "code",
   "execution_count": 9,
   "metadata": {},
   "outputs": [
    {
     "data": {
      "text/plain": [
       "Text(0, 0.5, 'Custo do plano')"
      ]
     },
     "execution_count": 9,
     "metadata": {},
     "output_type": "execute_result"
    },
    {
     "data": {
      "image/png": "[encoded data removed]",
      "text/plain": [
       "<Figure size 432x288 with 1 Axes>"
      ]
     },
     "metadata": {
      "needs_background": "light"
     },
     "output_type": "display_data"
    }
   ],
   "source": [
    "plt.plot(idades, custo_plano, 'o') # 'o' plota o gráfico com pontos\n",
    "plt.plot(idades, previsoes, color=\"red\") # plota uma reta vermelha\n",
    "plt.title(\"Regressão linear simples com sklearn\")\n",
    "plt.xlabel(\"Idades\")\n",
    "plt.ylabel(\"Custo do plano\")"
   ]
  },
  {
   "cell_type": "markdown",
   "metadata": {},
   "source": [
    "### Agora vamos utilizar a regressão linear com a biblioteca tensorflow \n"
   ]
  },
  {
   "cell_type": "markdown",
   "metadata": {},
   "source": [
    "Ao utilizarmos o tensorflow, precisamos escalar os dados. Ou seja, deixar a idade e o custo na mesma escala, pois um é idade e o outro é dinheiro.\n"
   ]
  },
  {
   "cell_type": "code",
   "execution_count": 22,
   "metadata": {},
   "outputs": [
    {
     "name": "stderr",
     "output_type": "stream",
     "text": [
      "C:\\Users\\Natielle\\anaconda3\\envs\\tensorflow2_py37\\lib\\site-packages\\tensorflow\\python\\framework\\dtypes.py:526: FutureWarning: Passing (type, 1) or '1type' as a synonym of type is deprecated; in a future version of numpy, it will be understood as (type, (1,)) / '(1,)type'.\n",
      "  _np_qint8 = np.dtype([(\"qint8\", np.int8, 1)])\n",
      "C:\\Users\\Natielle\\anaconda3\\envs\\tensorflow2_py37\\lib\\site-packages\\tensorflow\\python\\framework\\dtypes.py:527: FutureWarning: Passing (type, 1) or '1type' as a synonym of type is deprecated; in a future version of numpy, it will be understood as (type, (1,)) / '(1,)type'.\n",
      "  _np_quint8 = np.dtype([(\"quint8\", np.uint8, 1)])\n",
      "C:\\Users\\Natielle\\anaconda3\\envs\\tensorflow2_py37\\lib\\site-packages\\tensorflow\\python\\framework\\dtypes.py:528: FutureWarning: Passing (type, 1) or '1type' as a synonym of type is deprecated; in a future version of numpy, it will be understood as (type, (1,)) / '(1,)type'.\n",
      "  _np_qint16 = np.dtype([(\"qint16\", np.int16, 1)])\n",
      "C:\\Users\\Natielle\\anaconda3\\envs\\tensorflow2_py37\\lib\\site-packages\\tensorflow\\python\\framework\\dtypes.py:529: FutureWarning: Passing (type, 1) or '1type' as a synonym of type is deprecated; in a future version of numpy, it will be understood as (type, (1,)) / '(1,)type'.\n",
      "  _np_quint16 = np.dtype([(\"quint16\", np.uint16, 1)])\n",
      "C:\\Users\\Natielle\\anaconda3\\envs\\tensorflow2_py37\\lib\\site-packages\\tensorflow\\python\\framework\\dtypes.py:530: FutureWarning: Passing (type, 1) or '1type' as a synonym of type is deprecated; in a future version of numpy, it will be understood as (type, (1,)) / '(1,)type'.\n",
      "  _np_qint32 = np.dtype([(\"qint32\", np.int32, 1)])\n",
      "C:\\Users\\Natielle\\anaconda3\\envs\\tensorflow2_py37\\lib\\site-packages\\tensorflow\\python\\framework\\dtypes.py:535: FutureWarning: Passing (type, 1) or '1type' as a synonym of type is deprecated; in a future version of numpy, it will be understood as (type, (1,)) / '(1,)type'.\n",
      "  np_resource = np.dtype([(\"resource\", np.ubyte, 1)])\n"
     ]
    }
   ],
   "source": [
    "from sklearn.preprocessing import StandardScaler # para escalonar os dados\n",
    "import tensorflow as tf"
   ]
  },
  {
   "cell_type": "code",
   "execution_count": 14,
   "metadata": {},
   "outputs": [
    {
     "name": "stdout",
     "output_type": "stream",
     "text": [
      "Idades sem o escalonamento: \n",
      " [[18]\n",
      " [23]\n",
      " [28]\n",
      " [33]\n",
      " [38]\n",
      " [43]\n",
      " [48]\n",
      " [53]\n",
      " [58]\n",
      " [63]]\n",
      "Idades COM o escalonamento: \n",
      " [[-1.5666989 ]\n",
      " [-1.21854359]\n",
      " [-0.87038828]\n",
      " [-0.52223297]\n",
      " [-0.17407766]\n",
      " [ 0.17407766]\n",
      " [ 0.52223297]\n",
      " [ 0.87038828]\n",
      " [ 1.21854359]\n",
      " [ 1.5666989 ]]\n"
     ]
    }
   ],
   "source": [
    "# Escalonando as idades\n",
    "scaler_idades = StandardScaler()\n",
    "idades_escaladas = scaler_idades.fit_transform(idades)\n",
    "print(\"Idades sem o escalonamento: \\n\", idades)\n",
    "print(\"Idades COM o escalonamento: \\n\", idades_escaladas)"
   ]
  },
  {
   "cell_type": "code",
   "execution_count": 15,
   "metadata": {},
   "outputs": [
    {
     "name": "stdout",
     "output_type": "stream",
     "text": [
      "Custo do plano sem o escalonamento: \n",
      " [[ 871]\n",
      " [1132]\n",
      " [1042]\n",
      " [1356]\n",
      " [1488]\n",
      " [1638]\n",
      " [1569]\n",
      " [1754]\n",
      " [1866]\n",
      " [1900]]\n",
      "Custo do plano COM o escalonamento: \n",
      " [[-1.75751985]\n",
      " [-0.98083058]\n",
      " [-1.24865447]\n",
      " [-0.31424669]\n",
      " [ 0.07856167]\n",
      " [ 0.52493481]\n",
      " [ 0.31960317]\n",
      " [ 0.87013004]\n",
      " [ 1.20342199]\n",
      " [ 1.3045999 ]]\n"
     ]
    }
   ],
   "source": [
    "# Escalonando o custo do plano\n",
    "scaler_custo_plano = StandardScaler()\n",
    "custo_plano_escaladas = scaler_custo_plano.fit_transform(custo_plano)\n",
    "print(\"Custo do plano sem o escalonamento: \\n\", custo_plano)\n",
    "print(\"Custo do plano COM o escalonamento: \\n\", custo_plano_escaladas)"
   ]
  },
  {
   "cell_type": "markdown",
   "metadata": {},
   "source": [
    "Quando plotarmos os dados escalonados poderemos ver que a distribuição não muda. O que muda é apenas a escala dos dados."
   ]
  },
  {
   "cell_type": "code",
   "execution_count": 17,
   "metadata": {},
   "outputs": [
    {
     "data": {
      "text/plain": [
       "Text(0.5, 1.0, 'Atributos escalados')"
      ]
     },
     "execution_count": 17,
     "metadata": {},
     "output_type": "execute_result"
    },
    {
     "data": {
      "image/png": "[encoded data removed]",
      "text/plain": [
       "<Figure size 432x288 with 1 Axes>"
      ]
     },
     "metadata": {
      "needs_background": "light"
     },
     "output_type": "display_data"
    }
   ],
   "source": [
    "%matplotlib inline\n",
    "plt.scatter(idades_escaladas, custo_plano_escaladas)\n",
    "plt.title(\"Atributos escalados\")"
   ]
  },
  {
   "cell_type": "markdown",
   "metadata": {},
   "source": [
    "Agora vamos utilizar o tensorflow, e para isso temos que saber que a fórmula da regressão linear simples é:\n",
    "\n",
    "y = b0 + b1*x1"
   ]
  },
  {
   "cell_type": "code",
   "execution_count": 19,
   "metadata": {},
   "outputs": [
    {
     "data": {
      "text/plain": [
       "array([0.5488135 , 0.71518937])"
      ]
     },
     "execution_count": 19,
     "metadata": {},
     "output_type": "execute_result"
    }
   ],
   "source": [
    "# Primeiro vamos chutar valor para b0 e b1\n",
    "np.random.seed(0) # permite reprodução do mesmo número aleatório\n",
    "np.random.rand(2) # dois números aleatórios"
   ]
  },
  {
   "cell_type": "code",
   "execution_count": 25,
   "metadata": {},
   "outputs": [
    {
     "name": "stdout",
     "output_type": "stream",
     "text": [
      "<tf.Variable 'Variable_4:0' shape=() dtype=float32_ref>\n",
      "<tf.Variable 'Variable_5:0' shape=() dtype=float32_ref>\n"
     ]
    }
   ],
   "source": [
    "# Então iremos utilizar variáveis do tensorflow, pois a ideia é que otimizemos os parâmetros b0 e b1 \n",
    "# Logo, eles vão ficar sendo atualizados\n",
    "b0 = tf.Variable(0.54)\n",
    "b1 = tf.Variable(0.71)\n",
    "\n",
    "print(b0)\n",
    "print(b1)"
   ]
  },
  {
   "cell_type": "code",
   "execution_count": 26,
   "metadata": {},
   "outputs": [
    {
     "name": "stdout",
     "output_type": "stream",
     "text": [
      "WARNING:tensorflow:From C:\\Users\\Natielle\\anaconda3\\envs\\tensorflow2_py37\\lib\\site-packages\\tensorflow\\python\\ops\\losses\\losses_impl.py:667: to_float (from tensorflow.python.ops.math_ops) is deprecated and will be removed in a future version.\n",
      "Instructions for updating:\n",
      "Use tf.cast instead.\n"
     ]
    }
   ],
   "source": [
    "# Para ver o erro, fazemos:\n",
    "previsoes_com_formula = b0 + b1 * idades_escaladas # previsão\n",
    "erro = tf.losses.mean_squared_error(custo_plano_escaladas, previsoes_com_formula) # comparando o real com o previsto"
   ]
  },
  {
   "cell_type": "code",
   "execution_count": 29,
   "metadata": {},
   "outputs": [],
   "source": [
    "# Para otimizarmos o erro, ou seja, minimizarmos nós utlizamos a descida do gradiente. \n",
    "# Mesmo havendo outras formas de otimizações, para a regressão vamos utilizar a descida do gradiente. \n",
    "otimizador = tf.train.GradientDescentOptimizer(learning_rate = 0.001)\n",
    "\n",
    "# Então minimizamos o erro\n",
    "treinamento = otimizador.minimize(erro)"
   ]
  },
  {
   "cell_type": "code",
   "execution_count": 31,
   "metadata": {},
   "outputs": [],
   "source": [
    "# Agora vamos executar de fato para encontrar os valores de b0 e b1\n",
    "init = tf.global_variables_initializer() # inicializa as variáveis\n",
    "\n",
    "with tf.Session() as sess:\n",
    "    sess.run(init) # inicialmente b0 e b1 valem 0.54 e 0.71, respectivamente.\n",
    "    \n",
    "    for i in range(1000):\n",
    "        sess.run(treinamento)\n",
    "    b0_final, b1_final = sess.run([b0, b1])"
   ]
  },
  {
   "cell_type": "code",
   "execution_count": 32,
   "metadata": {},
   "outputs": [
    {
     "name": "stdout",
     "output_type": "stream",
     "text": [
      "b0 otimizado:  0.07293497\n",
      "b1 otimizado:  0.9359134\n"
     ]
    }
   ],
   "source": [
    "print(\"b0 otimizado: \", b0_final)\n",
    "print(\"b1 otimizado: \", b1_final)"
   ]
  },
  {
   "cell_type": "code",
   "execution_count": 50,
   "metadata": {},
   "outputs": [
    {
     "name": "stdout",
     "output_type": "stream",
     "text": [
      "[[-1.3933595 ]\n",
      " [-1.06751629]\n",
      " [-0.74167307]\n",
      " [-0.41582985]\n",
      " [-0.08998664]\n",
      " [ 0.23585658]\n",
      " [ 0.56169979]\n",
      " [ 0.88754301]\n",
      " [ 1.21338623]\n",
      " [ 1.53922944]]\n"
     ]
    },
    {
     "data": {
      "text/plain": [
       "numpy.ndarray"
      ]
     },
     "execution_count": 50,
     "metadata": {},
     "output_type": "execute_result"
    }
   ],
   "source": [
    "previsoes_escalonadas = b0_final + b1_final * idades_escaladas\n",
    "print(previsoes_escalonadas)\n",
    "type(previsoes_escalonadas)"
   ]
  },
  {
   "cell_type": "code",
   "execution_count": 51,
   "metadata": {},
   "outputs": [
    {
     "data": {
      "text/plain": [
       "Text(0.5, 1.0, 'Regressão linear simples com tensorflow')"
      ]
     },
     "execution_count": 51,
     "metadata": {},
     "output_type": "execute_result"
    },
    {
     "data": {
      "image/png": "[encoded data removed]",
      "text/plain": [
       "<Figure size 432x288 with 1 Axes>"
      ]
     },
     "metadata": {
      "needs_background": "light"
     },
     "output_type": "display_data"
    }
   ],
   "source": [
    "# Comparando os reais com as previsões\n",
    "plt.plot(idades_escaladas, custo_plano_escaladas, 'o')\n",
    "plt.plot(idades_escaladas, previsoes_escalonadas, color = 'red')\n",
    "plt.title(\"Regressão linear simples com tensorflow\")"
   ]
  },
  {
   "cell_type": "code",
   "execution_count": 55,
   "metadata": {},
   "outputs": [
    {
     "name": "stdout",
     "output_type": "stream",
     "text": [
      "[[ 993.37307127]\n",
      " [1102.86998723]\n",
      " [1212.3669032 ]\n",
      " [1321.86381917]\n",
      " [1431.36073513]\n",
      " [1540.8576511 ]\n",
      " [1650.35456707]\n",
      " [1759.85148303]\n",
      " [1869.348399  ]\n",
      " [1978.84531497]]\n"
     ]
    }
   ],
   "source": [
    "# Observando as previsões sem estarem normalizadas\n",
    "previsoes_finais = scaler_custo_plano.inverse_transform(previsoes_escalonadas)\n",
    "print(previsoes_finais)"
   ]
  },
  {
   "cell_type": "markdown",
   "metadata": {},
   "source": [
    "Para realizarmos a previsão de uma pessoa específica temos que normalizar o valor da idade antes de passar como parâmetro para o modelo da regressão linear. E temos que desnormalizar o resultado da previsão para que a gente saiba o custo de vida. \n",
    "\n"
   ]
  },
  {
   "cell_type": "code",
   "execution_count": 52,
   "metadata": {},
   "outputs": [
    {
     "data": {
      "text/plain": [
       "array([[-0.03481553]])"
      ]
     },
     "execution_count": 52,
     "metadata": {},
     "output_type": "execute_result"
    }
   ],
   "source": [
    "# Escalando a idade\n",
    "uma_idade_escalada = scaler_idades.transform(np.reshape(40, (-1,1)))\n",
    "uma_idade_escalada"
   ]
  },
  {
   "cell_type": "code",
   "execution_count": 53,
   "metadata": {},
   "outputs": [
    {
     "name": "stdout",
     "output_type": "stream",
     "text": [
      "[[1475.15950152]]\n"
     ]
    }
   ],
   "source": [
    "# Realizando a previsão apenas para uma pessoa e já desnormalizando (desescalonando)\n",
    "previsao_para_um = scaler_custo_plano.inverse_transform(b0_final + b1_final * uma_idade_escalada)\n",
    "print(previsao_para_um)"
   ]
  },
  {
   "cell_type": "markdown",
   "metadata": {},
   "source": [
    "Para observarmos os erros, fazemos:"
   ]
  },
  {
   "cell_type": "code",
   "execution_count": 57,
   "metadata": {},
   "outputs": [
    {
     "name": "stdout",
     "output_type": "stream",
     "text": [
      "Erro absoluto médio 67.91875458994167\n",
      "Erro ao quadrado médio 7153.9129941765395\n"
     ]
    }
   ],
   "source": [
    "mae_com_tensor = mean_absolute_error(custo_plano, previsoes_finais)\n",
    "mse_com_tensor = mean_squared_error(custo_plano, previsoes_finais)\n",
    "\n",
    "print(\"Erro absoluto médio\", mae_com_tensor)\n",
    "print(\"Erro ao quadrado médio\", mse_com_tensor)"
   ]
  },
  {
   "cell_type": "markdown",
   "metadata": {},
   "source": [
    "O Erro absoluto médio pode ser bom para realizar a análise dos dados. Ex: Em média, a previsão acerta 67 (mae) pra cima ou pra baixo do custo do plano.\n",
    "\n",
    "Enquanto que o Erro ao quadrado médio pode ser mais utilizado para penalizar o algoritmo quando estiver com erros maiores."
   ]
  },
  {
   "cell_type": "code",
   "execution_count": null,
   "metadata": {},
   "outputs": [],
   "source": []
  }
 ],
 "metadata": {
  "kernelspec": {
   "display_name": "tensorflow2_py37",
   "language": "python",
   "name": "tensorflow2_py37"
  },
  "language_info": {
   "codemirror_mode": {
    "name": "ipython",
    "version": 3
   },
   "file_extension": ".py",
   "mimetype": "text/x-python",
   "name": "python",
   "nbconvert_exporter": "python",
   "pygments_lexer": "ipython3",
   "version": "3.6.10"
  }
 },
 "nbformat": 4,
 "nbformat_minor": 4
}
