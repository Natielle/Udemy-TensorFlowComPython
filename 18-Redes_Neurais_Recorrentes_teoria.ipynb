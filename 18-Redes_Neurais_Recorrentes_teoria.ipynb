{
 "cells": [
  {
   "cell_type": "markdown",
   "metadata": {},
   "source": [
    "# Redes neurais recorrentes"
   ]
  },
  {
   "cell_type": "markdown",
   "metadata": {},
   "source": [
    "Normalmente se usa redes neurais recorrentes em dados temporais ou sequenciais.\n",
    "\n",
    "Exemplo:\n",
    "- Prever próxima ação em vídeos\n",
    "- Previsão da próxima palavra no texto (processamento de linguagem natural)\n",
    "- Tradução automática (processamento de linguagem natural)\n",
    "- Geração de poemas (processamento de linguagem natural)\n",
    "- Geração de legendas em vídeos (processamento de linguagem natural)\n",
    "- Prever preço de ações na bolsa de valores (Séries temporais)\n",
    "- Temperatura (Séries temporais)\n",
    "- Crescimento Populacional (Séries temporais)\n",
    "- Nível de poluição (Séries temporais)\n",
    "- Descrição de imagens"
   ]
  },
  {
   "cell_type": "markdown",
   "metadata": {},
   "source": [
    "#### Estrutura da rede\n"
   ]
  },
  {
   "cell_type": "markdown",
   "metadata": {},
   "source": [
    "![](recurrent-neural-network.png)"
   ]
  },
  {
   "cell_type": "markdown",
   "metadata": {},
   "source": [
    "![](Recurrent-neural-networks-structure.png)"
   ]
  },
  {
   "cell_type": "markdown",
   "metadata": {},
   "source": [
    "Unfold é a representação mais detalhada do neurônio. Porém, para representação ficar mais limpa utilizamos setinha de loop apenas.\n",
    "\n",
    "E ainda podemos fazer uma rápida comparação entre as redes neurais artificiais e as recorrentes."
   ]
  },
  {
   "cell_type": "markdown",
   "metadata": {},
   "source": [
    "![](RNN_vs_FFNN.png)"
   ]
  },
  {
   "cell_type": "markdown",
   "metadata": {},
   "source": [
    "Podemos ver que a estrutura interna de um neurônio é a seguinte:\n",
    "\n",
    "![](RNN_cell.png)\n",
    "\n",
    "Onde tanh é a função de ativação por tangente hiperbólica."
   ]
  },
  {
   "cell_type": "markdown",
   "metadata": {},
   "source": [
    "## LSTM (Long-Short Term Memory)\n",
    "\n",
    "É um tipo de rede neural recorrente que vamos utilizar no curso como exemplo porque ela tende a dar resultados melhores do que a rede neural recorrente normal."
   ]
  },
  {
   "cell_type": "markdown",
   "metadata": {},
   "source": [
    "A estrutura de um neurônio na LSTM é:\n",
    "![](LSTM.png)"
   ]
  },
  {
   "cell_type": "markdown",
   "metadata": {},
   "source": [
    "As operações de X e + auxiliam para não termos o problema de desaparecimento do gradiente descendente (vanishing).\n",
    "\n",
    "\"X\" -> apaga informação da linha do tempo\n",
    "\n",
    "\"+\" -> adiciona informação da linha do tempo\n",
    "\n",
    "1. Para decidir o que será apagado, ele aplica a função sigmoide. Se for 0, apaga. Se for 1 não apaga.\n",
    "2. Para decidir o que será armazenado, ele aplica a função tangente hiperbólica. Que retorna valores entre 1 e -1.\n",
    "3. Atualizar o estado antigo. Executa de fato as etapas acima.\n",
    "4. Decidir a saída. Aplicamos a função sigmóide e a tangente hiperbólica para chegar na saída.\n"
   ]
  }
 ],
 "metadata": {
  "kernelspec": {
   "display_name": "tensorflow2_py37",
   "language": "python",
   "name": "tensorflow2_py37"
  },
  "language_info": {
   "codemirror_mode": {
    "name": "ipython",
    "version": 3
   },
   "file_extension": ".py",
   "mimetype": "text/x-python",
   "name": "python",
   "nbconvert_exporter": "python",
   "pygments_lexer": "ipython3",
   "version": "3.6.10"
  }
 },
 "nbformat": 4,
 "nbformat_minor": 4
}
