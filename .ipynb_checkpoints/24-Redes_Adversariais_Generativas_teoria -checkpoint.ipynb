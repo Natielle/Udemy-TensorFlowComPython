{
 "cells": [
  {
   "cell_type": "markdown",
   "metadata": {},
   "source": [
    "# Redes Adversariais Generativas (Generative Adversarial Network - GANs)"
   ]
  },
  {
   "cell_type": "markdown",
   "metadata": {},
   "source": [
    "Essas redes:\n",
    "\n",
    "- É uma rede neural capaz de se criar por ela mesma.\n",
    "- Pode criar novos objetos a partir de objetos que já existem no mundo real.\n",
    "\n",
    "\n",
    "Vamos aprender a gerar imagens através do algoritmo."
   ]
  },
  {
   "attachments": {},
   "cell_type": "markdown",
   "metadata": {},
   "source": [
    "Exemplos de aplicações: \n",
    "- É possível utilizar essa rede para aumentar a resolução de imagens sem distorcer a imagem.\n",
    "![](GANs_example5.png)\n",
    "\n",
    "- É possível fazer a realização de desenhos automáticos através de contornos simples. (Caso queira ver melhor sobre, tem um link no github bem legal: https://github.com/junyanz/iGAN)\n",
    "![](GANs_example1.jpg)"
   ]
  },
  {
   "cell_type": "markdown",
   "metadata": {},
   "source": [
    "- É possível fazer a transformação de textos para imagens\n",
    "![](GANs_example4.png)\n"
   ]
  },
  {
   "cell_type": "markdown",
   "metadata": {},
   "source": [
    "- É possível fazer a transformação de imagens para imagens\n",
    "![](GANs_example2.png)\n",
    "\n",
    "\n",
    "\n",
    "![](GANs_example3.png)"
   ]
  },
  {
   "cell_type": "markdown",
   "metadata": {},
   "source": [
    "# Como que funciona as GANs?"
   ]
  },
  {
   "cell_type": "markdown",
   "metadata": {},
   "source": [
    "O funcionamento pode ser resumido com a figura abaixo:\n",
    "\n",
    "![](GANs_process.jpeg)"
   ]
  },
  {
   "cell_type": "markdown",
   "metadata": {},
   "source": [
    "Onde o discriminador vai verificar o quão próximo as imagens geradas estão das imagens reais.\n",
    "\n",
    "Nota-se que o gerador e o discriminador são redes neurais, cada um é uma. E ambos começam a aprender do zero.\n",
    "\n",
    "Gerador -> rede neural que gera as imagens. Para gerar imagens pode ser mais apropriado que seja uma rede neural convolucional.\n",
    "\n",
    "Discriminador -> Avalia as imagens geradas. Poderia ser uma rede neural simples que aprende o que é e não é de uma classe específica. O discriminador dá um feedback para o gerador para que ele possa melhorar.\n"
   ]
  },
  {
   "cell_type": "markdown",
   "metadata": {},
   "source": []
  },
  {
   "cell_type": "markdown",
   "metadata": {},
   "source": []
  },
  {
   "cell_type": "markdown",
   "metadata": {},
   "source": []
  },
  {
   "cell_type": "markdown",
   "metadata": {},
   "source": []
  }
 ],
 "metadata": {
  "kernelspec": {
   "display_name": "tensorflow2_py37",
   "language": "python",
   "name": "tensorflow2_py37"
  },
  "language_info": {
   "codemirror_mode": {
    "name": "ipython",
    "version": 3
   },
   "file_extension": ".py",
   "mimetype": "text/x-python",
   "name": "python",
   "nbconvert_exporter": "python",
   "pygments_lexer": "ipython3",
   "version": "3.6.10"
  }
 },
 "nbformat": 4,
 "nbformat_minor": 4
}
