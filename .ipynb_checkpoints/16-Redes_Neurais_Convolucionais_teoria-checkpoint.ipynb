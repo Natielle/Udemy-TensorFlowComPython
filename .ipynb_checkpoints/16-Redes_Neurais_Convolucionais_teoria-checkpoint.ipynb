{
 "cells": [
  {
   "cell_type": "markdown",
   "metadata": {},
   "source": [
    "# Redes neurais convolucionais (CNN)"
   ]
  },
  {
   "cell_type": "markdown",
   "metadata": {},
   "source": [
    "Normalmente utilizamos essas redes para processar imagens ou vídeos.\n",
    "\n",
    "A diferença entre uma rede neural densa e a convolucional, é que a rede neural densa possui todos os neurônios de uma camada conectados a todos os neurônios da próxima camada.\n",
    "\n",
    "Já a rede neural convolucional é uma rede densa, mas nela é realizado um pré processamento das entradas (que normalmente são imagens ou vídeos). Com isso esse pré processamento, não são utilizados todos os pixels como entrada para a rede.\n",
    "\n",
    "Isso se deve ao fato de que seria muitas entradas, caso seja uma imagem grande e colorida. Exemplo uma imagem colorida de 1024px x1024px teria o total de 1024 * 1024 = 1.048.576‬ pixels.\n",
    "\n",
    "Como sabemos, as imagens coloridas são compostas por 3 canais de cores. Vermelho, verde e azul, como mostra a figura abaixo:\n",
    "\n",
    "![](rgb_image.png)"
   ]
  },
  {
   "cell_type": "markdown",
   "metadata": {},
   "source": [
    "Então, temos que considerar que a quantidade total de pixels que a rede neural terá que processar de apenas uma imagem colorida seria 1.048.576‬ * 3 = 3.145.728‬ pixels ao total.\n",
    "\n",
    "Por isso que é feito o pré processamento antes de inserir as entradas na rede.\n",
    "\n"
   ]
  },
  {
   "cell_type": "markdown",
   "metadata": {},
   "source": [
    "Logo, a CNN irá identificar automaticamente qual será as características importantes da imagem para que consigamos classificá-las. Pois nem todos os pixels serão importantes para a classificação."
   ]
  },
  {
   "cell_type": "markdown",
   "metadata": {},
   "source": [
    "## Vamos seguir algumas etapas para fazer a rede neural convolucional\n",
    "\n",
    "Todo o processo pode ser observar com a imagem a seguir e vamos detalhá-los a seguir.\n"
   ]
  },
  {
   "cell_type": "markdown",
   "metadata": {},
   "source": [
    "![](Convolutional_neural_network_process.png)"
   ]
  },
  {
   "cell_type": "markdown",
   "metadata": {},
   "source": [
    "### Etapa de convolução\n"
   ]
  },
  {
   "cell_type": "markdown",
   "metadata": {},
   "source": [
    "O processo de convolução de imagens pode ser representado pela figura abaixo:\n",
    "![](convolutional_process.png)"
   ]
  },
  {
   "cell_type": "markdown",
   "metadata": {},
   "source": [
    "Onde o convolution filter é o kernel que multiplica a imagem (que é representada por uma matriz).\n",
    "\n",
    "O destination pixel é parte da nova imagem após multiplicarmos o kernel pela imagem original.\n",
    "\n",
    "Aplicamos o kernel em cada pixel da imagem, até que todos os pixels tenham sido percorridos.\n",
    "\n",
    "E nota-se que dependendo do kernel que aplicamos, teremos uma imagem resultando com um efeito diferente. No caso da imagem acima, o filtro Sobel realça as bordas da imagem.\n",
    "\n",
    "Na imagem abaixo podemos visualizar os diferentes efeitos que podemos obter:\n",
    "\n"
   ]
  },
  {
   "cell_type": "markdown",
   "metadata": {},
   "source": [
    "![](kernels_examples.png)"
   ]
  },
  {
   "cell_type": "markdown",
   "metadata": {},
   "source": [
    "Há um site que é possível aplicar diversos kernels diferentes a fim de obter imagens com filtros diferentes.\n",
    "Basta acessar: https://setosa.io/ev/image-kernels/\n",
    "\n",
    "O processo da aplicação do kernel pode ser visto na animação abaixo:\n",
    "![](process_application_kernel_in_image.gif)"
   ]
  },
  {
   "cell_type": "markdown",
   "metadata": {},
   "source": [
    "Nesta parte da convolução é possível aplicar filtros de modo que a gente adquira da imagem apenas determinadas características. Como por exemplo ao aplicarmos filtros de realce de bordas."
   ]
  },
  {
   "cell_type": "markdown",
   "metadata": {},
   "source": [
    "Todo o processo pode ser mostrado na imagem:\n",
    "![](convolutional_layer.png)"
   ]
  },
  {
   "cell_type": "markdown",
   "metadata": {},
   "source": [
    "Podemos notar que ao aplicarmos o kernel na imagem, vamos diminuir a dimensão da imagem resultante. E essa imagem resultante, chamamos de feature map, pois ela possui as características principais.\n",
    "\n",
    "E quando convoluimos a imagem, iremos gerar várias feature maps pois o algoritmo irá decidir qual será as características principais."
   ]
  },
  {
   "cell_type": "markdown",
   "metadata": {},
   "source": [
    "##### Observação"
   ]
  },
  {
   "cell_type": "markdown",
   "metadata": {},
   "source": [
    "Quando a imagem possui valores negativos, podemos aplicar a função RELU nas imagens. Que tem por resultado a retirada de partes escuras da imagem.\n",
    "\n",
    "Que possui um efeito mostrado abaixo: \n",
    "![](relu_in_images.png)"
   ]
  },
  {
   "cell_type": "markdown",
   "metadata": {},
   "source": [
    "### Etapa de pooling"
   ]
  },
  {
   "cell_type": "markdown",
   "metadata": {},
   "source": [
    "Nessa etapa, será realçada as características que antes foram encontradas.\n",
    "\n",
    "Podemos ver uma simulação de como funciona o pooling na animação abaixo.\n",
    "Na animação abaixo estamos observando o máx pooling, porém podemos ter o mín pooling, o mean pooling, etc."
   ]
  },
  {
   "cell_type": "markdown",
   "metadata": {},
   "source": [
    "![](max_pooling_operations.gif)"
   ]
  },
  {
   "cell_type": "markdown",
   "metadata": {},
   "source": [
    "Podemos notar que ao aplicarmos o pooling, a dimensão da imagem resultante também será reduzida."
   ]
  },
  {
   "cell_type": "markdown",
   "metadata": {},
   "source": [
    "Lembrando que: \n",
    "- Essa etapa pode reduzir o overfitting da rede e ruídos desnecessários\n",
    "- Como nas redes neurais convolucionais queremos maximizar as características relevantes, utilizamos o máx pooling."
   ]
  },
  {
   "cell_type": "markdown",
   "metadata": {},
   "source": [
    "### Etapa de Flattening\n"
   ]
  },
  {
   "cell_type": "markdown",
   "metadata": {},
   "source": [
    "Nesta etapa iremos transformar a matriz da etapa anterior em um vetor praticamente. Como ilustrado na figura abaixo:\n",
    "\n",
    "![](flattening.png)"
   ]
  },
  {
   "cell_type": "markdown",
   "metadata": {},
   "source": [
    "Como temos um vetor, então poderemos utilizá-lo como entrada para a rede neural."
   ]
  },
  {
   "cell_type": "markdown",
   "metadata": {},
   "source": [
    "## Resumo\n"
   ]
  },
  {
   "cell_type": "markdown",
   "metadata": {},
   "source": [
    "Todo o processo pode ser resumido com as imagens abaixo."
   ]
  },
  {
   "cell_type": "markdown",
   "metadata": {},
   "source": [
    "![](Convolutional_neural_network_process2.png)"
   ]
  },
  {
   "cell_type": "markdown",
   "metadata": {},
   "source": [
    "Tem um site que permite que você desenhe algum número e permite que você veja cada etapa em 3D.\n",
    "\n",
    "O site é: https://www.cs.ryerson.ca/~aharley/vis/conv/\n",
    "\n",
    "E a imagem abaixo mostra o processo de reconhecimento do número 1, por exemplo."
   ]
  },
  {
   "cell_type": "markdown",
   "metadata": {},
   "source": [
    "![](process_cnn_3D.png)"
   ]
  }
 ],
 "metadata": {
  "kernelspec": {
   "display_name": "tensorflow2_py37",
   "language": "python",
   "name": "tensorflow2_py37"
  },
  "language_info": {
   "codemirror_mode": {
    "name": "ipython",
    "version": 3
   },
   "file_extension": ".py",
   "mimetype": "text/x-python",
   "name": "python",
   "nbconvert_exporter": "python",
   "pygments_lexer": "ipython3",
   "version": "3.6.10"
  }
 },
 "nbformat": 4,
 "nbformat_minor": 4
}
