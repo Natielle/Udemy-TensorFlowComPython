{
 "cells": [
  {
   "cell_type": "markdown",
   "metadata": {},
   "source": [
    "### Importando e verificando se o tensorflow foi instalado"
   ]
  },
  {
   "cell_type": "code",
   "execution_count": 1,
   "metadata": {},
   "outputs": [
    {
     "name": "stderr",
     "output_type": "stream",
     "text": [
      "C:\\Users\\Natielle\\anaconda3\\envs\\tensorflow2_py37\\lib\\site-packages\\tensorflow\\python\\framework\\dtypes.py:526: FutureWarning: Passing (type, 1) or '1type' as a synonym of type is deprecated; in a future version of numpy, it will be understood as (type, (1,)) / '(1,)type'.\n",
      "  _np_qint8 = np.dtype([(\"qint8\", np.int8, 1)])\n",
      "C:\\Users\\Natielle\\anaconda3\\envs\\tensorflow2_py37\\lib\\site-packages\\tensorflow\\python\\framework\\dtypes.py:527: FutureWarning: Passing (type, 1) or '1type' as a synonym of type is deprecated; in a future version of numpy, it will be understood as (type, (1,)) / '(1,)type'.\n",
      "  _np_quint8 = np.dtype([(\"quint8\", np.uint8, 1)])\n",
      "C:\\Users\\Natielle\\anaconda3\\envs\\tensorflow2_py37\\lib\\site-packages\\tensorflow\\python\\framework\\dtypes.py:528: FutureWarning: Passing (type, 1) or '1type' as a synonym of type is deprecated; in a future version of numpy, it will be understood as (type, (1,)) / '(1,)type'.\n",
      "  _np_qint16 = np.dtype([(\"qint16\", np.int16, 1)])\n",
      "C:\\Users\\Natielle\\anaconda3\\envs\\tensorflow2_py37\\lib\\site-packages\\tensorflow\\python\\framework\\dtypes.py:529: FutureWarning: Passing (type, 1) or '1type' as a synonym of type is deprecated; in a future version of numpy, it will be understood as (type, (1,)) / '(1,)type'.\n",
      "  _np_quint16 = np.dtype([(\"quint16\", np.uint16, 1)])\n",
      "C:\\Users\\Natielle\\anaconda3\\envs\\tensorflow2_py37\\lib\\site-packages\\tensorflow\\python\\framework\\dtypes.py:530: FutureWarning: Passing (type, 1) or '1type' as a synonym of type is deprecated; in a future version of numpy, it will be understood as (type, (1,)) / '(1,)type'.\n",
      "  _np_qint32 = np.dtype([(\"qint32\", np.int32, 1)])\n",
      "C:\\Users\\Natielle\\anaconda3\\envs\\tensorflow2_py37\\lib\\site-packages\\tensorflow\\python\\framework\\dtypes.py:535: FutureWarning: Passing (type, 1) or '1type' as a synonym of type is deprecated; in a future version of numpy, it will be understood as (type, (1,)) / '(1,)type'.\n",
      "  np_resource = np.dtype([(\"resource\", np.ubyte, 1)])\n"
     ]
    }
   ],
   "source": [
    "import tensorflow as tf"
   ]
  },
  {
   "cell_type": "code",
   "execution_count": 2,
   "metadata": {},
   "outputs": [
    {
     "data": {
      "text/plain": [
       "'1.13.2'"
      ]
     },
     "execution_count": 2,
     "metadata": {},
     "output_type": "execute_result"
    }
   ],
   "source": [
    "tf.__version__"
   ]
  },
  {
   "cell_type": "markdown",
   "metadata": {},
   "source": [
    "# Declarando tipos de dados\n",
    "\n",
    "### Constantes "
   ]
  },
  {
   "cell_type": "code",
   "execution_count": 3,
   "metadata": {},
   "outputs": [],
   "source": [
    "a = tf.constant(4)\n",
    "b = tf.constant(5, name = 'variavelB')"
   ]
  },
  {
   "cell_type": "code",
   "execution_count": 4,
   "metadata": {},
   "outputs": [
    {
     "name": "stdout",
     "output_type": "stream",
     "text": [
      "Tensor(\"Const:0\", shape=(), dtype=int32)\n"
     ]
    },
    {
     "data": {
      "text/plain": [
       "tensorflow.python.framework.ops.Tensor"
      ]
     },
     "execution_count": 4,
     "metadata": {},
     "output_type": "execute_result"
    }
   ],
   "source": [
    "print(a)\n",
    "type(a)"
   ]
  },
  {
   "cell_type": "code",
   "execution_count": 5,
   "metadata": {},
   "outputs": [
    {
     "name": "stdout",
     "output_type": "stream",
     "text": [
      "Tensor(\"variavelB:0\", shape=(), dtype=int32)\n"
     ]
    },
    {
     "data": {
      "text/plain": [
       "tensorflow.python.framework.ops.Tensor"
      ]
     },
     "execution_count": 5,
     "metadata": {},
     "output_type": "execute_result"
    }
   ],
   "source": [
    "print(b)\n",
    "type(b)"
   ]
  },
  {
   "cell_type": "markdown",
   "metadata": {},
   "source": [
    "### Vetores\n"
   ]
  },
  {
   "cell_type": "code",
   "execution_count": 6,
   "metadata": {},
   "outputs": [],
   "source": [
    "vetA = tf.constant([1,2,3])\n",
    "vetB = tf.constant([4,5,6], name = 'vetorB')"
   ]
  },
  {
   "cell_type": "code",
   "execution_count": 7,
   "metadata": {},
   "outputs": [
    {
     "name": "stdout",
     "output_type": "stream",
     "text": [
      "Tensor(\"Const_1:0\", shape=(3,), dtype=int32)\n",
      "Tensor(\"vetorB:0\", shape=(3,), dtype=int32)\n"
     ]
    },
    {
     "data": {
      "text/plain": [
       "tensorflow.python.framework.ops.Tensor"
      ]
     },
     "execution_count": 7,
     "metadata": {},
     "output_type": "execute_result"
    }
   ],
   "source": [
    "print(vetA)\n",
    "type(vetA)\n",
    "\n",
    "print(vetB)\n",
    "type(vetB)"
   ]
  },
  {
   "cell_type": "markdown",
   "metadata": {},
   "source": [
    "### Matrizes\n"
   ]
  },
  {
   "cell_type": "code",
   "execution_count": 8,
   "metadata": {},
   "outputs": [],
   "source": [
    "matA = tf.constant([[1,2,3],[4,5,6]])\n",
    "matB = tf.constant([[7,8,9],[3,2,1]], name = 'matrizB')"
   ]
  },
  {
   "cell_type": "code",
   "execution_count": 9,
   "metadata": {},
   "outputs": [
    {
     "name": "stdout",
     "output_type": "stream",
     "text": [
      "Tensor(\"Const_2:0\", shape=(2, 3), dtype=int32)\n",
      "Tensor(\"matrizB:0\", shape=(2, 3), dtype=int32)\n"
     ]
    },
    {
     "data": {
      "text/plain": [
       "tensorflow.python.framework.ops.Tensor"
      ]
     },
     "execution_count": 9,
     "metadata": {},
     "output_type": "execute_result"
    }
   ],
   "source": [
    "print(matA)\n",
    "type(matA)\n",
    "\n",
    "print(matB)\n",
    "type(matB)"
   ]
  },
  {
   "cell_type": "markdown",
   "metadata": {},
   "source": [
    "# Realizando operações básicas com o tensorflow\n"
   ]
  },
  {
   "cell_type": "markdown",
   "metadata": {},
   "source": [
    "## Soma\n",
    "\n",
    "### Soma de constantes"
   ]
  },
  {
   "cell_type": "code",
   "execution_count": 10,
   "metadata": {},
   "outputs": [],
   "source": [
    "soma = a + b # somando constantes"
   ]
  },
  {
   "cell_type": "code",
   "execution_count": 11,
   "metadata": {},
   "outputs": [
    {
     "name": "stdout",
     "output_type": "stream",
     "text": [
      "Tensor(\"add:0\", shape=(), dtype=int32)\n"
     ]
    }
   ],
   "source": [
    "type(soma)\n",
    "print(soma)"
   ]
  },
  {
   "cell_type": "code",
   "execution_count": 12,
   "metadata": {},
   "outputs": [
    {
     "name": "stdout",
     "output_type": "stream",
     "text": [
      "9\n"
     ]
    }
   ],
   "source": [
    "# Executando de fato a soma\n",
    "with tf.Session() as sess:\n",
    "    print(sess.run(soma))"
   ]
  },
  {
   "cell_type": "markdown",
   "metadata": {},
   "source": [
    "Ao efetuar a soma, o resultado será 9 pois a = 4 e b = 5."
   ]
  },
  {
   "cell_type": "markdown",
   "metadata": {},
   "source": [
    "### Soma de constantes a vetores e matrizes "
   ]
  },
  {
   "cell_type": "code",
   "execution_count": 13,
   "metadata": {},
   "outputs": [],
   "source": [
    "soma_constvet = vetA + a"
   ]
  },
  {
   "cell_type": "code",
   "execution_count": 14,
   "metadata": {},
   "outputs": [],
   "source": [
    "soma_constmat = matA + a"
   ]
  },
  {
   "cell_type": "code",
   "execution_count": 15,
   "metadata": {},
   "outputs": [
    {
     "name": "stdout",
     "output_type": "stream",
     "text": [
      "a:  Tensor(\"Const:0\", shape=(), dtype=int32)\n",
      "vetA:  Tensor(\"Const_1:0\", shape=(3,), dtype=int32)\n",
      "matA:  Tensor(\"Const_2:0\", shape=(2, 3), dtype=int32)\n",
      "\n",
      "Const A: \n",
      "\n",
      "4\n",
      "\n",
      "VetA: \n",
      "\n",
      "[1 2 3]\n",
      "\n",
      "MatA: \n",
      "\n",
      "[[1 2 3]\n",
      " [4 5 6]]\n",
      "\n",
      "Soma vetor e constante: \n",
      "\n",
      "[5 6 7]\n",
      "\n",
      "Soma matriz e constante: \n",
      "\n",
      "[[ 5  6  7]\n",
      " [ 8  9 10]]\n"
     ]
    }
   ],
   "source": [
    "print(\"a: \", a)\n",
    "print(\"vetA: \", vetA)\n",
    "print(\"matA: \", matA)\n",
    "\n",
    "with tf.Session() as sess:\n",
    "    print(\"\\nConst A: \\n\")\n",
    "    print(sess.run(a))\n",
    "    print(\"\\nVetA: \\n\")\n",
    "    print(sess.run(vetA))\n",
    "    print(\"\\nMatA: \\n\")\n",
    "    print(sess.run(matA))\n",
    "    print(\"\\nSoma vetor e constante: \\n\")\n",
    "    print(sess.run(soma_constvet))\n",
    "    print(\"\\nSoma matriz e constante: \\n\")\n",
    "    print(sess.run(soma_constmat))"
   ]
  },
  {
   "cell_type": "markdown",
   "metadata": {},
   "source": [
    "### Somas de vetores\n"
   ]
  },
  {
   "cell_type": "code",
   "execution_count": 16,
   "metadata": {},
   "outputs": [],
   "source": [
    "soma_vet = vetA + vetB"
   ]
  },
  {
   "cell_type": "code",
   "execution_count": 17,
   "metadata": {},
   "outputs": [
    {
     "name": "stdout",
     "output_type": "stream",
     "text": [
      "Tensor(\"add_3:0\", shape=(3,), dtype=int32)\n"
     ]
    }
   ],
   "source": [
    "type(soma_vet)\n",
    "print(soma_vet)"
   ]
  },
  {
   "cell_type": "code",
   "execution_count": 18,
   "metadata": {},
   "outputs": [
    {
     "name": "stdout",
     "output_type": "stream",
     "text": [
      "[5 7 9]\n"
     ]
    }
   ],
   "source": [
    "# Executando de fato a soma\n",
    "with tf.Session() as sess:\n",
    "    print(sess.run(soma_vet))"
   ]
  },
  {
   "cell_type": "markdown",
   "metadata": {},
   "source": [
    "A soma dos vetores é [5 7 9] porque o vetA = [1 2 3] e o vetB = [4 5 6]. "
   ]
  },
  {
   "cell_type": "markdown",
   "metadata": {},
   "source": [
    "### Somas de matrizes\n"
   ]
  },
  {
   "cell_type": "code",
   "execution_count": 19,
   "metadata": {},
   "outputs": [],
   "source": [
    "soma_mat = matA + matB"
   ]
  },
  {
   "cell_type": "code",
   "execution_count": 20,
   "metadata": {},
   "outputs": [
    {
     "name": "stdout",
     "output_type": "stream",
     "text": [
      "Tensor(\"add_4:0\", shape=(2, 3), dtype=int32)\n"
     ]
    }
   ],
   "source": [
    "type(soma_mat)\n",
    "print(soma_mat)"
   ]
  },
  {
   "cell_type": "code",
   "execution_count": 21,
   "metadata": {},
   "outputs": [
    {
     "name": "stdout",
     "output_type": "stream",
     "text": [
      "[[ 8 10 12]\n",
      " [ 7  7  7]]\n"
     ]
    }
   ],
   "source": [
    "# Executando de fato a soma\n",
    "with tf.Session() as sess:\n",
    "    print(sess.run(soma_mat))"
   ]
  },
  {
   "cell_type": "markdown",
   "metadata": {},
   "source": [
    "A soma das matrizes é [[ 8 10 12 ], [ 7  7  7 ]] porque a \n",
    "\n",
    "matA = \n",
    "\n",
    "1 | 2 | 3\n",
    "--- | --- | ---\n",
    "5 | 6 | 7\n",
    "\n",
    "e a\n",
    "\n",
    "matB = \n",
    "\n",
    "7 | 8 | 9\n",
    "--- | --- | ---\n",
    "3 | 2 | 1\n",
    "."
   ]
  },
  {
   "cell_type": "markdown",
   "metadata": {},
   "source": [
    "Caso as matrizes possuam dimensões diferentes, vamos ver o que acontece.\n"
   ]
  },
  {
   "cell_type": "code",
   "execution_count": 22,
   "metadata": {},
   "outputs": [
    {
     "name": "stdout",
     "output_type": "stream",
     "text": [
      "Tensor(\"Const_2:0\", shape=(2, 3), dtype=int32)\n",
      "Tensor(\"matrizB:0\", shape=(2, 3), dtype=int32)\n",
      "Tensor(\"Const_3:0\", shape=(2, 2), dtype=int32)\n",
      "Tensor(\"Const_4:0\", shape=(3, 3), dtype=int32)\n",
      "Tensor(\"Const_5:0\", shape=(3, 2), dtype=int32)\n",
      "Tensor(\"Const_6:0\", shape=(2, 3), dtype=int32)\n"
     ]
    }
   ],
   "source": [
    "matC = tf.constant([[1,2],[4,5]])\n",
    "matD = tf.constant([[7,8,9],[3,2,1], [3,2,1]])\n",
    "matE = tf.constant([[1,2],[4,5],[7,8]])\n",
    "matF = tf.constant([[7,8,9],[3,2,1]])\n",
    "\n",
    "print(matA)\n",
    "print(matB)\n",
    "print(matC)\n",
    "print(matD)\n",
    "print(matE)\n",
    "print(matF)\n"
   ]
  },
  {
   "cell_type": "code",
   "execution_count": 23,
   "metadata": {},
   "outputs": [],
   "source": [
    "somaAF = matA + matF # o tamanho das matrizes são iguais\n",
    "# somaEF = matE + matF # não é possível realizar a soma de duas matrizes de tamanhos diferentes (gera erro)\n",
    "# somaCD = matC + matD # não é possível realizar a soma de duas matrizes de tamanhos diferentes (gera erro)"
   ]
  },
  {
   "cell_type": "markdown",
   "metadata": {},
   "source": [
    "### Soma de matrizes com vetores"
   ]
  },
  {
   "cell_type": "code",
   "execution_count": 24,
   "metadata": {},
   "outputs": [
    {
     "name": "stdout",
     "output_type": "stream",
     "text": [
      "vetA:  Tensor(\"Const_1:0\", shape=(3,), dtype=int32)\n",
      "matA:  Tensor(\"Const_2:0\", shape=(2, 3), dtype=int32)\n",
      "\n",
      "VetA: \n",
      "\n",
      "[1 2 3]\n",
      "\n",
      "MatA: \n",
      "\n",
      "[[1 2 3]\n",
      " [4 5 6]]\n",
      "\n",
      "Soma: \n",
      "\n",
      "[[2 4 6]\n",
      " [5 7 9]]\n"
     ]
    }
   ],
   "source": [
    "soma_vetmat = vetA + matA \n",
    "\n",
    "print(\"vetA: \", vetA)\n",
    "print(\"matA: \", matA)\n",
    "\n",
    "with tf.Session() as sess:\n",
    "    print(\"\\nVetA: \\n\")\n",
    "    print(sess.run(vetA))\n",
    "    print(\"\\nMatA: \\n\")\n",
    "    print(sess.run(matA))\n",
    "    print(\"\\nSoma: \\n\")\n",
    "    print(sess.run(soma_vetmat))"
   ]
  },
  {
   "cell_type": "markdown",
   "metadata": {},
   "source": [
    "Como o vetor tem tamanho 3 e a matriz tem tamanho (2 - linhas, 3 - colunas). Então, na soma, o vetor é soma linha a linha.\n"
   ]
  },
  {
   "cell_type": "code",
   "execution_count": 25,
   "metadata": {},
   "outputs": [
    {
     "name": "stdout",
     "output_type": "stream",
     "text": [
      "Tensor(\"Const_7:0\", shape=(2,), dtype=int32)\n"
     ]
    }
   ],
   "source": [
    "vetC = tf.constant([2,3]) \n",
    "print(vetC) "
   ]
  },
  {
   "cell_type": "markdown",
   "metadata": {},
   "source": [
    "Podemos observar aqui que a dimensão de vetC é (2,), ou seja, um vetor linha.\n"
   ]
  },
  {
   "cell_type": "code",
   "execution_count": 26,
   "metadata": {},
   "outputs": [
    {
     "name": "stdout",
     "output_type": "stream",
     "text": [
      "Tensor(\"Const_8:0\", shape=(2, 1), dtype=int32)\n",
      "Tensor(\"Const_9:0\", shape=(4,), dtype=int32)\n"
     ]
    }
   ],
   "source": [
    "vetD = tf.constant([[5],[3]]) \n",
    "print(vetD) \n",
    "\n",
    "vetE = tf.constant([2,3,5,6]) \n",
    "print(vetE) "
   ]
  },
  {
   "cell_type": "markdown",
   "metadata": {},
   "source": [
    "Podemos observar aqui que a dimensão de vetD é (2,1), ou seja, um vetor coluna. Mas no fundo, a estrutura é de uma matriz com 2 linhas e 1 coluna."
   ]
  },
  {
   "cell_type": "code",
   "execution_count": 27,
   "metadata": {},
   "outputs": [],
   "source": [
    "# soma_vetmat2 = matA + vetC # Não é permitido pois as dimensões são diferentes (gera erro)"
   ]
  },
  {
   "cell_type": "code",
   "execution_count": 28,
   "metadata": {},
   "outputs": [
    {
     "name": "stdout",
     "output_type": "stream",
     "text": [
      "vetD:  Tensor(\"Const_8:0\", shape=(2, 1), dtype=int32)\n",
      "matA:  Tensor(\"Const_2:0\", shape=(2, 3), dtype=int32)\n",
      "\n",
      "VetD: \n",
      "\n",
      "[[5]\n",
      " [3]]\n",
      "\n",
      "MatA: \n",
      "\n",
      "[[1 2 3]\n",
      " [4 5 6]]\n",
      "\n",
      "Soma: \n",
      "\n",
      "[[6 7 8]\n",
      " [7 8 9]]\n"
     ]
    }
   ],
   "source": [
    "soma_vetDmatA = vetD + matA\n",
    "\n",
    "print(\"vetD: \", vetD)\n",
    "print(\"matA: \", matA)\n",
    "\n",
    "with tf.Session() as sess:\n",
    "    print(\"\\nVetD: \\n\")\n",
    "    print(sess.run(vetD))\n",
    "    print(\"\\nMatA: \\n\")\n",
    "    print(sess.run(matA))\n",
    "    print(\"\\nSoma: \\n\")\n",
    "    print(sess.run(soma_vetDmatA))"
   ]
  },
  {
   "cell_type": "markdown",
   "metadata": {},
   "source": [
    "Como o vetor tem tamanho 2 e a matriz tem tamanho (2 - linhas, 3 - colunas). Então, na soma, o vetor é soma coluna a coluna."
   ]
  },
  {
   "cell_type": "markdown",
   "metadata": {},
   "source": [
    "## Multiplicação\n",
    "### Multiplicação de constantes\n"
   ]
  },
  {
   "cell_type": "code",
   "execution_count": 29,
   "metadata": {},
   "outputs": [
    {
     "name": "stdout",
     "output_type": "stream",
     "text": [
      "\n",
      "a:  4\n",
      "\n",
      "b:  5\n",
      "\n",
      "Multiplicação 1:  20\n",
      "\n",
      "Multiplicação 2:  20\n"
     ]
    }
   ],
   "source": [
    "multiplicacao1 = a * b\n",
    "multiplicacao2 = tf.multiply(a, b)\n",
    "\n",
    "with tf.Session() as sess:\n",
    "    print(\"\\na: \", sess.run(a))\n",
    "    print(\"\\nb: \", sess.run(b))\n",
    "    print(\"\\nMultiplicação 1: \", sess.run(multiplicacao1))\n",
    "    print(\"\\nMultiplicação 2: \", sess.run(multiplicacao2))"
   ]
  },
  {
   "cell_type": "markdown",
   "metadata": {},
   "source": [
    "### Multiplicação de vetores\n"
   ]
  },
  {
   "cell_type": "code",
   "execution_count": 30,
   "metadata": {},
   "outputs": [
    {
     "name": "stdout",
     "output_type": "stream",
     "text": [
      "------- MULTIPLICANDO VETORES DE MESMO TAMANHO ------\n",
      "\n",
      "VetA:  [1 2 3]\n",
      "\n",
      "VetB:  [4 5 6]\n",
      "\n",
      "Multiplicação 1:  [ 4 10 18]\n",
      "\n",
      "Multiplicação 2:  [ 4 10 18]\n"
     ]
    }
   ],
   "source": [
    "multiplicacao_vet1 = vetA * vetB\n",
    "multiplicacao_vet2 = tf.multiply(vetA, vetB)\n",
    "\n",
    "with tf.Session() as sess:\n",
    "    print(\"------- MULTIPLICANDO VETORES DE MESMO TAMANHO ------\")\n",
    "    print(\"\\nVetA: \", sess.run(vetA))\n",
    "    print(\"\\nVetB: \", sess.run(vetB))\n",
    "    print(\"\\nMultiplicação 1: \", sess.run(multiplicacao_vet1))\n",
    "    print(\"\\nMultiplicação 2: \", sess.run(multiplicacao_vet2))"
   ]
  },
  {
   "cell_type": "code",
   "execution_count": 31,
   "metadata": {},
   "outputs": [
    {
     "name": "stdout",
     "output_type": "stream",
     "text": [
      "------- MULTIPLICANDO VETORES DE TAMANHOS DIFERENTES ------\n",
      "\n",
      "VetA:  [1 2 3]\n",
      "\n",
      "VetC:  [2 3]\n",
      "\n",
      "VetD:  [[5]\n",
      " [3]]\n",
      "\n",
      "VetE:  [2 3 5 6]\n",
      "\n",
      "Multiplicação de C e D:  [[10 15]\n",
      " [ 6  9]]\n",
      "\n",
      "Multiplicação de D e C:  [[10 15]\n",
      " [ 6  9]]\n"
     ]
    }
   ],
   "source": [
    "# multiplicacao_vet3 = vetA * vetC # Não é possível porque são vetores linhas que não possuem o mesmo tamanho\n",
    "# Não é possível porque são vetores linhas que não possuem o mesmo tamanho e não funciona também quando os tamanhos são múltiplos\n",
    "# multiplicacao_vet6 = tf.multiply(vetC, vetE)\n",
    "\n",
    "multiplicacao_vet4 = tf.multiply(vetC, vetD)\n",
    "multiplicacao_vet5 = tf.multiply(vetD, vetC)\n",
    "\n",
    "\n",
    "with tf.Session() as sess:\n",
    "    print(\"------- MULTIPLICANDO VETORES DE TAMANHOS DIFERENTES ------\")\n",
    "    print(\"\\nVetA: \", sess.run(vetA))\n",
    "    print(\"\\nVetC: \", sess.run(vetC))\n",
    "    print(\"\\nVetD: \", sess.run(vetD))\n",
    "    print(\"\\nVetE: \", sess.run(vetE))\n",
    "    print(\"\\nMultiplicação de C e D: \", sess.run(multiplicacao_vet4))\n",
    "    print(\"\\nMultiplicação de D e C: \", sess.run(multiplicacao_vet5))"
   ]
  },
  {
   "cell_type": "markdown",
   "metadata": {},
   "source": [
    "Nota-se também que na multiplicação de vetores não importa ordem da multiplicação."
   ]
  },
  {
   "cell_type": "markdown",
   "metadata": {},
   "source": [
    "### Multiplicação de matrizes"
   ]
  },
  {
   "cell_type": "code",
   "execution_count": 32,
   "metadata": {},
   "outputs": [
    {
     "name": "stdout",
     "output_type": "stream",
     "text": [
      "\n",
      "MatA: \n",
      " [[1 2 3]\n",
      " [4 5 6]]\n",
      "\n",
      "MatB: \n",
      " [[7 8 9]\n",
      " [3 2 1]]\n",
      "\n",
      "MatC: \n",
      " [[1 2]\n",
      " [4 5]]\n",
      "\n",
      "MatD: \n",
      " [[7 8 9]\n",
      " [3 2 1]\n",
      " [3 2 1]]\n",
      "\n",
      "MatE: \n",
      " [[1 2]\n",
      " [4 5]\n",
      " [7 8]]\n",
      "\n",
      "MatF: \n",
      " [[7 8 9]\n",
      " [3 2 1]]\n"
     ]
    }
   ],
   "source": [
    "# Relembrando cada matriz criada até agora\n",
    "with tf.Session() as sess:\n",
    "    print(\"\\nMatA: \\n\", sess.run(matA))\n",
    "    print(\"\\nMatB: \\n\", sess.run(matB))\n",
    "    print(\"\\nMatC: \\n\", sess.run(matC))\n",
    "    print(\"\\nMatD: \\n\", sess.run(matD))\n",
    "    print(\"\\nMatE: \\n\", sess.run(matE))\n",
    "    print(\"\\nMatF: \\n\", sess.run(matF))"
   ]
  },
  {
   "cell_type": "code",
   "execution_count": 33,
   "metadata": {},
   "outputs": [],
   "source": [
    "multiplicacao_matAB1 = matA * matB\n",
    "multiplicacao_matAB2 = tf.multiply(matA, matB)\n",
    "multiplicacao_matAB3 = tf.multiply(matB, matA)\n",
    "# multiplicacao_matAB4 = tf.matmul(matA, matB) # Gera erro por não terem o mesmo tamanho\n",
    "# multiplicacao_matAB5 = tf.matmul(matB, matA) # Gera erro por não terem o mesmo tamanho\n",
    "\n"
   ]
  },
  {
   "cell_type": "code",
   "execution_count": 34,
   "metadata": {},
   "outputs": [
    {
     "name": "stdout",
     "output_type": "stream",
     "text": [
      "\n",
      "Multiplicação 1: \n",
      " [[ 7 16 27]\n",
      " [12 10  6]]\n",
      "\n",
      "Multiplicação 2: \n",
      " [[ 7 16 27]\n",
      " [12 10  6]]\n",
      "\n",
      "Multiplicação 3: \n",
      " [[ 7 16 27]\n",
      " [12 10  6]]\n"
     ]
    }
   ],
   "source": [
    "with tf.Session() as sess:\n",
    "    print(\"\\nMultiplicação 1: \\n\", sess.run(multiplicacao_matAB1))\n",
    "    print(\"\\nMultiplicação 2: \\n\", sess.run(multiplicacao_matAB2))\n",
    "    print(\"\\nMultiplicação 3: \\n\", sess.run(multiplicacao_matAB3))"
   ]
  },
  {
   "cell_type": "markdown",
   "metadata": {},
   "source": [
    "Nota-se que nessas multiplicações, há uma multiplicação de elemento a elemento. Não se trata da multiplicação de matrizes da algebra linear, onde a ordem da multiplicação afeta o resultado e os tamanhos precisam ser compatíveis."
   ]
  },
  {
   "cell_type": "code",
   "execution_count": 35,
   "metadata": {},
   "outputs": [],
   "source": [
    "multiplicacao_matEF1 = tf.matmul(matE, matF) # matrizes de tamanhos (3,2) e (2,3). Resulta em uma (3,3).\n",
    "multiplicacao_matEF2 = tf.matmul(matF, matE) # matrizes de tamanhos (2,3) e (3,2). Resulta em uma (2,2)."
   ]
  },
  {
   "cell_type": "code",
   "execution_count": 36,
   "metadata": {},
   "outputs": [
    {
     "name": "stdout",
     "output_type": "stream",
     "text": [
      "\n",
      "Multiplicação 1: \n",
      " [[13 12 11]\n",
      " [43 42 41]\n",
      " [73 72 71]]\n",
      "\n",
      "Multiplicação 2: \n",
      " [[102 126]\n",
      " [ 18  24]]\n"
     ]
    }
   ],
   "source": [
    "with tf.Session() as sess:\n",
    "    print(\"\\nMultiplicação 1: \\n\", sess.run(multiplicacao_matEF1))\n",
    "    print(\"\\nMultiplicação 2: \\n\", sess.run(multiplicacao_matEF2))"
   ]
  },
  {
   "cell_type": "markdown",
   "metadata": {},
   "source": [
    "Neste caso, estamos multiplicando matrizes pela algebra linear e podemos notar que, de fato, os resultados são alterados pela ordem da multiplicação."
   ]
  },
  {
   "cell_type": "markdown",
   "metadata": {},
   "source": [
    "## Produto escalar"
   ]
  },
  {
   "cell_type": "markdown",
   "metadata": {},
   "source": [
    "O produto escalar nada mais é do que a multiplicação de cada elemento dos vetores e a soma de todos ao final. Em redes neurais o produto escalar é muito útil porque teremos entradas e pesos, então vamos fazer o produto escalar da entrada e os pesos para passar para a função de ativação.\n"
   ]
  },
  {
   "cell_type": "code",
   "execution_count": 37,
   "metadata": {},
   "outputs": [
    {
     "name": "stdout",
     "output_type": "stream",
     "text": [
      "Entrada:  Tensor(\"entradas:0\", shape=(1, 3), dtype=float32)\n",
      "Pesos:  Tensor(\"pesos:0\", shape=(1, 3), dtype=float32)\n"
     ]
    }
   ],
   "source": [
    "# Simulando matrizes de entrada e dos pesos\n",
    "matEntrada = tf.constant([[-1.,7.,5.]], name = 'entradas')\n",
    "matPesos = tf.constant([[0.8,0.1,0.1]], name = 'pesos')\n",
    "\n",
    "print(\"Entrada: \", matEntrada)\n",
    "print(\"Pesos: \", matPesos)"
   ]
  },
  {
   "cell_type": "markdown",
   "metadata": {},
   "source": [
    "Podemos ver que são vetores coluna e que eles possuem o mesmo tipo de dado. Temos que deixar com o mesmo tipo para que a gente consiga multiplicar esses vetores coluna que possuem a estrutura de uma matriz. Porém, conceitualmente são vetores coluna."
   ]
  },
  {
   "cell_type": "code",
   "execution_count": 38,
   "metadata": {},
   "outputs": [],
   "source": [
    "multiplicacao_entr_peso = tf.multiply(matEntrada, matPesos)\n",
    "produto_escalar_entr_peso = tf.reduce_sum(multiplicacao_entr_peso)"
   ]
  },
  {
   "cell_type": "code",
   "execution_count": 39,
   "metadata": {},
   "outputs": [
    {
     "name": "stdout",
     "output_type": "stream",
     "text": [
      "Entrada: \n",
      " [[-1.  7.  5.]]\n",
      "Pesos \n",
      " [[0.8 0.1 0.1]]\n",
      "Multiplicação: \n",
      " [[-0.8  0.7  0.5]]\n",
      "Produto escalar: \n",
      " 0.39999998\n"
     ]
    }
   ],
   "source": [
    "with tf.Session() as sess:\n",
    "    print(\"Entrada: \\n\", sess.run(matEntrada))\n",
    "    print(\"Pesos \\n\", sess.run(matPesos))\n",
    "    print(\"Multiplicação: \\n\", sess.run(multiplicacao_entr_peso))\n",
    "    print(\"Produto escalar: \\n\", sess.run(produto_escalar_entr_peso))"
   ]
  },
  {
   "cell_type": "markdown",
   "metadata": {},
   "source": [
    "## Placeholders\n"
   ]
  },
  {
   "cell_type": "code",
   "execution_count": 40,
   "metadata": {},
   "outputs": [],
   "source": [
    "primeiro_placeholder = tf.placeholder(dtype='float', shape=None)\n",
    "# dtype indica o tipo de dado que o placeholder irá receber\n",
    "# shape indica a dimensão a ser recebidaa, nesse caso, None indica que não se sabe então poderia receber qualquer uma"
   ]
  },
  {
   "cell_type": "code",
   "execution_count": 41,
   "metadata": {},
   "outputs": [],
   "source": [
    "operacao_soma = primeiro_placeholder + 2"
   ]
  },
  {
   "cell_type": "code",
   "execution_count": 42,
   "metadata": {},
   "outputs": [
    {
     "name": "stdout",
     "output_type": "stream",
     "text": [
      "Quando o placeholder é um vetor:  [3. 4. 5.]\n",
      "Quando o placeholder é uma matriz: \n",
      " [[3. 4. 5.]\n",
      " [4. 5. 6.]]\n"
     ]
    }
   ],
   "source": [
    "with tf.Session() as sess:\n",
    "    resultado_vetor = sess.run(operacao_soma, feed_dict = {primeiro_placeholder: [1,2,3]})\n",
    "    print(\"Quando o placeholder é um vetor: \", resultado_vetor)\n",
    "    \n",
    "    resultado_matriz = sess.run(operacao_soma, feed_dict = {primeiro_placeholder: [[1,2,3],[2,3,4]]})\n",
    "    print(\"Quando o placeholder é uma matriz: \\n\", resultado_matriz)"
   ]
  },
  {
   "cell_type": "markdown",
   "metadata": {},
   "source": [
    "Notar que por mais que colocamos valores inteiros, quando o placeholder recebe os valores de fato (com feed_dict) ele converte para float."
   ]
  },
  {
   "cell_type": "markdown",
   "metadata": {},
   "source": [
    "Outro ponto a se notar é que podemos atribuir ao placeholder uma matriz ou um vetor porque não definimos as dimensões ao criá-lo (com a propriedade shape=None)."
   ]
  },
  {
   "cell_type": "code",
   "execution_count": 43,
   "metadata": {},
   "outputs": [],
   "source": [
    "# Criando mais um placeholders de exemplo\n",
    "segundo_placeholder = tf.placeholder(dtype='float', shape=[None,5])\n",
    "# dtype indica o tipo de dado que o placeholder irá receber\n",
    "# shape indica a dimensão recebida, nesse caso, temos que passar uma estrutura com X linhas e 5 colunas necessariamente."
   ]
  },
  {
   "cell_type": "code",
   "execution_count": 44,
   "metadata": {},
   "outputs": [],
   "source": [
    "operacao_multiplicacao = segundo_placeholder * 3"
   ]
  },
  {
   "cell_type": "code",
   "execution_count": 45,
   "metadata": {},
   "outputs": [
    {
     "name": "stdout",
     "output_type": "stream",
     "text": [
      "Quando o placeholder é uma matriz com 3 linhas e 5 colunas: \n",
      " [[ 3.  6.  9. 12. 15.]\n",
      " [ 3.  6.  9. 12. 15.]\n",
      " [ 3.  6.  9. 12. 15.]]\n",
      "\n",
      "Quando o placeholder é uma matriz com 1 linhas e 5 colunas: \n",
      " [[15. 30. 45. 60. 75.]]\n"
     ]
    }
   ],
   "source": [
    "with tf.Session() as sess:    \n",
    "    resultado1 = sess.run(operacao_multiplicacao, feed_dict = {segundo_placeholder: [[1,2,3,4,5],[1,2,3,4,5],[1,2,3,4,5]]})\n",
    "    print(\"Quando o placeholder é uma matriz com 3 linhas e 5 colunas: \\n\", resultado1)\n",
    "    \n",
    "    resultado2 = sess.run(operacao_multiplicacao, feed_dict = {segundo_placeholder: [[5,10,15,20,25]]})\n",
    "    print(\"\\nQuando o placeholder é uma matriz com 1 linhas e 5 colunas: \\n\", resultado2)"
   ]
  },
  {
   "cell_type": "markdown",
   "metadata": {},
   "source": [
    "## Grafos com TensorBoard\n"
   ]
  },
  {
   "cell_type": "code",
   "execution_count": 46,
   "metadata": {},
   "outputs": [],
   "source": [
    "tf.reset_default_graph() # Limpa o que já estiver na memória relacionado aos grafos"
   ]
  },
  {
   "cell_type": "code",
   "execution_count": 47,
   "metadata": {},
   "outputs": [],
   "source": [
    "# Criando operações para mostrarmos seu grafo depois\n",
    "operacao_adicao = tf.add(3, 4, name='add')\n",
    "operacao_multi = tf.multiply(operacao_adicao, 2, name='multiplicacao')\n",
    "operacao_divisao = tf.math.divide(operacao_multi, operacao_adicao, name='divisao')"
   ]
  },
  {
   "cell_type": "code",
   "execution_count": 48,
   "metadata": {},
   "outputs": [
    {
     "name": "stdout",
     "output_type": "stream",
     "text": [
      "2.0\n"
     ]
    }
   ],
   "source": [
    "with tf.Session() as sess:\n",
    "    writer = tf.summary.FileWriter('grafos_gerados', sess.graph)\n",
    "    print(sess.run(operacao_divisao)) # Como a operacao_divisao depende de outras operações, elas são realizadas implicitamente\n",
    "    writer.close()"
   ]
  },
  {
   "cell_type": "markdown",
   "metadata": {},
   "source": [
    "**Como mostrar o grafo?**"
   ]
  },
  {
   "cell_type": "markdown",
   "metadata": {},
   "source": [
    "Após executado o código acima, haverá uma pasta chamada 'grafos_gerados' na mesma pasta do script com um arquivo. Para abrirmos esse arquivo teremos que rodar o tensor board."
   ]
  },
  {
   "cell_type": "markdown",
   "metadata": {},
   "source": [
    "Abrimos o prompt anaconda3, mudamos o environment para o atual com 'conda activate tensorflow2_py37'.\n",
    "\n",
    "Executamos o comando: 'tensorboard --logdir=caminho_da_pasta_grafos_gerados'.\n",
    "\n",
    "No meu caso, foi: 'tensorboard --logdir=\\Users\\Natielle\\grafos_gerados' e após executado, irá aparecer um link http. Então você copia e cola no navegador para visualizar o grafo gerado pelas operações que fizemos acima.\n",
    "\n",
    "*OBS:* Nome meu caso apareceu o link http://DESKTOP-EOST8AC:6006 e eu mudei para http://localhost:6006/para funcionar e deu certo."
   ]
  },
  {
   "cell_type": "markdown",
   "metadata": {},
   "source": [
    "![Grafo gerado](grafos_gerados/grafo_gerado.png)"
   ]
  },
  {
   "cell_type": "markdown",
   "metadata": {},
   "source": [
    "**Podemos criar escopos também quando temos operações mais complexas e maiores. Assim organizamos melhor as ideias. Vamos ver como faz abaixo.**"
   ]
  },
  {
   "cell_type": "code",
   "execution_count": 49,
   "metadata": {},
   "outputs": [],
   "source": [
    "tf.reset_default_graph() # Limpa o que já estiver na memória relacionado aos grafos para não sobrescrever outros grafos"
   ]
  },
  {
   "cell_type": "code",
   "execution_count": 50,
   "metadata": {},
   "outputs": [],
   "source": [
    "# Criando operações com escopo para mostrarmos seu grafo depois\n",
    "with tf.name_scope('Operacoes_para_exemplo'): # não pode ter espaços no nome\n",
    "    with tf.name_scope('Escopo_A'):\n",
    "        operacao_A = tf.add(3, 4, name='A') \n",
    "    with tf.name_scope('Escopo_B'):  # não pode ter espaços no nome\n",
    "        operacao_M = tf.multiply(operacao_A, 2, name='M')\n",
    "        operacao_D = tf.math.divide(operacao_M, operacao_A, name='D')"
   ]
  },
  {
   "cell_type": "code",
   "execution_count": 51,
   "metadata": {},
   "outputs": [
    {
     "name": "stdout",
     "output_type": "stream",
     "text": [
      "2.0\n"
     ]
    }
   ],
   "source": [
    "# Gerando o arquivo para exibir o grafo\n",
    "with tf.Session() as sess:\n",
    "    writer = tf.summary.FileWriter('grafos_gerados', sess.graph)\n",
    "    print(sess.run(operacao_D)) # Como a operacao_divisao depende de outras operações, elas são realizadas implicitamente\n",
    "    writer.close()"
   ]
  },
  {
   "cell_type": "markdown",
   "metadata": {},
   "source": [
    "Para mostrar o grafo, fazer os mesmos passos de \"Como mostrar o grafo?\" caso o tensorboard não tiver executando."
   ]
  },
  {
   "cell_type": "markdown",
   "metadata": {},
   "source": [
    "Caso o tensorboard já esteja executando, basta executar o código acima e atualizar a página do navegador."
   ]
  },
  {
   "cell_type": "markdown",
   "metadata": {},
   "source": [
    "O resultado esperado do grafo acima é: ![Grafo com escopo](grafos_gerados/grafo_gerado_com_escopo.png)"
   ]
  },
  {
   "cell_type": "code",
   "execution_count": null,
   "metadata": {},
   "outputs": [],
   "source": []
  }
 ],
 "metadata": {
  "kernelspec": {
   "display_name": "tensorflow2_py37",
   "language": "python",
   "name": "tensorflow2_py37"
  },
  "language_info": {
   "codemirror_mode": {
    "name": "ipython",
    "version": 3
   },
   "file_extension": ".py",
   "mimetype": "text/x-python",
   "name": "python",
   "nbconvert_exporter": "python",
   "pygments_lexer": "ipython3",
   "version": "3.6.10"
  }
 },
 "nbformat": 4,
 "nbformat_minor": 4
}
