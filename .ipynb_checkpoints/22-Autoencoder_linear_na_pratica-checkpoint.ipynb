{
 "cells": [
  {
   "cell_type": "markdown",
   "metadata": {},
   "source": [
    "## Autoencoders linear\n",
    "\n",
    "O objetivo desse exemplo é prever se o cliente vai pagar ou não o empréstimo.\n",
    "\n",
    "Estamos utilizando o banco de crédito obtido pelo Kaggle: https://www.kaggle.com/c/home-credit-default-risk.\n",
    "\n",
    "Iremos realizar uma comparação ao final de prever isso com estimator vs autoencoder."
   ]
  },
  {
   "cell_type": "code",
   "execution_count": 28,
   "metadata": {},
   "outputs": [],
   "source": [
    "# Realizando as importações\n",
    "import pandas as pd\n",
    "import tensorflow as tf\n",
    "from sklearn.model_selection import train_test_split\n",
    "from sklearn.preprocessing import StandardScaler\n",
    "from sklearn.metrics import mean_absolute_error\n",
    "from tensorflow.contrib.layers import fully_connected"
   ]
  },
  {
   "cell_type": "markdown",
   "metadata": {},
   "source": [
    "### Inicialmente vamos realizar a leitura e tratamento dos dados"
   ]
  },
  {
   "cell_type": "code",
   "execution_count": 2,
   "metadata": {},
   "outputs": [
    {
     "data": {
      "text/html": [
       "<div>\n",
       "<style scoped>\n",
       "    .dataframe tbody tr th:only-of-type {\n",
       "        vertical-align: middle;\n",
       "    }\n",
       "\n",
       "    .dataframe tbody tr th {\n",
       "        vertical-align: top;\n",
       "    }\n",
       "\n",
       "    .dataframe thead th {\n",
       "        text-align: right;\n",
       "    }\n",
       "</style>\n",
       "<table border=\"1\" class=\"dataframe\">\n",
       "  <thead>\n",
       "    <tr style=\"text-align: right;\">\n",
       "      <th></th>\n",
       "      <th>i#clientid</th>\n",
       "      <th>income</th>\n",
       "      <th>age</th>\n",
       "      <th>loan</th>\n",
       "      <th>c#default</th>\n",
       "    </tr>\n",
       "  </thead>\n",
       "  <tbody>\n",
       "    <tr>\n",
       "      <th>0</th>\n",
       "      <td>1</td>\n",
       "      <td>66155.925095</td>\n",
       "      <td>59.017015</td>\n",
       "      <td>8106.532131</td>\n",
       "      <td>0</td>\n",
       "    </tr>\n",
       "    <tr>\n",
       "      <th>1</th>\n",
       "      <td>2</td>\n",
       "      <td>34415.153966</td>\n",
       "      <td>48.117153</td>\n",
       "      <td>6564.745018</td>\n",
       "      <td>0</td>\n",
       "    </tr>\n",
       "    <tr>\n",
       "      <th>2</th>\n",
       "      <td>3</td>\n",
       "      <td>57317.170063</td>\n",
       "      <td>63.108049</td>\n",
       "      <td>8020.953296</td>\n",
       "      <td>0</td>\n",
       "    </tr>\n",
       "    <tr>\n",
       "      <th>3</th>\n",
       "      <td>4</td>\n",
       "      <td>42709.534201</td>\n",
       "      <td>45.751972</td>\n",
       "      <td>6103.642260</td>\n",
       "      <td>0</td>\n",
       "    </tr>\n",
       "    <tr>\n",
       "      <th>4</th>\n",
       "      <td>5</td>\n",
       "      <td>66952.688845</td>\n",
       "      <td>18.584336</td>\n",
       "      <td>8770.099235</td>\n",
       "      <td>1</td>\n",
       "    </tr>\n",
       "  </tbody>\n",
       "</table>\n",
       "</div>"
      ],
      "text/plain": [
       "   i#clientid        income        age         loan  c#default\n",
       "0           1  66155.925095  59.017015  8106.532131          0\n",
       "1           2  34415.153966  48.117153  6564.745018          0\n",
       "2           3  57317.170063  63.108049  8020.953296          0\n",
       "3           4  42709.534201  45.751972  6103.642260          0\n",
       "4           5  66952.688845  18.584336  8770.099235          1"
      ]
     },
     "execution_count": 2,
     "metadata": {},
     "output_type": "execute_result"
    }
   ],
   "source": [
    "base = pd.read_csv('credit_data.csv')\n",
    "base.head()"
   ]
  },
  {
   "cell_type": "code",
   "execution_count": 3,
   "metadata": {},
   "outputs": [
    {
     "data": {
      "text/plain": [
       "(2000, 5)"
      ]
     },
     "execution_count": 3,
     "metadata": {},
     "output_type": "execute_result"
    }
   ],
   "source": [
    "# Observando dimensões da base\n",
    "base.shape "
   ]
  },
  {
   "cell_type": "code",
   "execution_count": 4,
   "metadata": {},
   "outputs": [
    {
     "data": {
      "text/plain": [
       "(1997, 5)"
      ]
     },
     "execution_count": 4,
     "metadata": {},
     "output_type": "execute_result"
    }
   ],
   "source": [
    "# Excluindo as linhas que tem NA\n",
    "base = base.dropna()\n",
    "base.shape"
   ]
  },
  {
   "cell_type": "code",
   "execution_count": 5,
   "metadata": {},
   "outputs": [
    {
     "data": {
      "text/html": [
       "<div>\n",
       "<style scoped>\n",
       "    .dataframe tbody tr th:only-of-type {\n",
       "        vertical-align: middle;\n",
       "    }\n",
       "\n",
       "    .dataframe tbody tr th {\n",
       "        vertical-align: top;\n",
       "    }\n",
       "\n",
       "    .dataframe thead th {\n",
       "        text-align: right;\n",
       "    }\n",
       "</style>\n",
       "<table border=\"1\" class=\"dataframe\">\n",
       "  <thead>\n",
       "    <tr style=\"text-align: right;\">\n",
       "      <th></th>\n",
       "      <th>income</th>\n",
       "      <th>age</th>\n",
       "      <th>loan</th>\n",
       "      <th>c#default</th>\n",
       "    </tr>\n",
       "  </thead>\n",
       "  <tbody>\n",
       "    <tr>\n",
       "      <th>0</th>\n",
       "      <td>66155.925095</td>\n",
       "      <td>59.017015</td>\n",
       "      <td>8106.532131</td>\n",
       "      <td>0</td>\n",
       "    </tr>\n",
       "    <tr>\n",
       "      <th>1</th>\n",
       "      <td>34415.153966</td>\n",
       "      <td>48.117153</td>\n",
       "      <td>6564.745018</td>\n",
       "      <td>0</td>\n",
       "    </tr>\n",
       "    <tr>\n",
       "      <th>2</th>\n",
       "      <td>57317.170063</td>\n",
       "      <td>63.108049</td>\n",
       "      <td>8020.953296</td>\n",
       "      <td>0</td>\n",
       "    </tr>\n",
       "    <tr>\n",
       "      <th>3</th>\n",
       "      <td>42709.534201</td>\n",
       "      <td>45.751972</td>\n",
       "      <td>6103.642260</td>\n",
       "      <td>0</td>\n",
       "    </tr>\n",
       "    <tr>\n",
       "      <th>4</th>\n",
       "      <td>66952.688845</td>\n",
       "      <td>18.584336</td>\n",
       "      <td>8770.099235</td>\n",
       "      <td>1</td>\n",
       "    </tr>\n",
       "  </tbody>\n",
       "</table>\n",
       "</div>"
      ],
      "text/plain": [
       "         income        age         loan  c#default\n",
       "0  66155.925095  59.017015  8106.532131          0\n",
       "1  34415.153966  48.117153  6564.745018          0\n",
       "2  57317.170063  63.108049  8020.953296          0\n",
       "3  42709.534201  45.751972  6103.642260          0\n",
       "4  66952.688845  18.584336  8770.099235          1"
      ]
     },
     "execution_count": 5,
     "metadata": {},
     "output_type": "execute_result"
    }
   ],
   "source": [
    "# Retirando a coluna'i#clientid'\n",
    "base = base.drop('i#clientid', axis = 1)\n",
    "base.head()"
   ]
  },
  {
   "cell_type": "code",
   "execution_count": 6,
   "metadata": {},
   "outputs": [
    {
     "data": {
      "text/html": [
       "<div>\n",
       "<style scoped>\n",
       "    .dataframe tbody tr th:only-of-type {\n",
       "        vertical-align: middle;\n",
       "    }\n",
       "\n",
       "    .dataframe tbody tr th {\n",
       "        vertical-align: top;\n",
       "    }\n",
       "\n",
       "    .dataframe thead th {\n",
       "        text-align: right;\n",
       "    }\n",
       "</style>\n",
       "<table border=\"1\" class=\"dataframe\">\n",
       "  <thead>\n",
       "    <tr style=\"text-align: right;\">\n",
       "      <th></th>\n",
       "      <th>income</th>\n",
       "      <th>age</th>\n",
       "      <th>loan</th>\n",
       "      <th>c#default</th>\n",
       "    </tr>\n",
       "  </thead>\n",
       "  <tbody>\n",
       "    <tr>\n",
       "      <th>0</th>\n",
       "      <td>1.453898</td>\n",
       "      <td>1.336861</td>\n",
       "      <td>1.201907</td>\n",
       "      <td>0</td>\n",
       "    </tr>\n",
       "    <tr>\n",
       "      <th>1</th>\n",
       "      <td>-0.762398</td>\n",
       "      <td>0.536639</td>\n",
       "      <td>0.695744</td>\n",
       "      <td>0</td>\n",
       "    </tr>\n",
       "    <tr>\n",
       "      <th>2</th>\n",
       "      <td>0.836733</td>\n",
       "      <td>1.637207</td>\n",
       "      <td>1.173812</td>\n",
       "      <td>0</td>\n",
       "    </tr>\n",
       "    <tr>\n",
       "      <th>3</th>\n",
       "      <td>-0.183244</td>\n",
       "      <td>0.362998</td>\n",
       "      <td>0.544366</td>\n",
       "      <td>0</td>\n",
       "    </tr>\n",
       "    <tr>\n",
       "      <th>4</th>\n",
       "      <td>1.509532</td>\n",
       "      <td>-1.631534</td>\n",
       "      <td>1.419754</td>\n",
       "      <td>1</td>\n",
       "    </tr>\n",
       "  </tbody>\n",
       "</table>\n",
       "</div>"
      ],
      "text/plain": [
       "     income       age      loan  c#default\n",
       "0  1.453898  1.336861  1.201907          0\n",
       "1 -0.762398  0.536639  0.695744          0\n",
       "2  0.836733  1.637207  1.173812          0\n",
       "3 -0.183244  0.362998  0.544366          0\n",
       "4  1.509532 -1.631534  1.419754          1"
      ]
     },
     "execution_count": 6,
     "metadata": {},
     "output_type": "execute_result"
    }
   ],
   "source": [
    "# Deixando os dados padronizados\n",
    "scaler_x = StandardScaler()\n",
    "base[['income', 'age', 'loan']] = scaler_x.fit_transform(base[['income', 'age', 'loan']])\n",
    "base.head()"
   ]
  },
  {
   "cell_type": "code",
   "execution_count": 7,
   "metadata": {},
   "outputs": [],
   "source": [
    "# Separando os atributos (X) dos labels/rótulos (Y)\n",
    "X = base.drop('c#default', axis = 1)\n",
    "Y = base['c#default']"
   ]
  },
  {
   "cell_type": "code",
   "execution_count": 8,
   "metadata": {},
   "outputs": [
    {
     "data": {
      "text/html": [
       "<div>\n",
       "<style scoped>\n",
       "    .dataframe tbody tr th:only-of-type {\n",
       "        vertical-align: middle;\n",
       "    }\n",
       "\n",
       "    .dataframe tbody tr th {\n",
       "        vertical-align: top;\n",
       "    }\n",
       "\n",
       "    .dataframe thead th {\n",
       "        text-align: right;\n",
       "    }\n",
       "</style>\n",
       "<table border=\"1\" class=\"dataframe\">\n",
       "  <thead>\n",
       "    <tr style=\"text-align: right;\">\n",
       "      <th></th>\n",
       "      <th>income</th>\n",
       "      <th>age</th>\n",
       "      <th>loan</th>\n",
       "    </tr>\n",
       "  </thead>\n",
       "  <tbody>\n",
       "    <tr>\n",
       "      <th>0</th>\n",
       "      <td>1.453898</td>\n",
       "      <td>1.336861</td>\n",
       "      <td>1.201907</td>\n",
       "    </tr>\n",
       "    <tr>\n",
       "      <th>1</th>\n",
       "      <td>-0.762398</td>\n",
       "      <td>0.536639</td>\n",
       "      <td>0.695744</td>\n",
       "    </tr>\n",
       "    <tr>\n",
       "      <th>2</th>\n",
       "      <td>0.836733</td>\n",
       "      <td>1.637207</td>\n",
       "      <td>1.173812</td>\n",
       "    </tr>\n",
       "    <tr>\n",
       "      <th>3</th>\n",
       "      <td>-0.183244</td>\n",
       "      <td>0.362998</td>\n",
       "      <td>0.544366</td>\n",
       "    </tr>\n",
       "    <tr>\n",
       "      <th>4</th>\n",
       "      <td>1.509532</td>\n",
       "      <td>-1.631534</td>\n",
       "      <td>1.419754</td>\n",
       "    </tr>\n",
       "  </tbody>\n",
       "</table>\n",
       "</div>"
      ],
      "text/plain": [
       "     income       age      loan\n",
       "0  1.453898  1.336861  1.201907\n",
       "1 -0.762398  0.536639  0.695744\n",
       "2  0.836733  1.637207  1.173812\n",
       "3 -0.183244  0.362998  0.544366\n",
       "4  1.509532 -1.631534  1.419754"
      ]
     },
     "execution_count": 8,
     "metadata": {},
     "output_type": "execute_result"
    }
   ],
   "source": [
    "X.head()"
   ]
  },
  {
   "cell_type": "code",
   "execution_count": 9,
   "metadata": {},
   "outputs": [
    {
     "data": {
      "text/plain": [
       "0    0\n",
       "1    0\n",
       "2    0\n",
       "3    0\n",
       "4    1\n",
       "Name: c#default, dtype: int64"
      ]
     },
     "execution_count": 9,
     "metadata": {},
     "output_type": "execute_result"
    }
   ],
   "source": [
    "Y.head()"
   ]
  },
  {
   "cell_type": "code",
   "execution_count": 10,
   "metadata": {},
   "outputs": [
    {
     "name": "stdout",
     "output_type": "stream",
     "text": [
      "Colunas de X:  Index(['income', 'age', 'loan'], dtype='object')\n",
      "\n",
      "Colunas: \n",
      " [NumericColumn(key='income', shape=(1,), default_value=None, dtype=tf.float32, normalizer_fn=None), NumericColumn(key='age', shape=(1,), default_value=None, dtype=tf.float32, normalizer_fn=None), NumericColumn(key='loan', shape=(1,), default_value=None, dtype=tf.float32, normalizer_fn=None)]\n",
      "\n",
      "\n",
      " Colunas em partes:\n",
      "\n",
      "  NumericColumn(key='income', shape=(1,), default_value=None, dtype=tf.float32, normalizer_fn=None)\n",
      "\n",
      "  NumericColumn(key='age', shape=(1,), default_value=None, dtype=tf.float32, normalizer_fn=None)\n",
      "\n",
      "  NumericColumn(key='loan', shape=(1,), default_value=None, dtype=tf.float32, normalizer_fn=None)\n"
     ]
    }
   ],
   "source": [
    "# Criando as colunas\n",
    "colunas = [tf.feature_column.numeric_column(key = column) for column in X.columns]\n",
    "\n",
    "print(\"Colunas de X: \", X.columns)\n",
    "print(\"\\nColunas: \\n\", colunas)\n",
    "\n",
    "print(\"\\n\\n Colunas em partes:\")\n",
    "print(\"\\n \", colunas[0])\n",
    "print(\"\\n \", colunas[1])\n",
    "print(\"\\n \", colunas[2])"
   ]
  },
  {
   "cell_type": "code",
   "execution_count": 11,
   "metadata": {},
   "outputs": [
    {
     "name": "stdout",
     "output_type": "stream",
     "text": [
      "X_train:  (1397, 3)\n",
      "X_test:  (600, 3)\n",
      "Y_train:  (1397,)\n",
      "Y_test:  (600,)\n"
     ]
    }
   ],
   "source": [
    "# Separando conjunto de dados em treino e teste\n",
    "X_train, X_test, Y_train, Y_test = train_test_split(X, Y, test_size = 0.3, random_state = 0)\n",
    "\n",
    "# Analisando as dimensões\n",
    "print(\"X_train: \", X_train.shape)\n",
    "print(\"X_test: \", X_test.shape)\n",
    "print(\"Y_train: \", Y_train.shape)\n",
    "print(\"Y_test: \", Y_test.shape)"
   ]
  },
  {
   "cell_type": "code",
   "execution_count": null,
   "metadata": {},
   "outputs": [],
   "source": []
  },
  {
   "cell_type": "markdown",
   "metadata": {},
   "source": [
    "### Utilizando o estimator, teremos:\n"
   ]
  },
  {
   "cell_type": "code",
   "execution_count": 12,
   "metadata": {},
   "outputs": [
    {
     "name": "stdout",
     "output_type": "stream",
     "text": [
      "INFO:tensorflow:Using default config.\n",
      "WARNING:tensorflow:Using temporary folder as model directory: C:\\Users\\Natielle\\AppData\\Local\\Temp\\tmpsju0e3m1\n",
      "INFO:tensorflow:Using config: {'_model_dir': 'C:\\\\Users\\\\Natielle\\\\AppData\\\\Local\\\\Temp\\\\tmpsju0e3m1', '_tf_random_seed': None, '_save_summary_steps': 100, '_save_checkpoints_steps': None, '_save_checkpoints_secs': 600, '_session_config': allow_soft_placement: true\n",
      "graph_options {\n",
      "  rewrite_options {\n",
      "    meta_optimizer_iterations: ONE\n",
      "  }\n",
      "}\n",
      ", '_keep_checkpoint_max': 5, '_keep_checkpoint_every_n_hours': 10000, '_log_step_count_steps': 100, '_train_distribute': None, '_device_fn': None, '_protocol': None, '_eval_distribute': None, '_experimental_distribute': None, '_service': None, '_cluster_spec': <tensorflow.python.training.server_lib.ClusterSpec object at 0x0000013297EDC7F0>, '_task_type': 'worker', '_task_id': 0, '_global_id_in_cluster': 0, '_master': '', '_evaluation_master': '', '_is_chief': True, '_num_ps_replicas': 0, '_num_worker_replicas': 1}\n",
      "WARNING:tensorflow:From C:\\Users\\Natielle\\anaconda3\\envs\\tensorflow2_py37\\lib\\site-packages\\tensorflow\\python\\framework\\op_def_library.py:263: colocate_with (from tensorflow.python.framework.ops) is deprecated and will be removed in a future version.\n",
      "Instructions for updating:\n",
      "Colocations handled automatically by placer.\n",
      "WARNING:tensorflow:From C:\\Users\\Natielle\\anaconda3\\envs\\tensorflow2_py37\\lib\\site-packages\\tensorflow_estimator\\python\\estimator\\inputs\\queues\\feeding_queue_runner.py:62: QueueRunner.__init__ (from tensorflow.python.training.queue_runner_impl) is deprecated and will be removed in a future version.\n",
      "Instructions for updating:\n",
      "To construct input pipelines, use the `tf.data` module.\n",
      "WARNING:tensorflow:From C:\\Users\\Natielle\\anaconda3\\envs\\tensorflow2_py37\\lib\\site-packages\\tensorflow_estimator\\python\\estimator\\inputs\\queues\\feeding_functions.py:500: add_queue_runner (from tensorflow.python.training.queue_runner_impl) is deprecated and will be removed in a future version.\n",
      "Instructions for updating:\n",
      "To construct input pipelines, use the `tf.data` module.\n",
      "INFO:tensorflow:Calling model_fn.\n",
      "WARNING:tensorflow:From C:\\Users\\Natielle\\anaconda3\\envs\\tensorflow2_py37\\lib\\site-packages\\tensorflow\\python\\feature_column\\feature_column_v2.py:2703: to_float (from tensorflow.python.ops.math_ops) is deprecated and will be removed in a future version.\n",
      "Instructions for updating:\n",
      "Use tf.cast instead.\n",
      "INFO:tensorflow:Done calling model_fn.\n",
      "INFO:tensorflow:Create CheckpointSaverHook.\n",
      "INFO:tensorflow:Graph was finalized.\n",
      "INFO:tensorflow:Running local_init_op.\n",
      "INFO:tensorflow:Done running local_init_op.\n",
      "WARNING:tensorflow:From C:\\Users\\Natielle\\anaconda3\\envs\\tensorflow2_py37\\lib\\site-packages\\tensorflow\\python\\training\\monitored_session.py:809: start_queue_runners (from tensorflow.python.training.queue_runner_impl) is deprecated and will be removed in a future version.\n",
      "Instructions for updating:\n",
      "To construct input pipelines, use the `tf.data` module.\n",
      "INFO:tensorflow:Saving checkpoints for 0 into C:\\Users\\Natielle\\AppData\\Local\\Temp\\tmpsju0e3m1\\model.ckpt.\n",
      "INFO:tensorflow:loss = 5.591154, step = 1\n",
      "INFO:tensorflow:global_step/sec: 536.844\n",
      "INFO:tensorflow:loss = 2.7969265, step = 101 (0.233 sec)\n",
      "INFO:tensorflow:global_step/sec: 521.901\n",
      "INFO:tensorflow:loss = 1.0570407, step = 201 (0.145 sec)\n",
      "INFO:tensorflow:global_step/sec: 759.198\n",
      "INFO:tensorflow:loss = 2.0113113, step = 301 (0.132 sec)\n",
      "INFO:tensorflow:global_step/sec: 597.993\n",
      "INFO:tensorflow:loss = 1.164912, step = 401 (0.167 sec)\n",
      "INFO:tensorflow:global_step/sec: 759.985\n",
      "INFO:tensorflow:loss = 0.9598266, step = 501 (0.132 sec)\n",
      "INFO:tensorflow:global_step/sec: 654.115\n",
      "INFO:tensorflow:loss = 2.0245037, step = 601 (0.153 sec)\n",
      "INFO:tensorflow:global_step/sec: 679.977\n",
      "INFO:tensorflow:loss = 1.5338227, step = 701 (0.163 sec)\n",
      "INFO:tensorflow:global_step/sec: 659.197\n",
      "INFO:tensorflow:loss = 0.17299017, step = 801 (0.136 sec)\n",
      "INFO:tensorflow:global_step/sec: 757.43\n",
      "INFO:tensorflow:loss = 1.0056716, step = 901 (0.132 sec)\n",
      "INFO:tensorflow:Saving checkpoints for 1000 into C:\\Users\\Natielle\\AppData\\Local\\Temp\\tmpsju0e3m1\\model.ckpt.\n",
      "INFO:tensorflow:Loss for final step: 0.6973165.\n",
      "INFO:tensorflow:Calling model_fn.\n",
      "WARNING:tensorflow:From C:\\Users\\Natielle\\anaconda3\\envs\\tensorflow2_py37\\lib\\site-packages\\tensorflow\\python\\ops\\metrics_impl.py:2002: div (from tensorflow.python.ops.math_ops) is deprecated and will be removed in a future version.\n",
      "Instructions for updating:\n",
      "Deprecated in favor of operator or tf.math.divide.\n",
      "WARNING:tensorflow:Trapezoidal rule is known to produce incorrect PR-AUCs; please switch to \"careful_interpolation\" instead.\n",
      "WARNING:tensorflow:Trapezoidal rule is known to produce incorrect PR-AUCs; please switch to \"careful_interpolation\" instead.\n",
      "INFO:tensorflow:Done calling model_fn.\n",
      "INFO:tensorflow:Starting evaluation at 2020-05-12T18:23:06Z\n",
      "INFO:tensorflow:Graph was finalized.\n",
      "WARNING:tensorflow:From C:\\Users\\Natielle\\anaconda3\\envs\\tensorflow2_py37\\lib\\site-packages\\tensorflow\\python\\training\\saver.py:1266: checkpoint_exists (from tensorflow.python.training.checkpoint_management) is deprecated and will be removed in a future version.\n",
      "Instructions for updating:\n",
      "Use standard file APIs to check for files with this prefix.\n",
      "INFO:tensorflow:Restoring parameters from C:\\Users\\Natielle\\AppData\\Local\\Temp\\tmpsju0e3m1\\model.ckpt-1000\n",
      "INFO:tensorflow:Running local_init_op.\n",
      "INFO:tensorflow:Done running local_init_op.\n",
      "INFO:tensorflow:Evaluation [100/1000]\n",
      "INFO:tensorflow:Evaluation [200/1000]\n",
      "INFO:tensorflow:Evaluation [300/1000]\n",
      "INFO:tensorflow:Evaluation [400/1000]\n",
      "INFO:tensorflow:Evaluation [500/1000]\n",
      "INFO:tensorflow:Evaluation [600/1000]\n",
      "INFO:tensorflow:Evaluation [700/1000]\n",
      "INFO:tensorflow:Evaluation [800/1000]\n",
      "INFO:tensorflow:Evaluation [900/1000]\n",
      "INFO:tensorflow:Evaluation [1000/1000]\n",
      "INFO:tensorflow:Finished evaluation at 2020-05-12-18:23:09\n",
      "INFO:tensorflow:Saving dict for global step 1000: accuracy = 0.976125, accuracy_baseline = 0.8635, auc = 0.99939424, auc_precision_recall = 0.9962846, average_loss = 0.09886774, global_step = 1000, label/mean = 0.1365, loss = 0.7909419, precision = 1.0, prediction/mean = 0.09680026, recall = 0.8250916\n",
      "INFO:tensorflow:Saving 'checkpoint_path' summary for global step 1000: C:\\Users\\Natielle\\AppData\\Local\\Temp\\tmpsju0e3m1\\model.ckpt-1000\n",
      "{'accuracy': 0.976125, 'accuracy_baseline': 0.8635, 'auc': 0.99939424, 'auc_precision_recall': 0.9962846, 'average_loss': 0.09886774, 'label/mean': 0.1365, 'loss': 0.7909419, 'precision': 1.0, 'prediction/mean': 0.09680026, 'recall': 0.8250916, 'global_step': 1000}\n"
     ]
    }
   ],
   "source": [
    "funcao_treinamento = tf.estimator.inputs.pandas_input_fn(x = X_train,\n",
    "                                                        y = Y_train,\n",
    "                                                        batch_size = 8, \n",
    "                                                        num_epochs = None,\n",
    "                                                        shuffle = True)\n",
    "\n",
    "classificador = tf.estimator.DNNClassifier(feature_columns = colunas, hidden_units = [4, 4])\n",
    "classificador.train(input_fn = funcao_treinamento, steps = 1000)\n",
    "\n",
    "funcao_teste = tf.estimator.inputs.pandas_input_fn(x = X_test, y = Y_test,\n",
    "                                              batch_size = 8, num_epochs = 1000,\n",
    "                                              shuffle = False)\n",
    "\n",
    "metricas_teste = classificador.evaluate(input_fn = funcao_teste, steps = 1000)\n",
    "print(\"\\n\")\n",
    "print(metricas_teste)"
   ]
  },
  {
   "cell_type": "code",
   "execution_count": null,
   "metadata": {},
   "outputs": [],
   "source": []
  },
  {
   "cell_type": "markdown",
   "metadata": {},
   "source": [
    "## Aplicando o autoencoder"
   ]
  },
  {
   "cell_type": "code",
   "execution_count": 13,
   "metadata": {},
   "outputs": [],
   "source": [
    "# Criando as quantidades de neurônios\n",
    "neuronios_entrada = 3\n",
    "neuronios_oculta = 2\n",
    "neuronios_saida = neuronios_entrada\n",
    "# 3 -> 2: Estamos reduzindo a dimensionalidade\n",
    "# 2 -> 3: Estamos aumentando a dimensionalidade"
   ]
  },
  {
   "cell_type": "code",
   "execution_count": 14,
   "metadata": {},
   "outputs": [],
   "source": [
    "# Criando o placeholder\n",
    "xph = tf.placeholder(tf.float32, shape = [None, neuronios_entrada])"
   ]
  },
  {
   "cell_type": "code",
   "execution_count": 18,
   "metadata": {},
   "outputs": [],
   "source": [
    "# Criando os autoenconders\n",
    "# fully_connected -> significa que é uma rede neural densa, onde todos neurônios conectam com todos da próxima camada\n",
    "camada_oculta = fully_connected(inputs = xph, # camada de entrada, pois a camada anterior a camada oculta é a de entrada\n",
    "                                num_outputs = neuronios_oculta, \n",
    "                                activation_fn = None) # não estamos realizando a aplicação de função de ativação\n",
    "camada_saida = fully_connected(inputs = camada_oculta, # pois a camada anterior a camada de saída é a oculta\n",
    "                               num_outputs = neuronios_saida)  "
   ]
  },
  {
   "cell_type": "code",
   "execution_count": 19,
   "metadata": {},
   "outputs": [],
   "source": [
    "# Calculando o erro\n",
    "erro = tf.losses.mean_squared_error(labels = xph, # vamos comparar com a camada de entrada \n",
    "                                    predictions = camada_saida)\n",
    "otimizador = tf.train.AdamOptimizer(0.01)\n",
    "treinamento = otimizador.minimize(erro) # Minimizando o erro"
   ]
  },
  {
   "cell_type": "code",
   "execution_count": 23,
   "metadata": {},
   "outputs": [
    {
     "name": "stdout",
     "output_type": "stream",
     "text": [
      "erro: 1.5069944\n",
      "erro: 0.63135266\n",
      "erro: 0.58495986\n",
      "erro: 0.57598567\n",
      "erro: 0.56560844\n",
      "erro: 0.5622058\n",
      "erro: 0.56118125\n",
      "erro: 0.5606759\n",
      "erro: 0.560444\n",
      "erro: 0.5603169\n",
      "\n",
      "Podemos observar que o erro vai diminuindo com o treinamento.\n",
      "\n",
      "\n",
      "X2d_encode: \n",
      " [[ 0.45600998 -1.9151399 ]\n",
      " [-0.61302245 -0.7591479 ]\n",
      " [-0.32221293 -2.4142435 ]\n",
      " ...\n",
      " [ 1.2235609   1.5854264 ]\n",
      " [-2.4051116  -2.590667  ]\n",
      " [ 0.69061357 -1.5787902 ]]\n",
      "\n",
      "\n",
      "X3d_decode: \n",
      " [[1.1692138  1.3354464  1.5597486 ]\n",
      " [0.16800143 0.54655224 0.        ]\n",
      " [0.92065716 1.6398203  1.0573995 ]\n",
      " ...\n",
      " [0.33660334 0.         0.        ]\n",
      " [0.         1.6945755  0.        ]\n",
      " [1.1775469  1.1218553  1.5665538 ]]\n"
     ]
    }
   ],
   "source": [
    "# Executando tudo de fato\n",
    "with tf.Session() as sess:\n",
    "    sess.run(tf.global_variables_initializer())\n",
    "    \n",
    "    # realizando o treinamento\n",
    "    for epoca in range(1000):\n",
    "        custo, _ = sess.run([erro, treinamento], feed_dict = {xph: X})\n",
    "        if epoca % 100 == 0:\n",
    "            print('erro: ' + str(custo))\n",
    "            \n",
    "    print('\\nPodemos observar que o erro vai diminuindo com o treinamento.\\n')\n",
    "            \n",
    "    # \n",
    "    X2d_encode = sess.run(camada_oculta, feed_dict = {xph: X})\n",
    "    X3d_decode = sess.run(camada_saida, feed_dict = {xph: X})\n",
    "    \n",
    "    print(\"\\nX2d_encode: \\n\", X2d_encode)\n",
    "    print(\"\\n\\nX3d_decode: \\n\", X3d_decode)"
   ]
  },
  {
   "cell_type": "markdown",
   "metadata": {},
   "source": [
    "Podemos observar que X2d_encode possui 2 dimensões, enquanto que o X3d_decode possui 3 dimensões.\n",
    "\n",
    "Ao observarmos X2d_encode, vemos os dados codificados.\n",
    "\n",
    "Ao observarmos X3d_decode, vemos uma aproximação dos dados de entradas."
   ]
  },
  {
   "cell_type": "code",
   "execution_count": 24,
   "metadata": {},
   "outputs": [
    {
     "name": "stdout",
     "output_type": "stream",
     "text": [
      "Dimensão de X2d_encode: (1997, 2)\n",
      "Dimensão de X3d_decode: (1997, 3)\n"
     ]
    }
   ],
   "source": [
    "print(\"Dimensão de X2d_encode:\", X2d_encode.shape)\n",
    "print(\"Dimensão de X3d_decode:\", X3d_decode.shape)"
   ]
  },
  {
   "cell_type": "code",
   "execution_count": 26,
   "metadata": {},
   "outputs": [
    {
     "name": "stdout",
     "output_type": "stream",
     "text": [
      "Despadronizando os dados reais...\n",
      " [[6.61559251e+04 5.90170151e+01 8.10653213e+03]\n",
      " [3.44151540e+04 4.81171531e+01 6.56474502e+03]\n",
      " [5.73171701e+04 6.31080495e+01 8.02095330e+03]\n",
      " ...\n",
      " [4.43114493e+04 2.80171669e+01 5.52278669e+03]\n",
      " [4.37560566e+04 6.39717958e+01 1.62272260e+03]\n",
      " [6.94365796e+04 5.61526170e+01 7.37883360e+03]]\n",
      "\n",
      "\n",
      "Despadronizando os dados previstos...\n",
      " [[6.2078812e+04 5.8997749e+01 9.1965283e+03]\n",
      " [4.7739902e+04 4.8252178e+01 4.4454878e+03]\n",
      " [5.8519098e+04 6.3143646e+01 7.6663579e+03]\n",
      " ...\n",
      " [5.0154543e+04 4.0807560e+01 4.4454878e+03]\n",
      " [4.5333863e+04 6.3889469e+01 4.4454878e+03]\n",
      " [6.2198152e+04 5.6088413e+01 9.2172568e+03]]\n"
     ]
    }
   ],
   "source": [
    "# Agora vamos despadronizar os dados reais e os previsto\n",
    "X2 = scaler_x.inverse_transform(X)\n",
    "print(\"Despadronizando os dados reais...\\n\", X2)\n",
    "\n",
    "X3d_decode2 = scaler_x.inverse_transform(X3d_decode)\n",
    "print(\"\\n\\nDespadronizando os dados previstos...\\n\", X3d_decode2)"
   ]
  },
  {
   "cell_type": "code",
   "execution_count": 29,
   "metadata": {},
   "outputs": [
    {
     "name": "stdout",
     "output_type": "stream",
     "text": [
      "\n",
      "Erro absoluto sobre o atributo income:  9416.715524792195\n",
      "\n",
      "Erro absoluto sobre o atributo age:  5.870525778826694\n",
      "\n",
      "Erro absoluto sobre o atributo loan:  1799.1941119359963\n"
     ]
    }
   ],
   "source": [
    "# Calculando os erros APLICANDO NOS DADOS SEM REDUÇÃO DA DIMENSIONALIDADE\n",
    "mae_income = mean_absolute_error(X2[:,0], X3d_decode2[:,0])\n",
    "print(\"\\nErro absoluto sobre o atributo income: \", mae_income)\n",
    "\n",
    "mae_age = mean_absolute_error(X2[:,1], X3d_decode2[:,1])\n",
    "print(\"\\nErro absoluto sobre o atributo age: \", mae_age)\n",
    "\n",
    "mae_loan = mean_absolute_error(X2[:,2], X3d_decode2[:,2])\n",
    "print(\"\\nErro absoluto sobre o atributo loan: \", mae_loan)"
   ]
  },
  {
   "cell_type": "code",
   "execution_count": 31,
   "metadata": {},
   "outputs": [
    {
     "data": {
      "text/html": [
       "<div>\n",
       "<style scoped>\n",
       "    .dataframe tbody tr th:only-of-type {\n",
       "        vertical-align: middle;\n",
       "    }\n",
       "\n",
       "    .dataframe tbody tr th {\n",
       "        vertical-align: top;\n",
       "    }\n",
       "\n",
       "    .dataframe thead th {\n",
       "        text-align: right;\n",
       "    }\n",
       "</style>\n",
       "<table border=\"1\" class=\"dataframe\">\n",
       "  <thead>\n",
       "    <tr style=\"text-align: right;\">\n",
       "      <th></th>\n",
       "      <th>atributo1</th>\n",
       "      <th>atributo2</th>\n",
       "      <th>classe</th>\n",
       "    </tr>\n",
       "  </thead>\n",
       "  <tbody>\n",
       "    <tr>\n",
       "      <th>0</th>\n",
       "      <td>0.456010</td>\n",
       "      <td>-1.915140</td>\n",
       "      <td>0</td>\n",
       "    </tr>\n",
       "    <tr>\n",
       "      <th>1</th>\n",
       "      <td>-0.613022</td>\n",
       "      <td>-0.759148</td>\n",
       "      <td>0</td>\n",
       "    </tr>\n",
       "    <tr>\n",
       "      <th>2</th>\n",
       "      <td>-0.322213</td>\n",
       "      <td>-2.414243</td>\n",
       "      <td>0</td>\n",
       "    </tr>\n",
       "    <tr>\n",
       "      <th>3</th>\n",
       "      <td>-0.109995</td>\n",
       "      <td>-0.464085</td>\n",
       "      <td>0</td>\n",
       "    </tr>\n",
       "    <tr>\n",
       "      <th>4</th>\n",
       "      <td>3.768131</td>\n",
       "      <td>2.760334</td>\n",
       "      <td>1</td>\n",
       "    </tr>\n",
       "  </tbody>\n",
       "</table>\n",
       "</div>"
      ],
      "text/plain": [
       "   atributo1  atributo2  classe\n",
       "0   0.456010  -1.915140       0\n",
       "1  -0.613022  -0.759148       0\n",
       "2  -0.322213  -2.414243       0\n",
       "3  -0.109995  -0.464085       0\n",
       "4   3.768131   2.760334       1"
      ]
     },
     "execution_count": 31,
     "metadata": {},
     "output_type": "execute_result"
    }
   ],
   "source": [
    "# AGORA VAMOS APLICAR O ALGORITMO COM OS DADOS COM DIMENSIONALIDADE REDUZIDA\n",
    "X_encode = pd.DataFrame({'atributo1': X2d_encode[:,0], 'atributo2': X2d_encode[:,1], 'classe': Y})\n",
    "X_encode.head()"
   ]
  },
  {
   "cell_type": "code",
   "execution_count": 32,
   "metadata": {},
   "outputs": [
    {
     "name": "stdout",
     "output_type": "stream",
     "text": [
      "INFO:tensorflow:Using default config.\n",
      "WARNING:tensorflow:Using temporary folder as model directory: C:\\Users\\Natielle\\AppData\\Local\\Temp\\tmpxu5mpped\n",
      "INFO:tensorflow:Using config: {'_model_dir': 'C:\\\\Users\\\\Natielle\\\\AppData\\\\Local\\\\Temp\\\\tmpxu5mpped', '_tf_random_seed': None, '_save_summary_steps': 100, '_save_checkpoints_steps': None, '_save_checkpoints_secs': 600, '_session_config': allow_soft_placement: true\n",
      "graph_options {\n",
      "  rewrite_options {\n",
      "    meta_optimizer_iterations: ONE\n",
      "  }\n",
      "}\n",
      ", '_keep_checkpoint_max': 5, '_keep_checkpoint_every_n_hours': 10000, '_log_step_count_steps': 100, '_train_distribute': None, '_device_fn': None, '_protocol': None, '_eval_distribute': None, '_experimental_distribute': None, '_service': None, '_cluster_spec': <tensorflow.python.training.server_lib.ClusterSpec object at 0x000001329C971DA0>, '_task_type': 'worker', '_task_id': 0, '_global_id_in_cluster': 0, '_master': '', '_evaluation_master': '', '_is_chief': True, '_num_ps_replicas': 0, '_num_worker_replicas': 1}\n",
      "INFO:tensorflow:Calling model_fn.\n",
      "INFO:tensorflow:Done calling model_fn.\n",
      "INFO:tensorflow:Create CheckpointSaverHook.\n",
      "INFO:tensorflow:Graph was finalized.\n",
      "INFO:tensorflow:Running local_init_op.\n",
      "INFO:tensorflow:Done running local_init_op.\n",
      "INFO:tensorflow:Saving checkpoints for 0 into C:\\Users\\Natielle\\AppData\\Local\\Temp\\tmpxu5mpped\\model.ckpt.\n",
      "INFO:tensorflow:loss = 5.985653, step = 1\n",
      "INFO:tensorflow:global_step/sec: 553.23\n",
      "INFO:tensorflow:loss = 0.9640877, step = 101 (0.181 sec)\n",
      "INFO:tensorflow:global_step/sec: 667.418\n",
      "INFO:tensorflow:loss = 0.14435795, step = 201 (0.154 sec)\n",
      "INFO:tensorflow:global_step/sec: 600.698\n",
      "INFO:tensorflow:loss = 0.09231204, step = 301 (0.162 sec)\n",
      "INFO:tensorflow:global_step/sec: 644.61\n",
      "INFO:tensorflow:loss = 0.06033341, step = 401 (0.158 sec)\n",
      "INFO:tensorflow:global_step/sec: 770.336\n",
      "INFO:tensorflow:loss = 0.04641237, step = 501 (0.127 sec)\n",
      "INFO:tensorflow:global_step/sec: 737.984\n",
      "INFO:tensorflow:loss = 0.02317165, step = 601 (0.151 sec)\n",
      "INFO:tensorflow:global_step/sec: 525.097\n",
      "INFO:tensorflow:loss = 0.018591534, step = 701 (0.179 sec)\n",
      "INFO:tensorflow:global_step/sec: 614.964\n",
      "INFO:tensorflow:loss = 0.018809902, step = 801 (0.159 sec)\n",
      "INFO:tensorflow:global_step/sec: 698.524\n",
      "INFO:tensorflow:loss = 0.017878037, step = 901 (0.145 sec)\n",
      "INFO:tensorflow:Saving checkpoints for 1000 into C:\\Users\\Natielle\\AppData\\Local\\Temp\\tmpxu5mpped\\model.ckpt.\n",
      "INFO:tensorflow:Loss for final step: 0.008754011.\n",
      "INFO:tensorflow:Calling model_fn.\n",
      "WARNING:tensorflow:Trapezoidal rule is known to produce incorrect PR-AUCs; please switch to \"careful_interpolation\" instead.\n",
      "WARNING:tensorflow:Trapezoidal rule is known to produce incorrect PR-AUCs; please switch to \"careful_interpolation\" instead.\n",
      "INFO:tensorflow:Done calling model_fn.\n",
      "INFO:tensorflow:Starting evaluation at 2020-05-12T18:58:30Z\n",
      "INFO:tensorflow:Graph was finalized.\n",
      "INFO:tensorflow:Restoring parameters from C:\\Users\\Natielle\\AppData\\Local\\Temp\\tmpxu5mpped\\model.ckpt-1000\n",
      "INFO:tensorflow:Running local_init_op.\n",
      "INFO:tensorflow:Done running local_init_op.\n",
      "INFO:tensorflow:Evaluation [100/1000]\n",
      "INFO:tensorflow:Evaluation [200/1000]\n",
      "INFO:tensorflow:Evaluation [300/1000]\n",
      "INFO:tensorflow:Evaluation [400/1000]\n",
      "INFO:tensorflow:Evaluation [500/1000]\n",
      "INFO:tensorflow:Evaluation [600/1000]\n",
      "INFO:tensorflow:Evaluation [700/1000]\n",
      "INFO:tensorflow:Evaluation [800/1000]\n",
      "INFO:tensorflow:Evaluation [900/1000]\n",
      "INFO:tensorflow:Evaluation [1000/1000]\n",
      "INFO:tensorflow:Finished evaluation at 2020-05-12-18:58:32\n",
      "INFO:tensorflow:Saving dict for global step 1000: accuracy = 1.0, accuracy_baseline = 0.8635, auc = 1.0, auc_precision_recall = 1.0, average_loss = 0.001915068, global_step = 1000, label/mean = 0.1365, loss = 0.015320544, precision = 1.0, prediction/mean = 0.13701093, recall = 1.0\n",
      "INFO:tensorflow:Saving 'checkpoint_path' summary for global step 1000: C:\\Users\\Natielle\\AppData\\Local\\Temp\\tmpxu5mpped\\model.ckpt-1000\n"
     ]
    },
    {
     "data": {
      "text/plain": [
       "{'accuracy': 1.0,\n",
       " 'accuracy_baseline': 0.8635,\n",
       " 'auc': 1.0,\n",
       " 'auc_precision_recall': 1.0,\n",
       " 'average_loss': 0.001915068,\n",
       " 'label/mean': 0.1365,\n",
       " 'loss': 0.015320544,\n",
       " 'precision': 1.0,\n",
       " 'prediction/mean': 0.13701093,\n",
       " 'recall': 1.0,\n",
       " 'global_step': 1000}"
      ]
     },
     "execution_count": 32,
     "metadata": {},
     "output_type": "execute_result"
    }
   ],
   "source": [
    "# TREINANDO E CLASSIFICANDO COM OS DADOS DE 2 DIMENSÕES (DIMENSÕES REDUZIDAS)\n",
    "colunas = [tf.feature_column.numeric_column(key = column) for column in X_encode.columns]\n",
    "\n",
    "# Separando em treino e teste\n",
    "X_treinamento, X_teste, Y_treinamento, Y_teste = train_test_split(X_encode, Y, \n",
    "                                                                  test_size = 0.3, random_state = 0)\n",
    "\n",
    "# Treinando\n",
    "funcao_treinamento = tf.estimator.inputs.pandas_input_fn(x = X_treinamento,\n",
    "                                                        y = Y_treinamento,\n",
    "                                                        batch_size = 8, \n",
    "                                                        num_epochs = None,\n",
    "                                                        shuffle = True)\n",
    "\n",
    "# Criando o classificador\n",
    "classificador = tf.estimator.DNNClassifier(feature_columns = colunas, hidden_units = [4, 4])\n",
    "classificador.train(input_fn = funcao_treinamento, steps = 1000)\n",
    "\n",
    "# Testando\n",
    "funcao_teste = tf.estimator.inputs.pandas_input_fn(x = X_teste, y = Y_teste,\n",
    "                                              batch_size = 8, num_epochs = 1000,\n",
    "                                              shuffle = False)\n",
    "\n",
    "# Calculando os erros aplicando nos dados COM REDUÇÃO DA DIMENSIONALIDADE\n",
    "metricas_teste = classificador.evaluate(input_fn = funcao_teste, steps = 1000)\n",
    "metricas_teste\n",
    "\n",
    "\n",
    "\n",
    "\n"
   ]
  },
  {
   "cell_type": "markdown",
   "metadata": {},
   "source": [
    "Podemos observar que quando aplicamos nos dados com dimensão reduzida, o desempenho (neste caso e com o parâmetros que utilizamos) é melhor do que quando aplicamos nos dados com as dimensões originais."
   ]
  },
  {
   "cell_type": "code",
   "execution_count": null,
   "metadata": {},
   "outputs": [],
   "source": []
  }
 ],
 "metadata": {
  "kernelspec": {
   "display_name": "tensorflow2_py37",
   "language": "python",
   "name": "tensorflow2_py37"
  },
  "language_info": {
   "codemirror_mode": {
    "name": "ipython",
    "version": 3
   },
   "file_extension": ".py",
   "mimetype": "text/x-python",
   "name": "python",
   "nbconvert_exporter": "python",
   "pygments_lexer": "ipython3",
   "version": "3.6.10"
  }
 },
 "nbformat": 4,
 "nbformat_minor": 4
}
