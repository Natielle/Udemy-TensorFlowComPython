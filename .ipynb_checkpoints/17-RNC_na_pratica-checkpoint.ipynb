{
 "cells": [
  {
   "cell_type": "code",
   "execution_count": 1,
   "metadata": {},
   "outputs": [
    {
     "name": "stderr",
     "output_type": "stream",
     "text": [
      "C:\\Users\\Natielle\\anaconda3\\envs\\tensorflow2_py37\\lib\\site-packages\\tensorflow\\python\\framework\\dtypes.py:526: FutureWarning: Passing (type, 1) or '1type' as a synonym of type is deprecated; in a future version of numpy, it will be understood as (type, (1,)) / '(1,)type'.\n",
      "  _np_qint8 = np.dtype([(\"qint8\", np.int8, 1)])\n",
      "C:\\Users\\Natielle\\anaconda3\\envs\\tensorflow2_py37\\lib\\site-packages\\tensorflow\\python\\framework\\dtypes.py:527: FutureWarning: Passing (type, 1) or '1type' as a synonym of type is deprecated; in a future version of numpy, it will be understood as (type, (1,)) / '(1,)type'.\n",
      "  _np_quint8 = np.dtype([(\"quint8\", np.uint8, 1)])\n",
      "C:\\Users\\Natielle\\anaconda3\\envs\\tensorflow2_py37\\lib\\site-packages\\tensorflow\\python\\framework\\dtypes.py:528: FutureWarning: Passing (type, 1) or '1type' as a synonym of type is deprecated; in a future version of numpy, it will be understood as (type, (1,)) / '(1,)type'.\n",
      "  _np_qint16 = np.dtype([(\"qint16\", np.int16, 1)])\n",
      "C:\\Users\\Natielle\\anaconda3\\envs\\tensorflow2_py37\\lib\\site-packages\\tensorflow\\python\\framework\\dtypes.py:529: FutureWarning: Passing (type, 1) or '1type' as a synonym of type is deprecated; in a future version of numpy, it will be understood as (type, (1,)) / '(1,)type'.\n",
      "  _np_quint16 = np.dtype([(\"quint16\", np.uint16, 1)])\n",
      "C:\\Users\\Natielle\\anaconda3\\envs\\tensorflow2_py37\\lib\\site-packages\\tensorflow\\python\\framework\\dtypes.py:530: FutureWarning: Passing (type, 1) or '1type' as a synonym of type is deprecated; in a future version of numpy, it will be understood as (type, (1,)) / '(1,)type'.\n",
      "  _np_qint32 = np.dtype([(\"qint32\", np.int32, 1)])\n",
      "C:\\Users\\Natielle\\anaconda3\\envs\\tensorflow2_py37\\lib\\site-packages\\tensorflow\\python\\framework\\dtypes.py:535: FutureWarning: Passing (type, 1) or '1type' as a synonym of type is deprecated; in a future version of numpy, it will be understood as (type, (1,)) / '(1,)type'.\n",
      "  np_resource = np.dtype([(\"resource\", np.ubyte, 1)])\n"
     ]
    }
   ],
   "source": [
    "import numpy as np\n",
    "from tensorflow.examples.tutorials.mnist import input_data\n",
    "import matplotlib.pyplot as plt\n",
    "import tensorflow as tf"
   ]
  },
  {
   "cell_type": "markdown",
   "metadata": {},
   "source": [
    "O objetivo é adivinhar qual é o dígito através da imagem. Banco de dados da Mnist. Pode ser encontrado em: http://yann.lecun.com/exdb/mnist/\n",
    "\n",
    "Nesse exemplo iremos criar nosso próprio estimator, pois nos exemplos anteriores utilizamos o DNNClassifier, LinearClassifier, entre outros.\n",
    "\n",
    "E Vamos utilizar o high level api do tensorflow que já possui algumas funções definidas para realizarmos a convolução, por exemplo."
   ]
  },
  {
   "cell_type": "code",
   "execution_count": 2,
   "metadata": {},
   "outputs": [
    {
     "name": "stdout",
     "output_type": "stream",
     "text": [
      "WARNING:tensorflow:From <ipython-input-2-de4c8b48dbd5>:3: read_data_sets (from tensorflow.contrib.learn.python.learn.datasets.mnist) is deprecated and will be removed in a future version.\n",
      "Instructions for updating:\n",
      "Please use alternatives such as official/mnist/dataset.py from tensorflow/models.\n",
      "WARNING:tensorflow:From C:\\Users\\Natielle\\anaconda3\\envs\\tensorflow2_py37\\lib\\site-packages\\tensorflow\\contrib\\learn\\python\\learn\\datasets\\mnist.py:260: maybe_download (from tensorflow.contrib.learn.python.learn.datasets.base) is deprecated and will be removed in a future version.\n",
      "Instructions for updating:\n",
      "Please write your own downloading logic.\n",
      "WARNING:tensorflow:From C:\\Users\\Natielle\\anaconda3\\envs\\tensorflow2_py37\\lib\\site-packages\\tensorflow\\contrib\\learn\\python\\learn\\datasets\\mnist.py:262: extract_images (from tensorflow.contrib.learn.python.learn.datasets.mnist) is deprecated and will be removed in a future version.\n",
      "Instructions for updating:\n",
      "Please use tf.data to implement this functionality.\n",
      "Extracting mnist/train-images-idx3-ubyte.gz\n",
      "WARNING:tensorflow:From C:\\Users\\Natielle\\anaconda3\\envs\\tensorflow2_py37\\lib\\site-packages\\tensorflow\\contrib\\learn\\python\\learn\\datasets\\mnist.py:267: extract_labels (from tensorflow.contrib.learn.python.learn.datasets.mnist) is deprecated and will be removed in a future version.\n",
      "Instructions for updating:\n",
      "Please use tf.data to implement this functionality.\n",
      "Extracting mnist/train-labels-idx1-ubyte.gz\n",
      "Extracting mnist/t10k-images-idx3-ubyte.gz\n",
      "Extracting mnist/t10k-labels-idx1-ubyte.gz\n",
      "WARNING:tensorflow:From C:\\Users\\Natielle\\anaconda3\\envs\\tensorflow2_py37\\lib\\site-packages\\tensorflow\\contrib\\learn\\python\\learn\\datasets\\mnist.py:290: DataSet.__init__ (from tensorflow.contrib.learn.python.learn.datasets.mnist) is deprecated and will be removed in a future version.\n",
      "Instructions for updating:\n",
      "Please use alternatives such as official/mnist/dataset.py from tensorflow/models.\n"
     ]
    }
   ],
   "source": [
    "# Lendo as imagens e fazendo download\n",
    "mnist = input_data.read_data_sets('mnist/', # As imagens ficarão nesse diretório \n",
    "                                  one_hot = False) # Não faz a categorização \"binária\" de múltiplas classes\n"
   ]
  },
  {
   "cell_type": "code",
   "execution_count": 3,
   "metadata": {},
   "outputs": [
    {
     "name": "stdout",
     "output_type": "stream",
     "text": [
      "X_train:  (55000, 784)\n",
      "X_test:  (10000, 784)\n",
      "Y_train:  (55000,)\n",
      "Y_test:  (10000,)\n"
     ]
    }
   ],
   "source": [
    "# Separando os dados em treino e teste\n",
    "X_train = mnist.train.images\n",
    "Y_train = mnist.train.labels\n",
    "X_test  = mnist.test.images\n",
    "Y_test  = mnist.test.labels\n",
    "\n",
    "# Analisando as dimensões\n",
    "print(\"X_train: \", X_train.shape)\n",
    "print(\"X_test: \", X_test.shape)\n",
    "print(\"Y_train: \", Y_train.shape)\n",
    "print(\"Y_test: \", Y_test.shape)"
   ]
  },
  {
   "cell_type": "markdown",
   "metadata": {},
   "source": [
    "Nota-se que as imagens possuem 28x28 de dimensão, logo as imagens possuem 28*28=784 atributos.\n",
    "\n",
    "Aliás, podemos ver abaixo que os dados já estão normalizados pois os valores vem em escala de 0 a 255. Então não vamos precisar normalizar o banco porque isso já está sendo realizado."
   ]
  },
  {
   "cell_type": "code",
   "execution_count": 4,
   "metadata": {},
   "outputs": [
    {
     "data": {
      "text/plain": [
       "array([7, 3, 4, ..., 5, 6, 8], dtype=uint8)"
      ]
     },
     "execution_count": 4,
     "metadata": {},
     "output_type": "execute_result"
    }
   ],
   "source": [
    "# Analizando os valores que temos em Y já que deixamos one_hot = false\n",
    "Y_train"
   ]
  },
  {
   "cell_type": "markdown",
   "metadata": {},
   "source": [
    "Podemos que não está em formato de zeros e uns."
   ]
  },
  {
   "cell_type": "code",
   "execution_count": 5,
   "metadata": {},
   "outputs": [
    {
     "data": {
      "text/plain": [
       "array([[0., 0., 0., ..., 0., 0., 0.],\n",
       "       [0., 0., 0., ..., 0., 0., 0.],\n",
       "       [0., 0., 0., ..., 0., 0., 0.],\n",
       "       ...,\n",
       "       [0., 0., 0., ..., 0., 0., 0.],\n",
       "       [0., 0., 0., ..., 0., 0., 0.],\n",
       "       [0., 0., 0., ..., 0., 0., 0.]], dtype=float32)"
      ]
     },
     "execution_count": 5,
     "metadata": {},
     "output_type": "execute_result"
    }
   ],
   "source": [
    "# Analizando os valores que temos em X\n",
    "X_train"
   ]
  },
  {
   "cell_type": "code",
   "execution_count": 6,
   "metadata": {},
   "outputs": [
    {
     "data": {
      "text/plain": [
       "Text(0.5, 1.0, 'Classe: 1')"
      ]
     },
     "execution_count": 6,
     "metadata": {},
     "output_type": "execute_result"
    },
    {
     "data": {
      "image/png": "[encoded data removed]",
      "text/plain": [
       "<Figure size 432x288 with 1 Axes>"
      ]
     },
     "metadata": {
      "needs_background": "light"
     },
     "output_type": "display_data"
    }
   ],
   "source": [
    "# Agora vamos observar de fato alguma imagem carregada\n",
    "%matplotlib inline\n",
    "indice_imagem = 4\n",
    "plt.imshow(X_train[indice_imagem].reshape((28,28)), cmap = 'gray') # em esscala de cinza\n",
    "plt.title('Classe: ' + str(Y_train[indice_imagem]))\n",
    "\n",
    "# Obs: temos que fazer o reshape ali acima porque os atributos da imagem (em X) \n",
    "# está como se fosse um vetor. E para plotarmos uma imagem, precisamos deixar no formato de matriz"
   ]
  },
  {
   "cell_type": "markdown",
   "metadata": {},
   "source": [
    "Para que a gente faça o modelo do classificador, precisamos passar uma função para o estimator. Pois nesse exemplo, vamos fazer a nossa própria\n",
    "\n",
    "Com isso vamos criar uma função que tem alguns parâmetros obrigatórios.\n",
    "Os parâmetros são: \n",
    "- features (representa os atributos)\n",
    "- labels (representa as classes)\n",
    "\n",
    "Há também parâmetros opcionais, como o: \n",
    "- mode.\n",
    "\n",
    "O mode indica como está sendo rodada a função. Se é para treinar, testar ou prever. **É importante notar que o mode é passado implicitamente. Ou seja, dependendo da função que você utilizar ele vai passar um valor específico.**\n",
    "\n",
    "\n",
    "*Exemplo:*\n",
    "Se utilizar a função train, mode será o modo TRAIN(treino) e não EVAL(teste). Nem PREDICT(predição).\n",
    "\n",
    "\n",
    "E Nota-se que os nomes precisam ser exatamente assim.\n",
    "\n",
    "E a função deve retornar um objeto do tipo EstimatorSpec! Porém, para conseguirmos construir um objeto desse tipo precisamos definir todo o processo de convolução, pooling e flattening.\n"
   ]
  },
  {
   "cell_type": "markdown",
   "metadata": {},
   "source": [
    "## Aqui vamos fazer apenas um exemplo para treinamento"
   ]
  },
  {
   "cell_type": "code",
   "execution_count": 11,
   "metadata": {},
   "outputs": [],
   "source": [
    "# Então vamos fazer a função que utilizaremos com o estimator\n",
    "def cria_rede_train(features, labels, mode):\n",
    "    # Precisamos definir a camada de entrada dos dados (nesse caso é a imagem)\n",
    "    # Estrutura do reshape: batch_size, largura, altura, canais -> [-1, 28, 28, 1]\n",
    "    entrada = tf.reshape(features['X'], [-1, 28, 28, 1])\n",
    "    \n",
    "    \n",
    "    # ----------------------------------------------------\n",
    "    #       APLICAÇÃO A CONVOLUÇÃO E POOLING\n",
    "    # ----------------------------------------------------\n",
    "    # Nessa implementação vamos fazer duas camadas de convolução. \n",
    "    # E para cada camada de convolução teremos uma camada de pooling. Então faremos em pares.\n",
    "    \n",
    "    # --------------------------\n",
    "    #       CAMADA 1\n",
    "    # --------------------------\n",
    "    # Estamos fazendo a 1° camada de convolução\n",
    "    # recebe [batch_size, 28, 28, 1] -> [batch_size, largura, altura, canais]\n",
    "    # retorna [batch_size, 28, 28, 32] -> [batch_size, largura, altura, canais]\n",
    "    convolucao1 = tf.layers.conv2d(inputs = entrada, \n",
    "               filters = 32,   # qtde de feature maps que vamos gerar para a convolução\n",
    "               kernel_size=[5,5], # dimensões do filtro de características (kernel)\n",
    "               activation = tf.nn.relu, # vamos aplicar a função RELU em cada feature maps\n",
    "               padding = 'same') # preserva a altura e largura da imagem após as transformações\n",
    "    \n",
    "    # recebe [batch_size, 28, 28, 32]\n",
    "    # retorna [batch_size, 14, 14, 32] \n",
    "    # podemos ver que a dimensionalidade da imagem foi diminuida pela metade, pois pool_size=(2,2)\n",
    "    pooling1 = tf.layers.max_pooling2d(inputs = convolucao1, # camada anterior\n",
    "                   pool_size = [2,2], # dimensões do 'kernel' para aplicar o pooling no feature map\n",
    "                   strides = 2) # significa que o 'kernel' vai ser aplicado a cada 2 pixels\n",
    "    \n",
    "    # --------------------------\n",
    "    #       CAMADA 2\n",
    "    # --------------------------\n",
    "    # Estamos fazendo a 1° camada de convolução\n",
    "    # recebe [batch_size, 14, 14, 32] -> [batch_size, largura, altura, canais]\n",
    "    # retorna [batch_size, 14, 14, 64] -> [batch_size, largura, altura, canais]\n",
    "    convolucao2 = tf.layers.conv2d(inputs = pooling1, \n",
    "               filters = 64,   # qtde de feature maps que vamos gerar para a convolução\n",
    "               kernel_size=[5,5], # dimensões do filtro de características (kernel)\n",
    "               activation = tf.nn.relu, # vamos aplicar a função RELU em cada feature maps\n",
    "               padding = 'same') # preserva a altura e largura da imagem após as transformações\n",
    "    \n",
    "    # recebe [batch_size, 14, 14, 64]\n",
    "    # retorna [batch_size, 7, 7, 64] \n",
    "    # podemos ver que a dimensionalidade da imagem foi diminuida pela metade, pois pool_size=(2,2)\n",
    "    pooling2 = tf.layers.max_pooling2d(inputs = convolucao2, # camada anterior\n",
    "                   pool_size = [2,2], # dimensões do 'kernel' para aplicar o pooling no feature map\n",
    "                   strides = 2) # significa que o 'kernel' vai ser aplicado a cada 2 pixels\n",
    "    \n",
    "    \n",
    "    # ----------------------------------------------------\n",
    "    #       APLICAÇÃO DO FLATTENING\n",
    "    # ----------------------------------------------------\n",
    "    # recebe [batch_size, 7, 7, 64]\n",
    "    # retornar [batch_size, 3136] -> [-1, 7 * 7 * 64]\n",
    "    flattening = tf.reshape(pooling2, [-1, 7 * 7 * 64]) # [batch_size, tamanho do vetor flattening]\n",
    "    \n",
    "    # ----------------------------------------------------\n",
    "    #       FAZENDO A REDE NEURAL DENSA\n",
    "    # ----------------------------------------------------\n",
    "    # Nossa rede neural densa terá:\n",
    "    # neurônios de entrada: 3136, que são os vetores flattened\n",
    "    # 1 camada oculta de 1024 neurônios \n",
    "    # e 10 neurônios de saída, onde cada um representa a classe de número que queremos advinhar\n",
    "    # recebe [batch_size, 3136]\n",
    "    # retornar [batch_size, 1024]\n",
    "    densa = tf.layers.dense(inputs = flattening, # neurônios de entrada\n",
    "                            units = 1024, # neurônios da camada oculta\n",
    "                            activation = tf.nn.relu) # função de ativação da camada\n",
    "    \n",
    "    # De modo a reduzir um pouco o overfitting da rede, que é quando a rede se adapta demais\n",
    "    # ao dados. Vamos zerar uma porcentagem dos neurônios de entrada\n",
    "    dropout = tf.layers.dropout(inputs = densa, # rede neural densa\n",
    "                rate = 0.2) # taxa de entradas que será zeradas. 20%.\n",
    "             \n",
    "    # Então vamos fazer a camada de saída da rede agora\n",
    "    # recebe [batch_size, 1024]\n",
    "    # retornar [batch_size, 10]\n",
    "    saida = tf.layers.dense(inputs = dropout, # neurônios de entrada com uma taxa de zeros\n",
    "                            units = 10) # qtde de neurônios de saída\n",
    "    \n",
    "    # Agora podemos calcular o erro\n",
    "    # Notar que antes usamos a tf.nn.softmax_cross_entropy_with_logits_v2 para calcular o erro,\n",
    "    # pois tinhamos o one_hot = True. Como temos o one_hot aqui = False, usamos outra função\n",
    "    erro = tf.losses.sparse_softmax_cross_entropy(labels = labels,\n",
    "                                                  logits = saida) # probabilidades de cada classe\n",
    "    \n",
    "    otimizador = tf.train.AdamOptimizer(learning_rate = 0.001)\n",
    "    treinamento = otimizador.minimize(erro, global_step = tf.train.get_global_step())\n",
    "    \n",
    "    return tf.estimator.EstimatorSpec(mode = mode, loss = erro, train_op=treinamento)\n",
    "    "
   ]
  },
  {
   "cell_type": "code",
   "execution_count": 12,
   "metadata": {},
   "outputs": [
    {
     "name": "stdout",
     "output_type": "stream",
     "text": [
      "INFO:tensorflow:Using default config.\n",
      "WARNING:tensorflow:Using temporary folder as model directory: C:\\Users\\Natielle\\AppData\\Local\\Temp\\tmp53hy9et4\n",
      "INFO:tensorflow:Using config: {'_model_dir': 'C:\\\\Users\\\\Natielle\\\\AppData\\\\Local\\\\Temp\\\\tmp53hy9et4', '_tf_random_seed': None, '_save_summary_steps': 100, '_save_checkpoints_steps': None, '_save_checkpoints_secs': 600, '_session_config': allow_soft_placement: true\n",
      "graph_options {\n",
      "  rewrite_options {\n",
      "    meta_optimizer_iterations: ONE\n",
      "  }\n",
      "}\n",
      ", '_keep_checkpoint_max': 5, '_keep_checkpoint_every_n_hours': 10000, '_log_step_count_steps': 100, '_train_distribute': None, '_device_fn': None, '_protocol': None, '_eval_distribute': None, '_experimental_distribute': None, '_service': None, '_cluster_spec': <tensorflow.python.training.server_lib.ClusterSpec object at 0x000001A62F686DA0>, '_task_type': 'worker', '_task_id': 0, '_global_id_in_cluster': 0, '_master': '', '_evaluation_master': '', '_is_chief': True, '_num_ps_replicas': 0, '_num_worker_replicas': 1}\n",
      "INFO:tensorflow:Calling model_fn.\n",
      "INFO:tensorflow:Done calling model_fn.\n",
      "INFO:tensorflow:Create CheckpointSaverHook.\n",
      "INFO:tensorflow:Graph was finalized.\n",
      "INFO:tensorflow:Running local_init_op.\n",
      "INFO:tensorflow:Done running local_init_op.\n",
      "INFO:tensorflow:Saving checkpoints for 0 into C:\\Users\\Natielle\\AppData\\Local\\Temp\\tmp53hy9et4\\model.ckpt.\n",
      "INFO:tensorflow:loss = 2.3071263, step = 1\n",
      "INFO:tensorflow:global_step/sec: 3.28688\n",
      "INFO:tensorflow:loss = 0.11310303, step = 101 (30.426 sec)\n",
      "INFO:tensorflow:Saving checkpoints for 200 into C:\\Users\\Natielle\\AppData\\Local\\Temp\\tmp53hy9et4\\model.ckpt.\n",
      "INFO:tensorflow:Loss for final step: 0.11793225.\n"
     ]
    },
    {
     "data": {
      "text/plain": [
       "<tensorflow_estimator.python.estimator.estimator.Estimator at 0x1a62ef8aeb8>"
      ]
     },
     "execution_count": 12,
     "metadata": {},
     "output_type": "execute_result"
    }
   ],
   "source": [
    "# Para ficar no formato certo, temos que converter Y para int32 ou int64\n",
    "Y_train = np.asarray(Y_train, dtype = np.int32)\n",
    "Y_test = np.asarray(Y_test, dtype = np.int32)\n",
    "\n",
    "# Criando o modelo do classificador\n",
    "classificador = tf.estimator.Estimator(model_fn = cria_rede_train)\n",
    "\n",
    "# Criando a função para receber os dados\n",
    "funcao_treinamento = tf.estimator.inputs.numpy_input_fn(x = {'X': X_train}, y = Y_train,\n",
    "                                                   batch_size = 128,  # pega em lotes de 128\n",
    "                                                   num_epochs = None, # qtde de vezes que rodará\n",
    "                                                   shuffle = True) # pega ordem aleatória\n",
    "\n",
    "# Treinando o modelo\n",
    "classificador.train(input_fn=funcao_treinamento, steps = 200)"
   ]
  },
  {
   "cell_type": "markdown",
   "metadata": {},
   "source": [
    "## Aqui vamos fazer um exemplo para treinamento, teste e predição"
   ]
  },
  {
   "cell_type": "code",
   "execution_count": 26,
   "metadata": {},
   "outputs": [],
   "source": [
    "# Vamos melhorar a função para executar nos diferentes modos possíveis\n",
    "def cria_rede(features, labels, mode):\n",
    "    # Precisamos definir a camada de entrada dos dados (nesse caso é a imagem)\n",
    "    # Estrutura do reshape: batch_size, largura, altura, canais -> [-1, 28, 28, 1]\n",
    "    entrada = tf.reshape(features['X'], [-1, 28, 28, 1])\n",
    "    \n",
    "    \n",
    "    # ----------------------------------------------------\n",
    "    #       APLICAÇÃO A CONVOLUÇÃO E POOLING\n",
    "    # ----------------------------------------------------\n",
    "    # Nessa implementação vamos fazer duas camadas de convolução. \n",
    "    # E para cada camada de convolução teremos uma camada de pooling. Então faremos em pares.\n",
    "    \n",
    "    # --------------------------\n",
    "    #       CAMADA 1\n",
    "    # --------------------------\n",
    "    # Estamos fazendo a 1° camada de convolução\n",
    "    # recebe [batch_size, 28, 28, 1] -> [batch_size, largura, altura, canais]\n",
    "    # retorna [batch_size, 28, 28, 32] -> [batch_size, largura, altura, canais]\n",
    "    convolucao1 = tf.layers.conv2d(inputs = entrada, \n",
    "               filters = 32,   # qtde de feature maps que vamos gerar para a convolução\n",
    "               kernel_size=[5,5], # dimensões do filtro de características (kernel)\n",
    "               activation = tf.nn.relu, # vamos aplicar a função RELU em cada feature maps\n",
    "               padding = 'same') # preserva a altura e largura da imagem após as transformações\n",
    "    \n",
    "    # recebe [batch_size, 28, 28, 32]\n",
    "    # retorna [batch_size, 14, 14, 32] \n",
    "    # podemos ver que a dimensionalidade da imagem foi diminuida pela metade, pois pool_size=(2,2)\n",
    "    pooling1 = tf.layers.max_pooling2d(inputs = convolucao1, # camada anterior\n",
    "                   pool_size = [2,2], # dimensões do 'kernel' para aplicar o pooling no feature map\n",
    "                   strides = 2) # significa que o 'kernel' vai ser aplicado a cada 2 pixels\n",
    "    \n",
    "    # --------------------------\n",
    "    #       CAMADA 2\n",
    "    # --------------------------\n",
    "    # Estamos fazendo a 1° camada de convolução\n",
    "    # recebe [batch_size, 14, 14, 32] -> [batch_size, largura, altura, canais]\n",
    "    # retorna [batch_size, 14, 14, 64] -> [batch_size, largura, altura, canais]\n",
    "    convolucao2 = tf.layers.conv2d(inputs = pooling1, \n",
    "               filters = 64,   # qtde de feature maps que vamos gerar para a convolução\n",
    "               kernel_size=[5,5], # dimensões do filtro de características (kernel)\n",
    "               activation = tf.nn.relu, # vamos aplicar a função RELU em cada feature maps\n",
    "               padding = 'same') # preserva a altura e largura da imagem após as transformações\n",
    "    \n",
    "    # recebe [batch_size, 14, 14, 64]\n",
    "    # retorna [batch_size, 7, 7, 64] \n",
    "    # podemos ver que a dimensionalidade da imagem foi diminuida pela metade, pois pool_size=(2,2)\n",
    "    pooling2 = tf.layers.max_pooling2d(inputs = convolucao2, # camada anterior\n",
    "                   pool_size = [2,2], # dimensões do 'kernel' para aplicar o pooling no feature map\n",
    "                   strides = 2) # significa que o 'kernel' vai ser aplicado a cada 2 pixels\n",
    "    \n",
    "    \n",
    "    # ----------------------------------------------------\n",
    "    #       APLICAÇÃO DO FLATTENING\n",
    "    # ----------------------------------------------------\n",
    "    # recebe [batch_size, 7, 7, 64]\n",
    "    # retornar [batch_size, 3136] -> [-1, 7 * 7 * 64]\n",
    "    flattening = tf.reshape(pooling2, [-1, 7 * 7 * 64]) # [batch_size, tamanho do vetor flattening]\n",
    "    \n",
    "    # ----------------------------------------------------\n",
    "    #       FAZENDO A REDE NEURAL DENSA\n",
    "    # ----------------------------------------------------\n",
    "    # Nossa rede neural densa terá:\n",
    "    # neurônios de entrada: 3136, que são os vetores flattened\n",
    "    # 1 camada oculta de 1024 neurônios \n",
    "    # e 10 neurônios de saída, onde cada um representa a classe de número que queremos advinhar\n",
    "    # recebe [batch_size, 3136]\n",
    "    # retornar [batch_size, 1024]\n",
    "    densa = tf.layers.dense(inputs = flattening, # neurônios de entrada\n",
    "                            units = 1024, # neurônios da camada oculta\n",
    "                            activation = tf.nn.relu) # função de ativação da camada\n",
    "    \n",
    "    \n",
    "    # De modo a reduzir um pouco o overfitting da rede, que é quando a rede se adapta demais\n",
    "    # ao dados. Vamos zerar uma porcentagem dos neurônios de entrada.\n",
    "    # Portanto, o dropout só poderá ser executado se estivermos treinando a rede.\n",
    "    dropout = tf.layers.dropout(inputs = densa, # rede neural densa\n",
    "                rate = 0.2, # taxa de entradas que será zeradas. 20%.\n",
    "                training = mode == tf.estimator.ModeKeys.TRAIN) # só será executado se estiver no modo de treino\n",
    "    \n",
    "    # Então vamos fazer a camada de saída da rede agora\n",
    "    # recebe [batch_size, 1024]\n",
    "    # retornar [batch_size, 10]\n",
    "    saida = tf.layers.dense(inputs = dropout, # neurônios de entrada com uma taxa de zeros\n",
    "                            units = 10) # qtde de neurônios de saída\n",
    "    \n",
    "    # Quando vamos realizar os testes, precisamos encontrar qual é a maior probabilidade que foi obtida\n",
    "    previsoes = tf.argmax(saida, axis = 1) # argmax retorna o indice que tem maior probabilidade\n",
    "    \n",
    "    # Caso estejamos em modo de predição, não precisamos calcular os erros\n",
    "    if mode == tf.estimator.ModeKeys.PREDICT:\n",
    "        return tf.estimator.EstimatorSpec(mode = mode, predictions = previsoes)\n",
    "    \n",
    "    # Agora podemos calcular o erro\n",
    "    # Notar que antes usamos a tf.nn.softmax_cross_entropy_with_logits_v2 para calcular o erro,\n",
    "    # pois tinhamos o one_hot = True. Como temos o one_hot aqui = False, usamos outra função\n",
    "    erro = tf.losses.sparse_softmax_cross_entropy(labels = labels,\n",
    "                                                  logits = saida) # probabilidades de cada classe\n",
    "    \n",
    "    \n",
    "    # Quando estamos treinando apenas, pois não precisamos realizar as otimizações nos outros modos\n",
    "    if mode == tf.estimator.ModeKeys.TRAIN:\n",
    "        otimizador = tf.train.AdamOptimizer(learning_rate = 0.001)\n",
    "        treinamento = otimizador.minimize(erro, global_step = tf.train.get_global_step())\n",
    "        return tf.estimator.EstimatorSpec(mode = mode, loss = erro, train_op=treinamento)\n",
    "    \n",
    "    # Quando estamos realizando o teste\n",
    "    if mode == tf.estimator.ModeKeys.EVAL:\n",
    "        eval_metrics_ops = {'accuracy': tf.metrics.accuracy(labels = labels, predictions = previsoes)}\n",
    "        return tf.estimator.EstimatorSpec(mode = mode, loss = erro, eval_metric_ops = eval_metrics_ops)"
   ]
  },
  {
   "cell_type": "code",
   "execution_count": 27,
   "metadata": {},
   "outputs": [
    {
     "name": "stdout",
     "output_type": "stream",
     "text": [
      "INFO:tensorflow:Using default config.\n",
      "WARNING:tensorflow:Using temporary folder as model directory: C:\\Users\\Natielle\\AppData\\Local\\Temp\\tmpz3qhiefd\n",
      "INFO:tensorflow:Using config: {'_model_dir': 'C:\\\\Users\\\\Natielle\\\\AppData\\\\Local\\\\Temp\\\\tmpz3qhiefd', '_tf_random_seed': None, '_save_summary_steps': 100, '_save_checkpoints_steps': None, '_save_checkpoints_secs': 600, '_session_config': allow_soft_placement: true\n",
      "graph_options {\n",
      "  rewrite_options {\n",
      "    meta_optimizer_iterations: ONE\n",
      "  }\n",
      "}\n",
      ", '_keep_checkpoint_max': 5, '_keep_checkpoint_every_n_hours': 10000, '_log_step_count_steps': 100, '_train_distribute': None, '_device_fn': None, '_protocol': None, '_eval_distribute': None, '_experimental_distribute': None, '_service': None, '_cluster_spec': <tensorflow.python.training.server_lib.ClusterSpec object at 0x000001A62F1EC908>, '_task_type': 'worker', '_task_id': 0, '_global_id_in_cluster': 0, '_master': '', '_evaluation_master': '', '_is_chief': True, '_num_ps_replicas': 0, '_num_worker_replicas': 1}\n",
      "INFO:tensorflow:Calling model_fn.\n",
      "INFO:tensorflow:Done calling model_fn.\n",
      "INFO:tensorflow:Create CheckpointSaverHook.\n",
      "INFO:tensorflow:Graph was finalized.\n",
      "INFO:tensorflow:Running local_init_op.\n",
      "INFO:tensorflow:Done running local_init_op.\n",
      "INFO:tensorflow:Saving checkpoints for 0 into C:\\Users\\Natielle\\AppData\\Local\\Temp\\tmpz3qhiefd\\model.ckpt.\n",
      "INFO:tensorflow:loss = 2.299608, step = 1\n",
      "INFO:tensorflow:global_step/sec: 2.50537\n",
      "INFO:tensorflow:loss = 0.14344609, step = 101 (39.915 sec)\n",
      "INFO:tensorflow:Saving checkpoints for 200 into C:\\Users\\Natielle\\AppData\\Local\\Temp\\tmpz3qhiefd\\model.ckpt.\n",
      "INFO:tensorflow:Loss for final step: 0.032005433.\n"
     ]
    },
    {
     "data": {
      "text/plain": [
       "<tensorflow_estimator.python.estimator.estimator.Estimator at 0x1a62f73e358>"
      ]
     },
     "execution_count": 27,
     "metadata": {},
     "output_type": "execute_result"
    }
   ],
   "source": [
    "# Aqui vamos realizar o treino com a função mais genérica\n",
    "\n",
    "# Criando o modelo do classificador\n",
    "classificador = tf.estimator.Estimator(model_fn = cria_rede)\n",
    "\n",
    "# Criando a função para receber os dados\n",
    "funcao_treinamento = tf.estimator.inputs.numpy_input_fn(x = {'X': X_train}, y = Y_train,\n",
    "                                                   batch_size = 128,  # pega em lotes de 128\n",
    "                                                   num_epochs = None, # qtde de vezes que rodará\n",
    "                                                   shuffle = True) # pega ordem aleatória\n",
    "\n",
    "# Treinando o modelo\n",
    "classificador.train(input_fn=funcao_treinamento, steps = 200) # nesse caso, o valor de mode será TRAIN"
   ]
  },
  {
   "cell_type": "code",
   "execution_count": 28,
   "metadata": {
    "scrolled": true
   },
   "outputs": [
    {
     "name": "stdout",
     "output_type": "stream",
     "text": [
      "INFO:tensorflow:Calling model_fn.\n",
      "INFO:tensorflow:Done calling model_fn.\n",
      "INFO:tensorflow:Starting evaluation at 2020-05-09T23:17:40Z\n",
      "INFO:tensorflow:Graph was finalized.\n",
      "INFO:tensorflow:Restoring parameters from C:\\Users\\Natielle\\AppData\\Local\\Temp\\tmpz3qhiefd\\model.ckpt-200\n",
      "INFO:tensorflow:Running local_init_op.\n",
      "INFO:tensorflow:Done running local_init_op.\n",
      "INFO:tensorflow:Finished evaluation at 2020-05-09-23:17:50\n",
      "INFO:tensorflow:Saving dict for global step 200: accuracy = 0.9812, global_step = 200, loss = 0.059330445\n",
      "INFO:tensorflow:Saving 'checkpoint_path' summary for global step 200: C:\\Users\\Natielle\\AppData\\Local\\Temp\\tmpz3qhiefd\\model.ckpt-200\n"
     ]
    },
    {
     "data": {
      "text/plain": [
       "{'accuracy': 0.9812, 'loss': 0.059330445, 'global_step': 200}"
      ]
     },
     "execution_count": 28,
     "metadata": {},
     "output_type": "execute_result"
    }
   ],
   "source": [
    "# Aqui vamos criar a parte de teste\n",
    "funcao_teste = tf.estimator.inputs.numpy_input_fn(x = {'X': X_test}, y = Y_test, \n",
    "                                                  num_epochs = 1, # vamos fazer o teste apenas 1 vez\n",
    "                                                  shuffle = False) # pega em ordem\n",
    "resultados = classificador.evaluate(input_fn=funcao_teste) # nesse caso, o valor de mode será EVAL\n",
    "resultados"
   ]
  },
  {
   "cell_type": "code",
   "execution_count": 30,
   "metadata": {},
   "outputs": [
    {
     "name": "stdout",
     "output_type": "stream",
     "text": [
      "Dimensões originais da imagem:  (784,)\n",
      "Dimensões corretas para o algoritmo:  (1, 784)\n",
      "INFO:tensorflow:Calling model_fn.\n",
      "INFO:tensorflow:Done calling model_fn.\n",
      "INFO:tensorflow:Graph was finalized.\n",
      "INFO:tensorflow:Restoring parameters from C:\\Users\\Natielle\\AppData\\Local\\Temp\\tmpz3qhiefd\\model.ckpt-200\n",
      "INFO:tensorflow:Running local_init_op.\n",
      "INFO:tensorflow:Done running local_init_op.\n",
      "\n",
      "\n",
      "Previsão obtida da rede:  [2]\n"
     ]
    }
   ],
   "source": [
    "# Aqui vamos fazer a parte de predição\n",
    "X_imagem_teste = X_test[1] # obtendo uma imagem qualquer do conjunto de teste\n",
    "\n",
    "print(\"Dimensões originais da imagem: \", X_imagem_teste.shape)\n",
    "X_imagem_teste = X_imagem_teste.reshape(1,-1) \n",
    "print(\"Dimensões corretas para o algoritmo: \", X_imagem_teste.shape) # representa uma imagem com 784 atributos\n",
    "\n",
    "\n",
    "funcao_previsao = tf.estimator.inputs.numpy_input_fn(x = {'X': X_imagem_teste},\n",
    "                                                     shuffle = False) # mantem a ordem dos registros\n",
    "pred = list(classificador.predict(input_fn = funcao_previsao))\n",
    "print(\"\\n\\nPrevisão obtida da rede: \", pred)"
   ]
  },
  {
   "cell_type": "code",
   "execution_count": 31,
   "metadata": {},
   "outputs": [
    {
     "data": {
      "text/plain": [
       "Text(0.5, 1.0, 'Classe prevista: 2')"
      ]
     },
     "execution_count": 31,
     "metadata": {},
     "output_type": "execute_result"
    },
    {
     "data": {
      "image/png": "[encoded data removed]",
      "text/plain": [
       "<Figure size 432x288 with 1 Axes>"
      ]
     },
     "metadata": {
      "needs_background": "light"
     },
     "output_type": "display_data"
    }
   ],
   "source": [
    "# para verificarmos se o algoritmo acertou a classe da imagem X_test[1], vamos plotá-la\n",
    "plt.imshow(X_imagem_teste.reshape((28, 28)), cmap = 'gray')\n",
    "plt.title('Classe prevista: ' + str(pred[0]))"
   ]
  },
  {
   "cell_type": "markdown",
   "metadata": {},
   "source": [
    "Logo, podemos ver que a CNN conseguiu acertar qual era o número."
   ]
  }
 ],
 "metadata": {
  "kernelspec": {
   "display_name": "tensorflow2_py37",
   "language": "python",
   "name": "tensorflow2_py37"
  },
  "language_info": {
   "codemirror_mode": {
    "name": "ipython",
    "version": 3
   },
   "file_extension": ".py",
   "mimetype": "text/x-python",
   "name": "python",
   "nbconvert_exporter": "python",
   "pygments_lexer": "ipython3",
   "version": "3.6.10"
  }
 },
 "nbformat": 4,
 "nbformat_minor": 4
}
