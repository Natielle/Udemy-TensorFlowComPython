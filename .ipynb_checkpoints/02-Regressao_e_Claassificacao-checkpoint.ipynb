{
 "cells": [
  {
   "cell_type": "markdown",
   "metadata": {},
   "source": [
    " # Regressão Linear e Classificação\n",
    " \n",
    " ### Regressão Linear\n",
    " A Regressão linear é basicamente uma reta que serve para que consigamos estimar valor. Como, por exemplo, preço de casas baseadas em alguns atributos."
   ]
  },
  {
   "cell_type": "markdown",
   "metadata": {},
   "source": [
    "#### Primeiro vamos utilizar a regressão linear com a biblioteca sklearn \n"
   ]
  },
  {
   "cell_type": "code",
   "execution_count": 17,
   "metadata": {},
   "outputs": [],
   "source": [
    "import numpy as np                                   # pip install numpy\n",
    "import matplotlib.pyplot as plt                      # pip install matplotlib\n",
    "from sklearn.linear_model import LinearRegression    # pip install sklearn\n",
    "from sklearn.metrics import mean_absolute_error, mean_squared_error # para obter métricas do modelo"
   ]
  },
  {
   "cell_type": "code",
   "execution_count": 2,
   "metadata": {},
   "outputs": [],
   "source": [
    "# Atributos para usarmos para realizar a regressão\n",
    "idades = np.array([[18], [23], [28], [33], [38], [43], [48], [53], [58], [63]])\n",
    "custo_plano = np.array([[871], [1132], [1042], [1356], [1488], [1638], [1569], [1754], [1866], [1900]])"
   ]
  },
  {
   "cell_type": "code",
   "execution_count": 3,
   "metadata": {},
   "outputs": [
    {
     "data": {
      "text/plain": [
       "<matplotlib.collections.PathCollection at 0x1d153435eb8>"
      ]
     },
     "execution_count": 3,
     "metadata": {},
     "output_type": "execute_result"
    },
    {
     "data": {
      "image/png": "[encoded data removed]",
      "text/plain": [
       "<Figure size 432x288 with 1 Axes>"
      ]
     },
     "metadata": {
      "needs_background": "light"
     },
     "output_type": "display_data"
    }
   ],
   "source": [
    "%matplotlib inline\n",
    "plt.scatter(idades, custo_plano)"
   ]
  },
  {
   "cell_type": "code",
   "execution_count": 4,
   "metadata": {},
   "outputs": [
    {
     "data": {
      "text/plain": [
       "LinearRegression(copy_X=True, fit_intercept=True, n_jobs=None, normalize=False)"
      ]
     },
     "execution_count": 4,
     "metadata": {},
     "output_type": "execute_result"
    }
   ],
   "source": [
    "# Aplicando a regressão logística\n",
    "regressor = LinearRegression()\n",
    "regressor.fit(idades, custo_plano) # treina o modelo\n"
   ]
  },
  {
   "cell_type": "code",
   "execution_count": 5,
   "metadata": {},
   "outputs": [
    {
     "name": "stdout",
     "output_type": "stream",
     "text": [
      "[541.24363636]\n",
      "[[22.72484848]]\n"
     ]
    }
   ],
   "source": [
    "# Acessando os coeficientes do modelo\n",
    "print(regressor.intercept_) # independente\n",
    "print(regressor.coef_)      # Dependentes"
   ]
  },
  {
   "cell_type": "code",
   "execution_count": 12,
   "metadata": {},
   "outputs": [
    {
     "name": "stdout",
     "output_type": "stream",
     "text": [
      "[[40]]\n",
      "[[1450.23757576]]\n"
     ]
    }
   ],
   "source": [
    "# prevendo o custo do plano de uma pessoa de 40 anos\n",
    "print(np.reshape(40, (-1,1))) # Se formos passar apenas um valor, temos que passar neste formato\n",
    "previsao_de_um = regressor.predict(np.reshape(40, (-1,1)))\n",
    "print(previsao_de_um) "
   ]
  },
  {
   "cell_type": "code",
   "execution_count": 15,
   "metadata": {},
   "outputs": [
    {
     "name": "stdout",
     "output_type": "stream",
     "text": [
      "[[ 950.29090909]\n",
      " [1063.91515152]\n",
      " [1177.53939394]\n",
      " [1291.16363636]\n",
      " [1404.78787879]\n",
      " [1518.41212121]\n",
      " [1632.03636364]\n",
      " [1745.66060606]\n",
      " [1859.28484848]\n",
      " [1972.90909091]]\n"
     ]
    }
   ],
   "source": [
    "# prevendo o custo de vida para várias idades\n",
    "previsoes = regressor.predict(idades)\n",
    "print(previsoes)"
   ]
  },
  {
   "cell_type": "code",
   "execution_count": 20,
   "metadata": {},
   "outputs": [
    {
     "name": "stdout",
     "output_type": "stream",
     "text": [
      "Erro absoluto médio 70.15515151515156\n",
      "Erro ao quadrado médio 6412.675151515154\n"
     ]
    }
   ],
   "source": [
    "# Analisando os erros absolutos e os erros ao quadrado\n",
    "mae = mean_absolute_error(custo_plano, previsoes)\n",
    "mse = mean_squared_error(custo_plano, previsoes)\n",
    "\n",
    "print(\"Erro absoluto médio\", mae)\n",
    "print(\"Erro ao quadrado médio\", mse)"
   ]
  },
  {
   "cell_type": "markdown",
   "metadata": {},
   "source": [
    "Agora vamos plotar os valores reais e os valores que o modelo previu.\n"
   ]
  },
  {
   "cell_type": "code",
   "execution_count": 21,
   "metadata": {},
   "outputs": [
    {
     "ename": "NameError",
     "evalue": "name 'custo_plano' is not defined",
     "output_type": "error",
     "traceback": [
      "\u001b[1;31m---------------------------------------------------------------------------\u001b[0m",
      "\u001b[1;31mNameError\u001b[0m                                 Traceback (most recent call last)",
      "\u001b[1;32m<ipython-input-21-d7adba4e4bcd>\u001b[0m in \u001b[0;36m<module>\u001b[1;34m\u001b[0m\n\u001b[1;32m----> 1\u001b[1;33m \u001b[0mplt\u001b[0m\u001b[1;33m.\u001b[0m\u001b[0mplot\u001b[0m\u001b[1;33m(\u001b[0m\u001b[0midades\u001b[0m\u001b[1;33m,\u001b[0m \u001b[0mcusto_plano\u001b[0m\u001b[1;33m,\u001b[0m \u001b[1;34m'o'\u001b[0m\u001b[1;33m)\u001b[0m \u001b[1;31m# 'o' plota o gráfico com pontos\u001b[0m\u001b[1;33m\u001b[0m\u001b[1;33m\u001b[0m\u001b[0m\n\u001b[0m\u001b[0;32m      2\u001b[0m \u001b[0mplt\u001b[0m\u001b[1;33m.\u001b[0m\u001b[0mplot\u001b[0m\u001b[1;33m(\u001b[0m\u001b[0midades\u001b[0m\u001b[1;33m,\u001b[0m \u001b[0mprevisoes\u001b[0m\u001b[1;33m,\u001b[0m \u001b[0mcolor\u001b[0m\u001b[1;33m=\u001b[0m\u001b[1;34m\"red\"\u001b[0m\u001b[1;33m)\u001b[0m \u001b[1;31m# plota uma reta vermelha\u001b[0m\u001b[1;33m\u001b[0m\u001b[1;33m\u001b[0m\u001b[0m\n\u001b[0;32m      3\u001b[0m \u001b[0mplt\u001b[0m\u001b[1;33m.\u001b[0m\u001b[0mtitle\u001b[0m\u001b[1;33m(\u001b[0m\u001b[1;34m\"Regressão linear simples com sklearn\"\u001b[0m\u001b[1;33m)\u001b[0m\u001b[1;33m\u001b[0m\u001b[1;33m\u001b[0m\u001b[0m\n\u001b[0;32m      4\u001b[0m \u001b[0mplt\u001b[0m\u001b[1;33m.\u001b[0m\u001b[0mxlabel\u001b[0m\u001b[1;33m(\u001b[0m\u001b[1;34m\"Idades\"\u001b[0m\u001b[1;33m)\u001b[0m\u001b[1;33m\u001b[0m\u001b[1;33m\u001b[0m\u001b[0m\n\u001b[0;32m      5\u001b[0m \u001b[0mplt\u001b[0m\u001b[1;33m.\u001b[0m\u001b[0mylabel\u001b[0m\u001b[1;33m(\u001b[0m\u001b[1;34m\"Custo do plano\"\u001b[0m\u001b[1;33m)\u001b[0m\u001b[1;33m\u001b[0m\u001b[1;33m\u001b[0m\u001b[0m\n",
      "\u001b[1;31mNameError\u001b[0m: name 'custo_plano' is not defined"
     ]
    }
   ],
   "source": [
    "plt.plot(idades, custo_plano, 'o') # 'o' plota o gráfico com pontos\n",
    "plt.plot(idades, previsoes, color=\"red\") # plota uma reta vermelha\n",
    "plt.title(\"Regressão linear simples com sklearn\")\n",
    "plt.xlabel(\"Idades\")\n",
    "plt.ylabel(\"Custo do plano\")"
   ]
  },
  {
   "cell_type": "code",
   "execution_count": null,
   "metadata": {},
   "outputs": [],
   "source": []
  }
 ],
 "metadata": {
  "kernelspec": {
   "display_name": "tensorflow2_py37",
   "language": "python",
   "name": "tensorflow2_py37"
  },
  "language_info": {
   "codemirror_mode": {
    "name": "ipython",
    "version": 3
   },
   "file_extension": ".py",
   "mimetype": "text/x-python",
   "name": "python",
   "nbconvert_exporter": "python",
   "pygments_lexer": "ipython3",
   "version": "3.6.10"
  }
 },
 "nbformat": 4,
 "nbformat_minor": 4
}
