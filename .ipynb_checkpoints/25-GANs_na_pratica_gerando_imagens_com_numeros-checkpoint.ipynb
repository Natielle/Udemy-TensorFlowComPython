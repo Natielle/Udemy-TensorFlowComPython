{
 "cells": [
  {
   "cell_type": "markdown",
   "metadata": {},
   "source": [
    "# Aplicando GANs para a geração de números (em imagens) \n",
    "\n",
    "O objetivo desse exemplo é fazer a geração de números com base nas imagens do MNIST.\n",
    "\n",
    "Estamos utilizando o banco de imagens de números que é obtido pelo link: http://yann.lecun.com/exdb/mnist/.\n"
   ]
  },
  {
   "cell_type": "code",
   "execution_count": 2,
   "metadata": {},
   "outputs": [],
   "source": [
    "import tensorflow as tf\n",
    "from tensorflow.examples.tutorials.mnist import input_data\n",
    "import matplotlib.pyplot as plt\n",
    "import numpy as np"
   ]
  },
  {
   "cell_type": "code",
   "execution_count": 3,
   "metadata": {},
   "outputs": [
    {
     "name": "stdout",
     "output_type": "stream",
     "text": [
      "WARNING:tensorflow:From <ipython-input-3-ba9add6ad390>:3: read_data_sets (from tensorflow.contrib.learn.python.learn.datasets.mnist) is deprecated and will be removed in a future version.\n",
      "Instructions for updating:\n",
      "Please use alternatives such as official/mnist/dataset.py from tensorflow/models.\n",
      "WARNING:tensorflow:From C:\\Users\\Natielle\\anaconda3\\envs\\tensorflow2_py37\\lib\\site-packages\\tensorflow\\contrib\\learn\\python\\learn\\datasets\\mnist.py:260: maybe_download (from tensorflow.contrib.learn.python.learn.datasets.base) is deprecated and will be removed in a future version.\n",
      "Instructions for updating:\n",
      "Please write your own downloading logic.\n",
      "WARNING:tensorflow:From C:\\Users\\Natielle\\anaconda3\\envs\\tensorflow2_py37\\lib\\site-packages\\tensorflow\\contrib\\learn\\python\\learn\\datasets\\mnist.py:262: extract_images (from tensorflow.contrib.learn.python.learn.datasets.mnist) is deprecated and will be removed in a future version.\n",
      "Instructions for updating:\n",
      "Please use tf.data to implement this functionality.\n",
      "Extracting mnist/train-images-idx3-ubyte.gz\n",
      "WARNING:tensorflow:From C:\\Users\\Natielle\\anaconda3\\envs\\tensorflow2_py37\\lib\\site-packages\\tensorflow\\contrib\\learn\\python\\learn\\datasets\\mnist.py:267: extract_labels (from tensorflow.contrib.learn.python.learn.datasets.mnist) is deprecated and will be removed in a future version.\n",
      "Instructions for updating:\n",
      "Please use tf.data to implement this functionality.\n",
      "Extracting mnist/train-labels-idx1-ubyte.gz\n",
      "WARNING:tensorflow:From C:\\Users\\Natielle\\anaconda3\\envs\\tensorflow2_py37\\lib\\site-packages\\tensorflow\\contrib\\learn\\python\\learn\\datasets\\mnist.py:110: dense_to_one_hot (from tensorflow.contrib.learn.python.learn.datasets.mnist) is deprecated and will be removed in a future version.\n",
      "Instructions for updating:\n",
      "Please use tf.one_hot on tensors.\n",
      "Extracting mnist/t10k-images-idx3-ubyte.gz\n",
      "Extracting mnist/t10k-labels-idx1-ubyte.gz\n",
      "WARNING:tensorflow:From C:\\Users\\Natielle\\anaconda3\\envs\\tensorflow2_py37\\lib\\site-packages\\tensorflow\\contrib\\learn\\python\\learn\\datasets\\mnist.py:290: DataSet.__init__ (from tensorflow.contrib.learn.python.learn.datasets.mnist) is deprecated and will be removed in a future version.\n",
      "Instructions for updating:\n",
      "Please use alternatives such as official/mnist/dataset.py from tensorflow/models.\n"
     ]
    }
   ],
   "source": [
    "# Lendo as imagens e fazendo download\n",
    "mnist = input_data.read_data_sets('mnist/', # As imagens ficarão nesse diretório \n",
    "                                  one_hot = True) # Faz a categorização \"binária\" de múltiplas classes"
   ]
  },
  {
   "cell_type": "code",
   "execution_count": 4,
   "metadata": {},
   "outputs": [],
   "source": [
    "tf.reset_default_graph() # limpando os grafos do tensorflow"
   ]
  },
  {
   "cell_type": "code",
   "execution_count": null,
   "metadata": {},
   "outputs": [],
   "source": [
    "indice = 173\n",
    "\n",
    "# Visualizando as imagens com fundo branco\n",
    "%matplotlib inline\n",
    "plt.imshow(mnist.train.images[indice].reshape(28,28), cmap = 'Greys')"
   ]
  },
  {
   "cell_type": "code",
   "execution_count": null,
   "metadata": {},
   "outputs": [],
   "source": [
    "# Visualizando as imagens com fundo preto\n",
    "%matplotlib inline\n",
    "plt.imshow(mnist.train.images[indice].reshape(28,28), cmap = 'gray')"
   ]
  },
  {
   "cell_type": "code",
   "execution_count": null,
   "metadata": {},
   "outputs": [],
   "source": [
    "# Visualizando as imagens originais\n",
    "%matplotlib inline\n",
    "plt.imshow(mnist.train.images[indice].reshape(28,28))"
   ]
  },
  {
   "cell_type": "markdown",
   "metadata": {},
   "source": [
    "#### Fazendo um experimento..."
   ]
  },
  {
   "cell_type": "code",
   "execution_count": null,
   "metadata": {},
   "outputs": [],
   "source": [
    "# Fazendo um experimento...\n",
    "mnist.train.images[indice]"
   ]
  },
  {
   "cell_type": "markdown",
   "metadata": {},
   "source": [
    "A ideia é que o gerador consiga gerar uma imagem mais ou menos com essa mesma distribuição de pixels, a fim de ficar o mais próximo possível de imagem que se deseja gerar.\n",
    "\n",
    "Para simularmos a geração de uma imagem basta que a gente gere números aleatórios e que essa matriz tenha as dimensões da imagem. Como vamos mostrar abaixo:\n"
   ]
  },
  {
   "cell_type": "code",
   "execution_count": null,
   "metadata": {},
   "outputs": [],
   "source": [
    "# Gerando uma imagem em degrade \n",
    "imagem1 = np.arange(0,784).reshape(28,28)\n",
    "imagem1[:5]# Mostra uma parte do formato de matriz"
   ]
  },
  {
   "cell_type": "code",
   "execution_count": null,
   "metadata": {},
   "outputs": [],
   "source": [
    "# Como temos a matriz, podemos plotar essa imagem\n",
    "plt.imshow(imagem1)"
   ]
  },
  {
   "cell_type": "code",
   "execution_count": null,
   "metadata": {},
   "outputs": [],
   "source": [
    "# Gerando uma segunda imagem aleatória de fato\n",
    "imagem2 = np.random.normal(size = 784).reshape(28,28)\n",
    "plt.imshow(imagem2)"
   ]
  },
  {
   "cell_type": "markdown",
   "metadata": {},
   "source": [
    "### Voltando a implementar o gerador de imagens"
   ]
  },
  {
   "cell_type": "code",
   "execution_count": 15,
   "metadata": {},
   "outputs": [],
   "source": [
    "# O ruido_ph vai gerar os número aleatórios\n",
    "ruido_ph = tf.placeholder(tf.float32, [None, 100]) # vamos gerar 100 valores aleatórios (100 é adequado para 28x28)"
   ]
  },
  {
   "cell_type": "code",
   "execution_count": 16,
   "metadata": {},
   "outputs": [],
   "source": [
    "\n",
    "# Função que gera as imagens\n",
    "def gerador(ruido, reuse = tf.AUTO_REUSE):\n",
    "    \n",
    "    # Criando um escopo para as variaveis. Assim elas não fica com os mesmo nomes de outras\n",
    "    with tf.variable_scope('gerador', reuse = reuse):\n",
    "        # Recebe 100 números aleatórios e vai retornar uma imagem com 784 pixels\n",
    "        # 100 -> 128 -> 128 -> 784\n",
    "        camada_oculta1 = tf.nn.relu(tf.layers.dense(inputs = ruido, \n",
    "                                                    units = 128)) \n",
    "        camada_oculta2 = tf.nn.relu(tf.layers.dense(inputs = camada_oculta1, \n",
    "                                                    units = 128))\n",
    "        camada_saida = tf.layers.dense(inputs = camada_oculta2, \n",
    "                                       units = 784, \n",
    "                                       activation = tf.nn.tanh)\n",
    "        \n",
    "        # As camadas ocultas estão utilizando a função de ativação RELU\n",
    "        # Enquanto que a camada de saída possui como função de ativação tangente hiperbólica. \n",
    "        # Porém poderia ser uma outra também, como a sigmóide por exemplo.\n",
    "        return camada_saida"
   ]
  },
  {
   "cell_type": "code",
   "execution_count": 17,
   "metadata": {},
   "outputs": [
    {
     "data": {
      "text/plain": [
       "[]"
      ]
     },
     "execution_count": 17,
     "metadata": {},
     "output_type": "execute_result"
    }
   ],
   "source": [
    "# Vai retornar todas as variáveis\n",
    "variaveis = tf.trainable_variables()\n",
    "variaveis"
   ]
  },
  {
   "cell_type": "code",
   "execution_count": 21,
   "metadata": {},
   "outputs": [],
   "source": [
    "# Testando a função geradora\n",
    "with tf.Session() as sess:\n",
    "    sess.run(tf.global_variables_initializer())\n",
    "    \n",
    "    ruido_teste = np.random.uniform(-1, 1, # entre -1 e 1 porque estamos usando a tangente hiperbólica\n",
    "                                    size = (1,100)) # Quantidade de número aleatório\n",
    "#     amostra = sess.run(gerador(ruido_ph, reuse=False), feed_dict = {ruido_ph: ruido_teste})\n",
    "    amostra = sess.run(gerador(ruido_ph, reuse=True), feed_dict = {ruido_ph: ruido_teste})\n",
    "    \n",
    "# OBS IMPORTANTE\n",
    "# Para executar sem erro esse trecho, tem que executar com o parametro reuse = False e depois com reuse = True.\n",
    "# Só assim que funciona"
   ]
  },
  {
   "cell_type": "code",
   "execution_count": 22,
   "metadata": {
    "scrolled": true
   },
   "outputs": [
    {
     "data": {
      "text/plain": [
       "[<tf.Variable 'gerador/dense/kernel:0' shape=(100, 128) dtype=float32_ref>,\n",
       " <tf.Variable 'gerador/dense/bias:0' shape=(128,) dtype=float32_ref>,\n",
       " <tf.Variable 'gerador/dense_1/kernel:0' shape=(128, 128) dtype=float32_ref>,\n",
       " <tf.Variable 'gerador/dense_1/bias:0' shape=(128,) dtype=float32_ref>,\n",
       " <tf.Variable 'gerador/dense_2/kernel:0' shape=(128, 784) dtype=float32_ref>,\n",
       " <tf.Variable 'gerador/dense_2/bias:0' shape=(784,) dtype=float32_ref>]"
      ]
     },
     "execution_count": 22,
     "metadata": {},
     "output_type": "execute_result"
    }
   ],
   "source": [
    "# Vai retornar todas as variáveis geradas acima\n",
    "variaveis = tf.trainable_variables()\n",
    "variaveis"
   ]
  },
  {
   "cell_type": "code",
   "execution_count": null,
   "metadata": {},
   "outputs": [],
   "source": [
    "amostra"
   ]
  },
  {
   "cell_type": "code",
   "execution_count": null,
   "metadata": {},
   "outputs": [],
   "source": [
    "amostra.shape"
   ]
  },
  {
   "cell_type": "code",
   "execution_count": null,
   "metadata": {},
   "outputs": [],
   "source": [
    "# Exibindo a imagem \n",
    "plt.imshow(amostra.reshape(28,28))"
   ]
  },
  {
   "cell_type": "markdown",
   "metadata": {},
   "source": [
    "Podemos ver que é muito semelhante ao que geramos na imagem2, um pouco acima."
   ]
  },
  {
   "cell_type": "markdown",
   "metadata": {},
   "source": [
    "### Como fizemos o gerador, agora vamos trabalhar no discriminador"
   ]
  },
  {
   "cell_type": "code",
   "execution_count": 24,
   "metadata": {},
   "outputs": [],
   "source": [
    "# Criando o placeholder\n",
    "imagens_reais_ph = tf.placeholder(tf.float32, [None, 784])\n",
    "\n",
    "# Função que vai ver o quão próxima a imagem gerada está de um imagem real\n",
    "def discriminador(X, reuse = tf.AUTO_REUSE):\n",
    "    with tf.variable_scope('discriminador', reuse = reuse):\n",
    "        # Recebe uma imagem e vai retornar a probabilidade da imagem ser um número\n",
    "        # 784 -> 128 -> 128 -> 1\n",
    "        camada_oculta1 = tf.nn.relu(tf.layers.dense(inputs = X,\n",
    "                                                    units = 128))\n",
    "        camada_oculta2 = tf.nn.relu(tf.layers.dense(inputs = camada_oculta1, \n",
    "                                                    units = 128))\n",
    "        \n",
    "        # Ao inves de chamarmos de camada de saída, chamamos de logits pois será uma probilidade\n",
    "        logits = tf.layers.dense(camada_oculta2, units = 1) # São as previsões sem a normalização \n",
    "        return logits"
   ]
  },
  {
   "cell_type": "code",
   "execution_count": null,
   "metadata": {},
   "outputs": [],
   "source": [
    "batch = mnist.train.next_batch(100)\n",
    "print(\"batch[0].shape: \", batch[0].shape)\n",
    "\n",
    "imagens_batch = batch[0].reshape((100, 784)) # variavel auxiliar para passar as imagens para o batch\n",
    "print(\"imagens_batch.shape: \", imagens_batch.shape)"
   ]
  },
  {
   "cell_type": "code",
   "execution_count": null,
   "metadata": {},
   "outputs": [],
   "source": [
    "# Visualizando alguma imagem\n",
    "imagens_batch[0]"
   ]
  },
  {
   "cell_type": "code",
   "execution_count": null,
   "metadata": {},
   "outputs": [],
   "source": [
    "# Como estamos trabalhando com a tangente hiperbólica, vamos transformar os zeros em -1.\n",
    "# Caso estivessemos trabalhando com a função sigmóide, não precisaríamos fazer essa transformação.\n",
    "imagens_batch = imagens_batch * 2 - 1\n",
    "imagens_batch[0]"
   ]
  },
  {
   "cell_type": "code",
   "execution_count": 27,
   "metadata": {},
   "outputs": [],
   "source": [
    "# Testando a função discriminador\n",
    "with tf.Session() as sess:\n",
    "    sess.run(tf.global_variables_initializer())\n",
    "    \n",
    "    batch = mnist.train.next_batch(100)\n",
    "    imagens_batch = batch[0].reshape((100, 784)) # obtem as 100 imagens que era pra estar no lote de 100\n",
    "    imagens_batch = imagens_batch * 2 - 1 # Faz a transformação de 0 em -1, pois estamos usando tang. hiperbólica\n",
    "#     resposta = sess.run(discriminador(imagens_reais_ph, reuse = False), feed_dict = {imagens_reais_ph: imagens_batch})\n",
    "    resposta = sess.run(discriminador(imagens_reais_ph, reuse = True), feed_dict = {imagens_reais_ph: imagens_batch})\n",
    "    resposta2 = sess.run(tf.nn.sigmoid(resposta))\n",
    "\n",
    "# OBS IMPORTANTE\n",
    "# Para executar sem erro esse trecho, tem que executar com o parametro reuse = False e depois com reuse = True.\n",
    "# Só assim que funciona"
   ]
  },
  {
   "cell_type": "code",
   "execution_count": 28,
   "metadata": {
    "scrolled": true
   },
   "outputs": [
    {
     "data": {
      "text/plain": [
       "[<tf.Variable 'gerador/dense/kernel:0' shape=(100, 128) dtype=float32_ref>,\n",
       " <tf.Variable 'gerador/dense/bias:0' shape=(128,) dtype=float32_ref>,\n",
       " <tf.Variable 'gerador/dense_1/kernel:0' shape=(128, 128) dtype=float32_ref>,\n",
       " <tf.Variable 'gerador/dense_1/bias:0' shape=(128,) dtype=float32_ref>,\n",
       " <tf.Variable 'gerador/dense_2/kernel:0' shape=(128, 784) dtype=float32_ref>,\n",
       " <tf.Variable 'gerador/dense_2/bias:0' shape=(784,) dtype=float32_ref>,\n",
       " <tf.Variable 'discriminador/dense/kernel:0' shape=(784, 128) dtype=float32_ref>,\n",
       " <tf.Variable 'discriminador/dense/bias:0' shape=(128,) dtype=float32_ref>,\n",
       " <tf.Variable 'discriminador/dense_1/kernel:0' shape=(128, 128) dtype=float32_ref>,\n",
       " <tf.Variable 'discriminador/dense_1/bias:0' shape=(128,) dtype=float32_ref>,\n",
       " <tf.Variable 'discriminador/dense_2/kernel:0' shape=(128, 1) dtype=float32_ref>,\n",
       " <tf.Variable 'discriminador/dense_2/bias:0' shape=(1,) dtype=float32_ref>]"
      ]
     },
     "execution_count": 28,
     "metadata": {},
     "output_type": "execute_result"
    }
   ],
   "source": [
    "# Vai retornar todas as variáveis geradas até agora\n",
    "variaveis = tf.trainable_variables()\n",
    "variaveis"
   ]
  },
  {
   "cell_type": "code",
   "execution_count": null,
   "metadata": {},
   "outputs": [],
   "source": [
    "resposta"
   ]
  },
  {
   "cell_type": "code",
   "execution_count": null,
   "metadata": {},
   "outputs": [],
   "source": [
    "resposta.shape"
   ]
  },
  {
   "cell_type": "code",
   "execution_count": null,
   "metadata": {},
   "outputs": [],
   "source": [
    "resposta2 # Esta retorna probabilidades"
   ]
  },
  {
   "cell_type": "markdown",
   "metadata": {},
   "source": [
    "### Até agora fizemos tudo de forma isolada. Agora vamos começar a juntar as coisas.\n",
    "\n",
    "Precisamos juntar as partes para podermos realizar o treinamento.\n",
    "\n",
    "Importante:\n",
    "\n",
    "Sabemos que o discriminador recebe as imagens geradas e as imagens reais. Então teremos que chamar o discriminador duas vezes, uma para as imagens reais e uma para as imagens geradas."
   ]
  },
  {
   "cell_type": "code",
   "execution_count": 31,
   "metadata": {},
   "outputs": [],
   "source": [
    "logits_imagens_reais = discriminador(imagens_reais_ph)\n",
    "logits_imagens_ruido = discriminador(gerador(ruido_ph), # passando a imagem gerada\n",
    "                                     reuse = True) # permite que os pesos sejam os mesmos para as imagens reais e as geradas"
   ]
  },
  {
   "cell_type": "code",
   "execution_count": 32,
   "metadata": {},
   "outputs": [],
   "source": [
    "# Precisamos definir dois erros, um para o discriminador e um par o gerador\n",
    "# vamos usar sigmoid_cross_entropy_with_logits porque é mais rápido\n",
    "\n",
    "# Erro relacionado a quando a resposta é próxima de 1. Ou seja, quando é próximo do que queremos que gere as imagens.\n",
    "erro_discriminador_real = tf.reduce_mean(tf.nn.sigmoid_cross_entropy_with_logits(logits = logits_imagens_reais, # resposta da rede neural\n",
    "                                                                                labels = tf.ones_like(logits_imagens_reais) * (0.9))) # indica a resposta real (multiplicamos por 90% para aproximar o valor 1)\n",
    "# Se colocarmos 1 ao invés de 0.9, pode ser que demore bem mais pra rodar porque o algoritmo vai ficar tentando aproximar ao máximo de 1\n",
    "\n",
    "# Erro relacionado a quando a resposta é próxima de 0. Ou seja, quando não é próximo do que queremos que gere as imagens.\n",
    "erro_discriminador_ruido = tf.reduce_mean(tf.nn.sigmoid_cross_entropy_with_logits(logits = logits_imagens_ruido,\n",
    "                                                                                 labels = tf.zeros_like(logits_imagens_ruido)))\n",
    "\n",
    "# Então somamos os dois tipos de erro do discriminador\n",
    "# vamos otimizar esse erro, pois ele vai otimizar os outros dois\n",
    "erro_discriminador = erro_discriminador_real + erro_discriminador_ruido \n",
    "\n",
    "# Agora vamos calcular o erro  do gerador. Então compara\n",
    "erro_gerador = tf.reduce_mean(\n",
    "                tf.nn.sigmoid_cross_entropy_with_logits(logits = logits_imagens_ruido, # imagem que foi gerada\n",
    "                labels = tf.ones_like(logits_imagens_ruido)))\n"
   ]
  },
  {
   "cell_type": "code",
   "execution_count": 29,
   "metadata": {},
   "outputs": [
    {
     "data": {
      "text/plain": [
       "[<tf.Variable 'gerador/dense/kernel:0' shape=(100, 128) dtype=float32_ref>,\n",
       " <tf.Variable 'gerador/dense/bias:0' shape=(128,) dtype=float32_ref>,\n",
       " <tf.Variable 'gerador/dense_1/kernel:0' shape=(128, 128) dtype=float32_ref>,\n",
       " <tf.Variable 'gerador/dense_1/bias:0' shape=(128,) dtype=float32_ref>,\n",
       " <tf.Variable 'gerador/dense_2/kernel:0' shape=(128, 784) dtype=float32_ref>,\n",
       " <tf.Variable 'gerador/dense_2/bias:0' shape=(784,) dtype=float32_ref>,\n",
       " <tf.Variable 'discriminador/dense/kernel:0' shape=(784, 128) dtype=float32_ref>,\n",
       " <tf.Variable 'discriminador/dense/bias:0' shape=(128,) dtype=float32_ref>,\n",
       " <tf.Variable 'discriminador/dense_1/kernel:0' shape=(128, 128) dtype=float32_ref>,\n",
       " <tf.Variable 'discriminador/dense_1/bias:0' shape=(128,) dtype=float32_ref>,\n",
       " <tf.Variable 'discriminador/dense_2/kernel:0' shape=(128, 1) dtype=float32_ref>,\n",
       " <tf.Variable 'discriminador/dense_2/bias:0' shape=(1,) dtype=float32_ref>]"
      ]
     },
     "execution_count": 29,
     "metadata": {},
     "output_type": "execute_result"
    }
   ],
   "source": [
    "# Vai retornar todas as variáveis\n",
    "variaveis = tf.trainable_variables()\n",
    "variaveis"
   ]
  },
  {
   "cell_type": "code",
   "execution_count": 23,
   "metadata": {},
   "outputs": [
    {
     "name": "stdout",
     "output_type": "stream",
     "text": [
      "['gerador/dense/kernel:0', 'gerador/dense/bias:0', 'gerador/dense_1/kernel:0', 'gerador/dense_1/bias:0', 'gerador/dense_2/kernel:0', 'gerador/dense_2/bias:0']\n"
     ]
    }
   ],
   "source": [
    "# Salvando as variáveis do gerador\n",
    "variaveis_gerador = [v for v in variaveis if 'gerador' in v.name]\n",
    "print([v.name for v in variaveis_gerador])"
   ]
  },
  {
   "cell_type": "code",
   "execution_count": 30,
   "metadata": {},
   "outputs": [
    {
     "name": "stdout",
     "output_type": "stream",
     "text": [
      "['discriminador/dense/kernel:0', 'discriminador/dense/bias:0', 'discriminador/dense_1/kernel:0', 'discriminador/dense_1/bias:0', 'discriminador/dense_2/kernel:0', 'discriminador/dense_2/bias:0']\n"
     ]
    }
   ],
   "source": [
    "# Salvando as variáveis do discriminador\n",
    "variaveis_discriminador = [v for v in variaveis if 'discriminador' in v.name]\n",
    "print([v.name for v in variaveis_discriminador])"
   ]
  },
  {
   "cell_type": "code",
   "execution_count": 33,
   "metadata": {},
   "outputs": [],
   "source": [
    "# Agora que temos acesso as variáveis, vamos realizar o treino das duas redes\n",
    "treinamento_discriminador = tf.train.AdamOptimizer(learning_rate = 0.001).minimize(erro_discriminador,\n",
    "                                                                                  var_list = variaveis_discriminador) # Otimiza apenas as variáveis que queremos\n",
    "treinamento_gerador = tf.train.AdamOptimizer(learning_rate = 0.001).minimize(erro_gerador,\n",
    "                                                                            var_list = variaveis_gerador)  # Otimiza apenas as variáveis que queremos"
   ]
  },
  {
   "cell_type": "code",
   "execution_count": 38,
   "metadata": {},
   "outputs": [
    {
     "name": "stdout",
     "output_type": "stream",
     "text": [
      "\n",
      "Erro D. -> Erro do discriminador\n",
      "\n",
      "Erro G. -> Erro do Gerador\n",
      "\n",
      "época: 1, Erro D.: 0.44994876 e Erro G.: 3.4419827\n",
      "época: 2, Erro D.: 0.6142136 e Erro G.: 2.0353105\n",
      "época: 3, Erro D.: 1.4646771 e Erro G.: 1.2575673\n",
      "época: 4, Erro D.: 0.4351632 e Erro G.: 8.175152\n",
      "época: 5, Erro D.: 1.589674 e Erro G.: 1.0523793\n",
      "época: 6, Erro D.: 2.0319486 e Erro G.: 1.5662521\n",
      "época: 7, Erro D.: 1.5995435 e Erro G.: 1.0906364\n",
      "época: 8, Erro D.: 0.96268696 e Erro G.: 3.7382522\n",
      "época: 9, Erro D.: 0.91856825 e Erro G.: 1.6216065\n",
      "época: 10, Erro D.: 1.1562093 e Erro G.: 2.0074272\n",
      "época: 11, Erro D.: 2.815113 e Erro G.: 2.274005\n",
      "época: 12, Erro D.: 1.0869919 e Erro G.: 1.6791682\n",
      "época: 13, Erro D.: 2.2853956 e Erro G.: 1.5573287\n",
      "época: 14, Erro D.: 1.0086231 e Erro G.: 3.0477495\n",
      "época: 15, Erro D.: 2.6737847 e Erro G.: 1.1726549\n",
      "época: 16, Erro D.: 1.4917219 e Erro G.: 1.1084039\n",
      "época: 17, Erro D.: 0.8124872 e Erro G.: 3.527069\n",
      "época: 18, Erro D.: 0.92536986 e Erro G.: 5.6292458\n",
      "época: 19, Erro D.: 1.24716 e Erro G.: 2.0337217\n",
      "época: 20, Erro D.: 1.8715541 e Erro G.: 2.4257288\n",
      "época: 21, Erro D.: 0.76045537 e Erro G.: 3.8918161\n",
      "época: 22, Erro D.: 1.7902939 e Erro G.: 2.4568603\n",
      "época: 23, Erro D.: 1.0159256 e Erro G.: 2.4201646\n",
      "época: 24, Erro D.: 0.6359221 e Erro G.: 3.8406188\n",
      "época: 25, Erro D.: 0.8283611 e Erro G.: 2.219702\n",
      "época: 26, Erro D.: 0.71155095 e Erro G.: 2.550876\n",
      "época: 27, Erro D.: 0.7293354 e Erro G.: 3.0681977\n",
      "época: 28, Erro D.: 0.9523915 e Erro G.: 1.821889\n",
      "época: 29, Erro D.: 0.9813607 e Erro G.: 2.010628\n",
      "época: 30, Erro D.: 0.86863023 e Erro G.: 2.3042657\n",
      "época: 31, Erro D.: 1.0163398 e Erro G.: 2.8247418\n",
      "época: 32, Erro D.: 0.7794348 e Erro G.: 2.6017628\n",
      "época: 33, Erro D.: 1.4023151 e Erro G.: 2.343089\n",
      "época: 34, Erro D.: 0.75649583 e Erro G.: 2.4630108\n",
      "época: 35, Erro D.: 0.98028374 e Erro G.: 2.7551217\n",
      "época: 36, Erro D.: 1.1417323 e Erro G.: 1.6559067\n",
      "época: 37, Erro D.: 1.0373192 e Erro G.: 1.8596982\n",
      "época: 38, Erro D.: 0.8418995 e Erro G.: 3.0954049\n",
      "época: 39, Erro D.: 0.9100657 e Erro G.: 1.7223762\n",
      "época: 40, Erro D.: 0.78960246 e Erro G.: 2.3959913\n",
      "época: 41, Erro D.: 1.1237283 e Erro G.: 3.786915\n",
      "época: 42, Erro D.: 1.1448374 e Erro G.: 1.8688298\n",
      "época: 43, Erro D.: 0.91370237 e Erro G.: 2.1806762\n",
      "época: 44, Erro D.: 0.9756992 e Erro G.: 2.0145178\n",
      "época: 45, Erro D.: 1.1322842 e Erro G.: 2.1514847\n",
      "época: 46, Erro D.: 1.3413713 e Erro G.: 2.0698977\n",
      "época: 47, Erro D.: 0.8316843 e Erro G.: 2.6692207\n",
      "época: 48, Erro D.: 0.8367813 e Erro G.: 1.8538572\n",
      "época: 49, Erro D.: 0.74511606 e Erro G.: 2.6760669\n",
      "época: 50, Erro D.: 1.2809316 e Erro G.: 1.6221188\n",
      "época: 51, Erro D.: 0.99912584 e Erro G.: 1.6505998\n",
      "época: 52, Erro D.: 1.0256368 e Erro G.: 1.9368758\n",
      "época: 53, Erro D.: 1.2004454 e Erro G.: 1.1834147\n",
      "época: 54, Erro D.: 0.8727863 e Erro G.: 2.2430363\n",
      "época: 55, Erro D.: 0.9444523 e Erro G.: 2.100072\n",
      "época: 56, Erro D.: 0.9785521 e Erro G.: 1.9618657\n",
      "época: 57, Erro D.: 1.0002087 e Erro G.: 2.0681965\n",
      "época: 58, Erro D.: 0.7785541 e Erro G.: 3.468422\n",
      "época: 59, Erro D.: 0.878167 e Erro G.: 3.1167452\n",
      "época: 60, Erro D.: 0.85698885 e Erro G.: 2.0640147\n",
      "época: 61, Erro D.: 1.0773793 e Erro G.: 2.4467003\n",
      "época: 62, Erro D.: 0.9050056 e Erro G.: 2.0624702\n",
      "época: 63, Erro D.: 1.0051646 e Erro G.: 2.0329936\n",
      "época: 64, Erro D.: 0.756033 e Erro G.: 1.949726\n",
      "época: 65, Erro D.: 0.872384 e Erro G.: 1.9820551\n",
      "época: 66, Erro D.: 0.94133425 e Erro G.: 2.4862936\n",
      "época: 67, Erro D.: 0.9927417 e Erro G.: 2.114178\n",
      "época: 68, Erro D.: 0.9397694 e Erro G.: 1.9499478\n",
      "época: 69, Erro D.: 1.1132123 e Erro G.: 1.6622043\n",
      "época: 70, Erro D.: 0.81038725 e Erro G.: 2.4043248\n",
      "época: 71, Erro D.: 0.99022365 e Erro G.: 2.3646533\n",
      "época: 72, Erro D.: 0.7419157 e Erro G.: 2.3574173\n",
      "época: 73, Erro D.: 1.0920058 e Erro G.: 1.7454394\n",
      "época: 74, Erro D.: 0.9211513 e Erro G.: 2.2345095\n",
      "época: 75, Erro D.: 1.0093708 e Erro G.: 1.6227386\n",
      "época: 76, Erro D.: 0.98087573 e Erro G.: 1.3517963\n",
      "época: 77, Erro D.: 1.2127647 e Erro G.: 2.2826314\n",
      "época: 78, Erro D.: 1.0514247 e Erro G.: 2.0278246\n",
      "época: 79, Erro D.: 1.1090767 e Erro G.: 1.2734834\n",
      "época: 80, Erro D.: 0.8827282 e Erro G.: 1.8634378\n",
      "época: 81, Erro D.: 0.9691955 e Erro G.: 2.0417686\n",
      "época: 82, Erro D.: 0.85970795 e Erro G.: 1.5733764\n",
      "época: 83, Erro D.: 0.9906852 e Erro G.: 1.7095385\n",
      "época: 84, Erro D.: 1.020231 e Erro G.: 1.6803726\n",
      "época: 85, Erro D.: 1.0427537 e Erro G.: 1.8696436\n",
      "época: 86, Erro D.: 0.9431342 e Erro G.: 2.0005414\n",
      "época: 87, Erro D.: 0.9552218 e Erro G.: 1.4230765\n",
      "época: 88, Erro D.: 1.070332 e Erro G.: 1.5323845\n",
      "época: 89, Erro D.: 1.0525538 e Erro G.: 1.4775031\n",
      "época: 90, Erro D.: 1.1572682 e Erro G.: 1.13187\n",
      "época: 91, Erro D.: 1.0238309 e Erro G.: 1.7739476\n",
      "época: 92, Erro D.: 0.90433097 e Erro G.: 1.6390878\n",
      "época: 93, Erro D.: 0.9360238 e Erro G.: 1.6937203\n",
      "época: 94, Erro D.: 0.8074504 e Erro G.: 2.433882\n",
      "época: 95, Erro D.: 1.1010898 e Erro G.: 1.2537265\n",
      "época: 96, Erro D.: 0.9491619 e Erro G.: 1.6618762\n",
      "época: 97, Erro D.: 1.209393 e Erro G.: 1.1578923\n",
      "época: 98, Erro D.: 1.0698464 e Erro G.: 1.990157\n",
      "época: 99, Erro D.: 1.1551946 e Erro G.: 1.789488\n",
      "época: 100, Erro D.: 1.0151055 e Erro G.: 1.9910909\n",
      "época: 101, Erro D.: 1.123538 e Erro G.: 1.9193997\n",
      "época: 102, Erro D.: 0.91380066 e Erro G.: 1.7181482\n",
      "época: 103, Erro D.: 1.2135282 e Erro G.: 1.6991497\n",
      "época: 104, Erro D.: 1.2985315 e Erro G.: 1.721516\n",
      "época: 105, Erro D.: 1.1740621 e Erro G.: 1.5144886\n",
      "época: 106, Erro D.: 1.0133033 e Erro G.: 1.8952833\n",
      "época: 107, Erro D.: 1.0035901 e Erro G.: 1.7823327\n",
      "época: 108, Erro D.: 1.0824932 e Erro G.: 1.5135127\n",
      "época: 109, Erro D.: 1.0414495 e Erro G.: 1.6501305\n",
      "época: 110, Erro D.: 1.3438742 e Erro G.: 1.0831436\n",
      "época: 111, Erro D.: 0.9509448 e Erro G.: 1.6923102\n",
      "época: 112, Erro D.: 1.0726838 e Erro G.: 1.4519069\n",
      "época: 113, Erro D.: 0.9558003 e Erro G.: 1.59772\n",
      "época: 114, Erro D.: 1.211186 e Erro G.: 1.2912327\n",
      "época: 115, Erro D.: 1.029578 e Erro G.: 1.4195971\n",
      "época: 116, Erro D.: 0.8740811 e Erro G.: 1.9528909\n",
      "época: 117, Erro D.: 0.9285378 e Erro G.: 1.4555358\n",
      "época: 118, Erro D.: 1.2215371 e Erro G.: 1.1821308\n",
      "época: 119, Erro D.: 1.0020636 e Erro G.: 1.6963713\n",
      "época: 120, Erro D.: 1.274232 e Erro G.: 1.209675\n",
      "época: 121, Erro D.: 1.1108202 e Erro G.: 1.4467067\n",
      "época: 122, Erro D.: 1.1032758 e Erro G.: 1.6190182\n",
      "época: 123, Erro D.: 1.0874183 e Erro G.: 1.9145433\n",
      "época: 124, Erro D.: 1.0818081 e Erro G.: 1.5221301\n",
      "época: 125, Erro D.: 1.1371493 e Erro G.: 1.3495532\n",
      "época: 126, Erro D.: 1.0975058 e Erro G.: 1.5656662\n",
      "época: 127, Erro D.: 1.0121828 e Erro G.: 1.4807029\n",
      "época: 128, Erro D.: 1.1482636 e Erro G.: 1.5132968\n",
      "época: 129, Erro D.: 1.2668703 e Erro G.: 1.3040584\n",
      "época: 130, Erro D.: 1.0497539 e Erro G.: 1.4415721\n",
      "época: 131, Erro D.: 1.023504 e Erro G.: 1.4020674\n",
      "época: 132, Erro D.: 1.166565 e Erro G.: 1.3813969\n",
      "época: 133, Erro D.: 1.0017693 e Erro G.: 1.3131157\n",
      "época: 134, Erro D.: 1.167136 e Erro G.: 1.2585635\n",
      "época: 135, Erro D.: 1.195727 e Erro G.: 1.1094334\n",
      "época: 136, Erro D.: 1.1595652 e Erro G.: 1.2453339\n",
      "época: 137, Erro D.: 1.1376334 e Erro G.: 1.2764915\n",
      "época: 138, Erro D.: 1.1002836 e Erro G.: 1.5467732\n",
      "época: 139, Erro D.: 1.1227559 e Erro G.: 1.4133197\n",
      "época: 140, Erro D.: 1.0749407 e Erro G.: 1.3851689\n",
      "época: 141, Erro D.: 1.0396001 e Erro G.: 1.3704703\n",
      "época: 142, Erro D.: 1.1498588 e Erro G.: 1.1553144\n",
      "época: 143, Erro D.: 1.1555371 e Erro G.: 1.2045151\n",
      "época: 144, Erro D.: 0.9037807 e Erro G.: 1.7879915\n",
      "época: 145, Erro D.: 0.9845054 e Erro G.: 1.5112079\n",
      "época: 146, Erro D.: 1.0780183 e Erro G.: 1.3679806\n",
      "época: 147, Erro D.: 1.1882482 e Erro G.: 1.2844867\n",
      "época: 148, Erro D.: 0.9861883 e Erro G.: 1.3307956\n",
      "época: 149, Erro D.: 1.1368945 e Erro G.: 1.236729\n",
      "época: 150, Erro D.: 1.1352994 e Erro G.: 1.1427816\n",
      "época: 151, Erro D.: 1.102184 e Erro G.: 1.4146353\n",
      "época: 152, Erro D.: 1.3707309 e Erro G.: 1.1024973\n",
      "época: 153, Erro D.: 1.0324419 e Erro G.: 1.2658767\n",
      "época: 154, Erro D.: 1.3697658 e Erro G.: 1.5515219\n",
      "época: 155, Erro D.: 1.3899314 e Erro G.: 1.1140906\n",
      "época: 156, Erro D.: 1.1126522 e Erro G.: 1.2233282\n",
      "época: 157, Erro D.: 0.95789826 e Erro G.: 1.9492393\n",
      "época: 158, Erro D.: 1.2221528 e Erro G.: 1.1093236\n",
      "época: 159, Erro D.: 1.217932 e Erro G.: 1.1529237\n"
     ]
    },
    {
     "name": "stdout",
     "output_type": "stream",
     "text": [
      "época: 160, Erro D.: 1.182055 e Erro G.: 1.1546664\n",
      "época: 161, Erro D.: 1.3863733 e Erro G.: 1.0662974\n",
      "época: 162, Erro D.: 1.3088927 e Erro G.: 0.94574326\n",
      "época: 163, Erro D.: 1.1203063 e Erro G.: 1.2296206\n",
      "época: 164, Erro D.: 1.1126914 e Erro G.: 1.4186087\n",
      "época: 165, Erro D.: 1.2442913 e Erro G.: 1.0845933\n",
      "época: 166, Erro D.: 1.1108679 e Erro G.: 1.4879433\n",
      "época: 167, Erro D.: 1.0565138 e Erro G.: 1.343333\n",
      "época: 168, Erro D.: 1.1016808 e Erro G.: 1.1959095\n",
      "época: 169, Erro D.: 0.956926 e Erro G.: 1.5738997\n",
      "época: 170, Erro D.: 1.1908548 e Erro G.: 1.1835796\n",
      "época: 171, Erro D.: 1.0786984 e Erro G.: 1.5152987\n",
      "época: 172, Erro D.: 1.1622562 e Erro G.: 1.1278623\n",
      "época: 173, Erro D.: 1.1015161 e Erro G.: 1.3473111\n",
      "época: 174, Erro D.: 1.1498659 e Erro G.: 1.2125052\n",
      "época: 175, Erro D.: 1.2077018 e Erro G.: 1.1743629\n",
      "época: 176, Erro D.: 1.1106342 e Erro G.: 1.4416168\n",
      "época: 177, Erro D.: 1.2405256 e Erro G.: 1.0905844\n",
      "época: 178, Erro D.: 1.1080022 e Erro G.: 1.2444919\n",
      "época: 179, Erro D.: 1.2164679 e Erro G.: 1.1407965\n",
      "época: 180, Erro D.: 1.0710098 e Erro G.: 1.4821424\n",
      "época: 181, Erro D.: 1.4261307 e Erro G.: 1.1718674\n",
      "época: 182, Erro D.: 1.2160637 e Erro G.: 1.2511873\n",
      "época: 183, Erro D.: 1.1033424 e Erro G.: 1.1727257\n",
      "época: 184, Erro D.: 1.1756238 e Erro G.: 1.2132378\n",
      "época: 185, Erro D.: 1.2195265 e Erro G.: 1.4443462\n",
      "época: 186, Erro D.: 1.1515155 e Erro G.: 1.1871986\n",
      "época: 187, Erro D.: 1.0994989 e Erro G.: 1.2206695\n",
      "época: 188, Erro D.: 1.1821008 e Erro G.: 1.1262987\n",
      "época: 189, Erro D.: 1.0779567 e Erro G.: 1.3116602\n",
      "época: 190, Erro D.: 1.2628207 e Erro G.: 1.3225331\n",
      "época: 191, Erro D.: 1.1892931 e Erro G.: 1.4157081\n",
      "época: 192, Erro D.: 1.3474748 e Erro G.: 1.0339133\n",
      "época: 193, Erro D.: 1.3249886 e Erro G.: 1.3346062\n",
      "época: 194, Erro D.: 1.2094564 e Erro G.: 1.0485642\n",
      "época: 195, Erro D.: 1.1575017 e Erro G.: 1.75954\n",
      "época: 196, Erro D.: 1.202477 e Erro G.: 1.1251886\n",
      "época: 197, Erro D.: 1.1307225 e Erro G.: 1.136069\n",
      "época: 198, Erro D.: 0.91568106 e Erro G.: 1.7211477\n",
      "época: 199, Erro D.: 1.3113284 e Erro G.: 1.0441165\n",
      "época: 200, Erro D.: 1.2125651 e Erro G.: 1.1174767\n",
      "época: 201, Erro D.: 1.339148 e Erro G.: 1.028255\n",
      "época: 202, Erro D.: 1.2465067 e Erro G.: 1.0797788\n",
      "época: 203, Erro D.: 1.2888232 e Erro G.: 1.7103112\n",
      "época: 204, Erro D.: 1.5733037 e Erro G.: 0.8500171\n",
      "época: 205, Erro D.: 1.2504326 e Erro G.: 1.0676361\n",
      "época: 206, Erro D.: 1.1379207 e Erro G.: 1.4663379\n",
      "época: 207, Erro D.: 1.233188 e Erro G.: 1.144112\n",
      "época: 208, Erro D.: 1.1720095 e Erro G.: 1.321829\n",
      "época: 209, Erro D.: 1.0493382 e Erro G.: 1.4257405\n",
      "época: 210, Erro D.: 1.3109493 e Erro G.: 1.0302199\n",
      "época: 211, Erro D.: 1.316917 e Erro G.: 1.0382562\n",
      "época: 212, Erro D.: 1.2244923 e Erro G.: 1.0848598\n",
      "época: 213, Erro D.: 1.20366 e Erro G.: 1.0482931\n",
      "época: 214, Erro D.: 1.2330511 e Erro G.: 1.122352\n",
      "época: 215, Erro D.: 1.014503 e Erro G.: 1.5401767\n",
      "época: 216, Erro D.: 1.3509169 e Erro G.: 0.9609677\n",
      "época: 217, Erro D.: 1.1807395 e Erro G.: 1.0499377\n",
      "época: 218, Erro D.: 1.185008 e Erro G.: 1.1750551\n",
      "época: 219, Erro D.: 1.2688389 e Erro G.: 0.9841595\n",
      "época: 220, Erro D.: 1.1151698 e Erro G.: 1.4032655\n",
      "época: 221, Erro D.: 1.186362 e Erro G.: 1.5978159\n",
      "época: 222, Erro D.: 1.182636 e Erro G.: 1.5226488\n",
      "época: 223, Erro D.: 1.1640049 e Erro G.: 1.1848747\n",
      "época: 224, Erro D.: 1.2418984 e Erro G.: 1.1350268\n",
      "época: 225, Erro D.: 1.3387363 e Erro G.: 0.9917749\n",
      "época: 226, Erro D.: 1.2767401 e Erro G.: 1.1566186\n",
      "época: 227, Erro D.: 1.3732517 e Erro G.: 1.1640514\n",
      "época: 228, Erro D.: 1.1836965 e Erro G.: 1.1110424\n",
      "época: 229, Erro D.: 1.2918267 e Erro G.: 0.9404687\n",
      "época: 230, Erro D.: 1.3637713 e Erro G.: 1.0818896\n",
      "época: 231, Erro D.: 1.2611911 e Erro G.: 1.0796415\n",
      "época: 232, Erro D.: 1.1172088 e Erro G.: 1.4866327\n",
      "época: 233, Erro D.: 1.468287 e Erro G.: 0.90772665\n",
      "época: 234, Erro D.: 1.252105 e Erro G.: 1.0606854\n",
      "época: 235, Erro D.: 1.306377 e Erro G.: 0.92697465\n",
      "época: 236, Erro D.: 1.7656646 e Erro G.: 1.5364201\n",
      "época: 237, Erro D.: 1.2141808 e Erro G.: 1.0746509\n",
      "época: 238, Erro D.: 1.1807187 e Erro G.: 1.1174932\n",
      "época: 239, Erro D.: 1.5353575 e Erro G.: 0.8481827\n",
      "época: 240, Erro D.: 1.2569096 e Erro G.: 0.99522096\n",
      "época: 241, Erro D.: 1.2287575 e Erro G.: 1.4473437\n",
      "época: 242, Erro D.: 1.1737816 e Erro G.: 1.0818946\n",
      "época: 243, Erro D.: 1.2124035 e Erro G.: 1.193665\n",
      "época: 244, Erro D.: 1.3635106 e Erro G.: 0.9948915\n",
      "época: 245, Erro D.: 1.2040033 e Erro G.: 1.1878865\n",
      "época: 246, Erro D.: 1.1295376 e Erro G.: 1.3072253\n",
      "época: 247, Erro D.: 1.2286568 e Erro G.: 1.1315111\n",
      "época: 248, Erro D.: 1.3126428 e Erro G.: 0.9504874\n",
      "época: 249, Erro D.: 1.1148516 e Erro G.: 1.5372119\n",
      "época: 250, Erro D.: 1.199367 e Erro G.: 1.1846077\n",
      "época: 251, Erro D.: 1.1883364 e Erro G.: 1.1996634\n",
      "época: 252, Erro D.: 1.308383 e Erro G.: 0.9544871\n",
      "época: 253, Erro D.: 1.402122 e Erro G.: 1.2519144\n",
      "época: 254, Erro D.: 1.304866 e Erro G.: 1.0575392\n",
      "época: 255, Erro D.: 1.0245985 e Erro G.: 1.7854537\n",
      "época: 256, Erro D.: 1.2513796 e Erro G.: 1.1063957\n",
      "época: 257, Erro D.: 1.1993486 e Erro G.: 0.9682097\n",
      "época: 258, Erro D.: 1.2205935 e Erro G.: 1.0600524\n",
      "época: 259, Erro D.: 1.3606858 e Erro G.: 0.96336603\n",
      "época: 260, Erro D.: 1.2708421 e Erro G.: 1.2492527\n",
      "época: 261, Erro D.: 1.2111695 e Erro G.: 1.0568634\n",
      "época: 262, Erro D.: 1.0265269 e Erro G.: 1.567136\n",
      "época: 263, Erro D.: 1.198757 e Erro G.: 1.3896365\n",
      "época: 264, Erro D.: 1.2885108 e Erro G.: 1.04046\n",
      "época: 265, Erro D.: 1.2681005 e Erro G.: 1.0412458\n",
      "época: 266, Erro D.: 1.1281886 e Erro G.: 1.2101914\n",
      "época: 267, Erro D.: 1.2795784 e Erro G.: 0.985556\n",
      "época: 268, Erro D.: 1.2772589 e Erro G.: 1.0480388\n",
      "época: 269, Erro D.: 1.182699 e Erro G.: 1.0895438\n",
      "época: 270, Erro D.: 1.0641139 e Erro G.: 1.2509314\n",
      "época: 271, Erro D.: 1.1851158 e Erro G.: 1.230259\n",
      "época: 272, Erro D.: 1.3146448 e Erro G.: 1.0186257\n",
      "época: 273, Erro D.: 1.2510829 e Erro G.: 1.0930325\n",
      "época: 274, Erro D.: 1.2604371 e Erro G.: 1.0865648\n",
      "época: 275, Erro D.: 1.2780712 e Erro G.: 1.0412072\n",
      "época: 276, Erro D.: 1.3108637 e Erro G.: 1.0798055\n",
      "época: 277, Erro D.: 1.2698462 e Erro G.: 1.1202116\n",
      "época: 278, Erro D.: 1.2294252 e Erro G.: 1.0755544\n",
      "época: 279, Erro D.: 1.4142706 e Erro G.: 0.9454055\n",
      "época: 280, Erro D.: 1.1925204 e Erro G.: 1.1104997\n",
      "época: 281, Erro D.: 1.0780692 e Erro G.: 1.3023846\n",
      "época: 282, Erro D.: 1.0907837 e Erro G.: 1.3578572\n",
      "época: 283, Erro D.: 1.2359346 e Erro G.: 0.950977\n",
      "época: 284, Erro D.: 1.2939501 e Erro G.: 1.0678574\n",
      "época: 285, Erro D.: 1.3320316 e Erro G.: 1.0040098\n",
      "época: 286, Erro D.: 1.1305753 e Erro G.: 1.9257567\n",
      "época: 287, Erro D.: 1.2532253 e Erro G.: 1.0058423\n",
      "época: 288, Erro D.: 1.42565 e Erro G.: 0.9401547\n",
      "época: 289, Erro D.: 1.7092996 e Erro G.: 1.2060213\n",
      "época: 290, Erro D.: 1.2794702 e Erro G.: 1.1187327\n",
      "época: 291, Erro D.: 1.2321494 e Erro G.: 1.1037167\n",
      "época: 292, Erro D.: 1.2638335 e Erro G.: 1.0086675\n",
      "época: 293, Erro D.: 1.363578 e Erro G.: 1.1534501\n",
      "época: 294, Erro D.: 1.331384 e Erro G.: 1.0824512\n",
      "época: 295, Erro D.: 1.4278449 e Erro G.: 0.9221094\n",
      "época: 296, Erro D.: 1.4199204 e Erro G.: 0.9993818\n",
      "época: 297, Erro D.: 1.1995862 e Erro G.: 1.2830124\n",
      "época: 298, Erro D.: 1.1677567 e Erro G.: 1.3277805\n",
      "época: 299, Erro D.: 1.1422762 e Erro G.: 1.1621807\n",
      "época: 300, Erro D.: 1.1866909 e Erro G.: 1.1800933\n"
     ]
    }
   ],
   "source": [
    "batch_size = 100\n",
    "amostras_teste = [] # para verificarmos a geração das imagens ao longo dos treinos\n",
    "with tf.Session() as sess:\n",
    "    sess.run(tf.global_variables_initializer())\n",
    "    \n",
    "    print(\"\\nErro D. -> Erro do discriminador\\n\")\n",
    "    print(\"Erro G. -> Erro do Gerador\\n\")\n",
    "    \n",
    "    for epoca in range(300):\n",
    "        numero_batches = mnist.train.num_examples // batch_size # Obtem a quantidade de lotes que teremos que rodar\n",
    "        for i in range(numero_batches):\n",
    "            batch = mnist.train.next_batch(batch_size) # obtem o lote seguinte\n",
    "            imagens_batch = batch[0].reshape((100, 784)) # obtem as próximas imagens do lote seguinte\n",
    "            imagens_batch = imagens_batch * 2 - 1 # faz a transformação pois estamos usando tang. hiperbólica\n",
    "            \n",
    "            batch_ruido = np.random.uniform(-1, 1, size = (batch_size, 100))\n",
    "            \n",
    "            # Treino do discriminador\n",
    "            _, custod = sess.run([treinamento_discriminador, erro_discriminador], \n",
    "                                 feed_dict = {imagens_reais_ph: imagens_batch, \n",
    "                                              ruido_ph: batch_ruido})\n",
    "            \n",
    "            # Treino do gerador\n",
    "            _, custog = sess.run([treinamento_gerador, erro_gerador], feed_dict = {ruido_ph: batch_ruido})\n",
    "            \n",
    "        \n",
    "        print('época: ' + str(epoca + 1) + ', Erro D.: ' + str(custod) + ' e Erro G.: ' + str(custog))\n",
    "        \n",
    "        # Só obtemos a imagem após termos treinado por uma época\n",
    "        ruido_teste = np.random.uniform(-1, 1, size = (1, 100))\n",
    "        imagem_gerada = sess.run(gerador(ruido_ph, reuse = True), feed_dict = {ruido_ph: ruido_teste})\n",
    "        amostras_teste.append(imagem_gerada) # para vermos a evolução do algoritmo"
   ]
  },
  {
   "cell_type": "code",
   "execution_count": null,
   "metadata": {},
   "outputs": [],
   "source": []
  },
  {
   "cell_type": "code",
   "execution_count": 39,
   "metadata": {},
   "outputs": [
    {
     "data": {
      "text/plain": [
       "<matplotlib.image.AxesImage at 0x1f0e4a62eb8>"
      ]
     },
     "execution_count": 39,
     "metadata": {},
     "output_type": "execute_result"
    },
    {
     "data": {
      "image/png": "[encoded data removed]",
      "text/plain": [
       "<Figure size 432x288 with 1 Axes>"
      ]
     },
     "metadata": {
      "needs_background": "light"
     },
     "output_type": "display_data"
    }
   ],
   "source": [
    "# Agora vamos analisar algumas imagens geradas do começo do treinamento até o final\n",
    "plt.imshow(amostras_teste[0].reshape(28,28)) # primeira imagem\n",
    "# Podemos ver que é uma imagem parecida com as que a gente estava gerando aleatoriamente"
   ]
  },
  {
   "cell_type": "code",
   "execution_count": 40,
   "metadata": {},
   "outputs": [
    {
     "data": {
      "text/plain": [
       "<matplotlib.image.AxesImage at 0x1f0e4ac3710>"
      ]
     },
     "execution_count": 40,
     "metadata": {},
     "output_type": "execute_result"
    },
    {
     "data": {
      "image/png": "[encoded data removed]",
      "text/plain": [
       "<Figure size 432x288 with 1 Axes>"
      ]
     },
     "metadata": {
      "needs_background": "light"
     },
     "output_type": "display_data"
    }
   ],
   "source": [
    "plt.imshow(amostras_teste[int(len(amostras_teste)/2)].reshape(28,28)) # imagem gerada no meio do treinamento"
   ]
  },
  {
   "cell_type": "code",
   "execution_count": 41,
   "metadata": {},
   "outputs": [
    {
     "data": {
      "text/plain": [
       "<matplotlib.image.AxesImage at 0x1f0e4b1dc88>"
      ]
     },
     "execution_count": 41,
     "metadata": {},
     "output_type": "execute_result"
    },
    {
     "data": {
      "image/png": "[encoded data removed]",
      "text/plain": [
       "<Figure size 432x288 with 1 Axes>"
      ]
     },
     "metadata": {
      "needs_background": "light"
     },
     "output_type": "display_data"
    }
   ],
   "source": [
    "plt.imshow(amostras_teste[-1].reshape(28,28)) # última imagem"
   ]
  },
  {
   "cell_type": "code",
   "execution_count": 42,
   "metadata": {},
   "outputs": [
    {
     "data": {
      "text/plain": [
       "<matplotlib.image.AxesImage at 0x1f0e4b84438>"
      ]
     },
     "execution_count": 42,
     "metadata": {},
     "output_type": "execute_result"
    },
    {
     "data": {
      "image/png": "[encoded data removed]",
      "text/plain": [
       "<Figure size 432x288 with 1 Axes>"
      ]
     },
     "metadata": {
      "needs_background": "light"
     },
     "output_type": "display_data"
    }
   ],
   "source": [
    "plt.imshow(amostras_teste[-2].reshape(28,28)) # penúltima imagem"
   ]
  },
  {
   "cell_type": "code",
   "execution_count": 43,
   "metadata": {},
   "outputs": [
    {
     "data": {
      "text/plain": [
       "<matplotlib.image.AxesImage at 0x1f0e4c5fa58>"
      ]
     },
     "execution_count": 43,
     "metadata": {},
     "output_type": "execute_result"
    },
    {
     "data": {
      "image/png": "[encoded data removed]",
      "text/plain": [
       "<Figure size 432x288 with 1 Axes>"
      ]
     },
     "metadata": {
      "needs_background": "light"
     },
     "output_type": "display_data"
    }
   ],
   "source": [
    "plt.imshow(amostras_teste[-3].reshape(28,28)) # anti penúltima imagem"
   ]
  },
  {
   "cell_type": "code",
   "execution_count": null,
   "metadata": {},
   "outputs": [],
   "source": []
  }
 ],
 "metadata": {
  "kernelspec": {
   "display_name": "tensorflow2_py37",
   "language": "python",
   "name": "tensorflow2_py37"
  },
  "language_info": {
   "codemirror_mode": {
    "name": "ipython",
    "version": 3
   },
   "file_extension": ".py",
   "mimetype": "text/x-python",
   "name": "python",
   "nbconvert_exporter": "python",
   "pygments_lexer": "ipython3",
   "version": "3.6.10"
  }
 },
 "nbformat": 4,
 "nbformat_minor": 4
}
