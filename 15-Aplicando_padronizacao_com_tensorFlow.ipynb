{
 "cells": [
  {
   "cell_type": "code",
   "execution_count": 1,
   "metadata": {},
   "outputs": [
    {
     "name": "stderr",
     "output_type": "stream",
     "text": [
      "C:\\Users\\Natielle\\anaconda3\\envs\\tensorflow2_py37\\lib\\site-packages\\tensorflow\\python\\framework\\dtypes.py:526: FutureWarning: Passing (type, 1) or '1type' as a synonym of type is deprecated; in a future version of numpy, it will be understood as (type, (1,)) / '(1,)type'.\n",
      "  _np_qint8 = np.dtype([(\"qint8\", np.int8, 1)])\n",
      "C:\\Users\\Natielle\\anaconda3\\envs\\tensorflow2_py37\\lib\\site-packages\\tensorflow\\python\\framework\\dtypes.py:527: FutureWarning: Passing (type, 1) or '1type' as a synonym of type is deprecated; in a future version of numpy, it will be understood as (type, (1,)) / '(1,)type'.\n",
      "  _np_quint8 = np.dtype([(\"quint8\", np.uint8, 1)])\n",
      "C:\\Users\\Natielle\\anaconda3\\envs\\tensorflow2_py37\\lib\\site-packages\\tensorflow\\python\\framework\\dtypes.py:528: FutureWarning: Passing (type, 1) or '1type' as a synonym of type is deprecated; in a future version of numpy, it will be understood as (type, (1,)) / '(1,)type'.\n",
      "  _np_qint16 = np.dtype([(\"qint16\", np.int16, 1)])\n",
      "C:\\Users\\Natielle\\anaconda3\\envs\\tensorflow2_py37\\lib\\site-packages\\tensorflow\\python\\framework\\dtypes.py:529: FutureWarning: Passing (type, 1) or '1type' as a synonym of type is deprecated; in a future version of numpy, it will be understood as (type, (1,)) / '(1,)type'.\n",
      "  _np_quint16 = np.dtype([(\"quint16\", np.uint16, 1)])\n",
      "C:\\Users\\Natielle\\anaconda3\\envs\\tensorflow2_py37\\lib\\site-packages\\tensorflow\\python\\framework\\dtypes.py:530: FutureWarning: Passing (type, 1) or '1type' as a synonym of type is deprecated; in a future version of numpy, it will be understood as (type, (1,)) / '(1,)type'.\n",
      "  _np_qint32 = np.dtype([(\"qint32\", np.int32, 1)])\n",
      "C:\\Users\\Natielle\\anaconda3\\envs\\tensorflow2_py37\\lib\\site-packages\\tensorflow\\python\\framework\\dtypes.py:535: FutureWarning: Passing (type, 1) or '1type' as a synonym of type is deprecated; in a future version of numpy, it will be understood as (type, (1,)) / '(1,)type'.\n",
      "  np_resource = np.dtype([(\"resource\", np.ubyte, 1)])\n"
     ]
    }
   ],
   "source": [
    "import pandas as pd\n",
    "from sklearn.model_selection import train_test_split\n",
    "import tensorflow as tf"
   ]
  },
  {
   "cell_type": "markdown",
   "metadata": {},
   "source": [
    "# Padronizando os dados com o tensorFlow \n",
    "## Aplicando no exemplo anterior (arquivo 13)\n",
    "\n",
    "O objetivo é conseguirmos predizer se a pessoa terá uma renda maior ou menor que 50 mil por ano.\n",
    "E vamos aplicar a RNA no banco de dados chamado 'census.csv', **porém, vamos padronizar os dados.**"
   ]
  },
  {
   "cell_type": "code",
   "execution_count": 2,
   "metadata": {},
   "outputs": [
    {
     "data": {
      "text/html": [
       "<div>\n",
       "<style scoped>\n",
       "    .dataframe tbody tr th:only-of-type {\n",
       "        vertical-align: middle;\n",
       "    }\n",
       "\n",
       "    .dataframe tbody tr th {\n",
       "        vertical-align: top;\n",
       "    }\n",
       "\n",
       "    .dataframe thead th {\n",
       "        text-align: right;\n",
       "    }\n",
       "</style>\n",
       "<table border=\"1\" class=\"dataframe\">\n",
       "  <thead>\n",
       "    <tr style=\"text-align: right;\">\n",
       "      <th></th>\n",
       "      <th>age</th>\n",
       "      <th>workclass</th>\n",
       "      <th>final-weight</th>\n",
       "      <th>education</th>\n",
       "      <th>education-num</th>\n",
       "      <th>marital-status</th>\n",
       "      <th>occupation</th>\n",
       "      <th>relationship</th>\n",
       "      <th>race</th>\n",
       "      <th>sex</th>\n",
       "      <th>capital-gain</th>\n",
       "      <th>capital-loos</th>\n",
       "      <th>hour-per-week</th>\n",
       "      <th>native-country</th>\n",
       "      <th>income</th>\n",
       "    </tr>\n",
       "  </thead>\n",
       "  <tbody>\n",
       "    <tr>\n",
       "      <th>0</th>\n",
       "      <td>39</td>\n",
       "      <td>State-gov</td>\n",
       "      <td>77516</td>\n",
       "      <td>Bachelors</td>\n",
       "      <td>13</td>\n",
       "      <td>Never-married</td>\n",
       "      <td>Adm-clerical</td>\n",
       "      <td>Not-in-family</td>\n",
       "      <td>White</td>\n",
       "      <td>Male</td>\n",
       "      <td>2174</td>\n",
       "      <td>0</td>\n",
       "      <td>40</td>\n",
       "      <td>United-States</td>\n",
       "      <td>&lt;=50K</td>\n",
       "    </tr>\n",
       "    <tr>\n",
       "      <th>1</th>\n",
       "      <td>50</td>\n",
       "      <td>Self-emp-not-inc</td>\n",
       "      <td>83311</td>\n",
       "      <td>Bachelors</td>\n",
       "      <td>13</td>\n",
       "      <td>Married-civ-spouse</td>\n",
       "      <td>Exec-managerial</td>\n",
       "      <td>Husband</td>\n",
       "      <td>White</td>\n",
       "      <td>Male</td>\n",
       "      <td>0</td>\n",
       "      <td>0</td>\n",
       "      <td>13</td>\n",
       "      <td>United-States</td>\n",
       "      <td>&lt;=50K</td>\n",
       "    </tr>\n",
       "    <tr>\n",
       "      <th>2</th>\n",
       "      <td>38</td>\n",
       "      <td>Private</td>\n",
       "      <td>215646</td>\n",
       "      <td>HS-grad</td>\n",
       "      <td>9</td>\n",
       "      <td>Divorced</td>\n",
       "      <td>Handlers-cleaners</td>\n",
       "      <td>Not-in-family</td>\n",
       "      <td>White</td>\n",
       "      <td>Male</td>\n",
       "      <td>0</td>\n",
       "      <td>0</td>\n",
       "      <td>40</td>\n",
       "      <td>United-States</td>\n",
       "      <td>&lt;=50K</td>\n",
       "    </tr>\n",
       "    <tr>\n",
       "      <th>3</th>\n",
       "      <td>53</td>\n",
       "      <td>Private</td>\n",
       "      <td>234721</td>\n",
       "      <td>11th</td>\n",
       "      <td>7</td>\n",
       "      <td>Married-civ-spouse</td>\n",
       "      <td>Handlers-cleaners</td>\n",
       "      <td>Husband</td>\n",
       "      <td>Black</td>\n",
       "      <td>Male</td>\n",
       "      <td>0</td>\n",
       "      <td>0</td>\n",
       "      <td>40</td>\n",
       "      <td>United-States</td>\n",
       "      <td>&lt;=50K</td>\n",
       "    </tr>\n",
       "    <tr>\n",
       "      <th>4</th>\n",
       "      <td>28</td>\n",
       "      <td>Private</td>\n",
       "      <td>338409</td>\n",
       "      <td>Bachelors</td>\n",
       "      <td>13</td>\n",
       "      <td>Married-civ-spouse</td>\n",
       "      <td>Prof-specialty</td>\n",
       "      <td>Wife</td>\n",
       "      <td>Black</td>\n",
       "      <td>Female</td>\n",
       "      <td>0</td>\n",
       "      <td>0</td>\n",
       "      <td>40</td>\n",
       "      <td>Cuba</td>\n",
       "      <td>&lt;=50K</td>\n",
       "    </tr>\n",
       "  </tbody>\n",
       "</table>\n",
       "</div>"
      ],
      "text/plain": [
       "   age          workclass  final-weight   education  education-num  \\\n",
       "0   39          State-gov         77516   Bachelors             13   \n",
       "1   50   Self-emp-not-inc         83311   Bachelors             13   \n",
       "2   38            Private        215646     HS-grad              9   \n",
       "3   53            Private        234721        11th              7   \n",
       "4   28            Private        338409   Bachelors             13   \n",
       "\n",
       "        marital-status          occupation    relationship    race      sex  \\\n",
       "0        Never-married        Adm-clerical   Not-in-family   White     Male   \n",
       "1   Married-civ-spouse     Exec-managerial         Husband   White     Male   \n",
       "2             Divorced   Handlers-cleaners   Not-in-family   White     Male   \n",
       "3   Married-civ-spouse   Handlers-cleaners         Husband   Black     Male   \n",
       "4   Married-civ-spouse      Prof-specialty            Wife   Black   Female   \n",
       "\n",
       "   capital-gain  capital-loos  hour-per-week  native-country  income  \n",
       "0          2174             0             40   United-States   <=50K  \n",
       "1             0             0             13   United-States   <=50K  \n",
       "2             0             0             40   United-States   <=50K  \n",
       "3             0             0             40   United-States   <=50K  \n",
       "4             0             0             40            Cuba   <=50K  "
      ]
     },
     "execution_count": 2,
     "metadata": {},
     "output_type": "execute_result"
    }
   ],
   "source": [
    "# Lendo o banco de dados\n",
    "base = pd.read_csv(\"census.csv\")\n",
    "\n",
    "# Para confirmarmos se está tudo certo com o banco olhamos o começinho dele.\n",
    "base.head()"
   ]
  },
  {
   "cell_type": "code",
   "execution_count": 3,
   "metadata": {},
   "outputs": [
    {
     "data": {
      "text/plain": [
       "array([' <=50K', ' >50K'], dtype=object)"
      ]
     },
     "execution_count": 3,
     "metadata": {},
     "output_type": "execute_result"
    }
   ],
   "source": [
    "# Observando a quantidade de classes da coluna que queremos prever\n",
    "base['income'].unique()"
   ]
  },
  {
   "cell_type": "code",
   "execution_count": 4,
   "metadata": {},
   "outputs": [],
   "source": [
    "# Função para convertermos os labels em 0 e 1\n",
    "def converte_classe(rotulo):\n",
    "    if rotulo == ' >50K':\n",
    "        return 1\n",
    "    else:\n",
    "        return 0"
   ]
  },
  {
   "cell_type": "code",
   "execution_count": 5,
   "metadata": {},
   "outputs": [],
   "source": [
    "# Então aplicamos a conversão do labels \n",
    "base.income = base.income.apply(converte_classe)"
   ]
  },
  {
   "cell_type": "code",
   "execution_count": 6,
   "metadata": {},
   "outputs": [
    {
     "data": {
      "text/html": [
       "<div>\n",
       "<style scoped>\n",
       "    .dataframe tbody tr th:only-of-type {\n",
       "        vertical-align: middle;\n",
       "    }\n",
       "\n",
       "    .dataframe tbody tr th {\n",
       "        vertical-align: top;\n",
       "    }\n",
       "\n",
       "    .dataframe thead th {\n",
       "        text-align: right;\n",
       "    }\n",
       "</style>\n",
       "<table border=\"1\" class=\"dataframe\">\n",
       "  <thead>\n",
       "    <tr style=\"text-align: right;\">\n",
       "      <th></th>\n",
       "      <th>age</th>\n",
       "      <th>workclass</th>\n",
       "      <th>final-weight</th>\n",
       "      <th>education</th>\n",
       "      <th>education-num</th>\n",
       "      <th>marital-status</th>\n",
       "      <th>occupation</th>\n",
       "      <th>relationship</th>\n",
       "      <th>race</th>\n",
       "      <th>sex</th>\n",
       "      <th>capital-gain</th>\n",
       "      <th>capital-loos</th>\n",
       "      <th>hour-per-week</th>\n",
       "      <th>native-country</th>\n",
       "      <th>income</th>\n",
       "    </tr>\n",
       "  </thead>\n",
       "  <tbody>\n",
       "    <tr>\n",
       "      <th>0</th>\n",
       "      <td>39</td>\n",
       "      <td>State-gov</td>\n",
       "      <td>77516</td>\n",
       "      <td>Bachelors</td>\n",
       "      <td>13</td>\n",
       "      <td>Never-married</td>\n",
       "      <td>Adm-clerical</td>\n",
       "      <td>Not-in-family</td>\n",
       "      <td>White</td>\n",
       "      <td>Male</td>\n",
       "      <td>2174</td>\n",
       "      <td>0</td>\n",
       "      <td>40</td>\n",
       "      <td>United-States</td>\n",
       "      <td>0</td>\n",
       "    </tr>\n",
       "    <tr>\n",
       "      <th>1</th>\n",
       "      <td>50</td>\n",
       "      <td>Self-emp-not-inc</td>\n",
       "      <td>83311</td>\n",
       "      <td>Bachelors</td>\n",
       "      <td>13</td>\n",
       "      <td>Married-civ-spouse</td>\n",
       "      <td>Exec-managerial</td>\n",
       "      <td>Husband</td>\n",
       "      <td>White</td>\n",
       "      <td>Male</td>\n",
       "      <td>0</td>\n",
       "      <td>0</td>\n",
       "      <td>13</td>\n",
       "      <td>United-States</td>\n",
       "      <td>0</td>\n",
       "    </tr>\n",
       "    <tr>\n",
       "      <th>2</th>\n",
       "      <td>38</td>\n",
       "      <td>Private</td>\n",
       "      <td>215646</td>\n",
       "      <td>HS-grad</td>\n",
       "      <td>9</td>\n",
       "      <td>Divorced</td>\n",
       "      <td>Handlers-cleaners</td>\n",
       "      <td>Not-in-family</td>\n",
       "      <td>White</td>\n",
       "      <td>Male</td>\n",
       "      <td>0</td>\n",
       "      <td>0</td>\n",
       "      <td>40</td>\n",
       "      <td>United-States</td>\n",
       "      <td>0</td>\n",
       "    </tr>\n",
       "    <tr>\n",
       "      <th>3</th>\n",
       "      <td>53</td>\n",
       "      <td>Private</td>\n",
       "      <td>234721</td>\n",
       "      <td>11th</td>\n",
       "      <td>7</td>\n",
       "      <td>Married-civ-spouse</td>\n",
       "      <td>Handlers-cleaners</td>\n",
       "      <td>Husband</td>\n",
       "      <td>Black</td>\n",
       "      <td>Male</td>\n",
       "      <td>0</td>\n",
       "      <td>0</td>\n",
       "      <td>40</td>\n",
       "      <td>United-States</td>\n",
       "      <td>0</td>\n",
       "    </tr>\n",
       "    <tr>\n",
       "      <th>4</th>\n",
       "      <td>28</td>\n",
       "      <td>Private</td>\n",
       "      <td>338409</td>\n",
       "      <td>Bachelors</td>\n",
       "      <td>13</td>\n",
       "      <td>Married-civ-spouse</td>\n",
       "      <td>Prof-specialty</td>\n",
       "      <td>Wife</td>\n",
       "      <td>Black</td>\n",
       "      <td>Female</td>\n",
       "      <td>0</td>\n",
       "      <td>0</td>\n",
       "      <td>40</td>\n",
       "      <td>Cuba</td>\n",
       "      <td>0</td>\n",
       "    </tr>\n",
       "  </tbody>\n",
       "</table>\n",
       "</div>"
      ],
      "text/plain": [
       "   age          workclass  final-weight   education  education-num  \\\n",
       "0   39          State-gov         77516   Bachelors             13   \n",
       "1   50   Self-emp-not-inc         83311   Bachelors             13   \n",
       "2   38            Private        215646     HS-grad              9   \n",
       "3   53            Private        234721        11th              7   \n",
       "4   28            Private        338409   Bachelors             13   \n",
       "\n",
       "        marital-status          occupation    relationship    race      sex  \\\n",
       "0        Never-married        Adm-clerical   Not-in-family   White     Male   \n",
       "1   Married-civ-spouse     Exec-managerial         Husband   White     Male   \n",
       "2             Divorced   Handlers-cleaners   Not-in-family   White     Male   \n",
       "3   Married-civ-spouse   Handlers-cleaners         Husband   Black     Male   \n",
       "4   Married-civ-spouse      Prof-specialty            Wife   Black   Female   \n",
       "\n",
       "   capital-gain  capital-loos  hour-per-week  native-country  income  \n",
       "0          2174             0             40   United-States       0  \n",
       "1             0             0             13   United-States       0  \n",
       "2             0             0             40   United-States       0  \n",
       "3             0             0             40   United-States       0  \n",
       "4             0             0             40            Cuba       0  "
      ]
     },
     "execution_count": 6,
     "metadata": {},
     "output_type": "execute_result"
    }
   ],
   "source": [
    "# Visualizando a conversão\n",
    "base.head()"
   ]
  },
  {
   "cell_type": "code",
   "execution_count": 7,
   "metadata": {},
   "outputs": [],
   "source": [
    "# Agora vamos separar os atributos das labels \n",
    "X = base.drop('income', axis = 1) # Atributos\n",
    "Y = base.income                   # Labels"
   ]
  },
  {
   "cell_type": "code",
   "execution_count": 8,
   "metadata": {},
   "outputs": [
    {
     "name": "stdout",
     "output_type": "stream",
     "text": [
      "0        0\n",
      "1        0\n",
      "2        0\n",
      "3        0\n",
      "4        0\n",
      "        ..\n",
      "32556    0\n",
      "32557    1\n",
      "32558    0\n",
      "32559    0\n",
      "32560    1\n",
      "Name: income, Length: 32561, dtype: int64\n"
     ]
    },
    {
     "data": {
      "text/plain": [
       "pandas.core.series.Series"
      ]
     },
     "execution_count": 8,
     "metadata": {},
     "output_type": "execute_result"
    }
   ],
   "source": [
    "# Visualizando as labels\n",
    "print(Y)\n",
    "type(Y)"
   ]
  },
  {
   "cell_type": "code",
   "execution_count": 9,
   "metadata": {},
   "outputs": [
    {
     "name": "stdout",
     "output_type": "stream",
     "text": [
      "<class 'pandas.core.frame.DataFrame'>\n"
     ]
    },
    {
     "data": {
      "text/html": [
       "<div>\n",
       "<style scoped>\n",
       "    .dataframe tbody tr th:only-of-type {\n",
       "        vertical-align: middle;\n",
       "    }\n",
       "\n",
       "    .dataframe tbody tr th {\n",
       "        vertical-align: top;\n",
       "    }\n",
       "\n",
       "    .dataframe thead th {\n",
       "        text-align: right;\n",
       "    }\n",
       "</style>\n",
       "<table border=\"1\" class=\"dataframe\">\n",
       "  <thead>\n",
       "    <tr style=\"text-align: right;\">\n",
       "      <th></th>\n",
       "      <th>age</th>\n",
       "      <th>workclass</th>\n",
       "      <th>final-weight</th>\n",
       "      <th>education</th>\n",
       "      <th>education-num</th>\n",
       "      <th>marital-status</th>\n",
       "      <th>occupation</th>\n",
       "      <th>relationship</th>\n",
       "      <th>race</th>\n",
       "      <th>sex</th>\n",
       "      <th>capital-gain</th>\n",
       "      <th>capital-loos</th>\n",
       "      <th>hour-per-week</th>\n",
       "      <th>native-country</th>\n",
       "    </tr>\n",
       "  </thead>\n",
       "  <tbody>\n",
       "    <tr>\n",
       "      <th>0</th>\n",
       "      <td>39</td>\n",
       "      <td>State-gov</td>\n",
       "      <td>77516</td>\n",
       "      <td>Bachelors</td>\n",
       "      <td>13</td>\n",
       "      <td>Never-married</td>\n",
       "      <td>Adm-clerical</td>\n",
       "      <td>Not-in-family</td>\n",
       "      <td>White</td>\n",
       "      <td>Male</td>\n",
       "      <td>2174</td>\n",
       "      <td>0</td>\n",
       "      <td>40</td>\n",
       "      <td>United-States</td>\n",
       "    </tr>\n",
       "    <tr>\n",
       "      <th>1</th>\n",
       "      <td>50</td>\n",
       "      <td>Self-emp-not-inc</td>\n",
       "      <td>83311</td>\n",
       "      <td>Bachelors</td>\n",
       "      <td>13</td>\n",
       "      <td>Married-civ-spouse</td>\n",
       "      <td>Exec-managerial</td>\n",
       "      <td>Husband</td>\n",
       "      <td>White</td>\n",
       "      <td>Male</td>\n",
       "      <td>0</td>\n",
       "      <td>0</td>\n",
       "      <td>13</td>\n",
       "      <td>United-States</td>\n",
       "    </tr>\n",
       "    <tr>\n",
       "      <th>2</th>\n",
       "      <td>38</td>\n",
       "      <td>Private</td>\n",
       "      <td>215646</td>\n",
       "      <td>HS-grad</td>\n",
       "      <td>9</td>\n",
       "      <td>Divorced</td>\n",
       "      <td>Handlers-cleaners</td>\n",
       "      <td>Not-in-family</td>\n",
       "      <td>White</td>\n",
       "      <td>Male</td>\n",
       "      <td>0</td>\n",
       "      <td>0</td>\n",
       "      <td>40</td>\n",
       "      <td>United-States</td>\n",
       "    </tr>\n",
       "    <tr>\n",
       "      <th>3</th>\n",
       "      <td>53</td>\n",
       "      <td>Private</td>\n",
       "      <td>234721</td>\n",
       "      <td>11th</td>\n",
       "      <td>7</td>\n",
       "      <td>Married-civ-spouse</td>\n",
       "      <td>Handlers-cleaners</td>\n",
       "      <td>Husband</td>\n",
       "      <td>Black</td>\n",
       "      <td>Male</td>\n",
       "      <td>0</td>\n",
       "      <td>0</td>\n",
       "      <td>40</td>\n",
       "      <td>United-States</td>\n",
       "    </tr>\n",
       "    <tr>\n",
       "      <th>4</th>\n",
       "      <td>28</td>\n",
       "      <td>Private</td>\n",
       "      <td>338409</td>\n",
       "      <td>Bachelors</td>\n",
       "      <td>13</td>\n",
       "      <td>Married-civ-spouse</td>\n",
       "      <td>Prof-specialty</td>\n",
       "      <td>Wife</td>\n",
       "      <td>Black</td>\n",
       "      <td>Female</td>\n",
       "      <td>0</td>\n",
       "      <td>0</td>\n",
       "      <td>40</td>\n",
       "      <td>Cuba</td>\n",
       "    </tr>\n",
       "  </tbody>\n",
       "</table>\n",
       "</div>"
      ],
      "text/plain": [
       "   age          workclass  final-weight   education  education-num  \\\n",
       "0   39          State-gov         77516   Bachelors             13   \n",
       "1   50   Self-emp-not-inc         83311   Bachelors             13   \n",
       "2   38            Private        215646     HS-grad              9   \n",
       "3   53            Private        234721        11th              7   \n",
       "4   28            Private        338409   Bachelors             13   \n",
       "\n",
       "        marital-status          occupation    relationship    race      sex  \\\n",
       "0        Never-married        Adm-clerical   Not-in-family   White     Male   \n",
       "1   Married-civ-spouse     Exec-managerial         Husband   White     Male   \n",
       "2             Divorced   Handlers-cleaners   Not-in-family   White     Male   \n",
       "3   Married-civ-spouse   Handlers-cleaners         Husband   Black     Male   \n",
       "4   Married-civ-spouse      Prof-specialty            Wife   Black   Female   \n",
       "\n",
       "   capital-gain  capital-loos  hour-per-week  native-country  \n",
       "0          2174             0             40   United-States  \n",
       "1             0             0             13   United-States  \n",
       "2             0             0             40   United-States  \n",
       "3             0             0             40   United-States  \n",
       "4             0             0             40            Cuba  "
      ]
     },
     "execution_count": 9,
     "metadata": {},
     "output_type": "execute_result"
    }
   ],
   "source": [
    "# Visualizando os atributos\n",
    "print(type(X))\n",
    "X.head()"
   ]
  },
  {
   "cell_type": "code",
   "execution_count": 10,
   "metadata": {},
   "outputs": [
    {
     "name": "stdout",
     "output_type": "stream",
     "text": [
      "X_train:  (22792, 14)\n",
      "X_test:  (9769, 14)\n",
      "Y_train:  (22792,)\n",
      "Y_test:  (9769,)\n"
     ]
    }
   ],
   "source": [
    "# Agora vamos separar o conjunto em treino e teste\n",
    "X_train, X_test, Y_train, Y_test = train_test_split(X, Y, test_size = 0.3)\n",
    "\n",
    "# Analisando as dimensões\n",
    "print(\"X_train: \", X_train.shape)\n",
    "print(\"X_test: \", X_test.shape)\n",
    "print(\"Y_train: \", Y_train.shape)\n",
    "print(\"Y_test: \", Y_test.shape)"
   ]
  },
  {
   "cell_type": "code",
   "execution_count": 11,
   "metadata": {},
   "outputs": [
    {
     "data": {
      "text/plain": [
       "Index(['age', 'workclass', 'final-weight', 'education', 'education-num',\n",
       "       'marital-status', 'occupation', 'relationship', 'race', 'sex',\n",
       "       'capital-gain', 'capital-loos', 'hour-per-week', 'native-country',\n",
       "       'income'],\n",
       "      dtype='object')"
      ]
     },
     "execution_count": 11,
     "metadata": {},
     "output_type": "execute_result"
    }
   ],
   "source": [
    "# Obtem todas as colunas do conjunto de dados\n",
    "base.columns"
   ]
  },
  {
   "cell_type": "code",
   "execution_count": 12,
   "metadata": {},
   "outputs": [
    {
     "data": {
      "text/plain": [
       "array([' State-gov', ' Self-emp-not-inc', ' Private', ' Federal-gov',\n",
       "       ' Local-gov', ' ?', ' Self-emp-inc', ' Without-pay',\n",
       "       ' Never-worked'], dtype=object)"
      ]
     },
     "execution_count": 12,
     "metadata": {},
     "output_type": "execute_result"
    }
   ],
   "source": [
    "# Agora vamos ver todas as possibilidades de classes que o atributo workclass possui\n",
    "base.workclass.unique()"
   ]
  },
  {
   "cell_type": "code",
   "execution_count": 13,
   "metadata": {},
   "outputs": [],
   "source": [
    "# Agora vamos criar as colunas categoricas utilizando o hash bucket\n",
    "workclass = tf.feature_column.categorical_column_with_hash_bucket(key = 'workclass', \n",
    "                                                                  hash_bucket_size = 100) # N° máx de categorias permitidas\n",
    "education = tf.feature_column.categorical_column_with_hash_bucket(key = 'education', hash_bucket_size = 100)\n",
    "marital_status = tf.feature_column.categorical_column_with_hash_bucket(key = 'marital-status', hash_bucket_size = 100)\n",
    "occupation = tf.feature_column.categorical_column_with_hash_bucket(key = 'occupation', hash_bucket_size = 100)\n",
    "relationship = tf.feature_column.categorical_column_with_hash_bucket(key = 'relationship', hash_bucket_size = 100)\n",
    "race = tf.feature_column.categorical_column_with_hash_bucket(key = 'race', hash_bucket_size = 100)\n",
    "country = tf.feature_column.categorical_column_with_hash_bucket(key = 'native-country', hash_bucket_size = 100)"
   ]
  },
  {
   "cell_type": "code",
   "execution_count": 14,
   "metadata": {},
   "outputs": [],
   "source": [
    "# Vamos criar a coluna sex de um jeito um pouco diferente (com vocabulary list)\n",
    "sex = tf.feature_column.categorical_column_with_vocabulary_list(key = 'sex', vocabulary_list=[' Male', ' Female'])"
   ]
  },
  {
   "cell_type": "markdown",
   "metadata": {},
   "source": [
    "## Aqui vamos fazer funções manuais para padronizar os dados \n"
   ]
  },
  {
   "cell_type": "code",
   "execution_count": 15,
   "metadata": {},
   "outputs": [
    {
     "name": "stdout",
     "output_type": "stream",
     "text": [
      "Média da coluna age:  38.58164675532078\n",
      "\n",
      "Desvio padrão da coluna age:  13.640432553581341\n"
     ]
    }
   ],
   "source": [
    "# Testando...\n",
    "print(\"Média da coluna age: \", base.age.mean())\n",
    "print(\"\\nDesvio padrão da coluna age: \", base.age.std())"
   ]
  },
  {
   "cell_type": "code",
   "execution_count": 16,
   "metadata": {},
   "outputs": [
    {
     "name": "stdout",
     "output_type": "stream",
     "text": [
      "Média da coluna age:  38.58164675532078\n",
      "\n",
      "Desvio padrão da coluna age:  13.640432553581341\n"
     ]
    }
   ],
   "source": [
    "# Testando...\n",
    "print(\"Média da coluna age: \", base.age.mean())\n",
    "print(\"\\nDesvio padrão da coluna age: \", base.age.std())"
   ]
  },
  {
   "cell_type": "code",
   "execution_count": 17,
   "metadata": {},
   "outputs": [],
   "source": [
    "def padroniza_age(valor):\n",
    "    dividendo = tf.subtract( tf.cast(valor, tf.float32), tf.constant(38.58) ) # valor de x menos a média\n",
    "    divisor   = tf.constant(13.64) # É o desvio padrão\n",
    "    return tf.divide(dividendo, divisor)"
   ]
  },
  {
   "cell_type": "code",
   "execution_count": 24,
   "metadata": {},
   "outputs": [],
   "source": [
    "# Agora vamos fazer as outras colunas numéricas de modo menos manual\n",
    "def padroniza_finalweight(valor):\n",
    "    return tf.divide(tf.subtract(tf.cast(valor, tf.float32), tf.constant(189778.36)), tf.constant(105549.977))\n",
    "\n",
    "def padroniza_education(valor):\n",
    "    return tf.divide(tf.subtract(tf.cast(valor, tf.float32), tf.constant(10.08)), tf.constant(2.57))\n",
    "\n",
    "def padroniza_capitalgain(valor):\n",
    "    return tf.divide(tf.subtract(tf.cast(valor, tf.float32), tf.constant(1077.64)), tf.constant(7385.29))\n",
    "\n",
    "def padroniza_capitalloos(valor):\n",
    "    return tf.divide(tf.subtract(tf.cast(valor, tf.float32), tf.constant(87.30)), tf.constant(402.96))\n",
    "\n",
    "def padroniza_hour(valor):\n",
    "    return tf.divide(tf.subtract(tf.cast(valor, tf.float32), tf.constant(40.43)), tf.constant(12.34))"
   ]
  },
  {
   "cell_type": "markdown",
   "metadata": {},
   "source": [
    "# Como já fizemos as funções de padronização, agora vamos aplicá-las."
   ]
  },
  {
   "cell_type": "code",
   "execution_count": 25,
   "metadata": {},
   "outputs": [],
   "source": [
    "# Como já definimos os atributos categóricos, vamos criar para os atributos numéricos\n",
    "age = tf.feature_column.numeric_column(key = 'age', normalizer_fn = padroniza_age)\n",
    "final_weight = tf.feature_column.numeric_column(key = 'final-weight', normalizer_fn = padroniza_finalweight)\n",
    "education_num = tf.feature_column.numeric_column(key = 'education-num', normalizer_fn = padroniza_education)\n",
    "capital_gain = tf.feature_column.numeric_column(key = 'capital-gain', normalizer_fn = padroniza_capitalgain)\n",
    "capital_loos = tf.feature_column.numeric_column(key = 'capital-loos', normalizer_fn = padroniza_capitalloos)\n",
    "hour = tf.feature_column.numeric_column(key = 'hour-per-week', normalizer_fn = padroniza_hour)"
   ]
  },
  {
   "cell_type": "code",
   "execution_count": 26,
   "metadata": {},
   "outputs": [
    {
     "name": "stdout",
     "output_type": "stream",
     "text": [
      "NumericColumn(key='age', shape=(1,), default_value=None, dtype=tf.float32, normalizer_fn=<function padroniza_age at 0x000001C3DFF5CBF8>)\n"
     ]
    }
   ],
   "source": [
    "# Agora reunimos todas as colunas\n",
    "colunas = [age, workclass, final_weight, education, education_num,\n",
    "           marital_status, occupation, relationship, race, sex,\n",
    "           capital_gain, capital_loos, hour, country]\n",
    "print(colunas[0])"
   ]
  },
  {
   "cell_type": "markdown",
   "metadata": {},
   "source": [
    "### *Para não termos o erro no treino, precisamos converter as colunas categóricas para valores embedded*\n",
    "\n",
    "Podemos ver como esse processo é feito com a imagem:\n",
    "![](embedding_column.jpg)"
   ]
  },
  {
   "cell_type": "code",
   "execution_count": 27,
   "metadata": {},
   "outputs": [],
   "source": [
    "# Realizando o Embedding\n",
    "embedded_workclass = tf.feature_column.embedding_column(workclass, \n",
    "                                                        # dimension é a quantidade de categorias da coluna \n",
    "                                                        dimension = len(base.workclass.unique()))\n",
    "embedded_education = tf.feature_column.embedding_column(education, dimension = len(base.education.unique()))\n",
    "embedded_marital = tf.feature_column.embedding_column(marital_status, dimension = len(base['marital-status'].unique()))\n",
    "embedded_occupation = tf.feature_column.embedding_column(occupation, dimension = len(base.occupation.unique()))\n",
    "embedded_relationship = tf.feature_column.embedding_column(relationship, dimension = len(base.relationship.unique()))\n",
    "embedded_race = tf.feature_column.embedding_column(race, dimension = len(base.race.unique()))\n",
    "embedded_sex = tf.feature_column.embedding_column(sex, dimension = len(base.sex.unique()))\n",
    "embedded_country = tf.feature_column.embedding_column(country, dimension = len(base['native-country'].unique()))"
   ]
  },
  {
   "cell_type": "code",
   "execution_count": 28,
   "metadata": {},
   "outputs": [],
   "source": [
    "# Agora vamos definir as colunas com embedding\n",
    "colunas_rna = [age, embedded_workclass, final_weight, embedded_education, education_num,\n",
    "               embedded_marital, embedded_occupation, embedded_relationship, \n",
    "               embedded_race, embedded_sex,\n",
    "               capital_gain, capital_loos, hour, embedded_country]"
   ]
  },
  {
   "cell_type": "code",
   "execution_count": 29,
   "metadata": {
    "scrolled": true
   },
   "outputs": [
    {
     "name": "stdout",
     "output_type": "stream",
     "text": [
      "INFO:tensorflow:Using default config.\n",
      "WARNING:tensorflow:Using temporary folder as model directory: C:\\Users\\Natielle\\AppData\\Local\\Temp\\tmpa7_k2o7s\n",
      "INFO:tensorflow:Using config: {'_model_dir': 'C:\\\\Users\\\\Natielle\\\\AppData\\\\Local\\\\Temp\\\\tmpa7_k2o7s', '_tf_random_seed': None, '_save_summary_steps': 100, '_save_checkpoints_steps': None, '_save_checkpoints_secs': 600, '_session_config': allow_soft_placement: true\n",
      "graph_options {\n",
      "  rewrite_options {\n",
      "    meta_optimizer_iterations: ONE\n",
      "  }\n",
      "}\n",
      ", '_keep_checkpoint_max': 5, '_keep_checkpoint_every_n_hours': 10000, '_log_step_count_steps': 100, '_train_distribute': None, '_device_fn': None, '_protocol': None, '_eval_distribute': None, '_experimental_distribute': None, '_service': None, '_cluster_spec': <tensorflow.python.training.server_lib.ClusterSpec object at 0x000001C3E0A73780>, '_task_type': 'worker', '_task_id': 0, '_global_id_in_cluster': 0, '_master': '', '_evaluation_master': '', '_is_chief': True, '_num_ps_replicas': 0, '_num_worker_replicas': 1}\n",
      "INFO:tensorflow:Calling model_fn.\n",
      "WARNING:tensorflow:From C:\\Users\\Natielle\\anaconda3\\envs\\tensorflow2_py37\\lib\\site-packages\\tensorflow\\python\\ops\\lookup_ops.py:1137: to_int64 (from tensorflow.python.ops.math_ops) is deprecated and will be removed in a future version.\n",
      "Instructions for updating:\n",
      "Use tf.cast instead.\n",
      "WARNING:tensorflow:From C:\\Users\\Natielle\\anaconda3\\envs\\tensorflow2_py37\\lib\\site-packages\\tensorflow\\python\\ops\\array_grad.py:425: to_int32 (from tensorflow.python.ops.math_ops) is deprecated and will be removed in a future version.\n",
      "Instructions for updating:\n",
      "Use tf.cast instead.\n",
      "INFO:tensorflow:Done calling model_fn.\n",
      "INFO:tensorflow:Create CheckpointSaverHook.\n",
      "INFO:tensorflow:Graph was finalized.\n",
      "INFO:tensorflow:Running local_init_op.\n",
      "INFO:tensorflow:Done running local_init_op.\n",
      "WARNING:tensorflow:From C:\\Users\\Natielle\\anaconda3\\envs\\tensorflow2_py37\\lib\\site-packages\\tensorflow\\python\\training\\monitored_session.py:809: start_queue_runners (from tensorflow.python.training.queue_runner_impl) is deprecated and will be removed in a future version.\n",
      "Instructions for updating:\n",
      "To construct input pipelines, use the `tf.data` module.\n",
      "INFO:tensorflow:Saving checkpoints for 0 into C:\\Users\\Natielle\\AppData\\Local\\Temp\\tmpa7_k2o7s\\model.ckpt.\n",
      "INFO:tensorflow:loss = 23.349472, step = 1\n",
      "INFO:tensorflow:global_step/sec: 189.372\n",
      "INFO:tensorflow:loss = 17.282305, step = 101 (0.531 sec)\n",
      "INFO:tensorflow:global_step/sec: 344.562\n",
      "INFO:tensorflow:loss = 12.18344, step = 201 (0.290 sec)\n",
      "INFO:tensorflow:global_step/sec: 384.166\n",
      "INFO:tensorflow:loss = 11.942192, step = 301 (0.261 sec)\n",
      "INFO:tensorflow:global_step/sec: 412.614\n",
      "INFO:tensorflow:loss = 11.785234, step = 401 (0.240 sec)\n",
      "INFO:tensorflow:global_step/sec: 345.757\n",
      "INFO:tensorflow:loss = 7.753173, step = 501 (0.293 sec)\n",
      "INFO:tensorflow:global_step/sec: 380.533\n",
      "INFO:tensorflow:loss = 11.814852, step = 601 (0.261 sec)\n",
      "INFO:tensorflow:global_step/sec: 363.289\n",
      "INFO:tensorflow:loss = 14.752995, step = 701 (0.274 sec)\n",
      "INFO:tensorflow:global_step/sec: 320.343\n",
      "INFO:tensorflow:loss = 9.414791, step = 801 (0.314 sec)\n",
      "INFO:tensorflow:global_step/sec: 320.438\n",
      "INFO:tensorflow:loss = 13.289409, step = 901 (0.314 sec)\n",
      "INFO:tensorflow:global_step/sec: 369.993\n",
      "INFO:tensorflow:loss = 10.997772, step = 1001 (0.271 sec)\n",
      "INFO:tensorflow:global_step/sec: 346.947\n",
      "INFO:tensorflow:loss = 13.074795, step = 1101 (0.283 sec)\n",
      "INFO:tensorflow:global_step/sec: 352.204\n",
      "INFO:tensorflow:loss = 7.6530867, step = 1201 (0.295 sec)\n",
      "INFO:tensorflow:global_step/sec: 302.513\n",
      "INFO:tensorflow:loss = 6.6122737, step = 1301 (0.324 sec)\n",
      "INFO:tensorflow:global_step/sec: 335.343\n",
      "INFO:tensorflow:loss = 10.307531, step = 1401 (0.297 sec)\n",
      "INFO:tensorflow:global_step/sec: 410.827\n",
      "INFO:tensorflow:loss = 6.6045117, step = 1501 (0.236 sec)\n",
      "INFO:tensorflow:global_step/sec: 374.929\n",
      "INFO:tensorflow:loss = 15.646406, step = 1601 (0.275 sec)\n",
      "INFO:tensorflow:global_step/sec: 354.302\n",
      "INFO:tensorflow:loss = 6.5963793, step = 1701 (0.281 sec)\n",
      "INFO:tensorflow:global_step/sec: 401.069\n",
      "INFO:tensorflow:loss = 8.432728, step = 1801 (0.247 sec)\n",
      "INFO:tensorflow:global_step/sec: 358.099\n",
      "INFO:tensorflow:loss = 10.753576, step = 1901 (0.278 sec)\n",
      "INFO:tensorflow:global_step/sec: 380.139\n",
      "INFO:tensorflow:loss = 6.2973557, step = 2001 (0.264 sec)\n",
      "INFO:tensorflow:global_step/sec: 414.328\n",
      "INFO:tensorflow:loss = 5.4470744, step = 2101 (0.240 sec)\n",
      "INFO:tensorflow:global_step/sec: 343.381\n",
      "INFO:tensorflow:loss = 5.8577075, step = 2201 (0.292 sec)\n",
      "INFO:tensorflow:global_step/sec: 418.247\n",
      "INFO:tensorflow:loss = 9.84239, step = 2301 (0.234 sec)\n",
      "INFO:tensorflow:global_step/sec: 335.506\n",
      "INFO:tensorflow:loss = 8.652012, step = 2401 (0.305 sec)\n",
      "INFO:tensorflow:global_step/sec: 405.942\n",
      "INFO:tensorflow:loss = 12.250275, step = 2501 (0.241 sec)\n",
      "INFO:tensorflow:global_step/sec: 385.644\n",
      "INFO:tensorflow:loss = 6.773143, step = 2601 (0.263 sec)\n",
      "INFO:tensorflow:global_step/sec: 359.382\n",
      "INFO:tensorflow:loss = 10.223866, step = 2701 (0.277 sec)\n",
      "INFO:tensorflow:global_step/sec: 379.181\n",
      "INFO:tensorflow:loss = 5.887972, step = 2801 (0.265 sec)\n",
      "INFO:tensorflow:global_step/sec: 372.742\n",
      "INFO:tensorflow:loss = 11.796714, step = 2901 (0.269 sec)\n",
      "INFO:tensorflow:global_step/sec: 394.754\n",
      "INFO:tensorflow:loss = 11.488985, step = 3001 (0.253 sec)\n",
      "INFO:tensorflow:global_step/sec: 377.155\n",
      "INFO:tensorflow:loss = 12.34248, step = 3101 (0.261 sec)\n",
      "INFO:tensorflow:global_step/sec: 371.361\n",
      "INFO:tensorflow:loss = 7.6868744, step = 3201 (0.271 sec)\n",
      "INFO:tensorflow:global_step/sec: 432.186\n",
      "INFO:tensorflow:loss = 10.323438, step = 3301 (0.230 sec)\n",
      "INFO:tensorflow:global_step/sec: 384.029\n",
      "INFO:tensorflow:loss = 11.211904, step = 3401 (0.256 sec)\n",
      "INFO:tensorflow:global_step/sec: 426.245\n",
      "INFO:tensorflow:loss = 9.264467, step = 3501 (0.235 sec)\n",
      "INFO:tensorflow:global_step/sec: 396.628\n",
      "INFO:tensorflow:loss = 10.221483, step = 3601 (0.258 sec)\n",
      "INFO:tensorflow:global_step/sec: 405.941\n",
      "INFO:tensorflow:loss = 6.524402, step = 3701 (0.246 sec)\n",
      "INFO:tensorflow:global_step/sec: 410.932\n",
      "INFO:tensorflow:loss = 9.366211, step = 3801 (0.241 sec)\n",
      "INFO:tensorflow:global_step/sec: 414.878\n",
      "INFO:tensorflow:loss = 5.805951, step = 3901 (0.254 sec)\n",
      "INFO:tensorflow:global_step/sec: 382.64\n",
      "INFO:tensorflow:loss = 6.172152, step = 4001 (0.247 sec)\n",
      "INFO:tensorflow:global_step/sec: 384.166\n",
      "INFO:tensorflow:loss = 10.071078, step = 4101 (0.260 sec)\n",
      "INFO:tensorflow:global_step/sec: 412.624\n",
      "INFO:tensorflow:loss = 6.4049606, step = 4201 (0.244 sec)\n",
      "INFO:tensorflow:global_step/sec: 423.64\n",
      "INFO:tensorflow:loss = 4.967111, step = 4301 (0.248 sec)\n",
      "INFO:tensorflow:global_step/sec: 372.399\n",
      "INFO:tensorflow:loss = 11.650425, step = 4401 (0.254 sec)\n",
      "INFO:tensorflow:global_step/sec: 402.68\n",
      "INFO:tensorflow:loss = 10.265808, step = 4501 (0.251 sec)\n",
      "INFO:tensorflow:global_step/sec: 404.302\n",
      "INFO:tensorflow:loss = 11.184629, step = 4601 (0.246 sec)\n",
      "INFO:tensorflow:global_step/sec: 352.288\n",
      "INFO:tensorflow:loss = 11.952168, step = 4701 (0.284 sec)\n",
      "INFO:tensorflow:global_step/sec: 396.316\n",
      "INFO:tensorflow:loss = 8.992944, step = 4801 (0.251 sec)\n",
      "INFO:tensorflow:global_step/sec: 351.816\n",
      "INFO:tensorflow:loss = 8.553431, step = 4901 (0.285 sec)\n",
      "INFO:tensorflow:global_step/sec: 430.682\n",
      "INFO:tensorflow:loss = 8.702019, step = 5001 (0.243 sec)\n",
      "INFO:tensorflow:global_step/sec: 320.112\n",
      "INFO:tensorflow:loss = 11.602708, step = 5101 (0.300 sec)\n",
      "INFO:tensorflow:global_step/sec: 405.94\n",
      "INFO:tensorflow:loss = 9.372324, step = 5201 (0.249 sec)\n",
      "INFO:tensorflow:global_step/sec: 353.055\n",
      "INFO:tensorflow:loss = 7.7140594, step = 5301 (0.281 sec)\n",
      "INFO:tensorflow:global_step/sec: 428.809\n",
      "INFO:tensorflow:loss = 13.605253, step = 5401 (0.245 sec)\n",
      "INFO:tensorflow:global_step/sec: 314.86\n",
      "INFO:tensorflow:loss = 10.698241, step = 5501 (0.307 sec)\n",
      "INFO:tensorflow:global_step/sec: 324.49\n",
      "INFO:tensorflow:loss = 4.3525763, step = 5601 (0.311 sec)\n",
      "INFO:tensorflow:global_step/sec: 316.175\n",
      "INFO:tensorflow:loss = 6.0703692, step = 5701 (0.324 sec)\n",
      "INFO:tensorflow:global_step/sec: 301.968\n",
      "INFO:tensorflow:loss = 12.349186, step = 5801 (0.325 sec)\n",
      "INFO:tensorflow:global_step/sec: 328.745\n",
      "INFO:tensorflow:loss = 10.403213, step = 5901 (0.299 sec)\n",
      "INFO:tensorflow:global_step/sec: 416.049\n",
      "INFO:tensorflow:loss = 13.32835, step = 6001 (0.246 sec)\n"
     ]
    },
    {
     "name": "stdout",
     "output_type": "stream",
     "text": [
      "INFO:tensorflow:global_step/sec: 447.613\n",
      "INFO:tensorflow:loss = 8.665455, step = 6101 (0.229 sec)\n",
      "INFO:tensorflow:global_step/sec: 368.618\n",
      "INFO:tensorflow:loss = 12.847151, step = 6201 (0.261 sec)\n",
      "INFO:tensorflow:global_step/sec: 416.046\n",
      "INFO:tensorflow:loss = 11.915162, step = 6301 (0.240 sec)\n",
      "INFO:tensorflow:global_step/sec: 421.295\n",
      "INFO:tensorflow:loss = 8.637221, step = 6401 (0.236 sec)\n",
      "INFO:tensorflow:global_step/sec: 405.835\n",
      "INFO:tensorflow:loss = 14.118211, step = 6501 (0.258 sec)\n",
      "INFO:tensorflow:global_step/sec: 328.607\n",
      "INFO:tensorflow:loss = 10.94862, step = 6601 (0.296 sec)\n",
      "INFO:tensorflow:global_step/sec: 336.466\n",
      "INFO:tensorflow:loss = 9.525547, step = 6701 (0.300 sec)\n",
      "INFO:tensorflow:global_step/sec: 272.467\n",
      "INFO:tensorflow:loss = 10.905117, step = 6801 (0.365 sec)\n",
      "INFO:tensorflow:global_step/sec: 322.285\n",
      "INFO:tensorflow:loss = 10.066402, step = 6901 (0.308 sec)\n",
      "INFO:tensorflow:global_step/sec: 264.558\n",
      "INFO:tensorflow:loss = 9.761349, step = 7001 (0.375 sec)\n",
      "INFO:tensorflow:global_step/sec: 418.255\n",
      "INFO:tensorflow:loss = 5.565562, step = 7101 (0.242 sec)\n",
      "INFO:tensorflow:global_step/sec: 411.282\n",
      "INFO:tensorflow:loss = 10.489742, step = 7201 (0.242 sec)\n",
      "INFO:tensorflow:global_step/sec: 339.89\n",
      "INFO:tensorflow:loss = 10.614094, step = 7301 (0.292 sec)\n",
      "INFO:tensorflow:global_step/sec: 412.625\n",
      "INFO:tensorflow:loss = 10.750787, step = 7401 (0.246 sec)\n",
      "INFO:tensorflow:global_step/sec: 426.534\n",
      "INFO:tensorflow:loss = 15.3382435, step = 7501 (0.240 sec)\n",
      "INFO:tensorflow:global_step/sec: 397.03\n",
      "INFO:tensorflow:loss = 7.087338, step = 7601 (0.244 sec)\n",
      "INFO:tensorflow:global_step/sec: 286.478\n",
      "INFO:tensorflow:loss = 13.834448, step = 7701 (0.357 sec)\n",
      "INFO:tensorflow:global_step/sec: 312.37\n",
      "INFO:tensorflow:loss = 9.754156, step = 7801 (0.325 sec)\n",
      "INFO:tensorflow:global_step/sec: 320.754\n",
      "INFO:tensorflow:loss = 6.567102, step = 7901 (0.300 sec)\n",
      "INFO:tensorflow:global_step/sec: 321.365\n",
      "INFO:tensorflow:loss = 4.881769, step = 8001 (0.310 sec)\n",
      "INFO:tensorflow:global_step/sec: 295.587\n",
      "INFO:tensorflow:loss = 17.324942, step = 8101 (0.333 sec)\n",
      "INFO:tensorflow:global_step/sec: 375.392\n",
      "INFO:tensorflow:loss = 14.167528, step = 8201 (0.273 sec)\n",
      "INFO:tensorflow:global_step/sec: 302.923\n",
      "INFO:tensorflow:loss = 9.659512, step = 8301 (0.328 sec)\n",
      "INFO:tensorflow:global_step/sec: 351.815\n",
      "INFO:tensorflow:loss = 10.181055, step = 8401 (0.282 sec)\n",
      "INFO:tensorflow:global_step/sec: 392.923\n",
      "INFO:tensorflow:loss = 7.547901, step = 8501 (0.267 sec)\n",
      "INFO:tensorflow:global_step/sec: 370.795\n",
      "INFO:tensorflow:loss = 8.131289, step = 8601 (0.263 sec)\n",
      "INFO:tensorflow:global_step/sec: 327.672\n",
      "INFO:tensorflow:loss = 6.663435, step = 8701 (0.299 sec)\n",
      "INFO:tensorflow:global_step/sec: 393.206\n",
      "INFO:tensorflow:loss = 8.830221, step = 8801 (0.255 sec)\n",
      "INFO:tensorflow:global_step/sec: 376.831\n",
      "INFO:tensorflow:loss = 5.5264835, step = 8901 (0.261 sec)\n",
      "INFO:tensorflow:global_step/sec: 358.849\n",
      "INFO:tensorflow:loss = 14.399845, step = 9001 (0.283 sec)\n",
      "INFO:tensorflow:global_step/sec: 387.134\n",
      "INFO:tensorflow:loss = 6.821882, step = 9101 (0.259 sec)\n",
      "INFO:tensorflow:global_step/sec: 360.675\n",
      "INFO:tensorflow:loss = 10.36882, step = 9201 (0.276 sec)\n",
      "INFO:tensorflow:global_step/sec: 431.944\n",
      "INFO:tensorflow:loss = 5.299674, step = 9301 (0.228 sec)\n",
      "INFO:tensorflow:global_step/sec: 352.184\n",
      "INFO:tensorflow:loss = 12.677864, step = 9401 (0.289 sec)\n",
      "INFO:tensorflow:global_step/sec: 390.147\n",
      "INFO:tensorflow:loss = 12.634254, step = 9501 (0.254 sec)\n",
      "INFO:tensorflow:global_step/sec: 382.702\n",
      "INFO:tensorflow:loss = 8.282274, step = 9601 (0.261 sec)\n",
      "INFO:tensorflow:global_step/sec: 341.046\n",
      "INFO:tensorflow:loss = 8.4061165, step = 9701 (0.293 sec)\n",
      "INFO:tensorflow:global_step/sec: 419.527\n",
      "INFO:tensorflow:loss = 7.7488723, step = 9801 (0.240 sec)\n",
      "INFO:tensorflow:global_step/sec: 274.703\n",
      "INFO:tensorflow:loss = 9.842361, step = 9901 (0.363 sec)\n",
      "INFO:tensorflow:Saving checkpoints for 10000 into C:\\Users\\Natielle\\AppData\\Local\\Temp\\tmpa7_k2o7s\\model.ckpt.\n",
      "INFO:tensorflow:Loss for final step: 7.5512276.\n"
     ]
    },
    {
     "data": {
      "text/plain": [
       "<tensorflow_estimator.python.estimator.canned.dnn.DNNClassifier at 0x1c3e0a733c8>"
      ]
     },
     "execution_count": 29,
     "metadata": {},
     "output_type": "execute_result"
    }
   ],
   "source": [
    "# Agora fazer de novo os passos para treinarmos o modelo (com o detalhe de que vamos usar a colunas_rna)\n",
    "\n",
    "# Vamos utilizar o estimator agora para implementarmos o modelo em si\n",
    "funcao_treinamento = tf.estimator.inputs.pandas_input_fn(x = X_train, y = Y_train,\n",
    "                                                        batch_size=32,# pega em lotes de 32\n",
    "                                                        num_epochs=None, # quantidade de vezes que vai rodar\n",
    "                                                        shuffle=True) # pega ordem aleatória\n",
    "\n",
    "# Criando nosso modelo com DNN  (dense neural network), que é quando todos neurônios estão ligados a todos da próxima camada\n",
    "classificador = tf.estimator.DNNClassifier(hidden_units = [8, 8], # quantidade de camadas ocultas e qtde de neurônios em cada\n",
    "                                           feature_columns=colunas_rna,  # passando as colunas\n",
    "                                           n_classes=2)  # maior que 50 mil ou menor. Temos duas categorias\n",
    "\n",
    "# Agora vamos fazer o treinamento\n",
    "classificador.train(input_fn = funcao_treinamento, steps = 10000)"
   ]
  },
  {
   "cell_type": "markdown",
   "metadata": {},
   "source": [
    "Notamos que agora temos o treinamento.\n"
   ]
  },
  {
   "cell_type": "code",
   "execution_count": 30,
   "metadata": {},
   "outputs": [
    {
     "name": "stdout",
     "output_type": "stream",
     "text": [
      "INFO:tensorflow:Calling model_fn.\n",
      "WARNING:tensorflow:From C:\\Users\\Natielle\\anaconda3\\envs\\tensorflow2_py37\\lib\\site-packages\\tensorflow\\python\\ops\\metrics_impl.py:2002: div (from tensorflow.python.ops.math_ops) is deprecated and will be removed in a future version.\n",
      "Instructions for updating:\n",
      "Deprecated in favor of operator or tf.math.divide.\n",
      "WARNING:tensorflow:Trapezoidal rule is known to produce incorrect PR-AUCs; please switch to \"careful_interpolation\" instead.\n",
      "WARNING:tensorflow:Trapezoidal rule is known to produce incorrect PR-AUCs; please switch to \"careful_interpolation\" instead.\n",
      "INFO:tensorflow:Done calling model_fn.\n",
      "INFO:tensorflow:Starting evaluation at 2020-05-08T22:55:41Z\n",
      "INFO:tensorflow:Graph was finalized.\n",
      "WARNING:tensorflow:From C:\\Users\\Natielle\\anaconda3\\envs\\tensorflow2_py37\\lib\\site-packages\\tensorflow\\python\\training\\saver.py:1266: checkpoint_exists (from tensorflow.python.training.checkpoint_management) is deprecated and will be removed in a future version.\n",
      "Instructions for updating:\n",
      "Use standard file APIs to check for files with this prefix.\n",
      "INFO:tensorflow:Restoring parameters from C:\\Users\\Natielle\\AppData\\Local\\Temp\\tmpa7_k2o7s\\model.ckpt-10000\n",
      "INFO:tensorflow:Running local_init_op.\n",
      "INFO:tensorflow:Done running local_init_op.\n",
      "INFO:tensorflow:Finished evaluation at 2020-05-08-22:55:43\n",
      "INFO:tensorflow:Saving dict for global step 10000: accuracy = 0.8505477, accuracy_baseline = 0.754632, auc = 0.9085787, auc_precision_recall = 0.781474, average_loss = 0.31630942, global_step = 10000, label/mean = 0.245368, loss = 10.098127, precision = 0.7247002, prediction/mean = 0.24428028, recall = 0.6303713\n",
      "INFO:tensorflow:Saving 'checkpoint_path' summary for global step 10000: C:\\Users\\Natielle\\AppData\\Local\\Temp\\tmpa7_k2o7s\\model.ckpt-10000\n"
     ]
    },
    {
     "data": {
      "text/plain": [
       "{'accuracy': 0.8505477,\n",
       " 'accuracy_baseline': 0.754632,\n",
       " 'auc': 0.9085787,\n",
       " 'auc_precision_recall': 0.781474,\n",
       " 'average_loss': 0.31630942,\n",
       " 'label/mean': 0.245368,\n",
       " 'loss': 10.098127,\n",
       " 'precision': 0.7247002,\n",
       " 'prediction/mean': 0.24428028,\n",
       " 'recall': 0.6303713,\n",
       " 'global_step': 10000}"
      ]
     },
     "execution_count": 30,
     "metadata": {},
     "output_type": "execute_result"
    }
   ],
   "source": [
    "# Como já fizemos o treinamento, iremos fazer o teste agora\n",
    "\n",
    "# Criando a função para passarmos os dados do teste com tensorflow\n",
    "funcao_teste = tf.estimator.inputs.pandas_input_fn(x = X_test, y = Y_test, \n",
    "                                                   batch_size = 32,\n",
    "                                                   num_epochs = 1, \n",
    "                                                   shuffle = False)  # pega em ordem \n",
    "\n",
    "# Realizando de fato o teste do modelo\n",
    "classificador.evaluate(input_fn=funcao_teste)"
   ]
  },
  {
   "cell_type": "markdown",
   "metadata": {},
   "source": [
    "Sem a padronização podemos notar uma taxa de acerto (accuracy) é de 72% mais ou menos.\n",
    "\n",
    "Ao aplicarmos a padronização podemos notar uma taxa de acerto (accuracy) é de 85% mais ou menos.\n",
    "Ou seja, houve uma melhora no algoritmo com o tratamento dos dados."
   ]
  },
  {
   "cell_type": "code",
   "execution_count": null,
   "metadata": {},
   "outputs": [],
   "source": []
  }
 ],
 "metadata": {
  "kernelspec": {
   "display_name": "tensorflow2_py37",
   "language": "python",
   "name": "tensorflow2_py37"
  },
  "language_info": {
   "codemirror_mode": {
    "name": "ipython",
    "version": 3
   },
   "file_extension": ".py",
   "mimetype": "text/x-python",
   "name": "python",
   "nbconvert_exporter": "python",
   "pygments_lexer": "ipython3",
   "version": "3.6.10"
  }
 },
 "nbformat": 4,
 "nbformat_minor": 4
}
