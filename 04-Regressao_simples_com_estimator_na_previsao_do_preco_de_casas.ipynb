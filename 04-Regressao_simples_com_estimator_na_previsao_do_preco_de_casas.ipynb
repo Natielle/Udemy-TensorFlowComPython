{
 "cells": [
  {
   "cell_type": "code",
   "execution_count": 17,
   "metadata": {},
   "outputs": [],
   "source": [
    "import pandas as pd       # para operar sobre dataframes\n",
    "import matplotlib.pyplot as plt\n",
    "import numpy as np        # para manipular vetores e realizar operações\n",
    "import tensorflow as tf\n",
    "from sklearn.preprocessing import StandardScaler # para escalonar os dados\n",
    "from sklearn.metrics import mean_absolute_error, mean_squared_error # para obter métricas do modelo\n",
    "\n",
    "from sklearn.model_selection import train_test_split\n"
   ]
  },
  {
   "cell_type": "markdown",
   "metadata": {},
   "source": [
    "# Regressão simples com estimator na prática\n",
    "\n",
    "Aplicando a regressão em um banco de dados obtido pela kaggle, chamada \"House Sales in King County, USA\". Pode ser obtida pelo link: https://www.kaggle.com/harlfoxem/housesalesprediction\n",
    "\n",
    "Ou seja, vamos utilizar apenas o atributo metros_quadrados para predizer o preço da casa. \n",
    "\n",
    "O foco dessa atividade é trabalhar mais ativamente com as funções do numpy."
   ]
  },
  {
   "cell_type": "code",
   "execution_count": 2,
   "metadata": {},
   "outputs": [
    {
     "data": {
      "text/html": [
       "<div>\n",
       "<style scoped>\n",
       "    .dataframe tbody tr th:only-of-type {\n",
       "        vertical-align: middle;\n",
       "    }\n",
       "\n",
       "    .dataframe tbody tr th {\n",
       "        vertical-align: top;\n",
       "    }\n",
       "\n",
       "    .dataframe thead th {\n",
       "        text-align: right;\n",
       "    }\n",
       "</style>\n",
       "<table border=\"1\" class=\"dataframe\">\n",
       "  <thead>\n",
       "    <tr style=\"text-align: right;\">\n",
       "      <th></th>\n",
       "      <th>id</th>\n",
       "      <th>date</th>\n",
       "      <th>price</th>\n",
       "      <th>bedrooms</th>\n",
       "      <th>bathrooms</th>\n",
       "      <th>sqft_living</th>\n",
       "      <th>sqft_lot</th>\n",
       "      <th>floors</th>\n",
       "      <th>waterfront</th>\n",
       "      <th>view</th>\n",
       "      <th>...</th>\n",
       "      <th>grade</th>\n",
       "      <th>sqft_above</th>\n",
       "      <th>sqft_basement</th>\n",
       "      <th>yr_built</th>\n",
       "      <th>yr_renovated</th>\n",
       "      <th>zipcode</th>\n",
       "      <th>lat</th>\n",
       "      <th>long</th>\n",
       "      <th>sqft_living15</th>\n",
       "      <th>sqft_lot15</th>\n",
       "    </tr>\n",
       "  </thead>\n",
       "  <tbody>\n",
       "    <tr>\n",
       "      <th>0</th>\n",
       "      <td>7129300520</td>\n",
       "      <td>20141013T000000</td>\n",
       "      <td>221900.0</td>\n",
       "      <td>3</td>\n",
       "      <td>1.00</td>\n",
       "      <td>1180</td>\n",
       "      <td>5650</td>\n",
       "      <td>1.0</td>\n",
       "      <td>0</td>\n",
       "      <td>0</td>\n",
       "      <td>...</td>\n",
       "      <td>7</td>\n",
       "      <td>1180</td>\n",
       "      <td>0</td>\n",
       "      <td>1955</td>\n",
       "      <td>0</td>\n",
       "      <td>98178</td>\n",
       "      <td>47.5112</td>\n",
       "      <td>-122.257</td>\n",
       "      <td>1340</td>\n",
       "      <td>5650</td>\n",
       "    </tr>\n",
       "    <tr>\n",
       "      <th>1</th>\n",
       "      <td>6414100192</td>\n",
       "      <td>20141209T000000</td>\n",
       "      <td>538000.0</td>\n",
       "      <td>3</td>\n",
       "      <td>2.25</td>\n",
       "      <td>2570</td>\n",
       "      <td>7242</td>\n",
       "      <td>2.0</td>\n",
       "      <td>0</td>\n",
       "      <td>0</td>\n",
       "      <td>...</td>\n",
       "      <td>7</td>\n",
       "      <td>2170</td>\n",
       "      <td>400</td>\n",
       "      <td>1951</td>\n",
       "      <td>1991</td>\n",
       "      <td>98125</td>\n",
       "      <td>47.7210</td>\n",
       "      <td>-122.319</td>\n",
       "      <td>1690</td>\n",
       "      <td>7639</td>\n",
       "    </tr>\n",
       "    <tr>\n",
       "      <th>2</th>\n",
       "      <td>5631500400</td>\n",
       "      <td>20150225T000000</td>\n",
       "      <td>180000.0</td>\n",
       "      <td>2</td>\n",
       "      <td>1.00</td>\n",
       "      <td>770</td>\n",
       "      <td>10000</td>\n",
       "      <td>1.0</td>\n",
       "      <td>0</td>\n",
       "      <td>0</td>\n",
       "      <td>...</td>\n",
       "      <td>6</td>\n",
       "      <td>770</td>\n",
       "      <td>0</td>\n",
       "      <td>1933</td>\n",
       "      <td>0</td>\n",
       "      <td>98028</td>\n",
       "      <td>47.7379</td>\n",
       "      <td>-122.233</td>\n",
       "      <td>2720</td>\n",
       "      <td>8062</td>\n",
       "    </tr>\n",
       "    <tr>\n",
       "      <th>3</th>\n",
       "      <td>2487200875</td>\n",
       "      <td>20141209T000000</td>\n",
       "      <td>604000.0</td>\n",
       "      <td>4</td>\n",
       "      <td>3.00</td>\n",
       "      <td>1960</td>\n",
       "      <td>5000</td>\n",
       "      <td>1.0</td>\n",
       "      <td>0</td>\n",
       "      <td>0</td>\n",
       "      <td>...</td>\n",
       "      <td>7</td>\n",
       "      <td>1050</td>\n",
       "      <td>910</td>\n",
       "      <td>1965</td>\n",
       "      <td>0</td>\n",
       "      <td>98136</td>\n",
       "      <td>47.5208</td>\n",
       "      <td>-122.393</td>\n",
       "      <td>1360</td>\n",
       "      <td>5000</td>\n",
       "    </tr>\n",
       "    <tr>\n",
       "      <th>4</th>\n",
       "      <td>1954400510</td>\n",
       "      <td>20150218T000000</td>\n",
       "      <td>510000.0</td>\n",
       "      <td>3</td>\n",
       "      <td>2.00</td>\n",
       "      <td>1680</td>\n",
       "      <td>8080</td>\n",
       "      <td>1.0</td>\n",
       "      <td>0</td>\n",
       "      <td>0</td>\n",
       "      <td>...</td>\n",
       "      <td>8</td>\n",
       "      <td>1680</td>\n",
       "      <td>0</td>\n",
       "      <td>1987</td>\n",
       "      <td>0</td>\n",
       "      <td>98074</td>\n",
       "      <td>47.6168</td>\n",
       "      <td>-122.045</td>\n",
       "      <td>1800</td>\n",
       "      <td>7503</td>\n",
       "    </tr>\n",
       "  </tbody>\n",
       "</table>\n",
       "<p>5 rows × 21 columns</p>\n",
       "</div>"
      ],
      "text/plain": [
       "           id             date     price  bedrooms  bathrooms  sqft_living  \\\n",
       "0  7129300520  20141013T000000  221900.0         3       1.00         1180   \n",
       "1  6414100192  20141209T000000  538000.0         3       2.25         2570   \n",
       "2  5631500400  20150225T000000  180000.0         2       1.00          770   \n",
       "3  2487200875  20141209T000000  604000.0         4       3.00         1960   \n",
       "4  1954400510  20150218T000000  510000.0         3       2.00         1680   \n",
       "\n",
       "   sqft_lot  floors  waterfront  view  ...  grade  sqft_above  sqft_basement  \\\n",
       "0      5650     1.0           0     0  ...      7        1180              0   \n",
       "1      7242     2.0           0     0  ...      7        2170            400   \n",
       "2     10000     1.0           0     0  ...      6         770              0   \n",
       "3      5000     1.0           0     0  ...      7        1050            910   \n",
       "4      8080     1.0           0     0  ...      8        1680              0   \n",
       "\n",
       "   yr_built  yr_renovated  zipcode      lat     long  sqft_living15  \\\n",
       "0      1955             0    98178  47.5112 -122.257           1340   \n",
       "1      1951          1991    98125  47.7210 -122.319           1690   \n",
       "2      1933             0    98028  47.7379 -122.233           2720   \n",
       "3      1965             0    98136  47.5208 -122.393           1360   \n",
       "4      1987             0    98074  47.6168 -122.045           1800   \n",
       "\n",
       "   sqft_lot15  \n",
       "0        5650  \n",
       "1        7639  \n",
       "2        8062  \n",
       "3        5000  \n",
       "4        7503  \n",
       "\n",
       "[5 rows x 21 columns]"
      ]
     },
     "execution_count": 2,
     "metadata": {},
     "output_type": "execute_result"
    }
   ],
   "source": [
    "# Lendo o banco de dados\n",
    "base = pd.read_csv(\"house_price.csv\")\n",
    "\n",
    "# Para confirmarmos se está tudo certo com o banco olhamos o começinho dele.\n",
    "base.head()"
   ]
  },
  {
   "cell_type": "code",
   "execution_count": 3,
   "metadata": {},
   "outputs": [
    {
     "data": {
      "text/plain": [
       "(21613, 21)"
      ]
     },
     "execution_count": 3,
     "metadata": {},
     "output_type": "execute_result"
    }
   ],
   "source": [
    "# Encontrando as dimensões do banco de dados\n",
    "base.shape"
   ]
  },
  {
   "cell_type": "markdown",
   "metadata": {},
   "source": [
    "Obtendo as variáveis de interesse...\n"
   ]
  },
  {
   "cell_type": "code",
   "execution_count": 8,
   "metadata": {},
   "outputs": [
    {
     "name": "stdout",
     "output_type": "stream",
     "text": [
      "Dimensões do preco (21613, 1)\n",
      "Dimensões do metros_quad (21613, 1)\n"
     ]
    }
   ],
   "source": [
    "# Obtendo os preços (que será o que queremos prever)\n",
    "preco = base.iloc[:, 2:3].values # obtem a coluna de índice 2 do dataset e todas as suas linhas\n",
    "print(\"Dimensões do preco\", preco.shape)\n",
    "\n",
    "# Obtendo os metros quadrados, que é o atributo que estamos usando para predição\n",
    "metros_quad = base.iloc[:, 5:6].values # obtem a coluna de índice 2 do dataset e todas as suas linhas\n",
    "print(\"Dimensões do metros_quad\", metros_quad.shape)"
   ]
  },
  {
   "cell_type": "markdown",
   "metadata": {},
   "source": [
    "Agora vamos normalizar os dados de interesse para podermos passar para a regressão.\n"
   ]
  },
  {
   "cell_type": "code",
   "execution_count": 12,
   "metadata": {},
   "outputs": [
    {
     "name": "stdout",
     "output_type": "stream",
     "text": [
      "Metros quadrados normalizados\n",
      " [[-0.97983502]\n",
      " [ 0.53363434]\n",
      " [-1.42625404]\n",
      " ...\n",
      " [-1.15404732]\n",
      " [-0.52252773]\n",
      " [-1.15404732]]\n",
      "\n",
      "Preços normalizados\n",
      " [[-0.86671733]\n",
      " [-0.00568792]\n",
      " [-0.98084935]\n",
      " ...\n",
      " [-0.37586519]\n",
      " [-0.38158814]\n",
      " [-0.58588173]]\n"
     ]
    }
   ],
   "source": [
    "scaler_metros = StandardScaler()\n",
    "scaler_precos = StandardScaler()\n",
    "\n",
    "precos_escalados = scaler_precos.fit_transform(preco)\n",
    "metros_escalados = scaler_metros.fit_transform(metros_quad)\n",
    "\n",
    "# Visualizando os dados escalonados\n",
    "print(\"Metros quadrados normalizados\\n\", metros_escalados)\n",
    "print(\"\\nPreços normalizados\\n\", precos_escalados)\n"
   ]
  },
  {
   "cell_type": "markdown",
   "metadata": {},
   "source": [
    "Agora vamos definir as colunas que vamos utilizar como atributos que estão no dataset. Nesse caso é apenas a coluna dos metros quadrados."
   ]
  },
  {
   "cell_type": "code",
   "execution_count": 14,
   "metadata": {},
   "outputs": [
    {
     "data": {
      "text/plain": [
       "[NumericColumn(key='metros_quadrados', shape=(1,), default_value=None, dtype=tf.float32, normalizer_fn=None)]"
      ]
     },
     "execution_count": 14,
     "metadata": {},
     "output_type": "execute_result"
    }
   ],
   "source": [
    "colunas_atributos = [tf.feature_column.numeric_column('metros_quadrados', shape=[1])]\n",
    "colunas_atributos"
   ]
  },
  {
   "cell_type": "markdown",
   "metadata": {},
   "source": [
    "Então, vamos aplicar o algoritmo LinearRegressor...\n",
    "\n"
   ]
  },
  {
   "cell_type": "code",
   "execution_count": 16,
   "metadata": {},
   "outputs": [
    {
     "name": "stdout",
     "output_type": "stream",
     "text": [
      "INFO:tensorflow:Using default config.\n",
      "WARNING:tensorflow:Using temporary folder as model directory: C:\\Users\\Natielle\\AppData\\Local\\Temp\\tmpfhr4__wq\n",
      "INFO:tensorflow:Using config: {'_model_dir': 'C:\\\\Users\\\\Natielle\\\\AppData\\\\Local\\\\Temp\\\\tmpfhr4__wq', '_tf_random_seed': None, '_save_summary_steps': 100, '_save_checkpoints_steps': None, '_save_checkpoints_secs': 600, '_session_config': allow_soft_placement: true\n",
      "graph_options {\n",
      "  rewrite_options {\n",
      "    meta_optimizer_iterations: ONE\n",
      "  }\n",
      "}\n",
      ", '_keep_checkpoint_max': 5, '_keep_checkpoint_every_n_hours': 10000, '_log_step_count_steps': 100, '_train_distribute': None, '_device_fn': None, '_protocol': None, '_eval_distribute': None, '_experimental_distribute': None, '_service': None, '_cluster_spec': <tensorflow.python.training.server_lib.ClusterSpec object at 0x000001FD68D01CC0>, '_task_type': 'worker', '_task_id': 0, '_global_id_in_cluster': 0, '_master': '', '_evaluation_master': '', '_is_chief': True, '_num_ps_replicas': 0, '_num_worker_replicas': 1}\n"
     ]
    },
    {
     "data": {
      "text/plain": [
       "<tensorflow_estimator.python.estimator.canned.linear.LinearRegressor at 0x1fd68d01080>"
      ]
     },
     "execution_count": 16,
     "metadata": {},
     "output_type": "execute_result"
    }
   ],
   "source": [
    "regressor = tf.estimator.LinearRegressor(feature_columns=colunas_atributos)\n",
    "regressor"
   ]
  },
  {
   "cell_type": "markdown",
   "metadata": {},
   "source": [
    "Como já temos a aplicação do algortimo, agora vamos separar os dados em treinamento e teste."
   ]
  },
  {
   "cell_type": "code",
   "execution_count": 19,
   "metadata": {},
   "outputs": [
    {
     "name": "stdout",
     "output_type": "stream",
     "text": [
      "metros_train:  (15129, 1)\n",
      "metros_test:  (6484, 1)\n",
      "precos_train:  (15129, 1)\n",
      "precos_test:  (6484, 1)\n"
     ]
    }
   ],
   "source": [
    "# Aqui estamos separando 30% do dataset para testarmos e 70% para treinarmos o modelo\n",
    "metros_train, metros_test, precos_train, precos_test = train_test_split(metros_escalados, precos_escalados, test_size = 0.3)\n",
    "\n",
    "# Analisando as dimensões\n",
    "print(\"metros_train: \", metros_train.shape)\n",
    "print(\"metros_test: \", metros_test.shape)\n",
    "print(\"precos_train: \", precos_train.shape)\n",
    "print(\"precos_test: \", precos_test.shape)"
   ]
  },
  {
   "cell_type": "markdown",
   "metadata": {},
   "source": [
    "Para realizarmos o treinamento, precisaremos fazer uma função do estimator.\n"
   ]
  },
  {
   "cell_type": "code",
   "execution_count": 20,
   "metadata": {},
   "outputs": [],
   "source": [
    "# Função que vai retornar os dados de treino para o tensorflow\n",
    "funcao_train = tf.estimator.inputs.numpy_input_fn({'metros_quadrados': metros_train}, precos_train,\n",
    "                                                  batch_size=32,# pega em lotes de 32\n",
    "                                                  num_epochs=None, # quantidade de vezes que vai rodar\n",
    "                                                  shuffle=True) # pega ordem aleatória\n",
    "\n",
    "# Função que vai retornar os dados de teste para o tensorflow\n",
    "funcao_test = tf.estimator.inputs.numpy_input_fn({'metros_quadrados': metros_test}, precos_test,\n",
    "                                                  batch_size=32,# pega em lotes de 32\n",
    "                                                  num_epochs=1000, # quantidade de vezes que vai rodar\n",
    "                                                  shuffle=False) # pega os registros em ordem "
   ]
  },
  {
   "cell_type": "code",
   "execution_count": 21,
   "metadata": {},
   "outputs": [
    {
     "name": "stdout",
     "output_type": "stream",
     "text": [
      "WARNING:tensorflow:From C:\\Users\\Natielle\\anaconda3\\envs\\tensorflow2_py37\\lib\\site-packages\\tensorflow\\python\\framework\\op_def_library.py:263: colocate_with (from tensorflow.python.framework.ops) is deprecated and will be removed in a future version.\n",
      "Instructions for updating:\n",
      "Colocations handled automatically by placer.\n",
      "WARNING:tensorflow:From C:\\Users\\Natielle\\anaconda3\\envs\\tensorflow2_py37\\lib\\site-packages\\tensorflow_estimator\\python\\estimator\\inputs\\queues\\feeding_queue_runner.py:62: QueueRunner.__init__ (from tensorflow.python.training.queue_runner_impl) is deprecated and will be removed in a future version.\n",
      "Instructions for updating:\n",
      "To construct input pipelines, use the `tf.data` module.\n",
      "WARNING:tensorflow:From C:\\Users\\Natielle\\anaconda3\\envs\\tensorflow2_py37\\lib\\site-packages\\tensorflow_estimator\\python\\estimator\\inputs\\queues\\feeding_functions.py:500: add_queue_runner (from tensorflow.python.training.queue_runner_impl) is deprecated and will be removed in a future version.\n",
      "Instructions for updating:\n",
      "To construct input pipelines, use the `tf.data` module.\n",
      "INFO:tensorflow:Calling model_fn.\n",
      "WARNING:tensorflow:From C:\\Users\\Natielle\\anaconda3\\envs\\tensorflow2_py37\\lib\\site-packages\\tensorflow\\python\\feature_column\\feature_column_v2.py:2703: to_float (from tensorflow.python.ops.math_ops) is deprecated and will be removed in a future version.\n",
      "Instructions for updating:\n",
      "Use tf.cast instead.\n",
      "INFO:tensorflow:Done calling model_fn.\n",
      "INFO:tensorflow:Create CheckpointSaverHook.\n",
      "INFO:tensorflow:Graph was finalized.\n",
      "INFO:tensorflow:Running local_init_op.\n",
      "INFO:tensorflow:Done running local_init_op.\n",
      "WARNING:tensorflow:From C:\\Users\\Natielle\\anaconda3\\envs\\tensorflow2_py37\\lib\\site-packages\\tensorflow\\python\\training\\monitored_session.py:809: start_queue_runners (from tensorflow.python.training.queue_runner_impl) is deprecated and will be removed in a future version.\n",
      "Instructions for updating:\n",
      "To construct input pipelines, use the `tf.data` module.\n",
      "INFO:tensorflow:Saving checkpoints for 0 into C:\\Users\\Natielle\\AppData\\Local\\Temp\\tmpfhr4__wq\\model.ckpt.\n",
      "INFO:tensorflow:loss = 33.366264, step = 1\n",
      "INFO:tensorflow:global_step/sec: 615.136\n",
      "INFO:tensorflow:loss = 9.818478, step = 101 (0.227 sec)\n",
      "INFO:tensorflow:global_step/sec: 522.233\n",
      "INFO:tensorflow:loss = 10.347807, step = 201 (0.106 sec)\n",
      "INFO:tensorflow:global_step/sec: 1112.99\n",
      "INFO:tensorflow:loss = 10.60809, step = 301 (0.088 sec)\n",
      "INFO:tensorflow:global_step/sec: 1214.05\n",
      "INFO:tensorflow:loss = 7.8088565, step = 401 (0.097 sec)\n",
      "INFO:tensorflow:global_step/sec: 1023.85\n",
      "INFO:tensorflow:loss = 13.0620575, step = 501 (0.083 sec)\n",
      "INFO:tensorflow:global_step/sec: 999.834\n",
      "INFO:tensorflow:loss = 11.568356, step = 601 (0.100 sec)\n",
      "INFO:tensorflow:global_step/sec: 1193.49\n",
      "INFO:tensorflow:loss = 10.121416, step = 701 (0.084 sec)\n",
      "INFO:tensorflow:global_step/sec: 996.466\n",
      "INFO:tensorflow:loss = 20.11168, step = 801 (0.100 sec)\n",
      "INFO:tensorflow:global_step/sec: 1221.96\n",
      "INFO:tensorflow:loss = 9.229238, step = 901 (0.082 sec)\n",
      "INFO:tensorflow:global_step/sec: 991.238\n",
      "INFO:tensorflow:loss = 37.596767, step = 1001 (0.101 sec)\n",
      "INFO:tensorflow:global_step/sec: 1211.4\n",
      "INFO:tensorflow:loss = 7.3921204, step = 1101 (0.083 sec)\n",
      "INFO:tensorflow:global_step/sec: 854.667\n",
      "INFO:tensorflow:loss = 7.7245955, step = 1201 (0.117 sec)\n",
      "INFO:tensorflow:global_step/sec: 996.897\n",
      "INFO:tensorflow:loss = 18.411432, step = 1301 (0.100 sec)\n",
      "INFO:tensorflow:global_step/sec: 1013.1\n",
      "INFO:tensorflow:loss = 16.771416, step = 1401 (0.101 sec)\n",
      "INFO:tensorflow:global_step/sec: 1078.13\n",
      "INFO:tensorflow:loss = 8.738407, step = 1501 (0.093 sec)\n",
      "INFO:tensorflow:global_step/sec: 1081.49\n",
      "INFO:tensorflow:loss = 12.675099, step = 1601 (0.090 sec)\n",
      "INFO:tensorflow:global_step/sec: 869.574\n",
      "INFO:tensorflow:loss = 7.623654, step = 1701 (0.115 sec)\n",
      "INFO:tensorflow:global_step/sec: 852.87\n",
      "INFO:tensorflow:loss = 9.80413, step = 1801 (0.117 sec)\n",
      "INFO:tensorflow:global_step/sec: 859.769\n",
      "INFO:tensorflow:loss = 17.227709, step = 1901 (0.116 sec)\n",
      "INFO:tensorflow:global_step/sec: 694.906\n",
      "INFO:tensorflow:loss = 8.045141, step = 2001 (0.147 sec)\n",
      "INFO:tensorflow:global_step/sec: 696.298\n",
      "INFO:tensorflow:loss = 7.234843, step = 2101 (0.147 sec)\n",
      "INFO:tensorflow:global_step/sec: 496.373\n",
      "INFO:tensorflow:loss = 7.34039, step = 2201 (0.201 sec)\n",
      "INFO:tensorflow:global_step/sec: 909.654\n",
      "INFO:tensorflow:loss = 18.354475, step = 2301 (0.120 sec)\n",
      "INFO:tensorflow:global_step/sec: 843.938\n",
      "INFO:tensorflow:loss = 16.026747, step = 2401 (0.103 sec)\n",
      "INFO:tensorflow:global_step/sec: 857.422\n",
      "INFO:tensorflow:loss = 8.445075, step = 2501 (0.117 sec)\n",
      "INFO:tensorflow:global_step/sec: 905.69\n",
      "INFO:tensorflow:loss = 11.644612, step = 2601 (0.110 sec)\n",
      "INFO:tensorflow:global_step/sec: 862.631\n",
      "INFO:tensorflow:loss = 9.460153, step = 2701 (0.132 sec)\n",
      "INFO:tensorflow:global_step/sec: 812.878\n",
      "INFO:tensorflow:loss = 9.162634, step = 2801 (0.107 sec)\n",
      "INFO:tensorflow:global_step/sec: 1002.18\n",
      "INFO:tensorflow:loss = 6.7505546, step = 2901 (0.100 sec)\n",
      "INFO:tensorflow:global_step/sec: 990.805\n",
      "INFO:tensorflow:loss = 7.7598343, step = 3001 (0.101 sec)\n",
      "INFO:tensorflow:global_step/sec: 1048.71\n",
      "INFO:tensorflow:loss = 9.258172, step = 3101 (0.108 sec)\n",
      "INFO:tensorflow:global_step/sec: 753.924\n",
      "INFO:tensorflow:loss = 26.561224, step = 3201 (0.123 sec)\n",
      "INFO:tensorflow:global_step/sec: 1066.68\n",
      "INFO:tensorflow:loss = 6.4858937, step = 3301 (0.093 sec)\n",
      "INFO:tensorflow:global_step/sec: 1078.15\n",
      "INFO:tensorflow:loss = 6.4999785, step = 3401 (0.093 sec)\n",
      "INFO:tensorflow:global_step/sec: 1089.86\n",
      "INFO:tensorflow:loss = 9.698872, step = 3501 (0.092 sec)\n",
      "INFO:tensorflow:global_step/sec: 1114.08\n",
      "INFO:tensorflow:loss = 8.811888, step = 3601 (0.091 sec)\n",
      "INFO:tensorflow:global_step/sec: 1044.46\n",
      "INFO:tensorflow:loss = 19.637875, step = 3701 (0.095 sec)\n",
      "INFO:tensorflow:global_step/sec: 973.414\n",
      "INFO:tensorflow:loss = 50.161945, step = 3801 (0.103 sec)\n",
      "INFO:tensorflow:global_step/sec: 1023.2\n",
      "INFO:tensorflow:loss = 9.94348, step = 3901 (0.099 sec)\n",
      "INFO:tensorflow:global_step/sec: 895.241\n",
      "INFO:tensorflow:loss = 7.822318, step = 4001 (0.111 sec)\n",
      "INFO:tensorflow:global_step/sec: 864.368\n",
      "INFO:tensorflow:loss = 14.577636, step = 4101 (0.117 sec)\n",
      "INFO:tensorflow:global_step/sec: 593.301\n",
      "INFO:tensorflow:loss = 16.825375, step = 4201 (0.170 sec)\n",
      "INFO:tensorflow:global_step/sec: 849.729\n",
      "INFO:tensorflow:loss = 13.7348, step = 4301 (0.117 sec)\n",
      "INFO:tensorflow:global_step/sec: 916.768\n",
      "INFO:tensorflow:loss = 8.1170635, step = 4401 (0.106 sec)\n",
      "INFO:tensorflow:global_step/sec: 862.784\n",
      "INFO:tensorflow:loss = 16.582945, step = 4501 (0.116 sec)\n",
      "INFO:tensorflow:global_step/sec: 865.035\n",
      "INFO:tensorflow:loss = 9.438806, step = 4601 (0.116 sec)\n",
      "INFO:tensorflow:global_step/sec: 838.896\n",
      "INFO:tensorflow:loss = 33.031517, step = 4701 (0.119 sec)\n",
      "INFO:tensorflow:global_step/sec: 752.286\n",
      "INFO:tensorflow:loss = 9.557501, step = 4801 (0.135 sec)\n",
      "INFO:tensorflow:global_step/sec: 796.591\n",
      "INFO:tensorflow:loss = 23.524513, step = 4901 (0.125 sec)\n",
      "INFO:tensorflow:global_step/sec: 808.611\n",
      "INFO:tensorflow:loss = 9.256239, step = 5001 (0.125 sec)\n",
      "INFO:tensorflow:global_step/sec: 682.093\n",
      "INFO:tensorflow:loss = 17.546045, step = 5101 (0.147 sec)\n",
      "INFO:tensorflow:global_step/sec: 841.353\n",
      "INFO:tensorflow:loss = 10.061864, step = 5201 (0.116 sec)\n",
      "INFO:tensorflow:global_step/sec: 844.686\n",
      "INFO:tensorflow:loss = 4.363659, step = 5301 (0.118 sec)\n",
      "INFO:tensorflow:global_step/sec: 863.159\n",
      "INFO:tensorflow:loss = 34.132572, step = 5401 (0.123 sec)\n",
      "INFO:tensorflow:global_step/sec: 764.979\n",
      "INFO:tensorflow:loss = 20.753117, step = 5501 (0.126 sec)\n",
      "INFO:tensorflow:global_step/sec: 1079.03\n",
      "INFO:tensorflow:loss = 6.301964, step = 5601 (0.090 sec)\n",
      "INFO:tensorflow:global_step/sec: 1019.2\n",
      "INFO:tensorflow:loss = 6.0850906, step = 5701 (0.100 sec)\n",
      "INFO:tensorflow:global_step/sec: 1078.16\n",
      "INFO:tensorflow:loss = 20.648645, step = 5801 (0.093 sec)\n",
      "INFO:tensorflow:global_step/sec: 856.988\n",
      "INFO:tensorflow:loss = 27.311794, step = 5901 (0.117 sec)\n",
      "INFO:tensorflow:global_step/sec: 864.372\n",
      "INFO:tensorflow:loss = 8.952982, step = 6001 (0.116 sec)\n",
      "INFO:tensorflow:global_step/sec: 600.406\n",
      "INFO:tensorflow:loss = 8.394314, step = 6101 (0.168 sec)\n",
      "INFO:tensorflow:global_step/sec: 947.887\n",
      "INFO:tensorflow:loss = 5.7826266, step = 6201 (0.103 sec)\n"
     ]
    },
    {
     "name": "stdout",
     "output_type": "stream",
     "text": [
      "INFO:tensorflow:global_step/sec: 1217.32\n",
      "INFO:tensorflow:loss = 14.851602, step = 6301 (0.082 sec)\n",
      "INFO:tensorflow:global_step/sec: 978.158\n",
      "INFO:tensorflow:loss = 8.9751, step = 6401 (0.102 sec)\n",
      "INFO:tensorflow:global_step/sec: 1214.49\n",
      "INFO:tensorflow:loss = 25.067806, step = 6501 (0.095 sec)\n",
      "INFO:tensorflow:global_step/sec: 1006.55\n",
      "INFO:tensorflow:loss = 10.240131, step = 6601 (0.086 sec)\n",
      "INFO:tensorflow:global_step/sec: 1077.5\n",
      "INFO:tensorflow:loss = 34.39818, step = 6701 (0.095 sec)\n",
      "INFO:tensorflow:global_step/sec: 1171.76\n",
      "INFO:tensorflow:loss = 18.771063, step = 6801 (0.083 sec)\n",
      "INFO:tensorflow:global_step/sec: 1139.41\n",
      "INFO:tensorflow:loss = 12.756569, step = 6901 (0.090 sec)\n",
      "INFO:tensorflow:global_step/sec: 1189.44\n",
      "INFO:tensorflow:loss = 13.063949, step = 7001 (0.082 sec)\n",
      "INFO:tensorflow:global_step/sec: 1016.85\n",
      "INFO:tensorflow:loss = 8.620831, step = 7101 (0.098 sec)\n",
      "INFO:tensorflow:global_step/sec: 955.925\n",
      "INFO:tensorflow:loss = 13.505733, step = 7201 (0.108 sec)\n",
      "INFO:tensorflow:global_step/sec: 828.67\n",
      "INFO:tensorflow:loss = 18.090734, step = 7301 (0.119 sec)\n",
      "INFO:tensorflow:global_step/sec: 1305.55\n",
      "INFO:tensorflow:loss = 9.012106, step = 7401 (0.076 sec)\n",
      "INFO:tensorflow:global_step/sec: 979.691\n",
      "INFO:tensorflow:loss = 12.298356, step = 7501 (0.104 sec)\n",
      "INFO:tensorflow:global_step/sec: 1227.13\n",
      "INFO:tensorflow:loss = 8.814715, step = 7601 (0.079 sec)\n",
      "INFO:tensorflow:global_step/sec: 937.319\n",
      "INFO:tensorflow:loss = 10.228448, step = 7701 (0.109 sec)\n",
      "INFO:tensorflow:global_step/sec: 1012.8\n",
      "INFO:tensorflow:loss = 8.210778, step = 7801 (0.100 sec)\n",
      "INFO:tensorflow:global_step/sec: 1089.86\n",
      "INFO:tensorflow:loss = 9.072716, step = 7901 (0.092 sec)\n",
      "INFO:tensorflow:global_step/sec: 1152.05\n",
      "INFO:tensorflow:loss = 6.97935, step = 8001 (0.096 sec)\n",
      "INFO:tensorflow:global_step/sec: 837.4\n",
      "INFO:tensorflow:loss = 5.3797684, step = 8101 (0.111 sec)\n",
      "INFO:tensorflow:global_step/sec: 928.408\n",
      "INFO:tensorflow:loss = 38.430832, step = 8201 (0.107 sec)\n",
      "INFO:tensorflow:global_step/sec: 711.112\n",
      "INFO:tensorflow:loss = 65.94441, step = 8301 (0.144 sec)\n",
      "INFO:tensorflow:global_step/sec: 805.271\n",
      "INFO:tensorflow:loss = 14.237585, step = 8401 (0.121 sec)\n",
      "INFO:tensorflow:global_step/sec: 1104.42\n",
      "INFO:tensorflow:loss = 11.139521, step = 8501 (0.089 sec)\n",
      "INFO:tensorflow:global_step/sec: 1161.47\n",
      "INFO:tensorflow:loss = 16.682201, step = 8601 (0.102 sec)\n",
      "INFO:tensorflow:global_step/sec: 769.088\n",
      "INFO:tensorflow:loss = 11.974012, step = 8701 (0.117 sec)\n",
      "INFO:tensorflow:global_step/sec: 864.377\n",
      "INFO:tensorflow:loss = 11.966751, step = 8801 (0.115 sec)\n",
      "INFO:tensorflow:global_step/sec: 945.911\n",
      "INFO:tensorflow:loss = 11.285908, step = 8901 (0.106 sec)\n",
      "INFO:tensorflow:global_step/sec: 849.731\n",
      "INFO:tensorflow:loss = 18.708374, step = 9001 (0.119 sec)\n",
      "INFO:tensorflow:global_step/sec: 911.522\n",
      "INFO:tensorflow:loss = 13.171007, step = 9101 (0.110 sec)\n",
      "INFO:tensorflow:global_step/sec: 999.008\n",
      "INFO:tensorflow:loss = 13.709359, step = 9201 (0.113 sec)\n",
      "INFO:tensorflow:global_step/sec: 709.372\n",
      "INFO:tensorflow:loss = 32.664555, step = 9301 (0.141 sec)\n",
      "INFO:tensorflow:global_step/sec: 779.596\n",
      "INFO:tensorflow:loss = 13.909731, step = 9401 (0.113 sec)\n",
      "INFO:tensorflow:global_step/sec: 690.569\n",
      "INFO:tensorflow:loss = 13.168707, step = 9501 (0.148 sec)\n",
      "INFO:tensorflow:global_step/sec: 856.99\n",
      "INFO:tensorflow:loss = 40.48138, step = 9601 (0.117 sec)\n",
      "INFO:tensorflow:global_step/sec: 789.5\n",
      "INFO:tensorflow:loss = 30.795872, step = 9701 (0.127 sec)\n",
      "INFO:tensorflow:global_step/sec: 795.78\n",
      "INFO:tensorflow:loss = 14.231905, step = 9801 (0.126 sec)\n",
      "INFO:tensorflow:global_step/sec: 999.051\n",
      "INFO:tensorflow:loss = 45.136215, step = 9901 (0.097 sec)\n",
      "INFO:tensorflow:Saving checkpoints for 10000 into C:\\Users\\Natielle\\AppData\\Local\\Temp\\tmpfhr4__wq\\model.ckpt.\n",
      "INFO:tensorflow:Loss for final step: 8.446073.\n"
     ]
    },
    {
     "data": {
      "text/plain": [
       "<tensorflow_estimator.python.estimator.canned.linear.LinearRegressor at 0x1fd68d01080>"
      ]
     },
     "execution_count": 21,
     "metadata": {},
     "output_type": "execute_result"
    }
   ],
   "source": [
    "# Vamos treinar de fato agora\n",
    "regressor.train(input_fn=funcao_train, \n",
    "                steps=10000) "
   ]
  },
  {
   "cell_type": "markdown",
   "metadata": {},
   "source": [
    "Notar que o steps roda a quantidade de vezes que ele tem que rodar dentro de um epochs."
   ]
  },
  {
   "cell_type": "markdown",
   "metadata": {},
   "source": [
    "Após treinarmos, podemos observar algumas métricas.\n"
   ]
  },
  {
   "cell_type": "code",
   "execution_count": 22,
   "metadata": {},
   "outputs": [
    {
     "name": "stdout",
     "output_type": "stream",
     "text": [
      "INFO:tensorflow:Calling model_fn.\n",
      "INFO:tensorflow:Done calling model_fn.\n",
      "INFO:tensorflow:Starting evaluation at 2020-05-06T00:58:44Z\n",
      "INFO:tensorflow:Graph was finalized.\n",
      "WARNING:tensorflow:From C:\\Users\\Natielle\\anaconda3\\envs\\tensorflow2_py37\\lib\\site-packages\\tensorflow\\python\\training\\saver.py:1266: checkpoint_exists (from tensorflow.python.training.checkpoint_management) is deprecated and will be removed in a future version.\n",
      "Instructions for updating:\n",
      "Use standard file APIs to check for files with this prefix.\n",
      "INFO:tensorflow:Restoring parameters from C:\\Users\\Natielle\\AppData\\Local\\Temp\\tmpfhr4__wq\\model.ckpt-10000\n",
      "INFO:tensorflow:Running local_init_op.\n",
      "INFO:tensorflow:Done running local_init_op.\n",
      "INFO:tensorflow:Evaluation [1000/10000]\n",
      "INFO:tensorflow:Evaluation [2000/10000]\n",
      "INFO:tensorflow:Evaluation [3000/10000]\n",
      "INFO:tensorflow:Evaluation [4000/10000]\n",
      "INFO:tensorflow:Evaluation [5000/10000]\n",
      "INFO:tensorflow:Evaluation [6000/10000]\n",
      "INFO:tensorflow:Evaluation [7000/10000]\n",
      "INFO:tensorflow:Evaluation [8000/10000]\n",
      "INFO:tensorflow:Evaluation [9000/10000]\n",
      "INFO:tensorflow:Evaluation [10000/10000]\n",
      "INFO:tensorflow:Finished evaluation at 2020-05-06-00:58:53\n",
      "INFO:tensorflow:Saving dict for global step 10000: average_loss = 0.4869371, global_step = 10000, label/mean = 0.0014513357, loss = 15.581987, prediction/mean = 0.0019821704\n",
      "INFO:tensorflow:Saving 'checkpoint_path' summary for global step 10000: C:\\Users\\Natielle\\AppData\\Local\\Temp\\tmpfhr4__wq\\model.ckpt-10000\n"
     ]
    }
   ],
   "source": [
    "metricas_train = regressor.evaluate(input_fn=funcao_train, steps=10000)"
   ]
  },
  {
   "cell_type": "code",
   "execution_count": 23,
   "metadata": {},
   "outputs": [
    {
     "name": "stdout",
     "output_type": "stream",
     "text": [
      "INFO:tensorflow:Calling model_fn.\n",
      "INFO:tensorflow:Done calling model_fn.\n",
      "INFO:tensorflow:Starting evaluation at 2020-05-06T00:59:29Z\n",
      "INFO:tensorflow:Graph was finalized.\n",
      "INFO:tensorflow:Restoring parameters from C:\\Users\\Natielle\\AppData\\Local\\Temp\\tmpfhr4__wq\\model.ckpt-10000\n",
      "INFO:tensorflow:Running local_init_op.\n",
      "INFO:tensorflow:Done running local_init_op.\n",
      "INFO:tensorflow:Evaluation [1000/10000]\n",
      "INFO:tensorflow:Evaluation [2000/10000]\n",
      "INFO:tensorflow:Evaluation [3000/10000]\n",
      "INFO:tensorflow:Evaluation [4000/10000]\n",
      "INFO:tensorflow:Evaluation [5000/10000]\n",
      "INFO:tensorflow:Evaluation [6000/10000]\n",
      "INFO:tensorflow:Evaluation [7000/10000]\n",
      "INFO:tensorflow:Evaluation [8000/10000]\n",
      "INFO:tensorflow:Evaluation [9000/10000]\n",
      "INFO:tensorflow:Evaluation [10000/10000]\n",
      "INFO:tensorflow:Finished evaluation at 2020-05-06-00:59:41\n",
      "INFO:tensorflow:Saving dict for global step 10000: average_loss = 0.55519867, global_step = 10000, label/mean = -0.0031537923, loss = 17.766357, prediction/mean = 0.0071647414\n",
      "INFO:tensorflow:Saving 'checkpoint_path' summary for global step 10000: C:\\Users\\Natielle\\AppData\\Local\\Temp\\tmpfhr4__wq\\model.ckpt-10000\n"
     ]
    }
   ],
   "source": [
    "metricas_test = regressor.evaluate(input_fn=funcao_test, steps=10000)"
   ]
  },
  {
   "cell_type": "code",
   "execution_count": 24,
   "metadata": {},
   "outputs": [
    {
     "name": "stdout",
     "output_type": "stream",
     "text": [
      "Métricas treinamento: \n",
      " {'average_loss': 0.4869371, 'label/mean': 0.0014513357, 'loss': 15.581987, 'prediction/mean': 0.0019821704, 'global_step': 10000}\n",
      "Métricas teste: \n",
      " {'average_loss': 0.55519867, 'label/mean': -0.0031537923, 'loss': 17.766357, 'prediction/mean': 0.0071647414, 'global_step': 10000}\n"
     ]
    }
   ],
   "source": [
    "print(\"Métricas treinamento: \\n\", metricas_train)\n",
    "print(\"Métricas teste: \\n\", metricas_test)"
   ]
  },
  {
   "cell_type": "markdown",
   "metadata": {},
   "source": [
    "É possível notar que aa métrica loss é menor no treino em grande parte das vezes."
   ]
  },
  {
   "cell_type": "markdown",
   "metadata": {},
   "source": [
    "**Dado que já fizemos as separações do dataset, agora vamos prever alguns exemplos.**"
   ]
  },
  {
   "cell_type": "code",
   "execution_count": 27,
   "metadata": {},
   "outputs": [
    {
     "name": "stdout",
     "output_type": "stream",
     "text": [
      "Novas casas: \n",
      " [[ 800]\n",
      " [ 900]\n",
      " [1000]]\n"
     ]
    }
   ],
   "source": [
    "# Criando novos exemplos para prevermos\n",
    "novas_casas = np.array([[800], [900], [1000]])\n",
    "print(\"Novas casas: \\n\", novas_casas)"
   ]
  },
  {
   "cell_type": "code",
   "execution_count": 29,
   "metadata": {},
   "outputs": [
    {
     "name": "stdout",
     "output_type": "stream",
     "text": [
      "Novas casas normalizadas: \n",
      " [[-1.39358923]\n",
      " [-1.28470655]\n",
      " [-1.17582386]]\n"
     ]
    }
   ],
   "source": [
    "# Normalizando os dados para aplicarmos no algoritmo\n",
    "novas_casas_escalonadas = scaler_metros.transform(novas_casas)\n",
    "print(\"Novas casas normalizadas: \\n\", novas_casas_escalonadas)"
   ]
  },
  {
   "cell_type": "code",
   "execution_count": 34,
   "metadata": {},
   "outputs": [
    {
     "name": "stdout",
     "output_type": "stream",
     "text": [
      "INFO:tensorflow:Calling model_fn.\n",
      "INFO:tensorflow:Done calling model_fn.\n",
      "INFO:tensorflow:Graph was finalized.\n",
      "INFO:tensorflow:Restoring parameters from C:\\Users\\Natielle\\AppData\\Local\\Temp\\tmpfhr4__wq\\model.ckpt-10000\n",
      "INFO:tensorflow:Running local_init_op.\n",
      "INFO:tensorflow:Done running local_init_op.\n"
     ]
    },
    {
     "data": {
      "text/plain": [
       "[{'predictions': array([-0.98675025], dtype=float32)},\n",
       " {'predictions': array([-0.9093868], dtype=float32)},\n",
       " {'predictions': array([-0.83202326], dtype=float32)}]"
      ]
     },
     "execution_count": 34,
     "metadata": {},
     "output_type": "execute_result"
    }
   ],
   "source": [
    "# Capturando os dados para ser passado para o tensorflow\n",
    "funcao_previsao = tf.estimator.inputs.numpy_input_fn({'metros_quadrados': novas_casas_escalonadas},\n",
    "                                                  shuffle=False) # pega os registros em ordem \n",
    "# realizando a previsão de fato\n",
    "previsoes = regressor.predict(input_fn=funcao_previsao)\n",
    "\n",
    "# observando o resultado\n",
    "list(previsoes) # nota-se que nesse ponto os valores estão normalizados"
   ]
  },
  {
   "cell_type": "code",
   "execution_count": 38,
   "metadata": {},
   "outputs": [
    {
     "name": "stdout",
     "output_type": "stream",
     "text": [
      "INFO:tensorflow:Calling model_fn.\n",
      "INFO:tensorflow:Done calling model_fn.\n",
      "INFO:tensorflow:Graph was finalized.\n",
      "INFO:tensorflow:Restoring parameters from C:\\Users\\Natielle\\AppData\\Local\\Temp\\tmpfhr4__wq\\model.ckpt-10000\n",
      "INFO:tensorflow:Running local_init_op.\n",
      "INFO:tensorflow:Done running local_init_op.\n",
      "[177833.67]\n",
      "[206235.23]\n",
      "[234636.83]\n"
     ]
    }
   ],
   "source": [
    "# agora vamos visualizar os valores preditos sem a normalização\n",
    "for p in regressor.predict(input_fn=funcao_previsao):\n",
    "    print(scaler_precos.inverse_transform(p['predictions']))"
   ]
  },
  {
   "cell_type": "code",
   "execution_count": null,
   "metadata": {},
   "outputs": [],
   "source": []
  }
 ],
 "metadata": {
  "kernelspec": {
   "display_name": "tensorflow2_py37",
   "language": "python",
   "name": "tensorflow2_py37"
  },
  "language_info": {
   "codemirror_mode": {
    "name": "ipython",
    "version": 3
   },
   "file_extension": ".py",
   "mimetype": "text/x-python",
   "name": "python",
   "nbconvert_exporter": "python",
   "pygments_lexer": "ipython3",
   "version": "3.6.10"
  }
 },
 "nbformat": 4,
 "nbformat_minor": 4
}
