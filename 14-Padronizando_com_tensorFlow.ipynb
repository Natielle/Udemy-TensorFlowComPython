{
 "cells": [
  {
   "cell_type": "markdown",
   "metadata": {},
   "source": [
    "# Padronização vs normalização"
   ]
  },
  {
   "cell_type": "markdown",
   "metadata": {},
   "source": [
    "## Normalização\n",
    "    A normalização pode ser representada pela imagem abaixo:\n",
    "![](Normalization.png)\n",
    "    \n",
    "    Seu cálculo é obtido assim:\n",
    "![](Normalization_formula.png)\n",
    "\n",
    "Onde o z é o valor de x normalizado."
   ]
  },
  {
   "cell_type": "markdown",
   "metadata": {},
   "source": [
    "## Padronização\n",
    "A padronização pode ser representada pela imagem abaixo:\n",
    "![](Standardization.png)\n",
    "    \n",
    "Seu cálculo é obtido assim:\n",
    "![](Standardization_formula.jpg)\n",
    "\n",
    "Onde o z é o valor de x padronizado."
   ]
  },
  {
   "cell_type": "markdown",
   "metadata": {},
   "source": [
    "# Ou seja, estudamos duas maneiras possíveis: A padronização e a normalização!\n",
    "\n",
    "Para compará-las podemos observar a figura abaixo:\n",
    "\n",
    "![](Normalization_VS_Standardization.jpg)"
   ]
  },
  {
   "cell_type": "markdown",
   "metadata": {},
   "source": [
    "Podemos notar que ao trabalha com banco de dados com outliers, podemos optar pela padronização ao invés da normalização. Pois a normalização pode não trabalhar tão bem com outliers."
   ]
  }
 ],
 "metadata": {
  "kernelspec": {
   "display_name": "tensorflow2_py37",
   "language": "python",
   "name": "tensorflow2_py37"
  },
  "language_info": {
   "codemirror_mode": {
    "name": "ipython",
    "version": 3
   },
   "file_extension": ".py",
   "mimetype": "text/x-python",
   "name": "python",
   "nbconvert_exporter": "python",
   "pygments_lexer": "ipython3",
   "version": "3.6.10"
  }
 },
 "nbformat": 4,
 "nbformat_minor": 4
}
