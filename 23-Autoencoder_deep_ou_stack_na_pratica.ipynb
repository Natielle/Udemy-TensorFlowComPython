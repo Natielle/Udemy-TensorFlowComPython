{
 "cells": [
  {
   "cell_type": "markdown",
   "metadata": {},
   "source": [
    "## Autoencoder deep ou stack\n",
    "\n",
    "Pode ser representado pela figura a seguir:\n",
    "\n",
    "![](deep_autoencoder.png)\n",
    "\n",
    "O objetivo desse exemplo é fazer o autoencoder com as imagens do MNIST.\n",
    "\n",
    "Estamos utilizando o banco de imagens de números que é obtido pelo link: http://yann.lecun.com/exdb/mnist/.\n",
    "\n"
   ]
  },
  {
   "cell_type": "code",
   "execution_count": 15,
   "metadata": {},
   "outputs": [],
   "source": [
    "from tensorflow.examples.tutorials.mnist import input_data\n",
    "import matplotlib.pyplot as plt\n",
    "import numpy as np\n",
    "import tensorflow as tf"
   ]
  },
  {
   "cell_type": "code",
   "execution_count": 8,
   "metadata": {},
   "outputs": [
    {
     "name": "stdout",
     "output_type": "stream",
     "text": [
      "Extracting mnist/train-images-idx3-ubyte.gz\n",
      "Extracting mnist/train-labels-idx1-ubyte.gz\n",
      "Extracting mnist/t10k-images-idx3-ubyte.gz\n",
      "Extracting mnist/t10k-labels-idx1-ubyte.gz\n"
     ]
    }
   ],
   "source": [
    "# Lendo as imagens e fazendo download\n",
    "mnist = input_data.read_data_sets('mnist/', # As imagens ficarão nesse diretório \n",
    "                                  one_hot = True) # Faz a categorização \"binária\" de múltiplas classes"
   ]
  },
  {
   "cell_type": "code",
   "execution_count": 9,
   "metadata": {},
   "outputs": [
    {
     "name": "stdout",
     "output_type": "stream",
     "text": [
      "X_train:  (55000, 784)\n",
      "X_test:  (10000, 784)\n",
      "Y_train:  (55000, 10)\n",
      "Y_test:  (10000, 10)\n"
     ]
    }
   ],
   "source": [
    "# Separando os dados em treino e teste\n",
    "X_train = mnist.train.images\n",
    "Y_train = mnist.train.labels\n",
    "X_test  = mnist.test.images\n",
    "Y_test  = mnist.test.labels\n",
    "\n",
    "# Analisando as dimensões\n",
    "print(\"X_train: \", X_train.shape)\n",
    "print(\"X_test: \", X_test.shape)\n",
    "print(\"Y_train: \", Y_train.shape)\n",
    "print(\"Y_test: \", Y_test.shape)"
   ]
  },
  {
   "cell_type": "code",
   "execution_count": 13,
   "metadata": {},
   "outputs": [
    {
     "data": {
      "text/plain": [
       "Text(0.5, 1.0, 'Classe: 3')"
      ]
     },
     "execution_count": 13,
     "metadata": {},
     "output_type": "execute_result"
    },
    {
     "data": {
      "image/png": "[encoded data removed]",
      "text/plain": [
       "<Figure size 432x288 with 1 Axes>"
      ]
     },
     "metadata": {
      "needs_background": "light"
     },
     "output_type": "display_data"
    }
   ],
   "source": [
    "# Agora vamos observar de fato alguma imagem carregada\n",
    "%matplotlib inline\n",
    "indice = 102\n",
    "plt.imshow(X_train[indice].reshape((28,28))) \n",
    "plt.title('Classe: ' + str(np.argmax(Y_train[indice])))"
   ]
  },
  {
   "cell_type": "markdown",
   "metadata": {},
   "source": [
    "Temos que a dimensão da imagem é 28 * 28 = 784. E o objetivo é reduzir de 784 para 64.\n",
    "\n",
    "Iremos ver o seguinte fluxo:\n",
    "\n",
    "784 -> 128 -> 64 -> 128 -> 784"
   ]
  },
  {
   "cell_type": "code",
   "execution_count": 17,
   "metadata": {},
   "outputs": [],
   "source": [
    "# Iremos ter as seguintes camadas\n",
    "neuronios_entrada = 784                # encoder\n",
    "neuronios_oculta1 = 128                # encoder\n",
    "neuronios_oculta2 = 64                 # dado/imagem codificada\n",
    "neuronios_oculta3 = neuronios_oculta1  # decoder\n",
    "neuronios_saida = neuronios_entrada    # decoder"
   ]
  },
  {
   "cell_type": "code",
   "execution_count": 18,
   "metadata": {},
   "outputs": [],
   "source": [
    "tf.reset_default_graph() # limpa a memória\n",
    "\n",
    "# Criando o placeholder\n",
    "xph = tf.placeholder(tf.float32, [None, neuronios_entrada])"
   ]
  },
  {
   "cell_type": "code",
   "execution_count": 19,
   "metadata": {},
   "outputs": [],
   "source": [
    "# Antes estavamos realizandoa inicialização dos pesos de maneira randomica com distribuição normal\n",
    "# Mas nesse caso, vamos inicializar os pesos com a inicialização Xavier \n",
    "# Nela a escala dos pesos se mantem a mesma em todas as camadas. (como se fosse uma padronização)\n",
    "\n",
    "# A inicialização Xavier se adapta melhor na função Sigmóide\n",
    "# A inicialização He se adapta melhor na função RELU\n",
    "\n",
    "inicializador = tf.variance_scaling_initializer()"
   ]
  },
  {
   "cell_type": "code",
   "execution_count": 20,
   "metadata": {},
   "outputs": [
    {
     "name": "stdout",
     "output_type": "stream",
     "text": [
      "WARNING:tensorflow:From C:\\Users\\Natielle\\anaconda3\\envs\\tensorflow2_py37\\lib\\site-packages\\tensorflow\\python\\framework\\op_def_library.py:263: colocate_with (from tensorflow.python.framework.ops) is deprecated and will be removed in a future version.\n",
      "Instructions for updating:\n",
      "Colocations handled automatically by placer.\n"
     ]
    }
   ],
   "source": [
    "# Fluxo das camadas: 784 -> 128 -> 64 -> 128 -> 784\n",
    "# Vamos criar um dicionário de pesos com a inicialização personalizada\n",
    "W = {'encoder_oculta1': tf.Variable(inicializador([neuronios_entrada, neuronios_oculta1])),\n",
    "     'encoder_oculta2': tf.Variable(inicializador([neuronios_oculta1, neuronios_oculta2])),\n",
    "     'decoder_oculta3': tf.Variable(inicializador([neuronios_oculta2, neuronios_oculta3])),\n",
    "     'decoder_saida': tf.Variable(inicializador([neuronios_oculta3, neuronios_saida]))\n",
    "}\n",
    "\n",
    "# Vamos criar um dicionário do bias com a inicialização personalizada\n",
    "b = {'encoder_oculta1': tf.Variable(inicializador([neuronios_oculta1])),\n",
    "     'encoder_oculta2': tf.Variable(inicializador([neuronios_oculta2])),\n",
    "     'decoder_oculta3': tf.Variable(inicializador([neuronios_oculta3])),\n",
    "     'decoder_saida': tf.Variable(inicializador([neuronios_saida]))\n",
    "}"
   ]
  },
  {
   "cell_type": "code",
   "execution_count": 21,
   "metadata": {},
   "outputs": [],
   "source": [
    "# Aqui vamos aplicar a função de ativação RELU. \n",
    "\n",
    "# Na camada_oculta1 multiplicamos a entrada com os pesos e depois somamos o bias\n",
    "camada_oculta1 = tf.nn.relu(tf.add(tf.matmul(xph, W['encoder_oculta1']), \n",
    "                                   b['encoder_oculta1']))\n",
    "camada_oculta2 = tf.nn.relu(tf.add(tf.matmul(camada_oculta1, W['encoder_oculta2']), b['encoder_oculta2']))\n",
    "camada_oculta3 = tf.nn.relu(tf.add(tf.matmul(camada_oculta2, W['decoder_oculta3']), b['decoder_oculta3']))\n",
    "camada_saida = tf.nn.relu(tf.add(tf.matmul(camada_oculta3, W['decoder_saida']), b['decoder_saida']))"
   ]
  },
  {
   "cell_type": "code",
   "execution_count": 22,
   "metadata": {},
   "outputs": [
    {
     "name": "stdout",
     "output_type": "stream",
     "text": [
      "WARNING:tensorflow:From C:\\Users\\Natielle\\anaconda3\\envs\\tensorflow2_py37\\lib\\site-packages\\tensorflow\\python\\ops\\losses\\losses_impl.py:667: to_float (from tensorflow.python.ops.math_ops) is deprecated and will be removed in a future version.\n",
      "Instructions for updating:\n",
      "Use tf.cast instead.\n"
     ]
    }
   ],
   "source": [
    "# Vamos calcular o erro agora\n",
    "erro = tf.losses.mean_squared_error(xph, camada_saida) # Comparamos a entrada de entrada com a entrada de saída\n",
    "otimizador = tf.train.AdamOptimizer(learning_rate = 0.001)\n",
    "treinamento = otimizador.minimize(erro) # minimizando o erro\n",
    "batch_size = 128"
   ]
  },
  {
   "cell_type": "code",
   "execution_count": 24,
   "metadata": {},
   "outputs": [
    {
     "name": "stdout",
     "output_type": "stream",
     "text": [
      "época: 1 erro: 0.016510239\n",
      "época: 2 erro: 0.014312896\n",
      "época: 3 erro: 0.012611919\n",
      "época: 4 erro: 0.011183261\n",
      "época: 5 erro: 0.01177516\n",
      "época: 6 erro: 0.010998884\n",
      "época: 7 erro: 0.011862601\n",
      "época: 8 erro: 0.011090107\n",
      "época: 9 erro: 0.00964152\n",
      "época: 10 erro: 0.0101589495\n",
      "época: 11 erro: 0.01033935\n",
      "época: 12 erro: 0.009558565\n",
      "época: 13 erro: 0.010899072\n",
      "época: 14 erro: 0.010020057\n",
      "época: 15 erro: 0.010521714\n",
      "época: 16 erro: 0.010262264\n",
      "época: 17 erro: 0.009499461\n",
      "época: 18 erro: 0.010434569\n",
      "época: 19 erro: 0.009455113\n",
      "época: 20 erro: 0.00948534\n",
      "época: 21 erro: 0.009449255\n",
      "época: 22 erro: 0.009185976\n",
      "época: 23 erro: 0.009482498\n",
      "época: 24 erro: 0.009639491\n",
      "época: 25 erro: 0.009886271\n",
      "época: 26 erro: 0.009366791\n",
      "época: 27 erro: 0.009396274\n",
      "época: 28 erro: 0.009399173\n",
      "época: 29 erro: 0.010091106\n",
      "época: 30 erro: 0.0094408365\n",
      "época: 31 erro: 0.010272798\n",
      "época: 32 erro: 0.0086014625\n",
      "época: 33 erro: 0.009641527\n",
      "época: 34 erro: 0.008952009\n",
      "época: 35 erro: 0.009212772\n",
      "época: 36 erro: 0.01003423\n",
      "época: 37 erro: 0.009325934\n",
      "época: 38 erro: 0.009195365\n",
      "época: 39 erro: 0.009141779\n",
      "época: 40 erro: 0.0086227525\n",
      "época: 41 erro: 0.009485499\n",
      "época: 42 erro: 0.008869353\n",
      "época: 43 erro: 0.00892767\n",
      "época: 44 erro: 0.00902307\n",
      "época: 45 erro: 0.009406676\n",
      "época: 46 erro: 0.008793972\n",
      "época: 47 erro: 0.009358856\n",
      "época: 48 erro: 0.009698883\n",
      "época: 49 erro: 0.009876389\n",
      "época: 50 erro: 0.009078659\n"
     ]
    }
   ],
   "source": [
    "# Vamos realizar os cálculos de fato\n",
    "with tf.Session() as sess:\n",
    "    sess.run(tf.global_variables_initializer())\n",
    "    \n",
    "    # Treinando\n",
    "    for epoca in range(50):\n",
    "        \n",
    "        # Aqui teremos a quantidade total de partes que terão que ser executadas para que todo o conjunto seja processado\n",
    "        numero_batches = mnist.train.num_examples // batch_size # dividindo\n",
    "        \n",
    "        # Percorrendo o conjunto através do batch_size\n",
    "        for i in range(numero_batches):\n",
    "            X_batch, _ = mnist.train.next_batch(batch_size) # pega os próximos 128 (batch_size) registros \n",
    "            custo, _ = sess.run([erro, treinamento], feed_dict = {xph: X_batch})\n",
    "        print('época: ' + str(epoca + 1) + ' erro: ' + str(custo))\n",
    "    \n",
    "    # Podemos notar que a camada_oculta2 obtem a imagem codificada, onde a imagem tem dimensão de 64 pixels\n",
    "    imagens_codificadas = sess.run(camada_oculta2, feed_dict = {xph: X_train})\n",
    "    \n",
    "     # Podemos notar que a camada_saida obtem a imagem decodificada, onde a imagem volta a ter dimensão de 784 pixels\n",
    "    imagens_decodificadas = sess.run(camada_saida, feed_dict = {xph: X_train})"
   ]
  },
  {
   "cell_type": "code",
   "execution_count": 25,
   "metadata": {},
   "outputs": [
    {
     "name": "stdout",
     "output_type": "stream",
     "text": [
      "\n",
      "Dimensões das imagens codificadas:  (55000, 64)\n",
      "\n",
      "Dimensões das imagens decodificadas:  (55000, 784)\n"
     ]
    }
   ],
   "source": [
    "# Agora vamos analisar as dimensões das imagens\n",
    "print(\"\\nDimensões das imagens codificadas: \", imagens_codificadas.shape)\n",
    "print(\"\\nDimensões das imagens decodificadas: \", imagens_decodificadas.shape)"
   ]
  },
  {
   "cell_type": "code",
   "execution_count": 27,
   "metadata": {
    "scrolled": true
   },
   "outputs": [
    {
     "data": {
      "text/plain": [
       "array([1.4483604 , 1.6491432 , 0.83055615, 0.9942977 , 0.        ,\n",
       "       1.8103863 , 0.        , 0.        , 1.3380204 , 0.5795993 ,\n",
       "       0.        , 1.5924578 , 0.        , 0.        , 0.60291237,\n",
       "       1.5162032 , 1.5713091 , 1.4433053 , 1.6133239 , 0.9183895 ,\n",
       "       0.07707021, 1.3627462 , 1.1349121 , 0.        , 0.        ,\n",
       "       1.952907  , 1.858273  , 1.760317  , 0.5923939 , 0.        ,\n",
       "       0.8124427 , 0.46701398, 2.2822554 , 0.36426398, 0.7010705 ,\n",
       "       1.4729869 , 1.4447739 , 0.3809383 , 0.        , 1.8010628 ,\n",
       "       0.        , 0.89919585, 0.13295177, 0.        , 0.        ,\n",
       "       2.1232073 , 1.0488913 , 0.        , 1.3293691 , 1.046704  ,\n",
       "       1.4396479 , 0.6452067 , 1.5528142 , 2.192408  , 1.033908  ,\n",
       "       1.0494545 , 1.0996267 , 1.3387923 , 1.66226   , 0.        ,\n",
       "       0.        , 1.6910465 , 1.8297286 , 0.77908766], dtype=float32)"
      ]
     },
     "execution_count": 27,
     "metadata": {},
     "output_type": "execute_result"
    }
   ],
   "source": [
    "imagens_codificadas[0]"
   ]
  },
  {
   "cell_type": "code",
   "execution_count": 28,
   "metadata": {},
   "outputs": [
    {
     "data": {
      "text/plain": [
       "array([0.00000000e+00, 0.00000000e+00, 0.00000000e+00, 0.00000000e+00,\n",
       "       0.00000000e+00, 0.00000000e+00, 0.00000000e+00, 0.00000000e+00,\n",
       "       0.00000000e+00, 0.00000000e+00, 0.00000000e+00, 0.00000000e+00,\n",
       "       0.00000000e+00, 0.00000000e+00, 0.00000000e+00, 0.00000000e+00,\n",
       "       0.00000000e+00, 0.00000000e+00, 0.00000000e+00, 0.00000000e+00,\n",
       "       0.00000000e+00, 0.00000000e+00, 0.00000000e+00, 0.00000000e+00,\n",
       "       0.00000000e+00, 0.00000000e+00, 0.00000000e+00, 0.00000000e+00,\n",
       "       0.00000000e+00, 0.00000000e+00, 0.00000000e+00, 0.00000000e+00,\n",
       "       0.00000000e+00, 0.00000000e+00, 0.00000000e+00, 0.00000000e+00,\n",
       "       0.00000000e+00, 0.00000000e+00, 0.00000000e+00, 0.00000000e+00,\n",
       "       0.00000000e+00, 0.00000000e+00, 0.00000000e+00, 0.00000000e+00,\n",
       "       0.00000000e+00, 0.00000000e+00, 0.00000000e+00, 0.00000000e+00,\n",
       "       0.00000000e+00, 0.00000000e+00, 0.00000000e+00, 0.00000000e+00,\n",
       "       0.00000000e+00, 0.00000000e+00, 0.00000000e+00, 0.00000000e+00,\n",
       "       0.00000000e+00, 0.00000000e+00, 0.00000000e+00, 0.00000000e+00,\n",
       "       0.00000000e+00, 0.00000000e+00, 0.00000000e+00, 0.00000000e+00,\n",
       "       0.00000000e+00, 0.00000000e+00, 0.00000000e+00, 0.00000000e+00,\n",
       "       0.00000000e+00, 0.00000000e+00, 0.00000000e+00, 0.00000000e+00,\n",
       "       0.00000000e+00, 0.00000000e+00, 0.00000000e+00, 0.00000000e+00,\n",
       "       0.00000000e+00, 0.00000000e+00, 0.00000000e+00, 0.00000000e+00,\n",
       "       0.00000000e+00, 0.00000000e+00, 0.00000000e+00, 0.00000000e+00,\n",
       "       0.00000000e+00, 0.00000000e+00, 0.00000000e+00, 0.00000000e+00,\n",
       "       0.00000000e+00, 0.00000000e+00, 0.00000000e+00, 0.00000000e+00,\n",
       "       0.00000000e+00, 0.00000000e+00, 0.00000000e+00, 0.00000000e+00,\n",
       "       0.00000000e+00, 0.00000000e+00, 0.00000000e+00, 0.00000000e+00,\n",
       "       0.00000000e+00, 0.00000000e+00, 9.47790891e-02, 0.00000000e+00,\n",
       "       0.00000000e+00, 0.00000000e+00, 0.00000000e+00, 0.00000000e+00,\n",
       "       0.00000000e+00, 0.00000000e+00, 0.00000000e+00, 0.00000000e+00,\n",
       "       0.00000000e+00, 0.00000000e+00, 0.00000000e+00, 0.00000000e+00,\n",
       "       0.00000000e+00, 0.00000000e+00, 0.00000000e+00, 0.00000000e+00,\n",
       "       0.00000000e+00, 0.00000000e+00, 0.00000000e+00, 0.00000000e+00,\n",
       "       0.00000000e+00, 0.00000000e+00, 0.00000000e+00, 0.00000000e+00,\n",
       "       0.00000000e+00, 0.00000000e+00, 0.00000000e+00, 0.00000000e+00,\n",
       "       0.00000000e+00, 0.00000000e+00, 0.00000000e+00, 0.00000000e+00,\n",
       "       0.00000000e+00, 0.00000000e+00, 0.00000000e+00, 0.00000000e+00,\n",
       "       0.00000000e+00, 0.00000000e+00, 0.00000000e+00, 0.00000000e+00,\n",
       "       0.00000000e+00, 0.00000000e+00, 0.00000000e+00, 2.40172774e-01,\n",
       "       0.00000000e+00, 0.00000000e+00, 0.00000000e+00, 0.00000000e+00,\n",
       "       0.00000000e+00, 0.00000000e+00, 0.00000000e+00, 0.00000000e+00,\n",
       "       0.00000000e+00, 0.00000000e+00, 0.00000000e+00, 0.00000000e+00,\n",
       "       0.00000000e+00, 0.00000000e+00, 0.00000000e+00, 0.00000000e+00,\n",
       "       0.00000000e+00, 0.00000000e+00, 0.00000000e+00, 0.00000000e+00,\n",
       "       0.00000000e+00, 0.00000000e+00, 0.00000000e+00, 0.00000000e+00,\n",
       "       0.00000000e+00, 0.00000000e+00, 1.33546993e-01, 0.00000000e+00,\n",
       "       0.00000000e+00, 0.00000000e+00, 0.00000000e+00, 0.00000000e+00,\n",
       "       0.00000000e+00, 0.00000000e+00, 0.00000000e+00, 0.00000000e+00,\n",
       "       0.00000000e+00, 0.00000000e+00, 0.00000000e+00, 0.00000000e+00,\n",
       "       0.00000000e+00, 0.00000000e+00, 0.00000000e+00, 0.00000000e+00,\n",
       "       0.00000000e+00, 0.00000000e+00, 0.00000000e+00, 0.00000000e+00,\n",
       "       0.00000000e+00, 0.00000000e+00, 0.00000000e+00, 0.00000000e+00,\n",
       "       0.00000000e+00, 0.00000000e+00, 4.16844964e-01, 3.82153392e-01,\n",
       "       1.33163556e-01, 3.29138637e-02, 1.48062035e-01, 3.53727669e-01,\n",
       "       5.29840171e-01, 5.49319744e-01, 4.25508469e-01, 1.71540767e-01,\n",
       "       4.51114848e-02, 2.39189640e-02, 0.00000000e+00, 0.00000000e+00,\n",
       "       0.00000000e+00, 0.00000000e+00, 0.00000000e+00, 0.00000000e+00,\n",
       "       0.00000000e+00, 0.00000000e+00, 0.00000000e+00, 0.00000000e+00,\n",
       "       0.00000000e+00, 0.00000000e+00, 0.00000000e+00, 0.00000000e+00,\n",
       "       0.00000000e+00, 7.39747584e-01, 8.55107069e-01, 9.05124784e-01,\n",
       "       8.07317793e-01, 7.34192252e-01, 8.38044882e-01, 9.97849286e-01,\n",
       "       1.07700884e+00, 1.09173357e+00, 1.01823854e+00, 8.91330719e-01,\n",
       "       8.06764424e-01, 6.27516866e-01, 1.96289897e-01, 0.00000000e+00,\n",
       "       0.00000000e+00, 0.00000000e+00, 0.00000000e+00, 0.00000000e+00,\n",
       "       0.00000000e+00, 0.00000000e+00, 0.00000000e+00, 0.00000000e+00,\n",
       "       0.00000000e+00, 0.00000000e+00, 0.00000000e+00, 0.00000000e+00,\n",
       "       1.56699225e-01, 0.00000000e+00, 1.09245968e+00, 1.25425124e+00,\n",
       "       1.10338092e+00, 1.03160763e+00, 1.00138140e+00, 8.84092212e-01,\n",
       "       8.54279518e-01, 9.25390601e-01, 9.80930448e-01, 1.03793442e+00,\n",
       "       1.16870797e+00, 1.05048776e+00, 7.22875655e-01, 4.40081656e-01,\n",
       "       2.69776210e-02, 0.00000000e+00, 0.00000000e+00, 0.00000000e+00,\n",
       "       0.00000000e+00, 0.00000000e+00, 0.00000000e+00, 0.00000000e+00,\n",
       "       0.00000000e+00, 0.00000000e+00, 0.00000000e+00, 0.00000000e+00,\n",
       "       0.00000000e+00, 0.00000000e+00, 7.35356212e-01, 7.82416821e-01,\n",
       "       7.31122732e-01, 7.31165528e-01, 5.47987938e-01, 3.84886771e-01,\n",
       "       1.71254277e-01, 1.82782724e-01, 3.32675159e-01, 5.97049654e-01,\n",
       "       7.48305500e-01, 9.34146643e-01, 9.91385520e-01, 8.85077178e-01,\n",
       "       5.09106755e-01, 0.00000000e+00, 0.00000000e+00, 0.00000000e+00,\n",
       "       0.00000000e+00, 0.00000000e+00, 0.00000000e+00, 0.00000000e+00,\n",
       "       0.00000000e+00, 0.00000000e+00, 0.00000000e+00, 0.00000000e+00,\n",
       "       0.00000000e+00, 0.00000000e+00, 0.00000000e+00, 0.00000000e+00,\n",
       "       0.00000000e+00, 2.38305852e-02, 8.25778991e-02, 1.06169283e-03,\n",
       "       0.00000000e+00, 0.00000000e+00, 0.00000000e+00, 0.00000000e+00,\n",
       "       1.20215550e-01, 6.28998935e-01, 1.03294992e+00, 1.12171280e+00,\n",
       "       7.70620406e-01, 0.00000000e+00, 0.00000000e+00, 0.00000000e+00,\n",
       "       0.00000000e+00, 0.00000000e+00, 0.00000000e+00, 0.00000000e+00,\n",
       "       0.00000000e+00, 0.00000000e+00, 0.00000000e+00, 0.00000000e+00,\n",
       "       0.00000000e+00, 0.00000000e+00, 0.00000000e+00, 0.00000000e+00,\n",
       "       0.00000000e+00, 0.00000000e+00, 0.00000000e+00, 2.72326022e-02,\n",
       "       0.00000000e+00, 0.00000000e+00, 0.00000000e+00, 0.00000000e+00,\n",
       "       0.00000000e+00, 5.17868757e-01, 9.84241545e-01, 1.06706190e+00,\n",
       "       7.47252941e-01, 1.75194785e-01, 0.00000000e+00, 0.00000000e+00,\n",
       "       0.00000000e+00, 0.00000000e+00, 0.00000000e+00, 0.00000000e+00,\n",
       "       0.00000000e+00, 0.00000000e+00, 0.00000000e+00, 0.00000000e+00,\n",
       "       0.00000000e+00, 0.00000000e+00, 0.00000000e+00, 0.00000000e+00,\n",
       "       0.00000000e+00, 0.00000000e+00, 0.00000000e+00, 0.00000000e+00,\n",
       "       0.00000000e+00, 0.00000000e+00, 0.00000000e+00, 0.00000000e+00,\n",
       "       0.00000000e+00, 4.32593465e-01, 8.67914498e-01, 9.93546486e-01,\n",
       "       7.07717478e-01, 1.56159177e-01, 0.00000000e+00, 0.00000000e+00,\n",
       "       0.00000000e+00, 0.00000000e+00, 0.00000000e+00, 0.00000000e+00,\n",
       "       0.00000000e+00, 0.00000000e+00, 0.00000000e+00, 0.00000000e+00,\n",
       "       0.00000000e+00, 0.00000000e+00, 0.00000000e+00, 0.00000000e+00,\n",
       "       0.00000000e+00, 0.00000000e+00, 0.00000000e+00, 0.00000000e+00,\n",
       "       0.00000000e+00, 0.00000000e+00, 5.86602390e-02, 1.19449362e-01,\n",
       "       3.66666675e-01, 6.05337560e-01, 8.99946094e-01, 9.27531838e-01,\n",
       "       6.56382203e-01, 2.21325263e-01, 0.00000000e+00, 0.00000000e+00,\n",
       "       0.00000000e+00, 0.00000000e+00, 0.00000000e+00, 0.00000000e+00,\n",
       "       0.00000000e+00, 0.00000000e+00, 0.00000000e+00, 0.00000000e+00,\n",
       "       0.00000000e+00, 0.00000000e+00, 0.00000000e+00, 0.00000000e+00,\n",
       "       0.00000000e+00, 0.00000000e+00, 0.00000000e+00, 4.25268747e-02,\n",
       "       3.09109420e-01, 5.06089449e-01, 6.77866697e-01, 8.11599016e-01,\n",
       "       8.39785874e-01, 9.16242421e-01, 1.15632236e+00, 1.13441706e+00,\n",
       "       7.87638783e-01, 4.33657467e-01, 0.00000000e+00, 0.00000000e+00,\n",
       "       0.00000000e+00, 0.00000000e+00, 0.00000000e+00, 0.00000000e+00,\n",
       "       0.00000000e+00, 0.00000000e+00, 0.00000000e+00, 0.00000000e+00,\n",
       "       0.00000000e+00, 0.00000000e+00, 0.00000000e+00, 0.00000000e+00,\n",
       "       0.00000000e+00, 3.77289653e-02, 5.58632731e-01, 7.94256091e-01,\n",
       "       9.74186480e-01, 1.09444106e+00, 1.20481443e+00, 1.02825570e+00,\n",
       "       8.26931357e-01, 9.18393314e-01, 1.20774615e+00, 1.26385951e+00,\n",
       "       9.58105147e-01, 4.99178588e-01, 6.51194602e-02, 0.00000000e+00,\n",
       "       0.00000000e+00, 0.00000000e+00, 0.00000000e+00, 0.00000000e+00,\n",
       "       0.00000000e+00, 0.00000000e+00, 0.00000000e+00, 0.00000000e+00,\n",
       "       0.00000000e+00, 0.00000000e+00, 0.00000000e+00, 3.27922702e-01,\n",
       "       7.57048249e-01, 9.52049911e-01, 1.04105031e+00, 1.03873205e+00,\n",
       "       1.05734062e+00, 1.06213260e+00, 8.17018867e-01, 4.43291515e-01,\n",
       "       3.47407341e-01, 5.96431136e-01, 9.27162290e-01, 1.07914650e+00,\n",
       "       9.14592028e-01, 4.41238075e-01, 0.00000000e+00, 0.00000000e+00,\n",
       "       0.00000000e+00, 0.00000000e+00, 0.00000000e+00, 0.00000000e+00,\n",
       "       0.00000000e+00, 0.00000000e+00, 0.00000000e+00, 0.00000000e+00,\n",
       "       0.00000000e+00, 0.00000000e+00, 5.92170179e-01, 1.02550626e+00,\n",
       "       1.09501731e+00, 8.94928038e-01, 5.76990783e-01, 3.23149800e-01,\n",
       "       1.66403830e-01, 1.15768410e-01, 0.00000000e+00, 0.00000000e+00,\n",
       "       0.00000000e+00, 2.95820653e-01, 7.79633462e-01, 9.53746557e-01,\n",
       "       7.47330368e-01, 1.46221787e-01, 0.00000000e+00, 0.00000000e+00,\n",
       "       0.00000000e+00, 0.00000000e+00, 0.00000000e+00, 0.00000000e+00,\n",
       "       0.00000000e+00, 0.00000000e+00, 0.00000000e+00, 0.00000000e+00,\n",
       "       0.00000000e+00, 0.00000000e+00, 5.85453928e-01, 8.54777634e-01,\n",
       "       6.49543643e-01, 2.90034831e-01, 1.64771080e-03, 0.00000000e+00,\n",
       "       0.00000000e+00, 0.00000000e+00, 0.00000000e+00, 0.00000000e+00,\n",
       "       0.00000000e+00, 3.54210198e-01, 8.07192087e-01, 9.86853361e-01,\n",
       "       0.00000000e+00, 0.00000000e+00, 0.00000000e+00, 0.00000000e+00,\n",
       "       0.00000000e+00, 0.00000000e+00, 0.00000000e+00, 0.00000000e+00,\n",
       "       0.00000000e+00, 0.00000000e+00, 0.00000000e+00, 0.00000000e+00,\n",
       "       0.00000000e+00, 0.00000000e+00, 1.94988012e-01, 3.75709772e-01,\n",
       "       2.90383726e-01, 1.92924887e-02, 0.00000000e+00, 0.00000000e+00,\n",
       "       0.00000000e+00, 0.00000000e+00, 0.00000000e+00, 0.00000000e+00,\n",
       "       0.00000000e+00, 5.43746412e-01, 9.62291002e-01, 9.75432575e-01,\n",
       "       5.89560747e-01, 0.00000000e+00, 0.00000000e+00, 0.00000000e+00,\n",
       "       0.00000000e+00, 0.00000000e+00, 0.00000000e+00, 0.00000000e+00,\n",
       "       0.00000000e+00, 0.00000000e+00, 0.00000000e+00, 0.00000000e+00,\n",
       "       0.00000000e+00, 0.00000000e+00, 0.00000000e+00, 1.69706196e-02,\n",
       "       2.39309669e-02, 1.11937776e-01, 4.71765026e-02, 0.00000000e+00,\n",
       "       0.00000000e+00, 0.00000000e+00, 0.00000000e+00, 0.00000000e+00,\n",
       "       1.39970899e-01, 8.40039253e-01, 1.10792458e+00, 1.00989878e+00,\n",
       "       4.57110047e-01, 0.00000000e+00, 0.00000000e+00, 0.00000000e+00,\n",
       "       0.00000000e+00, 0.00000000e+00, 0.00000000e+00, 0.00000000e+00,\n",
       "       0.00000000e+00, 0.00000000e+00, 0.00000000e+00, 0.00000000e+00,\n",
       "       0.00000000e+00, 0.00000000e+00, 0.00000000e+00, 0.00000000e+00,\n",
       "       0.00000000e+00, 0.00000000e+00, 0.00000000e+00, 0.00000000e+00,\n",
       "       0.00000000e+00, 0.00000000e+00, 0.00000000e+00, 0.00000000e+00,\n",
       "       5.09079039e-01, 1.05791104e+00, 0.00000000e+00, 7.41048694e-01,\n",
       "       1.07639372e-01, 0.00000000e+00, 0.00000000e+00, 0.00000000e+00,\n",
       "       0.00000000e+00, 0.00000000e+00, 0.00000000e+00, 0.00000000e+00,\n",
       "       0.00000000e+00, 0.00000000e+00, 0.00000000e+00, 0.00000000e+00,\n",
       "       0.00000000e+00, 0.00000000e+00, 0.00000000e+00, 0.00000000e+00,\n",
       "       0.00000000e+00, 0.00000000e+00, 0.00000000e+00, 0.00000000e+00,\n",
       "       0.00000000e+00, 0.00000000e+00, 0.00000000e+00, 0.00000000e+00,\n",
       "       7.25729942e-01, 1.01047933e+00, 0.00000000e+00, 3.74767840e-01,\n",
       "       0.00000000e+00, 0.00000000e+00, 0.00000000e+00, 0.00000000e+00,\n",
       "       0.00000000e+00, 0.00000000e+00, 0.00000000e+00, 0.00000000e+00,\n",
       "       0.00000000e+00, 0.00000000e+00, 0.00000000e+00, 0.00000000e+00,\n",
       "       0.00000000e+00, 0.00000000e+00, 0.00000000e+00, 0.00000000e+00,\n",
       "       0.00000000e+00, 0.00000000e+00, 0.00000000e+00, 0.00000000e+00,\n",
       "       0.00000000e+00, 0.00000000e+00, 0.00000000e+00, 5.19873619e-01,\n",
       "       1.04948294e+00, 0.00000000e+00, 4.92832661e-01, 0.00000000e+00,\n",
       "       0.00000000e+00, 0.00000000e+00, 0.00000000e+00, 0.00000000e+00,\n",
       "       0.00000000e+00, 0.00000000e+00, 0.00000000e+00, 0.00000000e+00,\n",
       "       0.00000000e+00, 0.00000000e+00, 0.00000000e+00, 0.00000000e+00,\n",
       "       0.00000000e+00, 0.00000000e+00, 0.00000000e+00, 0.00000000e+00,\n",
       "       0.00000000e+00, 0.00000000e+00, 0.00000000e+00, 0.00000000e+00,\n",
       "       0.00000000e+00, 0.00000000e+00, 9.62993503e-03, 0.00000000e+00,\n",
       "       5.87354243e-01, 0.00000000e+00, 0.00000000e+00, 0.00000000e+00,\n",
       "       0.00000000e+00, 0.00000000e+00, 0.00000000e+00, 0.00000000e+00,\n",
       "       0.00000000e+00, 0.00000000e+00, 0.00000000e+00, 0.00000000e+00,\n",
       "       0.00000000e+00, 0.00000000e+00, 0.00000000e+00, 0.00000000e+00,\n",
       "       0.00000000e+00, 0.00000000e+00, 0.00000000e+00, 0.00000000e+00,\n",
       "       0.00000000e+00, 0.00000000e+00, 0.00000000e+00, 0.00000000e+00,\n",
       "       0.00000000e+00, 0.00000000e+00, 0.00000000e+00, 0.00000000e+00,\n",
       "       0.00000000e+00, 8.48080069e-02, 0.00000000e+00, 0.00000000e+00,\n",
       "       0.00000000e+00, 0.00000000e+00, 0.00000000e+00, 0.00000000e+00,\n",
       "       0.00000000e+00, 0.00000000e+00, 0.00000000e+00, 0.00000000e+00,\n",
       "       0.00000000e+00, 0.00000000e+00, 0.00000000e+00, 0.00000000e+00,\n",
       "       0.00000000e+00, 0.00000000e+00, 0.00000000e+00, 0.00000000e+00,\n",
       "       0.00000000e+00, 0.00000000e+00, 0.00000000e+00, 0.00000000e+00,\n",
       "       0.00000000e+00, 0.00000000e+00, 0.00000000e+00, 0.00000000e+00,\n",
       "       0.00000000e+00, 0.00000000e+00, 0.00000000e+00, 0.00000000e+00,\n",
       "       0.00000000e+00, 0.00000000e+00, 0.00000000e+00, 0.00000000e+00,\n",
       "       0.00000000e+00, 0.00000000e+00, 0.00000000e+00, 0.00000000e+00],\n",
       "      dtype=float32)"
      ]
     },
     "execution_count": 28,
     "metadata": {},
     "output_type": "execute_result"
    }
   ],
   "source": [
    "imagens_decodificadas[0]"
   ]
  },
  {
   "cell_type": "code",
   "execution_count": 26,
   "metadata": {},
   "outputs": [
    {
     "name": "stdout",
     "output_type": "stream",
     "text": [
      "[53704 48116 31966 30335  9321]\n"
     ]
    }
   ],
   "source": [
    "# Vamos ver as imagens codificadas e as imagens originais\n",
    "numero_imagens = 5 # escolhemos visualizar 5 imagens\n",
    "imagens_teste = np.random.randint(X_train.shape[0], size = numero_imagens) # Obtem 5 imagens aleatórias do conjunto\n",
    "\n",
    "print(\"Indices das imagens que vamos visualizar: \", imagens_teste)"
   ]
  },
  {
   "cell_type": "code",
   "execution_count": 29,
   "metadata": {},
   "outputs": [
    {
     "name": "stdout",
     "output_type": "stream",
     "text": [
      "Testando... \n",
      "\n",
      "\n",
      "i:  0\n",
      "\n",
      "Indice da imagem:  53704\n",
      "\n",
      "i:  1\n",
      "\n",
      "Indice da imagem:  48116\n",
      "\n",
      "i:  2\n",
      "\n",
      "Indice da imagem:  31966\n",
      "\n",
      "i:  3\n",
      "\n",
      "Indice da imagem:  30335\n",
      "\n",
      "i:  4\n",
      "\n",
      "Indice da imagem:  9321\n"
     ]
    },
    {
     "data": {
      "text/plain": [
       "<Figure size 1296x1296 with 0 Axes>"
      ]
     },
     "metadata": {},
     "output_type": "display_data"
    }
   ],
   "source": [
    "print(\"Testando... \\n\")\n",
    "for i, indice_imagem in enumerate(imagens_teste):\n",
    "    print(\"\\ni: \", i)\n",
    "    print(\"\\nIndice da imagem: \", indice_imagem)\n",
    "    "
   ]
  },
  {
   "cell_type": "code",
   "execution_count": 42,
   "metadata": {},
   "outputs": [
    {
     "data": {
      "image/png": "[encoded data removed]",
      "text/plain": [
       "<Figure size 1296x1296 with 5 Axes>"
      ]
     },
     "metadata": {},
     "output_type": "display_data"
    }
   ],
   "source": [
    "plt.figure(figsize = (18, 18)) # define o tamanho do grafico\n",
    "# Agora vamos ir fazendo o gráfico por partes\n",
    "for i, indice_imagem in enumerate(imagens_teste):\n",
    "    eixo = plt.subplot(1, # Linhas\n",
    "                       5,  # Colunas\n",
    "                       i + 1) # retorna um subgráfico \n",
    "    plt.imshow(X_train[indice_imagem].reshape(28, 28))\n",
    "    plt.xticks(()) # retira as medidas do eixo X\n",
    "    plt.yticks(()) # retira as medidas do eixo Y\n",
    "    "
   ]
  },
  {
   "cell_type": "code",
   "execution_count": 43,
   "metadata": {},
   "outputs": [
    {
     "data": {
      "image/png": "[encoded data removed]",
      "text/plain": [
       "<Figure size 1296x1296 with 5 Axes>"
      ]
     },
     "metadata": {},
     "output_type": "display_data"
    }
   ],
   "source": [
    "plt.figure(figsize = (18, 18)) # define o tamanho do grafico\n",
    "# Agora vamos ir fazendo o gráfico por partes\n",
    "for i, indice_imagem in enumerate(imagens_teste):\n",
    "    eixo = plt.subplot(1, # Linhas\n",
    "                       5,  # Colunas\n",
    "                       i + 1) # retorna um subgráfico \n",
    "    plt.imshow(imagens_codificadas[indice_imagem].reshape(8, 8))\n",
    "    plt.xticks(()) # retira as medidas do eixo X\n",
    "    plt.yticks(()) # retira as medidas do eixo Y\n",
    "    "
   ]
  },
  {
   "cell_type": "code",
   "execution_count": 44,
   "metadata": {},
   "outputs": [
    {
     "data": {
      "image/png": "[encoded data removed]",
      "text/plain": [
       "<Figure size 1296x1296 with 5 Axes>"
      ]
     },
     "metadata": {},
     "output_type": "display_data"
    }
   ],
   "source": [
    "plt.figure(figsize = (18, 18)) # define o tamanho do grafico\n",
    "# Agora vamos ir fazendo o gráfico por partes\n",
    "for i, indice_imagem in enumerate(imagens_teste):\n",
    "    eixo = plt.subplot(1, # Linhas\n",
    "                       5,  # Colunas\n",
    "                       i + 1) # retorna um subgráfico \n",
    "    plt.imshow(imagens_decodificadas[indice_imagem].reshape(28, 28))\n",
    "    plt.xticks(()) # retira as medidas do eixo X\n",
    "    plt.yticks(()) # retira as medidas do eixo Y\n",
    "    "
   ]
  },
  {
   "cell_type": "code",
   "execution_count": 47,
   "metadata": {},
   "outputs": [
    {
     "data": {
      "image/png": "[encoded data removed]",
      "text/plain": [
       "<Figure size 1296x1296 with 15 Axes>"
      ]
     },
     "metadata": {},
     "output_type": "display_data"
    }
   ],
   "source": [
    "# Fazendo o gráfico com todas as etapas\n",
    "plt.figure(figsize = (18, 18)) # define o tamanho do grafico\n",
    "for i, indice_imagem in enumerate(imagens_teste):\n",
    "    \n",
    "    eixo = plt.subplot(10, # Linhas\n",
    "                       5, # Colunas\n",
    "                       i + 1) # retorna um subgráfico\n",
    "    \n",
    "    plt.imshow(X_train[indice_imagem].reshape(28, 28))\n",
    "    plt.xticks(()) # retira as medidas do eixo X\n",
    "    plt.yticks(()) # retira as medidas do eixo Y\n",
    "    \n",
    "    eixo = plt.subplot(10, 5, i + 1 + numero_imagens)\n",
    "    plt.imshow(imagens_codificadas[indice_imagem].reshape(8, 8))\n",
    "    plt.xticks(()) # retira as medidas do eixo X\n",
    "    plt.yticks(()) # retira as medidas do eixo Y\n",
    "    \n",
    "    eixo = plt.subplot(10, 5, i + 1 + numero_imagens * 2)\n",
    "    plt.imshow(imagens_decodificadas[indice_imagem].reshape(28, 28))\n",
    "    plt.xticks(()) # retira as medidas do eixo X\n",
    "    plt.yticks(()) # retira as medidas do eixo Y\n",
    "    "
   ]
  }
 ],
 "metadata": {
  "kernelspec": {
   "display_name": "tensorflow2_py37",
   "language": "python",
   "name": "tensorflow2_py37"
  },
  "language_info": {
   "codemirror_mode": {
    "name": "ipython",
    "version": 3
   },
   "file_extension": ".py",
   "mimetype": "text/x-python",
   "name": "python",
   "nbconvert_exporter": "python",
   "pygments_lexer": "ipython3",
   "version": "3.6.10"
  }
 },
 "nbformat": 4,
 "nbformat_minor": 4
}
