{
 "cells": [
  {
   "cell_type": "code",
   "execution_count": 13,
   "metadata": {},
   "outputs": [],
   "source": [
    "import tensorflow as tf\n",
    "import numpy as np\n",
    "import seaborn as sns # pip install seaborn"
   ]
  },
  {
   "cell_type": "markdown",
   "metadata": {},
   "source": [
    "## Aplicando a rede neural para simular o operador XOR e vamos aplicar a função de ativação sigmóide\n",
    "\n",
    "1 e 1 = 1\n",
    "\n",
    "1 e 0 = 0\n",
    "\n",
    "0 e 1 = 0\n",
    "\n",
    "0 e 0 = 1\n",
    "\n",
    "Podemos notar que não é um problema linearmente separável, o que o torna um pouco mais complexo e que necessita de mais de uma camada para resolvê-lo."
   ]
  },
  {
   "cell_type": "code",
   "execution_count": 2,
   "metadata": {},
   "outputs": [
    {
     "name": "stdout",
     "output_type": "stream",
     "text": [
      "Atributos: \n",
      " [[0. 0.]\n",
      " [0. 1.]\n",
      " [1. 0.]\n",
      " [1. 1.]]\n",
      "\n",
      "Labels: \n",
      " [[1.]\n",
      " [0.]\n",
      " [0.]\n",
      " [1.]]\n"
     ]
    }
   ],
   "source": [
    "# definindo os dados\n",
    "X = np.array([[0.0, 0.0],\n",
    "              [0.0, 1.0],\n",
    "              [1.0, 0.0],\n",
    "              [1.0, 1.0]])\n",
    "\n",
    "Y = np.array([[1.0], [0.0], [0.0], [1.0]])\n",
    "\n",
    "print(\"Atributos: \\n\", X)\n",
    "print(\"\\nLabels: \\n\", Y)"
   ]
  },
  {
   "cell_type": "code",
   "execution_count": 3,
   "metadata": {},
   "outputs": [],
   "source": [
    "# Agora vamos definir as quantidades de cada neurônios\n",
    "neuronios_entrada = 2\n",
    "neuronios_oculta = 3\n",
    "neuronios_saida = 1"
   ]
  },
  {
   "cell_type": "markdown",
   "metadata": {},
   "source": [
    "O que estamos definindo ali acima pode ser representado pela figura abaixo:\n",
    "![](camada_oculta.png)"
   ]
  },
  {
   "cell_type": "code",
   "execution_count": 4,
   "metadata": {},
   "outputs": [
    {
     "name": "stdout",
     "output_type": "stream",
     "text": [
      "WARNING:tensorflow:From C:\\Users\\Natielle\\anaconda3\\envs\\tensorflow2_py37\\lib\\site-packages\\tensorflow\\python\\framework\\op_def_library.py:263: colocate_with (from tensorflow.python.framework.ops) is deprecated and will be removed in a future version.\n",
      "Instructions for updating:\n",
      "Colocations handled automatically by placer.\n",
      "\n",
      " W:  {'oculta': <tf.Variable 'w_oculta:0' shape=(2, 3) dtype=float32_ref>, 'saida': <tf.Variable 'w_saida:0' shape=(3, 1) dtype=float32_ref>}\n",
      "\n",
      "\n",
      " type(W['oculta']):  <class 'tensorflow.python.ops.variables.RefVariable'>\n",
      "\n",
      "\n",
      " W['oculta']:  <tf.Variable 'w_oculta:0' shape=(2, 3) dtype=float32_ref>\n"
     ]
    }
   ],
   "source": [
    "# Definindo as vaariáveis de cada peso\n",
    "W = {'oculta': tf.Variable(tf.random_normal([neuronios_entrada, neuronios_oculta]), name = 'w_oculta'), \n",
    "     'saida': tf.Variable(tf.random_normal([neuronios_oculta, neuronios_saida]), name = 'w_saida')}\n",
    "# Teremos que a variavel oculta será uma matriz de 2 linhas e 3 colunas\n",
    "\n",
    "# Visualizando os tipos das variáveis\n",
    "print(\"\\n W: \", W)\n",
    "print(\"\\n\\n type(W['oculta']): \", type(W['oculta']))\n",
    "print(\"\\n\\n W[\\'oculta\\']: \", W['oculta'])"
   ]
  },
  {
   "cell_type": "code",
   "execution_count": 5,
   "metadata": {},
   "outputs": [
    {
     "name": "stdout",
     "output_type": "stream",
     "text": [
      "[[ 0.98226136 -1.4676868   0.48226583]\n",
      " [ 1.6409703  -0.26237506 -0.6965257 ]]\n"
     ]
    }
   ],
   "source": [
    "# Agora vamos visualizar os valores dos pesos dentro de uma sessão\n",
    "init = tf.global_variables_initializer()\n",
    "with tf.Session() as sess:\n",
    "    sess.run(init)\n",
    "    print(sess.run(W['oculta']))"
   ]
  },
  {
   "cell_type": "code",
   "execution_count": 6,
   "metadata": {},
   "outputs": [
    {
     "data": {
      "text/plain": [
       "<matplotlib.axes._subplots.AxesSubplot at 0x25a402e9be0>"
      ]
     },
     "execution_count": 6,
     "metadata": {},
     "output_type": "execute_result"
    },
    {
     "data": {
      "image/png": "[encoded data removed]",
      "text/plain": [
       "<Figure size 432x288 with 1 Axes>"
      ]
     },
     "metadata": {
      "needs_background": "light"
     },
     "output_type": "display_data"
    }
   ],
   "source": [
    "# Vamos visualizar uma distribuição normal agora, pois geramos os pesos iniciais através de uma distr. normal\n",
    "distribuicao = np.random.normal(size = 500) # gera uma distribuição normal de 500 números com média zero e desvio padrão 1\n",
    "\n",
    "%matplotlib inline\n",
    "sns.distplot(distribuicao)"
   ]
  },
  {
   "cell_type": "markdown",
   "metadata": {},
   "source": [
    "Portanto, agora temos que aplicar o bias, que está representado na imagem abaixo de como será:\n",
    "![](bias_in_RNA.jpg)"
   ]
  },
  {
   "cell_type": "code",
   "execution_count": 7,
   "metadata": {},
   "outputs": [],
   "source": [
    "# Teremos o bias da camada oculta, que é equivalente ao b1 da imagem\n",
    "# E teremos o bias da camada de saída, que é equivalente ao b2 da imagem\n",
    "\n",
    "B = {'oculta': tf.Variable(tf.random_normal([neuronios_oculta]), name = 'b_oculta'),\n",
    "     'saida': tf.Variable(tf.random_normal([neuronios_saida]), name = 'b_saida')}"
   ]
  },
  {
   "cell_type": "code",
   "execution_count": 9,
   "metadata": {},
   "outputs": [
    {
     "name": "stdout",
     "output_type": "stream",
     "text": [
      "\n",
      " B:  {'oculta': <tf.Variable 'b_oculta:0' shape=(3,) dtype=float32_ref>, 'saida': <tf.Variable 'b_saida:0' shape=(1,) dtype=float32_ref>}\n",
      "\n",
      "\n",
      " type(B['ocult?a']):  <class 'tensorflow.python.ops.variables.RefVariable'>\n",
      "\n",
      "\n",
      " B['oculta']:  <tf.Variable 'b_oculta:0' shape=(3,) dtype=float32_ref>\n"
     ]
    }
   ],
   "source": [
    "# Visualizando os tipos das variáveis\n",
    "print(\"\\n B: \", B)\n",
    "print(\"\\n\\n type(B['oculta']): \", type(B['oculta']))\n",
    "print(\"\\n\\n B[\\'oculta\\']: \", B['oculta'])"
   ]
  },
  {
   "cell_type": "code",
   "execution_count": 12,
   "metadata": {},
   "outputs": [
    {
     "name": "stdout",
     "output_type": "stream",
     "text": [
      "\n",
      "Bias da camada oculta:  [0.45717108 1.1447567  2.339163  ]\n",
      "\n",
      "Bias da camada de saída:  [0.20833021]\n"
     ]
    }
   ],
   "source": [
    "# Agora vamos visualizar os valores dos pesos dentro de uma sessão\n",
    "init = tf.global_variables_initializer()\n",
    "with tf.Session() as sess:\n",
    "    sess.run(init)\n",
    "    print(\"\\nBias da camada oculta: \", sess.run(B['oculta']))\n",
    "    print(\"\\nBias da camada de saída: \", sess.run(B['saida']))"
   ]
  },
  {
   "cell_type": "markdown",
   "metadata": {},
   "source": [
    "De acordo com a figura que ilustra os bias, podemos ver que de fato o b1 possui 3 valores de pesos e o b2 possui apenas um valor de peso."
   ]
  },
  {
   "cell_type": "markdown",
   "metadata": {},
   "source": [
    "Agora iremos definir os placeholder para que a gente possa receber os dados dinamicamente pelo tensorflow.\n"
   ]
  },
  {
   "cell_type": "code",
   "execution_count": 14,
   "metadata": {},
   "outputs": [],
   "source": [
    "# Nesse caso, sabemos que temos apenas 4 linhas nas entradas que definimos e nos labels que definimos.\n",
    "xph = tf.placeholder(tf.float32, [4, neuronios_entrada], name = 'xph')\n",
    "yph = tf.placeholder(tf.float32, [4, neuronios_saida], name = 'yph')"
   ]
  },
  {
   "cell_type": "code",
   "execution_count": 18,
   "metadata": {},
   "outputs": [
    {
     "name": "stdout",
     "output_type": "stream",
     "text": [
      "[[ 0.24567448 -1.6559026  -0.5971939 ]\n",
      " [ 0.3528159  -0.0768621  -1.90611   ]\n",
      " [ 0.48056334 -4.6821976   2.417225  ]\n",
      " [ 0.5877048  -3.1031573   1.1083088 ]]\n"
     ]
    }
   ],
   "source": [
    "# agora vamos fazer o somatório dos inputs multiplicados pelos pesos e ainda assim vamos acrescentar o bias\n",
    "camada_oculta = tf.add(tf.matmul(xph, W['oculta']), B['oculta'])\n",
    "\n",
    "# Agora vamos visualizar os valores da nossa camada oculta\n",
    "init = tf.global_variables_initializer()\n",
    "with tf.Session() as sess:\n",
    "    sess.run(init)\n",
    "    print(sess.run(camada_oculta, feed_dict = {xph: X}))"
   ]
  },
  {
   "cell_type": "markdown",
   "metadata": {},
   "source": [
    "Podemos notar que as linhas representam a somatória de cada entrada (os inputs em X) e as colunas representa o peso de cada neurônio."
   ]
  },
  {
   "cell_type": "code",
   "execution_count": 20,
   "metadata": {},
   "outputs": [
    {
     "name": "stdout",
     "output_type": "stream",
     "text": [
      "[[0.8162335  0.7453909  0.6032174 ]\n",
      " [0.6753337  0.96992886 0.29978812]\n",
      " [0.7681213  0.81117475 0.36089855]\n",
      " [0.60804635 0.9793088  0.13720955]]\n"
     ]
    }
   ],
   "source": [
    "# Então, aplicamos a função de ativação sigmóide \n",
    "camada_oculta_ativacao = tf.sigmoid(camada_oculta)\n",
    "\n",
    "# Agora vamos visualizar os valores da aplicação da função de ativação\n",
    "init = tf.global_variables_initializer()\n",
    "with tf.Session() as sess:\n",
    "    sess.run(init)\n",
    "    print(sess.run(camada_oculta_ativacao, feed_dict = {xph: X}))"
   ]
  },
  {
   "cell_type": "markdown",
   "metadata": {},
   "source": [
    "No caso da função sigmóide podemos ver que de fato ela foi aplicada pois só temos valores entre 0 e 1.\n",
    "\n",
    "Portanto, agora vamo precisar fazer a multiplicação dos neurônios da camada oculta com os seus respectivos pesos e depois fazer sua soma. Assim poderemos aplicar a função de ativação ao resultado e descobrir o resultado do neurônio de saída."
   ]
  },
  {
   "cell_type": "code",
   "execution_count": 23,
   "metadata": {},
   "outputs": [
    {
     "name": "stdout",
     "output_type": "stream",
     "text": [
      "[[1.1449908]\n",
      " [1.0744171]\n",
      " [1.229555 ]\n",
      " [1.1975654]]\n"
     ]
    }
   ],
   "source": [
    "# agora vamos fazer o somatório dos neurônios da camada oculta multiplicados pelos pesos \n",
    "# e ainda assim vamos acrescentar o seu respectivo bias\n",
    "camada_saida = tf.add(tf.matmul(camada_oculta_ativacao, W['saida']), B['saida'])\n",
    "\n",
    "# Agora vamos visualizar os valores da nossa camada de saída\n",
    "init = tf.global_variables_initializer()\n",
    "with tf.Session() as sess:\n",
    "    sess.run(init)\n",
    "    print(sess.run(camada_saida, feed_dict = {xph: X}))\n"
   ]
  },
  {
   "cell_type": "code",
   "execution_count": 25,
   "metadata": {},
   "outputs": [
    {
     "name": "stdout",
     "output_type": "stream",
     "text": [
      "[[0.7705323]\n",
      " [0.8164624]\n",
      " [0.8230132]\n",
      " [0.8420887]]\n"
     ]
    }
   ],
   "source": [
    "# Então, aplicamos a função de ativação sigmóide \n",
    "c = tf.sigmoid(camada_saida)\n",
    "\n",
    "# Agora vamos visualizar os valores da aplicação da função de ativação\n",
    "init = tf.global_variables_initializer()\n",
    "with tf.Session() as sess:\n",
    "    sess.run(init)\n",
    "    print(sess.run(camada_saida_ativacao, feed_dict = {xph: X}))"
   ]
  },
  {
   "cell_type": "code",
   "execution_count": 27,
   "metadata": {},
   "outputs": [],
   "source": [
    "# Para otimizarmos os resultados, vamos utilizar os otimizadores do próprio tensorflow\n",
    "\n",
    "# Para minimizarmos o erro, calculamos ele inicialmente. Nota que o erro será calculado com o erro médio quadrado\n",
    "erro = tf.losses.mean_squared_error(yph, camada_saida_ativacao) \n",
    "\n",
    "# minimizando erro com gradiente descendente\n",
    "otimizador = tf.train.GradientDescentOptimizer(learning_rate = 0.3).minimize(erro) "
   ]
  },
  {
   "cell_type": "code",
   "execution_count": 30,
   "metadata": {},
   "outputs": [
    {
     "name": "stdout",
     "output_type": "stream",
     "text": [
      "\n",
      "Erro médio: 0.10140436887741089\n",
      "\n",
      "Erro médio: 0.005101326387375593\n",
      "\n",
      "Erro médio: 0.001010154839605093\n",
      "\n",
      "Erro médio: 0.0005240174359641969\n",
      "\n",
      "Erro médio: 0.0003480878658592701\n"
     ]
    }
   ],
   "source": [
    "# Agora vamos executar várias épocas para otimizar o erro\n",
    "with tf.Session() as sess:\n",
    "    sess.run(init)\n",
    "    \n",
    "    for epocas in range(10000):\n",
    "        erro_medio = 0\n",
    "        _, custo = sess.run([otimizador, erro], feed_dict = {xph: X, yph: Y})\n",
    "        if epocas % 2000 == 0:\n",
    "            erro_medio += custo / 4 # 4 é a quantidade de registros que temos em X\n",
    "            print(\"\\nErro médio:\", erro_medio)\n",
    "            \n",
    "    # Aqui teremo o pesos e os bias finais otimizados\n",
    "    W_final, B_final = sess.run([W, B])"
   ]
  },
  {
   "cell_type": "markdown",
   "metadata": {},
   "source": [
    "Podemos observar que o erro médio vai diminuindo após cada interação, o que era esperado."
   ]
  },
  {
   "cell_type": "code",
   "execution_count": 31,
   "metadata": {},
   "outputs": [
    {
     "name": "stdout",
     "output_type": "stream",
     "text": [
      "[[0.97444284]\n",
      " [0.03067976]\n",
      " [0.0348474 ]\n",
      " [0.96349394]]\n"
     ]
    }
   ],
   "source": [
    "# Agora que encontramos os pesos e os bias finais, podemos aplicar de fato no \"banco de dados\" que é o X.\n",
    "\n",
    "\n",
    "camada_oculta_teste = tf.add(tf.matmul(xph, W_final['oculta']), B_final['oculta'])\n",
    "camada_oculta_ativacao_teste = tf.sigmoid(camada_oculta_teste)\n",
    "camada_saida_teste = tf.add(tf.matmul(camada_oculta_ativacao_teste, W_final['saida']), B_final['saida'])\n",
    "camada_saida_ativacao_teste = tf.sigmoid(camada_saida_teste)\n",
    "\n",
    "with tf.Session() as sess:\n",
    "    sess.run(init)\n",
    "    print(sess.run(camada_saida_ativacao_teste, feed_dict = {xph: X}))"
   ]
  },
  {
   "cell_type": "markdown",
   "metadata": {},
   "source": [
    "OBS: A maioria das bibliotecas que trabalham com a regressão logística, eles assumem que se o valor acima for maior que 0.95 é considerado da classe 1 e quando é menor que 0.05 é considerado da classe 0."
   ]
  },
  {
   "cell_type": "code",
   "execution_count": null,
   "metadata": {},
   "outputs": [],
   "source": []
  }
 ],
 "metadata": {
  "kernelspec": {
   "display_name": "tensorflow2_py37",
   "language": "python",
   "name": "tensorflow2_py37"
  },
  "language_info": {
   "codemirror_mode": {
    "name": "ipython",
    "version": 3
   },
   "file_extension": ".py",
   "mimetype": "text/x-python",
   "name": "python",
   "nbconvert_exporter": "python",
   "pygments_lexer": "ipython3",
   "version": "3.6.10"
  }
 },
 "nbformat": 4,
 "nbformat_minor": 4
}
