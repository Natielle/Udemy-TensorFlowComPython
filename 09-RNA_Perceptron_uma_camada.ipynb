{
 "cells": [
  {
   "cell_type": "code",
   "execution_count": 1,
   "metadata": {},
   "outputs": [
    {
     "name": "stderr",
     "output_type": "stream",
     "text": [
      "C:\\Users\\Natielle\\anaconda3\\envs\\tensorflow2_py37\\lib\\site-packages\\tensorflow\\python\\framework\\dtypes.py:526: FutureWarning: Passing (type, 1) or '1type' as a synonym of type is deprecated; in a future version of numpy, it will be understood as (type, (1,)) / '(1,)type'.\n",
      "  _np_qint8 = np.dtype([(\"qint8\", np.int8, 1)])\n",
      "C:\\Users\\Natielle\\anaconda3\\envs\\tensorflow2_py37\\lib\\site-packages\\tensorflow\\python\\framework\\dtypes.py:527: FutureWarning: Passing (type, 1) or '1type' as a synonym of type is deprecated; in a future version of numpy, it will be understood as (type, (1,)) / '(1,)type'.\n",
      "  _np_quint8 = np.dtype([(\"quint8\", np.uint8, 1)])\n",
      "C:\\Users\\Natielle\\anaconda3\\envs\\tensorflow2_py37\\lib\\site-packages\\tensorflow\\python\\framework\\dtypes.py:528: FutureWarning: Passing (type, 1) or '1type' as a synonym of type is deprecated; in a future version of numpy, it will be understood as (type, (1,)) / '(1,)type'.\n",
      "  _np_qint16 = np.dtype([(\"qint16\", np.int16, 1)])\n",
      "C:\\Users\\Natielle\\anaconda3\\envs\\tensorflow2_py37\\lib\\site-packages\\tensorflow\\python\\framework\\dtypes.py:529: FutureWarning: Passing (type, 1) or '1type' as a synonym of type is deprecated; in a future version of numpy, it will be understood as (type, (1,)) / '(1,)type'.\n",
      "  _np_quint16 = np.dtype([(\"quint16\", np.uint16, 1)])\n",
      "C:\\Users\\Natielle\\anaconda3\\envs\\tensorflow2_py37\\lib\\site-packages\\tensorflow\\python\\framework\\dtypes.py:530: FutureWarning: Passing (type, 1) or '1type' as a synonym of type is deprecated; in a future version of numpy, it will be understood as (type, (1,)) / '(1,)type'.\n",
      "  _np_qint32 = np.dtype([(\"qint32\", np.int32, 1)])\n",
      "C:\\Users\\Natielle\\anaconda3\\envs\\tensorflow2_py37\\lib\\site-packages\\tensorflow\\python\\framework\\dtypes.py:535: FutureWarning: Passing (type, 1) or '1type' as a synonym of type is deprecated; in a future version of numpy, it will be understood as (type, (1,)) / '(1,)type'.\n",
      "  np_resource = np.dtype([(\"resource\", np.ubyte, 1)])\n"
     ]
    }
   ],
   "source": [
    "import tensorflow as tf\n",
    "import numpy as np"
   ]
  },
  {
   "cell_type": "markdown",
   "metadata": {},
   "source": [
    "\n",
    "## Aplicando a rede neural para simular o operador AND e vamos aplicar a função de ativação step\n",
    "\n",
    "1 e 1 = 1\n",
    "\n",
    "1 e 0 = 0\n",
    "\n",
    "0 e 1 = 0\n",
    "\n",
    "0 e 0 = 0\n"
   ]
  },
  {
   "cell_type": "code",
   "execution_count": 39,
   "metadata": {},
   "outputs": [
    {
     "name": "stdout",
     "output_type": "stream",
     "text": [
      "Atributos: \n",
      " [[0. 0.]\n",
      " [0. 1.]\n",
      " [1. 0.]\n",
      " [1. 1.]]\n",
      "Labels: \n",
      " [[0.]\n",
      " [0.]\n",
      " [0.]\n",
      " [1.]]\n"
     ]
    }
   ],
   "source": [
    "# definindo os dados\n",
    "X = np.array([[0.0, 0.0],\n",
    "              [0.0, 1.0],\n",
    "              [1.0, 0.0],\n",
    "              [1.0, 1.0]])\n",
    "\n",
    "Y = np.array([[0.0], [0.0], [0.0], [1.0]])\n",
    "\n",
    "print(\"Atributos: \\n\", X)\n",
    "print(\"Labels: \\n\", Y)"
   ]
  },
  {
   "cell_type": "code",
   "execution_count": 10,
   "metadata": {},
   "outputs": [
    {
     "name": "stdout",
     "output_type": "stream",
     "text": [
      "Tipo da variável pesos:  <class 'tensorflow.python.ops.variables.RefVariable'>\n",
      "Matriz dos pesos:\n",
      " [[0.]\n",
      " [0.]]\n"
     ]
    }
   ],
   "source": [
    "# Definindo os pesos das entradas\n",
    "W = tf.Variable(tf.zeros([2, 1], dtype = tf.float64)) # é uma variável pois ela será alterada em execução\n",
    "# tf.zeros([2, 1], dtype = tf.float64) -> é uma matriz de 2 linhas e 1 coluna pois é um peso pra cada entrada x1 e x2\n",
    "print(\"Tipo da variável pesos: \", type(W))\n",
    "\n",
    "# Observando os valores da variável peso\n",
    "init = tf.global_variables_initializer()\n",
    "with tf.Session() as sess:\n",
    "    sess.run(init)\n",
    "    print(\"Matriz dos pesos:\\n\", sess.run(W))"
   ]
  },
  {
   "cell_type": "code",
   "execution_count": 11,
   "metadata": {},
   "outputs": [
    {
     "name": "stdout",
     "output_type": "stream",
     "text": [
      "Multiplicação:\n",
      " [[0.]\n",
      " [0.]\n",
      " [0.]\n",
      " [0.]]\n"
     ]
    }
   ],
   "source": [
    "# Agora vamos definir a camada de saida\n",
    "camada_saida = tf.matmul(X, W) # estamos multiplicando as entradas pelos pesos\n",
    "\n",
    "# Observando os valores da multiplicacao\n",
    "with tf.Session() as sess:\n",
    "    sess.run(init)\n",
    "    print(\"Multiplicação:\\n\", sess.run(camada_saida))"
   ]
  },
  {
   "cell_type": "markdown",
   "metadata": {},
   "source": [
    "Como W é, inicialmente, zero faz sentido o resultado da multiplicação ser zeros."
   ]
  },
  {
   "cell_type": "code",
   "execution_count": 12,
   "metadata": {},
   "outputs": [],
   "source": [
    "# implementando a função de ativação step. \n",
    "def step(x):\n",
    "    # tf.math.greater_equal(x, 1) -> retorna true se x > 1 e retorna false se x < 1\n",
    "    # tf.to_float -> converte o true em 1.0 e converte false em 0.0\n",
    "    return tf.cast(tf.to_float(tf.math.greater_equal(x, 1)), tf.float64)"
   ]
  },
  {
   "cell_type": "code",
   "execution_count": 13,
   "metadata": {},
   "outputs": [
    {
     "name": "stdout",
     "output_type": "stream",
     "text": [
      "Aplicação:\n",
      " [[0.]\n",
      " [0.]\n",
      " [0.]\n",
      " [0.]]\n"
     ]
    }
   ],
   "source": [
    "# Aplicando a função de ativação step à camada de saída\n",
    "camada_saida_ativacao = step(camada_saida)\n",
    "\n",
    "# Observando os valores da aplicacao\n",
    "with tf.Session() as sess:\n",
    "    sess.run(init)\n",
    "    print(\"Aplicação:\\n\", sess.run(camada_saida_ativacao))"
   ]
  },
  {
   "cell_type": "code",
   "execution_count": 15,
   "metadata": {},
   "outputs": [
    {
     "name": "stdout",
     "output_type": "stream",
     "text": [
      "Y:\n",
      " [[0.]\n",
      " [0.]\n",
      " [0.]\n",
      " [1.]]\n",
      "\n",
      "camada_saida_ativacao:\n",
      " [[0.]\n",
      " [0.]\n",
      " [0.]\n",
      " [0.]]\n",
      "\n",
      "Erros:\n",
      " [[0.]\n",
      " [0.]\n",
      " [0.]\n",
      " [1.]]\n"
     ]
    }
   ],
   "source": [
    "# Ao aplicarmos a função de ativação na camada de saída, vamos calcular o erro agora\n",
    "erro = tf.subtract(Y, camada_saida_ativacao) # erro = label_real - label_previsto\n",
    "\n",
    "# Observando os valores encontrados de erro\n",
    "with tf.Session() as sess:\n",
    "    sess.run(init)\n",
    "    print(\"Y:\\n\", Y)\n",
    "    print(\"\\ncamada_saida_ativacao:\\n\", sess.run(camada_saida_ativacao))\n",
    "    print(\"\\nErros:\\n\", sess.run(erro))"
   ]
  },
  {
   "cell_type": "code",
   "execution_count": 16,
   "metadata": {},
   "outputs": [],
   "source": [
    "# Agora vamos computar o delta, que vai permitir que encontremos o mínimo global depois de algumas rodadas\n",
    "# Ou seja, permite que otimizemos o erro de modo que seja o menor possível\n",
    "delta = tf.matmul(X, erro, transpose_a = True) # transpose_a -> significa que vai fazer a transposta de X "
   ]
  },
  {
   "cell_type": "code",
   "execution_count": 18,
   "metadata": {},
   "outputs": [
    {
     "name": "stdout",
     "output_type": "stream",
     "text": [
      "W:\n",
      " [[0.]\n",
      " [0.]]\n",
      "\n",
      "W com novos pesos:\n",
      " [[0.1]\n",
      " [0.1]]\n"
     ]
    }
   ],
   "source": [
    "# Agora vamos definir os pesos da próxima rodada\n",
    "taxa_aprendizado = 0.1\n",
    "treinamento = tf.assign(W, tf.add(W, tf.multiply(delta, taxa_aprendizado))) \n",
    "# tf.assign -> atualiza os valores dos pesos\n",
    "\n",
    "# Observando uma simulação da atualização dos pesos\n",
    "with tf.Session() as sess:\n",
    "    sess.run(init)\n",
    "    print(\"W:\\n\", sess.run(W))\n",
    "    print(\"\\nW com novos pesos:\\n\", sess.run(treinamento))"
   ]
  },
  {
   "cell_type": "markdown",
   "metadata": {},
   "source": [
    "Agora que já fizemos o processo de treinamento uma vez, vamos repeti-lo N vezes e cada vez que esse processo é executado dizemos que temos N épocas.\n"
   ]
  },
  {
   "cell_type": "code",
   "execution_count": 30,
   "metadata": {},
   "outputs": [
    {
     "name": "stdout",
     "output_type": "stream",
     "text": [
      "\n",
      "---------- para i =  0\n",
      "erro_total:\n",
      "[[0.]\n",
      " [0.]\n",
      " [0.]\n",
      " [1.]]\n",
      "\n",
      "\n",
      "treinamento (novos pesos):\n",
      "[[0.1]\n",
      " [0.1]]\n",
      "\n",
      "---------- para i =  1\n",
      "erro_total:\n",
      "[[0.]\n",
      " [0.]\n",
      " [0.]\n",
      " [1.]]\n",
      "\n",
      "\n",
      "treinamento (novos pesos):\n",
      "[[0.2]\n",
      " [0.2]]\n"
     ]
    }
   ],
   "source": [
    "# Executando várias épocas\n",
    "\n",
    "# mas antes vamos ver a diferença na sintaxe\n",
    "with tf.Session() as sess:\n",
    "    sess.run(init)\n",
    "    for i in range(2):\n",
    "        erro_total, _ = sess.run([erro, treinamento])\n",
    "        print(\"\\n---------- para i = \", i)\n",
    "        print(\"erro_total:\")\n",
    "        print(erro_total)\n",
    "        print(\"\\n\")\n",
    "        print(\"treinamento (novos pesos):\")\n",
    "        print(_)\n",
    "        \n"
   ]
  },
  {
   "cell_type": "code",
   "execution_count": 36,
   "metadata": {},
   "outputs": [
    {
     "name": "stdout",
     "output_type": "stream",
     "text": [
      "Época: 1  Erros somados:  1.0\n",
      "Época: 2  Erros somados:  1.0\n",
      "Época: 3  Erros somados:  1.0\n",
      "Época: 4  Erros somados:  1.0\n",
      "Época: 5  Erros somados:  1.0\n",
      "Época: 6  Erros somados:  0.0\n"
     ]
    }
   ],
   "source": [
    "# agora sim vamos executar várias épocas\n",
    "with tf.Session() as sess:\n",
    "    sess.run(init)\n",
    "    epoca = 0\n",
    "    for i in range(15):\n",
    "        epoca += 1\n",
    "        erro_total, _ = sess.run([erro, treinamento])\n",
    "        erro_soma = tf.reduce_sum(erro_total) # somando os erros individuais\n",
    "        # print(\"Erro total: \", erro_total)\n",
    "        print('Época:', epoca, ' Erros somados: ', sess.run(erro_soma))\n",
    "        \n",
    "        # Vamos executar as épocas até que o erro seja zero\n",
    "        if erro_soma.eval() == 0.0:\n",
    "            break\n",
    "            \n",
    "    W_final = sess.run(W)"
   ]
  },
  {
   "cell_type": "code",
   "execution_count": 35,
   "metadata": {},
   "outputs": [
    {
     "name": "stdout",
     "output_type": "stream",
     "text": [
      "[[0.5]\n",
      " [0.5]]\n"
     ]
    }
   ],
   "source": [
    "# Podemos ver que os pesos finais serão\n",
    "print(W_final)"
   ]
  },
  {
   "cell_type": "markdown",
   "metadata": {},
   "source": [
    "Caso queiramos testar a rede, fazemos isso:"
   ]
  },
  {
   "cell_type": "code",
   "execution_count": 37,
   "metadata": {},
   "outputs": [
    {
     "name": "stdout",
     "output_type": "stream",
     "text": [
      "[[0.]\n",
      " [0.]\n",
      " [0.]\n",
      " [1.]]\n"
     ]
    }
   ],
   "source": [
    "camada_saida_teste = tf.matmul(X, W_final) # Usasmos W_final pois são os pesos que a rede otimizou \n",
    "camada_saida_ativacao_teste = step(camada_saida_teste) # aplica a função de ativação \n",
    "\n",
    "with tf.Session() as sess:\n",
    "    sess.run(init)\n",
    "    print(sess.run(camada_saida_ativacao_teste))"
   ]
  },
  {
   "cell_type": "markdown",
   "metadata": {},
   "source": [
    "Podemos ver que a rede otimizou os pesos de modo que não houvesse erros (nesse caso). \n",
    "Podemos confirmar isso com o Y, que são os valores esperados.\n"
   ]
  },
  {
   "cell_type": "code",
   "execution_count": 38,
   "metadata": {},
   "outputs": [
    {
     "name": "stdout",
     "output_type": "stream",
     "text": [
      "[[0.]\n",
      " [0.]\n",
      " [0.]\n",
      " [1.]]\n"
     ]
    }
   ],
   "source": [
    "print(Y)"
   ]
  },
  {
   "cell_type": "markdown",
   "metadata": {},
   "source": [
    "## Aplicando a rede neural para simular o operador OR e vamos aplicar a função de ativação step\n",
    "\n",
    "\n",
    "1 e 1 = 1\n",
    "\n",
    "1 e 0 = 1\n",
    "\n",
    "0 e 1 = 1\n",
    "\n",
    "0 e 0 = 0\n"
   ]
  },
  {
   "cell_type": "code",
   "execution_count": 41,
   "metadata": {},
   "outputs": [
    {
     "name": "stdout",
     "output_type": "stream",
     "text": [
      "Atributos: \n",
      " [[0. 0.]\n",
      " [0. 1.]\n",
      " [1. 0.]\n",
      " [1. 1.]]\n",
      "Labels: \n",
      " [[0.]\n",
      " [1.]\n",
      " [1.]\n",
      " [1.]]\n"
     ]
    }
   ],
   "source": [
    "# definindo os dados\n",
    "X = np.array([[0.0, 0.0],\n",
    "              [0.0, 1.0],\n",
    "              [1.0, 0.0],\n",
    "              [1.0, 1.0]])\n",
    "\n",
    "Y = np.array([[0.0], [1.0], [1.0], [1.0]])\n",
    "\n",
    "print(\"Atributos: \\n\", X)\n",
    "print(\"Labels: \\n\", Y)"
   ]
  },
  {
   "cell_type": "markdown",
   "metadata": {},
   "source": [
    "Agora vamos setar inicialmente e arbritariamente os pesos para fazer os calculos iniciais e depois aplicamos as épocas para encontramos os pesos ideais."
   ]
  },
  {
   "cell_type": "code",
   "execution_count": 45,
   "metadata": {},
   "outputs": [
    {
     "name": "stdout",
     "output_type": "stream",
     "text": [
      "Época: 1  Erros somados:  3.0\n",
      "Época: 2  Erros somados:  3.0\n",
      "Época: 3  Erros somados:  3.0\n",
      "Época: 4  Erros somados:  2.0\n",
      "Época: 5  Erros somados:  2.0\n",
      "Época: 6  Erros somados:  2.0\n",
      "Época: 7  Erros somados:  2.0\n",
      "Época: 8  Erros somados:  0.0\n",
      "\n",
      "Pesos finais: \n",
      " [[1.]\n",
      " [1.]]\n"
     ]
    }
   ],
   "source": [
    "# Definindo os pesos das entradas\n",
    "W = tf.Variable(tf.zeros([2, 1], dtype = tf.float64))\n",
    "\n",
    "# Agora vamos definir a camada de saida\n",
    "camada_saida = tf.matmul(X, W)\n",
    "\n",
    "# Aplicando a função de ativação step à camada de saída\n",
    "camada_saida_ativacao = step(camada_saida)\n",
    "\n",
    "# Vamos calcular o erro agora\n",
    "erro = tf.subtract(Y, camada_saida_ativacao)\n",
    "\n",
    "# Encontrando o delta para ajudar na otimização\n",
    "delta = tf.matmul(X, erro, transpose_a = True)\n",
    "\n",
    "# Agora vamos definir os pesos da próxima rodada\n",
    "taxa_aprendizado = 0.1\n",
    "treinamento = tf.assign(W, tf.add(W, tf.multiply(delta, taxa_aprendizado)))\n",
    "\n",
    "init = tf.global_variables_initializer()\n",
    "with tf.Session() as sess:\n",
    "    sess.run(init)\n",
    "    epoca = 0\n",
    "    for i in range(15):\n",
    "        epoca += 1\n",
    "        erro_total, _ = sess.run([erro, treinamento])\n",
    "        erro_soma = tf.reduce_sum(erro_total) # somando os erros individuais\n",
    "        print('Época:', epoca, ' Erros somados: ', sess.run(erro_soma))\n",
    "        \n",
    "        if erro_soma.eval() == 0.0: # Vamos executar as épocas até que o erro seja zero\n",
    "            break\n",
    "            \n",
    "    W_final = sess.run(W)\n",
    "    print(\"\\nPesos finais: \\n\", W_final)"
   ]
  },
  {
   "cell_type": "markdown",
   "metadata": {},
   "source": [
    "Agora para vermos como a rede se saiu, fazemos:"
   ]
  },
  {
   "cell_type": "code",
   "execution_count": 46,
   "metadata": {},
   "outputs": [
    {
     "name": "stdout",
     "output_type": "stream",
     "text": [
      "[[0.]\n",
      " [1.]\n",
      " [1.]\n",
      " [1.]]\n"
     ]
    }
   ],
   "source": [
    "camada_saida_teste = tf.matmul(X, W_final) # Usasmos W_final pois são os pesos que a rede otimizou \n",
    "camada_saida_ativacao_teste = step(camada_saida_teste) # aplica a função de ativação \n",
    "\n",
    "with tf.Session() as sess:\n",
    "    sess.run(init)\n",
    "    print(sess.run(camada_saida_ativacao_teste))"
   ]
  },
  {
   "cell_type": "markdown",
   "metadata": {},
   "source": [
    "Portanto, podemos notar que, de fato, é correspondente ao operador OR! O que era esperado."
   ]
  }
 ],
 "metadata": {
  "kernelspec": {
   "display_name": "tensorflow2_py37",
   "language": "python",
   "name": "tensorflow2_py37"
  },
  "language_info": {
   "codemirror_mode": {
    "name": "ipython",
    "version": 3
   },
   "file_extension": ".py",
   "mimetype": "text/x-python",
   "name": "python",
   "nbconvert_exporter": "python",
   "pygments_lexer": "ipython3",
   "version": "3.6.10"
  }
 },
 "nbformat": 4,
 "nbformat_minor": 4
}
